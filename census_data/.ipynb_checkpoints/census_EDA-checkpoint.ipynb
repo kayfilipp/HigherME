{
 "cells": [
  {
   "cell_type": "markdown",
   "id": "55bf096b",
   "metadata": {},
   "source": [
    "# Analyzing US Census Data for HigherME\n",
    "**Nava Roohi ,Cole Bailey, Filipp Krasovsky**"
   ]
  },
  {
   "cell_type": "code",
   "execution_count": 1,
   "id": "1526d419",
   "metadata": {},
   "outputs": [],
   "source": [
    "import pandas as pd \n",
    "import degree_codes as dc\n",
    "import matplotlib.pyplot as plt\n",
    "plt.style.use('seaborn-dark-palette')\n",
    "import warnings\n",
    "warnings.filterwarnings(\"ignore\")"
   ]
  },
  {
   "cell_type": "code",
   "execution_count": 10,
   "id": "6034cd21",
   "metadata": {
    "scrolled": true
   },
   "outputs": [
    {
     "data": {
      "text/html": [
       "<div>\n",
       "<style scoped>\n",
       "    .dataframe tbody tr th:only-of-type {\n",
       "        vertical-align: middle;\n",
       "    }\n",
       "\n",
       "    .dataframe tbody tr th {\n",
       "        vertical-align: top;\n",
       "    }\n",
       "\n",
       "    .dataframe thead th {\n",
       "        text-align: right;\n",
       "    }\n",
       "</style>\n",
       "<table border=\"1\" class=\"dataframe\">\n",
       "  <thead>\n",
       "    <tr style=\"text-align: right;\">\n",
       "      <th></th>\n",
       "      <th>YEAR</th>\n",
       "      <th>MULTYEAR</th>\n",
       "      <th>SAMPLE</th>\n",
       "      <th>SERIAL</th>\n",
       "      <th>CBSERIAL</th>\n",
       "      <th>HHWT</th>\n",
       "      <th>CLUSTER</th>\n",
       "      <th>STATEFIP</th>\n",
       "      <th>STRATA</th>\n",
       "      <th>GQ</th>\n",
       "      <th>...</th>\n",
       "      <th>EDUCD</th>\n",
       "      <th>DEGFIELD</th>\n",
       "      <th>DEGFIELDD</th>\n",
       "      <th>DEGFIELD2</th>\n",
       "      <th>DEGFIELD2D</th>\n",
       "      <th>EMPSTAT</th>\n",
       "      <th>EMPSTATD</th>\n",
       "      <th>OCC</th>\n",
       "      <th>IND</th>\n",
       "      <th>INCWAGE</th>\n",
       "    </tr>\n",
       "  </thead>\n",
       "  <tbody>\n",
       "    <tr>\n",
       "      <th>0</th>\n",
       "      <td>2020</td>\n",
       "      <td>2016</td>\n",
       "      <td>202003</td>\n",
       "      <td>2</td>\n",
       "      <td>2016000000080</td>\n",
       "      <td>19.57</td>\n",
       "      <td>2020000000023</td>\n",
       "      <td>1</td>\n",
       "      <td>90001</td>\n",
       "      <td>1</td>\n",
       "      <td>...</td>\n",
       "      <td>71</td>\n",
       "      <td>0</td>\n",
       "      <td>0</td>\n",
       "      <td>0</td>\n",
       "      <td>0</td>\n",
       "      <td>1</td>\n",
       "      <td>10</td>\n",
       "      <td>5710</td>\n",
       "      <td>8191</td>\n",
       "      <td>29448</td>\n",
       "    </tr>\n",
       "    <tr>\n",
       "      <th>1</th>\n",
       "      <td>2020</td>\n",
       "      <td>2016</td>\n",
       "      <td>202003</td>\n",
       "      <td>3</td>\n",
       "      <td>2016000000107</td>\n",
       "      <td>35.02</td>\n",
       "      <td>2020000000033</td>\n",
       "      <td>1</td>\n",
       "      <td>30201</td>\n",
       "      <td>1</td>\n",
       "      <td>...</td>\n",
       "      <td>81</td>\n",
       "      <td>0</td>\n",
       "      <td>0</td>\n",
       "      <td>0</td>\n",
       "      <td>0</td>\n",
       "      <td>1</td>\n",
       "      <td>10</td>\n",
       "      <td>1551</td>\n",
       "      <td>7290</td>\n",
       "      <td>70113</td>\n",
       "    </tr>\n",
       "    <tr>\n",
       "      <th>7</th>\n",
       "      <td>2020</td>\n",
       "      <td>2016</td>\n",
       "      <td>202003</td>\n",
       "      <td>5</td>\n",
       "      <td>2016000000180</td>\n",
       "      <td>4.12</td>\n",
       "      <td>2020000000053</td>\n",
       "      <td>1</td>\n",
       "      <td>250001</td>\n",
       "      <td>1</td>\n",
       "      <td>...</td>\n",
       "      <td>65</td>\n",
       "      <td>0</td>\n",
       "      <td>0</td>\n",
       "      <td>0</td>\n",
       "      <td>0</td>\n",
       "      <td>1</td>\n",
       "      <td>10</td>\n",
       "      <td>6200</td>\n",
       "      <td>770</td>\n",
       "      <td>84136</td>\n",
       "    </tr>\n",
       "    <tr>\n",
       "      <th>9</th>\n",
       "      <td>2020</td>\n",
       "      <td>2016</td>\n",
       "      <td>202003</td>\n",
       "      <td>6</td>\n",
       "      <td>2016000000300</td>\n",
       "      <td>48.41</td>\n",
       "      <td>2020000000063</td>\n",
       "      <td>1</td>\n",
       "      <td>270201</td>\n",
       "      <td>1</td>\n",
       "      <td>...</td>\n",
       "      <td>71</td>\n",
       "      <td>0</td>\n",
       "      <td>0</td>\n",
       "      <td>0</td>\n",
       "      <td>0</td>\n",
       "      <td>1</td>\n",
       "      <td>10</td>\n",
       "      <td>3603</td>\n",
       "      <td>8191</td>\n",
       "      <td>20710</td>\n",
       "    </tr>\n",
       "    <tr>\n",
       "      <th>10</th>\n",
       "      <td>2020</td>\n",
       "      <td>2016</td>\n",
       "      <td>202003</td>\n",
       "      <td>6</td>\n",
       "      <td>2016000000300</td>\n",
       "      <td>48.41</td>\n",
       "      <td>2020000000063</td>\n",
       "      <td>1</td>\n",
       "      <td>270201</td>\n",
       "      <td>1</td>\n",
       "      <td>...</td>\n",
       "      <td>81</td>\n",
       "      <td>0</td>\n",
       "      <td>0</td>\n",
       "      <td>0</td>\n",
       "      <td>0</td>\n",
       "      <td>1</td>\n",
       "      <td>10</td>\n",
       "      <td>3640</td>\n",
       "      <td>7980</td>\n",
       "      <td>20602</td>\n",
       "    </tr>\n",
       "  </tbody>\n",
       "</table>\n",
       "<p>5 rows × 31 columns</p>\n",
       "</div>"
      ],
      "text/plain": [
       "    YEAR  MULTYEAR  SAMPLE  SERIAL       CBSERIAL   HHWT        CLUSTER  \\\n",
       "0   2020      2016  202003       2  2016000000080  19.57  2020000000023   \n",
       "1   2020      2016  202003       3  2016000000107  35.02  2020000000033   \n",
       "7   2020      2016  202003       5  2016000000180   4.12  2020000000053   \n",
       "9   2020      2016  202003       6  2016000000300  48.41  2020000000063   \n",
       "10  2020      2016  202003       6  2016000000300  48.41  2020000000063   \n",
       "\n",
       "    STATEFIP  STRATA  GQ  ...  EDUCD  DEGFIELD  DEGFIELDD  DEGFIELD2  \\\n",
       "0          1   90001   1  ...     71         0          0          0   \n",
       "1          1   30201   1  ...     81         0          0          0   \n",
       "7          1  250001   1  ...     65         0          0          0   \n",
       "9          1  270201   1  ...     71         0          0          0   \n",
       "10         1  270201   1  ...     81         0          0          0   \n",
       "\n",
       "    DEGFIELD2D  EMPSTAT  EMPSTATD   OCC   IND  INCWAGE  \n",
       "0            0        1        10  5710  8191    29448  \n",
       "1            0        1        10  1551  7290    70113  \n",
       "7            0        1        10  6200   770    84136  \n",
       "9            0        1        10  3603  8191    20710  \n",
       "10           0        1        10  3640  7980    20602  \n",
       "\n",
       "[5 rows x 31 columns]"
      ]
     },
     "execution_count": 10,
     "metadata": {},
     "output_type": "execute_result"
    }
   ],
   "source": [
    "#df = pd.read_csv(\"df_stratified_2.csv\")\n",
    "\n",
    "#exclude minors and those not in labor force\n",
    "df = pd.read_csv(\"usa_00006.csv\").query(\"AGE >= 18\").query(\"EMPSTAT != 3\") #exclude those not in labor force\n",
    "df.head()"
   ]
  },
  {
   "cell_type": "code",
   "execution_count": 12,
   "id": "f957da7d",
   "metadata": {},
   "outputs": [
    {
     "name": "stdout",
     "output_type": "stream",
     "text": [
      "18\n",
      "(7243141, 31)\n"
     ]
    }
   ],
   "source": [
    "#sanity check to make sure our age is above 18\n",
    "print(df['AGE'].min())\n",
    "print(df.shape)"
   ]
  },
  {
   "cell_type": "markdown",
   "id": "883980d1",
   "metadata": {},
   "source": [
    "## Data Cleaning"
   ]
  },
  {
   "cell_type": "markdown",
   "id": "5d941fe5",
   "metadata": {},
   "source": [
    "#### Step 1. State Extraction from FIP Numbers\n",
    "We can use the degree_codes package we imported earlier to get a list of all state FIPs."
   ]
  },
  {
   "cell_type": "code",
   "execution_count": 13,
   "id": "9eefbd9f",
   "metadata": {},
   "outputs": [
    {
     "data": {
      "text/html": [
       "<div>\n",
       "<style scoped>\n",
       "    .dataframe tbody tr th:only-of-type {\n",
       "        vertical-align: middle;\n",
       "    }\n",
       "\n",
       "    .dataframe tbody tr th {\n",
       "        vertical-align: top;\n",
       "    }\n",
       "\n",
       "    .dataframe thead th {\n",
       "        text-align: right;\n",
       "    }\n",
       "</style>\n",
       "<table border=\"1\" class=\"dataframe\">\n",
       "  <thead>\n",
       "    <tr style=\"text-align: right;\">\n",
       "      <th></th>\n",
       "      <th>YEAR</th>\n",
       "      <th>MULTYEAR</th>\n",
       "      <th>SAMPLE</th>\n",
       "      <th>SERIAL</th>\n",
       "      <th>CBSERIAL</th>\n",
       "      <th>HHWT</th>\n",
       "      <th>CLUSTER</th>\n",
       "      <th>STATEFIP</th>\n",
       "      <th>STRATA</th>\n",
       "      <th>GQ</th>\n",
       "      <th>...</th>\n",
       "      <th>DEGFIELD</th>\n",
       "      <th>DEGFIELDD</th>\n",
       "      <th>DEGFIELD2</th>\n",
       "      <th>DEGFIELD2D</th>\n",
       "      <th>EMPSTAT</th>\n",
       "      <th>EMPSTATD</th>\n",
       "      <th>OCC</th>\n",
       "      <th>IND</th>\n",
       "      <th>INCWAGE</th>\n",
       "      <th>State</th>\n",
       "    </tr>\n",
       "  </thead>\n",
       "  <tbody>\n",
       "    <tr>\n",
       "      <th>0</th>\n",
       "      <td>2020</td>\n",
       "      <td>2016</td>\n",
       "      <td>202003</td>\n",
       "      <td>2</td>\n",
       "      <td>2016000000080</td>\n",
       "      <td>19.57</td>\n",
       "      <td>2020000000023</td>\n",
       "      <td>1</td>\n",
       "      <td>90001</td>\n",
       "      <td>1</td>\n",
       "      <td>...</td>\n",
       "      <td>0</td>\n",
       "      <td>0</td>\n",
       "      <td>0</td>\n",
       "      <td>0</td>\n",
       "      <td>1</td>\n",
       "      <td>10</td>\n",
       "      <td>5710</td>\n",
       "      <td>8191</td>\n",
       "      <td>29448</td>\n",
       "      <td>Alabama</td>\n",
       "    </tr>\n",
       "    <tr>\n",
       "      <th>1</th>\n",
       "      <td>2020</td>\n",
       "      <td>2016</td>\n",
       "      <td>202003</td>\n",
       "      <td>3</td>\n",
       "      <td>2016000000107</td>\n",
       "      <td>35.02</td>\n",
       "      <td>2020000000033</td>\n",
       "      <td>1</td>\n",
       "      <td>30201</td>\n",
       "      <td>1</td>\n",
       "      <td>...</td>\n",
       "      <td>0</td>\n",
       "      <td>0</td>\n",
       "      <td>0</td>\n",
       "      <td>0</td>\n",
       "      <td>1</td>\n",
       "      <td>10</td>\n",
       "      <td>1551</td>\n",
       "      <td>7290</td>\n",
       "      <td>70113</td>\n",
       "      <td>Alabama</td>\n",
       "    </tr>\n",
       "    <tr>\n",
       "      <th>7</th>\n",
       "      <td>2020</td>\n",
       "      <td>2016</td>\n",
       "      <td>202003</td>\n",
       "      <td>5</td>\n",
       "      <td>2016000000180</td>\n",
       "      <td>4.12</td>\n",
       "      <td>2020000000053</td>\n",
       "      <td>1</td>\n",
       "      <td>250001</td>\n",
       "      <td>1</td>\n",
       "      <td>...</td>\n",
       "      <td>0</td>\n",
       "      <td>0</td>\n",
       "      <td>0</td>\n",
       "      <td>0</td>\n",
       "      <td>1</td>\n",
       "      <td>10</td>\n",
       "      <td>6200</td>\n",
       "      <td>770</td>\n",
       "      <td>84136</td>\n",
       "      <td>Alabama</td>\n",
       "    </tr>\n",
       "    <tr>\n",
       "      <th>9</th>\n",
       "      <td>2020</td>\n",
       "      <td>2016</td>\n",
       "      <td>202003</td>\n",
       "      <td>6</td>\n",
       "      <td>2016000000300</td>\n",
       "      <td>48.41</td>\n",
       "      <td>2020000000063</td>\n",
       "      <td>1</td>\n",
       "      <td>270201</td>\n",
       "      <td>1</td>\n",
       "      <td>...</td>\n",
       "      <td>0</td>\n",
       "      <td>0</td>\n",
       "      <td>0</td>\n",
       "      <td>0</td>\n",
       "      <td>1</td>\n",
       "      <td>10</td>\n",
       "      <td>3603</td>\n",
       "      <td>8191</td>\n",
       "      <td>20710</td>\n",
       "      <td>Alabama</td>\n",
       "    </tr>\n",
       "    <tr>\n",
       "      <th>10</th>\n",
       "      <td>2020</td>\n",
       "      <td>2016</td>\n",
       "      <td>202003</td>\n",
       "      <td>6</td>\n",
       "      <td>2016000000300</td>\n",
       "      <td>48.41</td>\n",
       "      <td>2020000000063</td>\n",
       "      <td>1</td>\n",
       "      <td>270201</td>\n",
       "      <td>1</td>\n",
       "      <td>...</td>\n",
       "      <td>0</td>\n",
       "      <td>0</td>\n",
       "      <td>0</td>\n",
       "      <td>0</td>\n",
       "      <td>1</td>\n",
       "      <td>10</td>\n",
       "      <td>3640</td>\n",
       "      <td>7980</td>\n",
       "      <td>20602</td>\n",
       "      <td>Alabama</td>\n",
       "    </tr>\n",
       "  </tbody>\n",
       "</table>\n",
       "<p>5 rows × 32 columns</p>\n",
       "</div>"
      ],
      "text/plain": [
       "    YEAR  MULTYEAR  SAMPLE  SERIAL       CBSERIAL   HHWT        CLUSTER  \\\n",
       "0   2020      2016  202003       2  2016000000080  19.57  2020000000023   \n",
       "1   2020      2016  202003       3  2016000000107  35.02  2020000000033   \n",
       "7   2020      2016  202003       5  2016000000180   4.12  2020000000053   \n",
       "9   2020      2016  202003       6  2016000000300  48.41  2020000000063   \n",
       "10  2020      2016  202003       6  2016000000300  48.41  2020000000063   \n",
       "\n",
       "    STATEFIP  STRATA  GQ  ...  DEGFIELD  DEGFIELDD  DEGFIELD2  DEGFIELD2D  \\\n",
       "0          1   90001   1  ...         0          0          0           0   \n",
       "1          1   30201   1  ...         0          0          0           0   \n",
       "7          1  250001   1  ...         0          0          0           0   \n",
       "9          1  270201   1  ...         0          0          0           0   \n",
       "10         1  270201   1  ...         0          0          0           0   \n",
       "\n",
       "    EMPSTAT  EMPSTATD   OCC   IND  INCWAGE    State  \n",
       "0         1        10  5710  8191    29448  Alabama  \n",
       "1         1        10  1551  7290    70113  Alabama  \n",
       "7         1        10  6200   770    84136  Alabama  \n",
       "9         1        10  3603  8191    20710  Alabama  \n",
       "10        1        10  3640  7980    20602  Alabama  \n",
       "\n",
       "[5 rows x 32 columns]"
      ]
     },
     "execution_count": 13,
     "metadata": {},
     "output_type": "execute_result"
    }
   ],
   "source": [
    "#map to a new variable called \"State\"\n",
    "df['State'] = df['STATEFIP'].apply(lambda x: dc.fips[x])\n",
    "df.head()"
   ]
  },
  {
   "cell_type": "markdown",
   "id": "09203e0c",
   "metadata": {},
   "source": [
    "### Step 2. Breakdown by Race, Initial EDA "
   ]
  },
  {
   "cell_type": "code",
   "execution_count": 14,
   "id": "6b8a62a9",
   "metadata": {
    "scrolled": true
   },
   "outputs": [
    {
     "data": {
      "text/plain": [
       "White                               5524108\n",
       "Black/African American               653309\n",
       "Other Asian or Pacific Islander      318362\n",
       "Other race, nec                      298470\n",
       "Two major races                      229278\n",
       "Chinese                              107699\n",
       "American Indian or Alaska Native      68039\n",
       "Three or more major races             25098\n",
       "Japanese                              18778\n",
       "Name: RACE, dtype: int64"
      ]
     },
     "execution_count": 14,
     "metadata": {},
     "output_type": "execute_result"
    }
   ],
   "source": [
    "race_map ={\n",
    "    1: \"White\"\n",
    "    ,2: \"Black/African American\"\n",
    "    ,3: \"American Indian or Alaska Native\"\n",
    "    ,4: \"Chinese\"\n",
    "    ,5: \"Japanese\"\n",
    "    ,6: \"Other Asian or Pacific Islander\"\n",
    "    ,7: \"Other race, nec\"\n",
    "    ,8: \"Two major races\"\n",
    "    ,9: \"Three or more major races\"\n",
    "}\n",
    "df['RACE'].apply(lambda x: race_map[x]).value_counts()"
   ]
  },
  {
   "cell_type": "markdown",
   "id": "95fa4e80",
   "metadata": {},
   "source": [
    "Based on the definition, however, we are primarily interested in exploring career differences between non-white/asian individuals and their counterparts based on documentation that can be accessed <a href=\"https://github.com/kayfilipp/HigherME/blob/main/README.md\">here</a>. To this end, we can re-map the race for each row to exclude indices 1, 4, and 5. We do not exclude pacific islanders as of now, but are open to doing so if requirements change. We also include any hispanic individuals in our definition of under represented."
   ]
  },
  {
   "cell_type": "code",
   "execution_count": null,
   "id": "f8f5af68",
   "metadata": {},
   "outputs": [],
   "source": [
    "non_target = [1,4,5,6]\n",
    "def under_rep_id(race,hispan):\n",
    "    #if target is not 'Non-Hispanic'...\n",
    "    if hispan != 0:\n",
    "        return 1\n",
    "    #and target isn't nonwhite/ nonasian...\n",
    "    if race not in non_target:\n",
    "        return 1\n",
    "    #then they're not under-represented.\n",
    "    return 0\n",
    "\n",
    "df['under_represented'] = df.apply(lambda x: under_rep_id(x.RACE,x.HISPAN),axis=1)\n",
    "df[['RACE','under_represented']].sample(10)"
   ]
  },
  {
   "cell_type": "code",
   "execution_count": null,
   "id": "abd1749d",
   "metadata": {},
   "outputs": [],
   "source": [
    "df['under_represented'].value_counts(normalize=True).plot(kind='bar',title='Under represented presence in dataset')"
   ]
  },
  {
   "cell_type": "markdown",
   "id": "a8385e32",
   "metadata": {},
   "source": [
    "#### Since we're not doing low level analysis that explores the differences between Black and Hispanic applicants, we can drop the nuance on hispanic data for now."
   ]
  },
  {
   "cell_type": "code",
   "execution_count": null,
   "id": "76aefb6c",
   "metadata": {},
   "outputs": [],
   "source": [
    "df = df.drop(['HISPAN','HISPAND'],axis=1)"
   ]
  },
  {
   "cell_type": "markdown",
   "id": "da006692",
   "metadata": {},
   "source": [
    "### Step 3. Breakdown by Birthplace, EDA"
   ]
  },
  {
   "cell_type": "markdown",
   "id": "70a4afc3",
   "metadata": {},
   "source": [
    "#### Furthermore, we can divide the birthplace feature (BPL) into a more low-resolution field - foreign born and domestic born individuals (ie those who are born in the continental US):"
   ]
  },
  {
   "cell_type": "code",
   "execution_count": null,
   "id": "6c7591bf",
   "metadata": {},
   "outputs": [],
   "source": [
    "def is_domestic(bpl):\n",
    "    #if birthplace code is for the US...\n",
    "    if bpl < 100:\n",
    "        return 1\n",
    "    return 0\n",
    "\n",
    "df['domestic_born'] = df['BPL'].map(is_domestic)\n",
    "df[['BPL','domestic_born']].head()"
   ]
  },
  {
   "cell_type": "markdown",
   "id": "39efb3ec",
   "metadata": {},
   "source": [
    "Putting all this together, we can conclude that individuals that are born abroad and move to the US tend to be under-represented, while, as intiuition dictates, individuals born in the US tend to not be underrepresented. "
   ]
  },
  {
   "cell_type": "code",
   "execution_count": null,
   "id": "35d017da",
   "metadata": {},
   "outputs": [],
   "source": [
    "pd.crosstab(\n",
    "    df['domestic_born'],\n",
    "    df['under_represented'],\n",
    "    normalize='index'\n",
    ").plot.bar(\n",
    "    title='Distribution of Underrepresented persons by birthplace'\n",
    ")"
   ]
  },
  {
   "cell_type": "markdown",
   "id": "013e6325",
   "metadata": {},
   "source": [
    "### Step 4. Educational Attainment, EDA"
   ]
  },
  {
   "cell_type": "markdown",
   "id": "c200590c",
   "metadata": {},
   "source": [
    "**Context:** The ``EDUC`` field contains values from 0-11 representing levels of educational attainment in increasing order - that is, a 0 is lower than a 1, etc. The `EDUCD` field extrapolates on the low-level details in a similar fashion. Our primary motivation is to simplify these values broadly into the following categories:\n",
    "\n",
    "<ul>\n",
    "    <li>None/Below Secondary (High School)</li>\n",
    "    <li>Secondary (High School)</li>\n",
    "    <li>Associate's</li>\n",
    "    <li>Bachelor's</li>\n",
    "    <li>Master's</li>\n",
    "    <li>PhD/Other</li>\n",
    "</ul>"
   ]
  },
  {
   "cell_type": "code",
   "execution_count": null,
   "id": "d77e5f96",
   "metadata": {},
   "outputs": [],
   "source": [
    "df['EDUC'].sort_values().unique()"
   ]
  },
  {
   "cell_type": "code",
   "execution_count": null,
   "id": "e30111fa",
   "metadata": {},
   "outputs": [],
   "source": [
    "df['EDUCD'].sort_values().unique()"
   ]
  },
  {
   "cell_type": "code",
   "execution_count": null,
   "id": "56ea3457",
   "metadata": {},
   "outputs": [],
   "source": [
    "def highest_edu(educd):\n",
    "    if educd in [81,82,83]:\n",
    "        return 'Associate'\n",
    "    if educd == 101:\n",
    "        return 'Bachelor'\n",
    "    if educd in [114,115]:\n",
    "        return 'Master'\n",
    "    if educd in [116]:\n",
    "        return 'PhD'\n",
    "    if educd < 62 or educd==999:\n",
    "        return 'None/Below HS'\n",
    "    if educd < 114:\n",
    "        return 'High School'\n",
    "    \n",
    "df['EDU_verbose'] = df['EDUCD'].map(highest_edu)\n",
    "df[['EDU_verbose','EDUCD']].tail()"
   ]
  },
  {
   "cell_type": "code",
   "execution_count": null,
   "id": "03d4ca80",
   "metadata": {},
   "outputs": [],
   "source": [
    "pd.crosstab(\n",
    "    df['under_represented'],\n",
    "    df['EDU_verbose'],\n",
    "    normalize='index'\n",
    ").plot.bar(\n",
    "    title='Distribution of Underrepresented persons by degree attainment'\n",
    ")"
   ]
  },
  {
   "cell_type": "markdown",
   "id": "59d59f8e",
   "metadata": {},
   "source": [
    "major takeaways here include the fact that under-represented persons tend to drop out of high school at a far greater rate while earning fewer high school diplomas, master's degrees, associate's degrees, and bachelor's degrees."
   ]
  },
  {
   "cell_type": "markdown",
   "id": "cd029423",
   "metadata": {},
   "source": [
    "### Employment & Education, EDA"
   ]
  },
  {
   "cell_type": "markdown",
   "id": "6d33b936",
   "metadata": {},
   "source": [
    "we first observe the difference in employment status across represented and underepresented groups and find that most of the populartion is employed in both groups, but under-represented communities tend to be more unemployed."
   ]
  },
  {
   "cell_type": "code",
   "execution_count": null,
   "id": "1e0a68be",
   "metadata": {},
   "outputs": [],
   "source": [
    "pd.crosstab(\n",
    "    df['under_represented'],\n",
    "    df['EMPSTAT'],\n",
    "    normalize='index'\n",
    ").plot.bar(\n",
    "    title='Distribution of Underrepresented persons by employment status'\n",
    ")\n",
    "plt.legend(['Employed','Unemployed','not in labor force'])"
   ]
  },
  {
   "cell_type": "markdown",
   "id": "01b64ac7",
   "metadata": {},
   "source": [
    "#### Analyzing STEM Education in Particular\n",
    "In order to identify if a degree belong to a stem field, we have two tiers of analysis - one at the `DEGFIELD` level, which shows us a high-level description of the degree in question. If we do not confirm at this level that a field of study is STEM, we move into the `DEGFIELDD` field, which offers more specific information on the degree.\n",
    "\n",
    "**for this section, we have developed a separate library containing logic that separates both DEGFIELD and DEGFIELDD codes into stem designation.**"
   ]
  },
  {
   "cell_type": "code",
   "execution_count": null,
   "id": "2f65dbcd",
   "metadata": {},
   "outputs": [],
   "source": [
    "df['is_STEM_degree'] = df.apply(lambda x: dc.is_stem_degree(x.DEGFIELD,x.DEGFIELDD),axis=1)"
   ]
  },
  {
   "cell_type": "code",
   "execution_count": null,
   "id": "91af7bd0",
   "metadata": {},
   "outputs": [],
   "source": [
    "df[['DEGFIELD','DEGFIELDD','is_STEM_degree']].head()"
   ]
  },
  {
   "cell_type": "markdown",
   "id": "47ac707e",
   "metadata": {},
   "source": [
    "#### STEM Degree Attainment by Target Variable\n",
    "A cursory analysis suggests that underrepresented individuals in STEM majors tend to have a significantly lower presence than in non-STEM fields."
   ]
  },
  {
   "cell_type": "code",
   "execution_count": null,
   "id": "2f48d6b7",
   "metadata": {},
   "outputs": [],
   "source": [
    "pd.crosstab(\n",
    "    df['is_STEM_degree'],\n",
    "    df['under_represented'],\n",
    "    normalize='index'\n",
    ").plot.bar(\n",
    "    title='Distribution of Underrepresented persons by STEM attainment'\n",
    ")"
   ]
  },
  {
   "cell_type": "markdown",
   "id": "66793de6",
   "metadata": {},
   "source": [
    "#### Which STEM majors have the smallest under-represented group?"
   ]
  },
  {
   "cell_type": "markdown",
   "id": "3de942b2",
   "metadata": {},
   "source": [
    "Preliminary findings suggest that under-represented groups are least present in military technologies, Environmental Sciences, Math, and Physical Sciences."
   ]
  },
  {
   "cell_type": "code",
   "execution_count": null,
   "id": "ca34991d",
   "metadata": {},
   "outputs": [],
   "source": [
    "df['Degree'] = df['DEGFIELD'].apply(lambda x: dc.degree_codes[x])\n",
    "df['Degree_D']=df['DEGFIELDD'].apply(lambda x: dc.detail_codes[x])\n",
    "temp = df.query(\"is_STEM_degree==1\")\n",
    "\n",
    "pd.crosstab(\n",
    "    temp['Degree'],\n",
    "    temp['under_represented'],\n",
    "    normalize='index'\n",
    ").sort_values(1).plot.barh(\n",
    "    title='Concentration of Underrepresented persons by STEM Area'\n",
    ")\n",
    "plt.legend(['Represented','Under-Represented'])\n",
    "\n",
    "pd.crosstab(\n",
    "    temp['Degree_D'],\n",
    "    temp['under_represented'],\n",
    "    normalize='index'\n",
    ").sort_values(0)[:20].plot.bar(\n",
    "    title='Concentration of Underrepresented persons by STEM Degree, Top 20'\n",
    ")\n",
    "plt.legend(['Represented','Under-Represented'])\n",
    "del temp"
   ]
  },
  {
   "cell_type": "markdown",
   "id": "81aab122",
   "metadata": {},
   "source": [
    "However, we also note considerably racial parity in Computer Engineering, Electrical Engineering Technology and Computer Engineering - beyond these, in sorter order, racial parity begins to decrease quickly."
   ]
  },
  {
   "cell_type": "markdown",
   "id": "27460340",
   "metadata": {},
   "source": [
    "### Analyzing Career Attainment by Race, EDA"
   ]
  },
  {
   "cell_type": "markdown",
   "id": "87e17aa9",
   "metadata": {},
   "source": [
    "we begin by loading in a mapping from the IPUMS Census Occupation Codes data to give us a better interpretation of the `OCC` field in our dataset, which can be found <a href='https://usa.ipums.org/usa/volii/occ2018.shtml'>here</a>."
   ]
  },
  {
   "cell_type": "code",
   "execution_count": null,
   "id": "1fe97a99",
   "metadata": {},
   "outputs": [],
   "source": [
    "import re\n",
    "occupations = pd.read_csv('occupation_map.csv')\n",
    "\n",
    "#standardize to lowercase\n",
    "def stdize(occ):\n",
    "    out = occ.lower()\n",
    "    out = re.sub(\"[^a-z\\s]\",\"\",out)\n",
    "    return out \n",
    "occupations['Occupation'] = occupations['Occupation'].map(stdize)\n",
    "\n",
    "occupations = dict(zip(occupations.OCC, occupations.Occupation))\n",
    "#get a sample \n",
    "list(occupations.values())[:5]"
   ]
  },
  {
   "cell_type": "markdown",
   "id": "0b57965f",
   "metadata": {},
   "source": [
    "Next, we can use an apply function to determine everyone's occupation:"
   ]
  },
  {
   "cell_type": "code",
   "execution_count": null,
   "id": "bf4b2c5b",
   "metadata": {},
   "outputs": [],
   "source": [
    "pd.set_option('display.max_colwidth', None)  \n",
    "df['JobRole'] = df['OCC'].apply(lambda x: occupations[x])\n",
    "df[['OCC','JobRole']].head()"
   ]
  },
  {
   "cell_type": "markdown",
   "id": "8c87e212",
   "metadata": {},
   "source": [
    "#### What Roles do STEM majors tend to go into? \n",
    "We omit any indivudals with an `EmpStatus` that isn't 1 to get a clearer insight on employed STEM individuals."
   ]
  },
  {
   "cell_type": "code",
   "execution_count": null,
   "id": "e41be95b",
   "metadata": {
    "scrolled": true
   },
   "outputs": [],
   "source": [
    "temp = df.query(\"is_STEM_degree==1 & EMPSTAT==1\")\n",
    "(temp['JobRole'].value_counts(normalize=True).sort_values(\n",
    "    ascending=False\n",
    ")[0:20]).plot(kind='bar',title='Top 20 Occupations for STEM majors')"
   ]
  },
  {
   "cell_type": "markdown",
   "id": "42f8c637",
   "metadata": {},
   "source": [
    "#### What roles do under-represented STEM majors go into compared to their counterparts?"
   ]
  },
  {
   "cell_type": "code",
   "execution_count": null,
   "id": "ced66731",
   "metadata": {},
   "outputs": [],
   "source": [
    "df.query(\"is_STEM_degree==1 & EMPSTAT==1 & under_represented==1\")['JobRole']\\\n",
    " .value_counts(normalize=True).sort_values(\n",
    "    ascending=False\n",
    ")[0:20]\\\n",
    ".plot(kind='barh',title='Top 20 Occupations for under-represented STEM majors')\n",
    "plt.show()\n",
    "\n",
    "df.query(\"is_STEM_degree==1 & EMPSTAT==1 & under_represented==0\")['JobRole']\\\n",
    " .value_counts(normalize=True).sort_values(\n",
    "    ascending=False\n",
    ")[0:20]\\\n",
    ".plot(kind='barh',title='Top 20 Occupations for represented STEM majors')\n",
    "plt.show()"
   ]
  },
  {
   "cell_type": "markdown",
   "id": "0cd39d62",
   "metadata": {},
   "source": [
    "We can see that many STEM majors tend to go into nursing, leadership roles, but primarily into analyst and engineering roles, which lines up with expectations. Next, we can explore this breakdown by racial representation:"
   ]
  },
  {
   "cell_type": "code",
   "execution_count": null,
   "id": "f2541e1b",
   "metadata": {},
   "outputs": [],
   "source": [
    "job_by_rep = pd.crosstab(\n",
    "    temp['JobRole']\n",
    "    ,temp['under_represented']\n",
    ")\n",
    "\n",
    "#add another column for total employment and sort to get top 20 roles\n",
    "job_by_rep[2] = job_by_rep[0]+job_by_rep[1]\n",
    "job_by_rep[0] = job_by_rep[0] / job_by_rep[2]\n",
    "job_by_rep[1] = 1 - job_by_rep[0]\n",
    "job_by_rep    = job_by_rep.sort_values(2,ascending=False)[:20]\n",
    "#get rid of total field to make chart clearer.\n",
    "job_by_rep    = job_by_rep.drop(2,axis=1)\n",
    "ax=job_by_rep.plot.barh(\n",
    "    title=f'Share of Underrepresented persons by Post-Stem Occupation,\\n Top {len(job_by_rep)} Occupations by Volume'\n",
    ")"
   ]
  },
  {
   "cell_type": "markdown",
   "id": "2f1342b1",
   "metadata": {},
   "source": [
    "### Defining STEM Occupations"
   ]
  },
  {
   "cell_type": "markdown",
   "id": "ef6b2a2c",
   "metadata": {},
   "source": [
    "We can do this by ingesting a list of STEM occupations from our previous occupation list from <a href=\"https://www.onetonline.org/find/stem?t=0\">O-Net</a> data and using a simple mapping function after we standardize the occupation names."
   ]
  },
  {
   "cell_type": "code",
   "execution_count": null,
   "id": "1d66dc4c",
   "metadata": {},
   "outputs": [],
   "source": [
    "stem_occupations = pd.read_csv(\"All_STEM_Occupations.csv\").rename({\"Occupation Types\":\"type\"},axis=1)\n",
    "#standardize to lowercase and remove grammar\n",
    "stem_occupations['Occupation'] = stem_occupations['Occupation'].map(stdize)"
   ]
  },
  {
   "cell_type": "markdown",
   "id": "46350358",
   "metadata": {},
   "source": [
    "Based on stakeholder input, we also conclude that while nurses are listed as a STEM role, we do not consider them for our analysis. We also exclude other peculiarities such as sociologists."
   ]
  },
  {
   "cell_type": "code",
   "execution_count": null,
   "id": "b28d2ae6",
   "metadata": {},
   "outputs": [],
   "source": [
    "for term in dc.career_blacklist:\n",
    "    removed = stem_occupations[\n",
    "        stem_occupations[\"Occupation\"].str.contains(term)==True\n",
    "    ]['Occupation'].unique()\n",
    "    #debug\n",
    "    #print(f\"deleting the following terms: {list(removed)}\")\n",
    "    stem_occupations = stem_occupations[stem_occupations[\"Occupation\"].str.contains(term)==False]\n"
   ]
  },
  {
   "cell_type": "code",
   "execution_count": null,
   "id": "beb0b876",
   "metadata": {},
   "outputs": [],
   "source": [
    "#dictionarize\n",
    "stem_occupations = dict(zip(stem_occupations.Occupation, stem_occupations.type))\n",
    "\n",
    "#create a function that identifies a job's STEM role type\n",
    "def stemType(job):\n",
    "    if job in stem_occupations:\n",
    "        return stem_occupations[job]\n",
    "    return -1\n",
    "\n",
    "df['stemType'] = df['JobRole'].map(stemType)\n",
    "df[['stemType','JobRole']].head()"
   ]
  },
  {
   "cell_type": "markdown",
   "id": "d7acda34",
   "metadata": {},
   "source": [
    "#### What Portion of people work in a STEM field?"
   ]
  },
  {
   "cell_type": "markdown",
   "id": "278eff39",
   "metadata": {},
   "source": [
    "Under-represented groups tend to be slightly less employed in STEM fields, with similar patterns of employment in STEM fields to their counterparts, with R&D, Design, and Practicioner fields taking the bulk of employment."
   ]
  },
  {
   "cell_type": "code",
   "execution_count": null,
   "id": "a15fc0e1",
   "metadata": {
    "scrolled": true
   },
   "outputs": [],
   "source": [
    "df.groupby('under_represented')['stemType'].value_counts(normalize=True)"
   ]
  },
  {
   "cell_type": "markdown",
   "id": "1d35069f",
   "metadata": {},
   "source": [
    "this can better be understood by removing absent STEM-types from the chart:"
   ]
  },
  {
   "cell_type": "code",
   "execution_count": null,
   "id": "83a40f0a",
   "metadata": {
    "scrolled": true
   },
   "outputs": [],
   "source": [
    "df[df['stemType']!=-1].groupby('under_represented')['stemType'].value_counts(normalize=True)"
   ]
  },
  {
   "cell_type": "markdown",
   "id": "45f2c11d",
   "metadata": {},
   "source": [
    "#### What portion of STEM Employees have a post-secondary education?\n",
    "Results show a slightly larger number of STEM employees with no college education for under-represented groups."
   ]
  },
  {
   "cell_type": "code",
   "execution_count": null,
   "id": "ba5657dc",
   "metadata": {
    "scrolled": false
   },
   "outputs": [],
   "source": [
    "stem_employees = df[df['stemType']!=-1]\n",
    "stem_employees['past_HS'] = stem_employees['EDUC'] >= 7\n",
    "\n",
    "pd.crosstab(\n",
    "    stem_employees['under_represented'],\n",
    "    stem_employees['past_HS'],\n",
    "    normalize='index'\n",
    ").plot(kind='bar',title='Portion of STEM employees with College Experience by Demographic')\n",
    "plt.legend(['No College Experience','College Experience'])"
   ]
  },
  {
   "cell_type": "markdown",
   "id": "f0aba58a",
   "metadata": {},
   "source": [
    "#### How do rates of college non-completion affect wages in a given profession?"
   ]
  },
  {
   "cell_type": "code",
   "execution_count": null,
   "id": "73b3561d",
   "metadata": {},
   "outputs": [],
   "source": [
    "wage_hs = stem_employees.groupby('JobRole')[['INCWAGE','past_HS']].mean()\n",
    "plt.scatter(x=wage_hs['past_HS'],y=wage_hs['INCWAGE'])\n",
    "plt.title(\"STEM Employee College Experience vs Wages\")\n",
    "plt.xlabel(\"% of Employees with College Experience in Industry\")\n",
    "plt.ylabel(\"Average Salary for Industry\")\n",
    "plt.show()"
   ]
  },
  {
   "cell_type": "markdown",
   "id": "a2f6d93d",
   "metadata": {},
   "source": [
    "#### Breaking Down STEM Role Areas By Demographic"
   ]
  },
  {
   "cell_type": "markdown",
   "id": "7b30264e",
   "metadata": {},
   "source": [
    "First, we examine what portion of each group is employed in STEM in general, then for individuals who hold a STEM degree. Analysis of the general population shows that across the board, under-represented individuals tend to be employed less frequently in STEM roles than in non-STEM roles."
   ]
  },
  {
   "cell_type": "code",
   "execution_count": null,
   "id": "8aa8b44e",
   "metadata": {},
   "outputs": [],
   "source": [
    "pd.crosstab(\n",
    "    df['stemType'],\n",
    "    df['under_represented'],\n",
    "    normalize='index'\n",
    ").sort_values(0).plot.bar(\n",
    "    title='Concentration of Underrepresented persons by STEM Jobs'\n",
    ")"
   ]
  },
  {
   "cell_type": "markdown",
   "id": "148e231d",
   "metadata": {},
   "source": [
    "#### What STEM roles do under-represented STEM graduates take on?"
   ]
  },
  {
   "cell_type": "code",
   "execution_count": null,
   "id": "5e4b940b",
   "metadata": {
    "scrolled": true
   },
   "outputs": [],
   "source": [
    "df[df['stemType']!=-1].query(\"is_STEM_degree==1 & under_represented==1\")['stemType'].value_counts(normalize=True).plot(kind='bar',title='Concentration of Underrepresented STEM Graduates by STEM Job Areas')"
   ]
  },
  {
   "cell_type": "code",
   "execution_count": null,
   "id": "7b3a7233",
   "metadata": {},
   "outputs": [],
   "source": [
    "df[df['stemType']!=-1].query(\"is_STEM_degree==1 & under_represented==1\")['JobRole'].value_counts(normalize=True)[0:10].plot(kind='bar',title='Concentration of Underrepresented STEM Graduates by STEM Jobs, Top 10')"
   ]
  },
  {
   "cell_type": "markdown",
   "id": "aeb8dff2",
   "metadata": {},
   "source": [
    "STEM Graduates primarily tend to take on nursing and software developer roles - RNs, software evelopers, medical managers, computer occupations, and computer programs - which can all roughly be categorized as either medical or software development roles. "
   ]
  },
  {
   "cell_type": "markdown",
   "id": "d678a293",
   "metadata": {},
   "source": [
    "#### Salary Analysis - How Much Do Stem Employees Earn?"
   ]
  },
  {
   "cell_type": "code",
   "execution_count": null,
   "id": "ce5a0890",
   "metadata": {},
   "outputs": [],
   "source": [
    "df.groupby('stemType')['INCWAGE'].median().plot(kind='bar',title='Median Wage by STEM Job Type')"
   ]
  },
  {
   "cell_type": "code",
   "execution_count": null,
   "id": "990839cc",
   "metadata": {},
   "outputs": [],
   "source": [
    "df[df['stemType']!=-1].groupby(['under_represented','stemType'])['INCWAGE'].median()"
   ]
  },
  {
   "cell_type": "markdown",
   "id": "f04f895a",
   "metadata": {},
   "source": [
    "Underrepresented employees make considerably less in managerial and R&D/Practicioner roles than their counterparts. We can also extend this analysis to specific jobs, looking at the top 20 fields:"
   ]
  },
  {
   "cell_type": "code",
   "execution_count": null,
   "id": "6d56746c",
   "metadata": {},
   "outputs": [],
   "source": [
    "#get top 20 fields by volume of employees\n",
    "top_twenty_fields = df[df['stemType']!=-1]['JobRole'].value_counts().sort_values(ascending=False)[:20]\n",
    "top_twenty_fields = list(top_twenty_fields.index)\n",
    "top_twenty_fields[:5]"
   ]
  },
  {
   "cell_type": "code",
   "execution_count": null,
   "id": "eb51386c",
   "metadata": {},
   "outputs": [],
   "source": [
    "top_twenty_workers = df[df['stemType']!=-1]\\\n",
    "    .query(f\"JobRole in {top_twenty_fields}\")"
   ]
  },
  {
   "cell_type": "code",
   "execution_count": null,
   "id": "82386825",
   "metadata": {},
   "outputs": [],
   "source": [
    "pd.crosstab(\n",
    "    top_twenty_workers['JobRole'],\n",
    "    top_twenty_workers['under_represented'],\n",
    "    values=top_twenty_workers['INCWAGE'],\n",
    "    aggfunc = 'median'\n",
    ").sort_values(0,ascending=False).plot(\n",
    "    kind='bar',\n",
    "    title='Median Wage by STEM Role and Representation, Top 20 Fields'\n",
    ")"
   ]
  },
  {
   "cell_type": "markdown",
   "id": "0188626d",
   "metadata": {},
   "source": [
    "#### In Total, What Portion of STEM Employees do not have a STEM Background?"
   ]
  },
  {
   "cell_type": "code",
   "execution_count": null,
   "id": "05c6f6d6",
   "metadata": {},
   "outputs": [],
   "source": [
    "df[df['stemType']!=-1]['is_STEM_degree'].value_counts(normalize=True)"
   ]
  },
  {
   "cell_type": "code",
   "execution_count": null,
   "id": "c80012d5",
   "metadata": {},
   "outputs": [],
   "source": [
    "df[df['stemType']!=-1].groupby('under_represented')['is_STEM_degree'].value_counts(normalize=True)"
   ]
  },
  {
   "cell_type": "markdown",
   "id": "c96c33b7",
   "metadata": {},
   "source": [
    "In total, more than half of individuals working in a STEM field did not get a STEM education in both represented and under-represented groups. We can also look at the top fields for this trend:"
   ]
  },
  {
   "cell_type": "code",
   "execution_count": null,
   "id": "8b238fcb",
   "metadata": {
    "scrolled": true
   },
   "outputs": [],
   "source": [
    "df_temp = df[df['stemType']!=-1]\n",
    "temp_cross = pd.crosstab(\n",
    "    df_temp['JobRole'],\n",
    "    df_temp['is_STEM_degree'],\n",
    ")\n",
    "temp_cross['n'] = temp_cross[0]+temp_cross[1]\n",
    "temp_cross[0] = temp_cross[0]/temp_cross['n']\n",
    "temp_cross[1] = temp_cross[1]/temp_cross['n']\n",
    "temp_cross = temp_cross.sort_values(by='n',ascending=False)[:20]\n",
    "temp_cross = temp_cross.drop(columns=['n',1])\n",
    "temp_cross.plot(\n",
    "    kind='barh',\n",
    "    title='Percent of Employees with no STEM education by field, top 20 by volume'\n",
    ")\n",
    "#we can save this for the next cell.\n",
    "top_stem_roles = list(temp_cross.index)\n",
    "\n",
    "del df_temp\n",
    "del temp_cross"
   ]
  },
  {
   "cell_type": "markdown",
   "id": "9f3f38e1",
   "metadata": {},
   "source": [
    "#### How does not having a STEM degree affect income in these fields?"
   ]
  },
  {
   "cell_type": "markdown",
   "id": "aa29ca2b",
   "metadata": {},
   "source": [
    "In general, individuals who go into STEM roles tend to make considerably smaller median salaries, with the notable exception of web developers, web and digital interface designers, and mapping technicians, who have considerable parity."
   ]
  },
  {
   "cell_type": "code",
   "execution_count": null,
   "id": "457c5057",
   "metadata": {},
   "outputs": [],
   "source": [
    "df_top_roles = df[df['JobRole'].isin(top_stem_roles)]\n",
    "pd.crosstab(\n",
    "    df_top_roles['JobRole'],\n",
    "    df_top_roles['is_STEM_degree'],\n",
    "    values = df_top_roles['INCWAGE'],\n",
    "    aggfunc = 'median'\n",
    ").plot(kind='barh')\n",
    "plt.title(\"Median Salary in top STEM fields by STEM Education\")\n",
    "plt.xlabel(\"Median Salary, USD\")\n",
    "plt.legend(['no STEM Degree','STEM Degree'])"
   ]
  },
  {
   "cell_type": "code",
   "execution_count": null,
   "id": "68c40df9",
   "metadata": {},
   "outputs": [],
   "source": [
    "df.to_csv('main_df.csv',index=None)"
   ]
  },
  {
   "cell_type": "markdown",
   "id": "a2e43f62",
   "metadata": {},
   "source": [
    "#### Analysis for Partnering with Handshake: Total Addressable Market\n",
    "in order to acquire more data to conduct our analysis - this team has made plans to partner with handshake, a job board and social networking platform for college students. In doing so, we are interested in answering "
   ]
  }
 ],
 "metadata": {
  "kernelspec": {
   "display_name": "Python 3 (ipykernel)",
   "language": "python",
   "name": "python3"
  },
  "language_info": {
   "codemirror_mode": {
    "name": "ipython",
    "version": 3
   },
   "file_extension": ".py",
   "mimetype": "text/x-python",
   "name": "python",
   "nbconvert_exporter": "python",
   "pygments_lexer": "ipython3",
   "version": "3.8.2"
  }
 },
 "nbformat": 4,
 "nbformat_minor": 5
}
