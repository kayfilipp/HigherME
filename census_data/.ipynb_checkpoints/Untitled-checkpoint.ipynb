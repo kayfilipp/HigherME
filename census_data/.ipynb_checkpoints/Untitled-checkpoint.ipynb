{
 "cells": [
  {
   "cell_type": "markdown",
   "id": "a35edd29",
   "metadata": {},
   "source": [
    "# Analyzing US Census Data for HigherME\n",
    "**Nava Roohi ,Cole Bailey, Filipp Krasovsky**"
   ]
  },
  {
   "cell_type": "code",
   "execution_count": 195,
   "id": "556779d0",
   "metadata": {},
   "outputs": [],
   "source": [
    "import pandas as pd \n",
    "import degree_codes as dc\n",
    "import matplotlib.pyplot as plt\n",
    "plt.style.use('seaborn-dark-palette')\n",
    "import warnings\n",
    "warnings.filterwarnings(\"ignore\")"
   ]
  },
  {
   "cell_type": "code",
   "execution_count": 196,
   "id": "509c7b1f",
   "metadata": {
    "scrolled": true
   },
   "outputs": [
    {
     "data": {
      "text/html": [
       "<div>\n",
       "<style scoped>\n",
       "    .dataframe tbody tr th:only-of-type {\n",
       "        vertical-align: middle;\n",
       "    }\n",
       "\n",
       "    .dataframe tbody tr th {\n",
       "        vertical-align: top;\n",
       "    }\n",
       "\n",
       "    .dataframe thead th {\n",
       "        text-align: right;\n",
       "    }\n",
       "</style>\n",
       "<table border=\"1\" class=\"dataframe\">\n",
       "  <thead>\n",
       "    <tr style=\"text-align: right;\">\n",
       "      <th></th>\n",
       "      <th>YEAR</th>\n",
       "      <th>MULTYEAR</th>\n",
       "      <th>SAMPLE</th>\n",
       "      <th>SERIAL</th>\n",
       "      <th>CBSERIAL</th>\n",
       "      <th>HHWT</th>\n",
       "      <th>CLUSTER</th>\n",
       "      <th>STATEFIP</th>\n",
       "      <th>STRATA</th>\n",
       "      <th>GQ</th>\n",
       "      <th>...</th>\n",
       "      <th>EDUCD</th>\n",
       "      <th>DEGFIELD</th>\n",
       "      <th>DEGFIELDD</th>\n",
       "      <th>DEGFIELD2</th>\n",
       "      <th>DEGFIELD2D</th>\n",
       "      <th>EMPSTAT</th>\n",
       "      <th>EMPSTATD</th>\n",
       "      <th>OCC</th>\n",
       "      <th>IND</th>\n",
       "      <th>INCWAGE</th>\n",
       "    </tr>\n",
       "  </thead>\n",
       "  <tbody>\n",
       "    <tr>\n",
       "      <th>0</th>\n",
       "      <td>2020</td>\n",
       "      <td>2016</td>\n",
       "      <td>202003</td>\n",
       "      <td>6676264</td>\n",
       "      <td>2016000978820</td>\n",
       "      <td>5.15</td>\n",
       "      <td>2020066762643</td>\n",
       "      <td>55</td>\n",
       "      <td>10055</td>\n",
       "      <td>1</td>\n",
       "      <td>...</td>\n",
       "      <td>65</td>\n",
       "      <td>0</td>\n",
       "      <td>0</td>\n",
       "      <td>0</td>\n",
       "      <td>0</td>\n",
       "      <td>1</td>\n",
       "      <td>10</td>\n",
       "      <td>5510</td>\n",
       "      <td>6380</td>\n",
       "      <td>51776</td>\n",
       "    </tr>\n",
       "    <tr>\n",
       "      <th>1</th>\n",
       "      <td>2020</td>\n",
       "      <td>2016</td>\n",
       "      <td>202003</td>\n",
       "      <td>4027595</td>\n",
       "      <td>2016000661290</td>\n",
       "      <td>17.51</td>\n",
       "      <td>2020040275953</td>\n",
       "      <td>36</td>\n",
       "      <td>60036</td>\n",
       "      <td>1</td>\n",
       "      <td>...</td>\n",
       "      <td>64</td>\n",
       "      <td>0</td>\n",
       "      <td>0</td>\n",
       "      <td>0</td>\n",
       "      <td>0</td>\n",
       "      <td>1</td>\n",
       "      <td>10</td>\n",
       "      <td>8990</td>\n",
       "      <td>770</td>\n",
       "      <td>21573</td>\n",
       "    </tr>\n",
       "    <tr>\n",
       "      <th>2</th>\n",
       "      <td>2020</td>\n",
       "      <td>2017</td>\n",
       "      <td>202003</td>\n",
       "      <td>5156019</td>\n",
       "      <td>2017000181278</td>\n",
       "      <td>6.18</td>\n",
       "      <td>2020051560193</td>\n",
       "      <td>42</td>\n",
       "      <td>370142</td>\n",
       "      <td>1</td>\n",
       "      <td>...</td>\n",
       "      <td>101</td>\n",
       "      <td>53</td>\n",
       "      <td>5301</td>\n",
       "      <td>0</td>\n",
       "      <td>0</td>\n",
       "      <td>3</td>\n",
       "      <td>30</td>\n",
       "      <td>2310</td>\n",
       "      <td>7860</td>\n",
       "      <td>0</td>\n",
       "    </tr>\n",
       "    <tr>\n",
       "      <th>3</th>\n",
       "      <td>2020</td>\n",
       "      <td>2020</td>\n",
       "      <td>202003</td>\n",
       "      <td>6777997</td>\n",
       "      <td>2020000352838</td>\n",
       "      <td>69.01</td>\n",
       "      <td>2020067779973</td>\n",
       "      <td>55</td>\n",
       "      <td>5510155</td>\n",
       "      <td>1</td>\n",
       "      <td>...</td>\n",
       "      <td>63</td>\n",
       "      <td>0</td>\n",
       "      <td>0</td>\n",
       "      <td>0</td>\n",
       "      <td>0</td>\n",
       "      <td>1</td>\n",
       "      <td>10</td>\n",
       "      <td>910</td>\n",
       "      <td>6870</td>\n",
       "      <td>52000</td>\n",
       "    </tr>\n",
       "    <tr>\n",
       "      <th>4</th>\n",
       "      <td>2020</td>\n",
       "      <td>2017</td>\n",
       "      <td>202003</td>\n",
       "      <td>4717146</td>\n",
       "      <td>2017000352033</td>\n",
       "      <td>15.45</td>\n",
       "      <td>2020047171463</td>\n",
       "      <td>39</td>\n",
       "      <td>280039</td>\n",
       "      <td>1</td>\n",
       "      <td>...</td>\n",
       "      <td>63</td>\n",
       "      <td>0</td>\n",
       "      <td>0</td>\n",
       "      <td>0</td>\n",
       "      <td>0</td>\n",
       "      <td>1</td>\n",
       "      <td>10</td>\n",
       "      <td>4220</td>\n",
       "      <td>7870</td>\n",
       "      <td>40126</td>\n",
       "    </tr>\n",
       "  </tbody>\n",
       "</table>\n",
       "<p>5 rows × 31 columns</p>\n",
       "</div>"
      ],
      "text/plain": [
       "   YEAR  MULTYEAR  SAMPLE   SERIAL       CBSERIAL   HHWT        CLUSTER  \\\n",
       "0  2020      2016  202003  6676264  2016000978820   5.15  2020066762643   \n",
       "1  2020      2016  202003  4027595  2016000661290  17.51  2020040275953   \n",
       "2  2020      2017  202003  5156019  2017000181278   6.18  2020051560193   \n",
       "3  2020      2020  202003  6777997  2020000352838  69.01  2020067779973   \n",
       "4  2020      2017  202003  4717146  2017000352033  15.45  2020047171463   \n",
       "\n",
       "   STATEFIP   STRATA  GQ  ...  EDUCD  DEGFIELD  DEGFIELDD  DEGFIELD2  \\\n",
       "0        55    10055   1  ...     65         0          0          0   \n",
       "1        36    60036   1  ...     64         0          0          0   \n",
       "2        42   370142   1  ...    101        53       5301          0   \n",
       "3        55  5510155   1  ...     63         0          0          0   \n",
       "4        39   280039   1  ...     63         0          0          0   \n",
       "\n",
       "   DEGFIELD2D  EMPSTAT  EMPSTATD   OCC   IND  INCWAGE  \n",
       "0           0        1        10  5510  6380    51776  \n",
       "1           0        1        10  8990   770    21573  \n",
       "2           0        3        30  2310  7860        0  \n",
       "3           0        1        10   910  6870    52000  \n",
       "4           0        1        10  4220  7870    40126  \n",
       "\n",
       "[5 rows x 31 columns]"
      ]
     },
     "execution_count": 196,
     "metadata": {},
     "output_type": "execute_result"
    }
   ],
   "source": [
    "df = pd.read_csv(\"df_stratified_2.csv\")\n",
    "df.head()"
   ]
  },
  {
   "cell_type": "code",
   "execution_count": 197,
   "id": "217cc001",
   "metadata": {},
   "outputs": [
    {
     "data": {
      "text/plain": [
       "18"
      ]
     },
     "execution_count": 197,
     "metadata": {},
     "output_type": "execute_result"
    }
   ],
   "source": [
    "#sanity check to make sure our age is above 18\n",
    "df['AGE'].min()"
   ]
  },
  {
   "cell_type": "markdown",
   "id": "178fe322",
   "metadata": {},
   "source": [
    "## Data Cleaning"
   ]
  },
  {
   "cell_type": "markdown",
   "id": "a6747a57",
   "metadata": {},
   "source": [
    "#### Step 1. State Extraction from FIP Numbers\n",
    "We can use the degree_codes package we imported earlier to get a list of all state FIPs."
   ]
  },
  {
   "cell_type": "code",
   "execution_count": 198,
   "id": "b7246484",
   "metadata": {},
   "outputs": [
    {
     "data": {
      "text/html": [
       "<div>\n",
       "<style scoped>\n",
       "    .dataframe tbody tr th:only-of-type {\n",
       "        vertical-align: middle;\n",
       "    }\n",
       "\n",
       "    .dataframe tbody tr th {\n",
       "        vertical-align: top;\n",
       "    }\n",
       "\n",
       "    .dataframe thead th {\n",
       "        text-align: right;\n",
       "    }\n",
       "</style>\n",
       "<table border=\"1\" class=\"dataframe\">\n",
       "  <thead>\n",
       "    <tr style=\"text-align: right;\">\n",
       "      <th></th>\n",
       "      <th>YEAR</th>\n",
       "      <th>MULTYEAR</th>\n",
       "      <th>SAMPLE</th>\n",
       "      <th>SERIAL</th>\n",
       "      <th>CBSERIAL</th>\n",
       "      <th>HHWT</th>\n",
       "      <th>CLUSTER</th>\n",
       "      <th>STATEFIP</th>\n",
       "      <th>STRATA</th>\n",
       "      <th>GQ</th>\n",
       "      <th>...</th>\n",
       "      <th>DEGFIELD</th>\n",
       "      <th>DEGFIELDD</th>\n",
       "      <th>DEGFIELD2</th>\n",
       "      <th>DEGFIELD2D</th>\n",
       "      <th>EMPSTAT</th>\n",
       "      <th>EMPSTATD</th>\n",
       "      <th>OCC</th>\n",
       "      <th>IND</th>\n",
       "      <th>INCWAGE</th>\n",
       "      <th>State</th>\n",
       "    </tr>\n",
       "  </thead>\n",
       "  <tbody>\n",
       "    <tr>\n",
       "      <th>0</th>\n",
       "      <td>2020</td>\n",
       "      <td>2016</td>\n",
       "      <td>202003</td>\n",
       "      <td>6676264</td>\n",
       "      <td>2016000978820</td>\n",
       "      <td>5.15</td>\n",
       "      <td>2020066762643</td>\n",
       "      <td>55</td>\n",
       "      <td>10055</td>\n",
       "      <td>1</td>\n",
       "      <td>...</td>\n",
       "      <td>0</td>\n",
       "      <td>0</td>\n",
       "      <td>0</td>\n",
       "      <td>0</td>\n",
       "      <td>1</td>\n",
       "      <td>10</td>\n",
       "      <td>5510</td>\n",
       "      <td>6380</td>\n",
       "      <td>51776</td>\n",
       "      <td>Wisconsin</td>\n",
       "    </tr>\n",
       "    <tr>\n",
       "      <th>1</th>\n",
       "      <td>2020</td>\n",
       "      <td>2016</td>\n",
       "      <td>202003</td>\n",
       "      <td>4027595</td>\n",
       "      <td>2016000661290</td>\n",
       "      <td>17.51</td>\n",
       "      <td>2020040275953</td>\n",
       "      <td>36</td>\n",
       "      <td>60036</td>\n",
       "      <td>1</td>\n",
       "      <td>...</td>\n",
       "      <td>0</td>\n",
       "      <td>0</td>\n",
       "      <td>0</td>\n",
       "      <td>0</td>\n",
       "      <td>1</td>\n",
       "      <td>10</td>\n",
       "      <td>8990</td>\n",
       "      <td>770</td>\n",
       "      <td>21573</td>\n",
       "      <td>New York</td>\n",
       "    </tr>\n",
       "    <tr>\n",
       "      <th>2</th>\n",
       "      <td>2020</td>\n",
       "      <td>2017</td>\n",
       "      <td>202003</td>\n",
       "      <td>5156019</td>\n",
       "      <td>2017000181278</td>\n",
       "      <td>6.18</td>\n",
       "      <td>2020051560193</td>\n",
       "      <td>42</td>\n",
       "      <td>370142</td>\n",
       "      <td>1</td>\n",
       "      <td>...</td>\n",
       "      <td>53</td>\n",
       "      <td>5301</td>\n",
       "      <td>0</td>\n",
       "      <td>0</td>\n",
       "      <td>3</td>\n",
       "      <td>30</td>\n",
       "      <td>2310</td>\n",
       "      <td>7860</td>\n",
       "      <td>0</td>\n",
       "      <td>Pennsylvania</td>\n",
       "    </tr>\n",
       "    <tr>\n",
       "      <th>3</th>\n",
       "      <td>2020</td>\n",
       "      <td>2020</td>\n",
       "      <td>202003</td>\n",
       "      <td>6777997</td>\n",
       "      <td>2020000352838</td>\n",
       "      <td>69.01</td>\n",
       "      <td>2020067779973</td>\n",
       "      <td>55</td>\n",
       "      <td>5510155</td>\n",
       "      <td>1</td>\n",
       "      <td>...</td>\n",
       "      <td>0</td>\n",
       "      <td>0</td>\n",
       "      <td>0</td>\n",
       "      <td>0</td>\n",
       "      <td>1</td>\n",
       "      <td>10</td>\n",
       "      <td>910</td>\n",
       "      <td>6870</td>\n",
       "      <td>52000</td>\n",
       "      <td>Wisconsin</td>\n",
       "    </tr>\n",
       "    <tr>\n",
       "      <th>4</th>\n",
       "      <td>2020</td>\n",
       "      <td>2017</td>\n",
       "      <td>202003</td>\n",
       "      <td>4717146</td>\n",
       "      <td>2017000352033</td>\n",
       "      <td>15.45</td>\n",
       "      <td>2020047171463</td>\n",
       "      <td>39</td>\n",
       "      <td>280039</td>\n",
       "      <td>1</td>\n",
       "      <td>...</td>\n",
       "      <td>0</td>\n",
       "      <td>0</td>\n",
       "      <td>0</td>\n",
       "      <td>0</td>\n",
       "      <td>1</td>\n",
       "      <td>10</td>\n",
       "      <td>4220</td>\n",
       "      <td>7870</td>\n",
       "      <td>40126</td>\n",
       "      <td>Ohio</td>\n",
       "    </tr>\n",
       "  </tbody>\n",
       "</table>\n",
       "<p>5 rows × 32 columns</p>\n",
       "</div>"
      ],
      "text/plain": [
       "   YEAR  MULTYEAR  SAMPLE   SERIAL       CBSERIAL   HHWT        CLUSTER  \\\n",
       "0  2020      2016  202003  6676264  2016000978820   5.15  2020066762643   \n",
       "1  2020      2016  202003  4027595  2016000661290  17.51  2020040275953   \n",
       "2  2020      2017  202003  5156019  2017000181278   6.18  2020051560193   \n",
       "3  2020      2020  202003  6777997  2020000352838  69.01  2020067779973   \n",
       "4  2020      2017  202003  4717146  2017000352033  15.45  2020047171463   \n",
       "\n",
       "   STATEFIP   STRATA  GQ  ...  DEGFIELD  DEGFIELDD  DEGFIELD2  DEGFIELD2D  \\\n",
       "0        55    10055   1  ...         0          0          0           0   \n",
       "1        36    60036   1  ...         0          0          0           0   \n",
       "2        42   370142   1  ...        53       5301          0           0   \n",
       "3        55  5510155   1  ...         0          0          0           0   \n",
       "4        39   280039   1  ...         0          0          0           0   \n",
       "\n",
       "   EMPSTAT  EMPSTATD   OCC   IND  INCWAGE         State  \n",
       "0        1        10  5510  6380    51776     Wisconsin  \n",
       "1        1        10  8990   770    21573      New York  \n",
       "2        3        30  2310  7860        0  Pennsylvania  \n",
       "3        1        10   910  6870    52000     Wisconsin  \n",
       "4        1        10  4220  7870    40126          Ohio  \n",
       "\n",
       "[5 rows x 32 columns]"
      ]
     },
     "execution_count": 198,
     "metadata": {},
     "output_type": "execute_result"
    }
   ],
   "source": [
    "#map to a new variable called \"State\"\n",
    "df['State'] = df['STATEFIP'].apply(lambda x: dc.fips[x])\n",
    "df.head()"
   ]
  },
  {
   "cell_type": "markdown",
   "id": "9dc394f2",
   "metadata": {},
   "source": [
    "### Step 2. Breakdown by Race, Initial EDA "
   ]
  },
  {
   "cell_type": "code",
   "execution_count": 199,
   "id": "441fac90",
   "metadata": {
    "scrolled": true
   },
   "outputs": [
    {
     "data": {
      "text/plain": [
       "White                               149702\n",
       "Black/African American               18795\n",
       "Other Asian or Pacific Islander       7644\n",
       "Other race, nec                       7137\n",
       "Two major races                       5731\n",
       "Chinese                               2824\n",
       "American Indian or Alaska Native      1999\n",
       "Three or more major races              598\n",
       "Japanese                               569\n",
       "Name: RACE, dtype: int64"
      ]
     },
     "execution_count": 199,
     "metadata": {},
     "output_type": "execute_result"
    }
   ],
   "source": [
    "race_map ={\n",
    "    1: \"White\"\n",
    "    ,2: \"Black/African American\"\n",
    "    ,3: \"American Indian or Alaska Native\"\n",
    "    ,4: \"Chinese\"\n",
    "    ,5: \"Japanese\"\n",
    "    ,6: \"Other Asian or Pacific Islander\"\n",
    "    ,7: \"Other race, nec\"\n",
    "    ,8: \"Two major races\"\n",
    "    ,9: \"Three or more major races\"\n",
    "}\n",
    "df['RACE'].apply(lambda x: race_map[x]).value_counts()"
   ]
  },
  {
   "cell_type": "markdown",
   "id": "3b4fe734",
   "metadata": {},
   "source": [
    "Based on the definition, however, we are primarily interested in exploring career differences between non-white/asian individuals and their counterparts based on documentation that can be accessed <a href=\"https://github.com/kayfilipp/HigherME/blob/main/README.md\">here</a>. To this end, we can re-map the race for each row to exclude indices 1, 4, and 5. We do not exclude pacific islanders as of now, but are open to doing so if requirements change. We also include any hispanic individuals in our definition of under represented."
   ]
  },
  {
   "cell_type": "code",
   "execution_count": null,
   "id": "76cb67a8",
   "metadata": {},
   "outputs": [],
   "source": [
    "non_target = [1,4,5]\n",
    "def under_rep_id(race,hispan):\n",
    "    #if target is not 'Non-Hispanic'...\n",
    "    if hispan != 0:\n",
    "        return 1\n",
    "    #and target isn't nonwhite/ nonasian...\n",
    "    if race not in non_target:\n",
    "        return 1\n",
    "    #then they're not under-represented.\n",
    "    return 0\n",
    "\n",
    "df['under_represented'] = df.apply(lambda x: under_rep_id(x.RACE,x.HISPAN),axis=1)\n",
    "df[['RACE','under_represented']].sample(10)"
   ]
  },
  {
   "cell_type": "code",
   "execution_count": null,
   "id": "de8f83f9",
   "metadata": {},
   "outputs": [],
   "source": [
    "df['under_represented'].value_counts(normalize=True).plot(kind='bar',title='Under represented presence in dataset')"
   ]
  },
  {
   "cell_type": "markdown",
   "id": "7d3f740e",
   "metadata": {},
   "source": [
    "#### Since we're not doing low level analysis that explores the differences between Black and Hispanic applicants, we can drop the nuance on hispanic data for now."
   ]
  },
  {
   "cell_type": "code",
   "execution_count": null,
   "id": "81b39024",
   "metadata": {},
   "outputs": [],
   "source": [
    "df = df.drop(['HISPAN','HISPAND'],axis=1)"
   ]
  },
  {
   "cell_type": "markdown",
   "id": "85cf2de9",
   "metadata": {},
   "source": [
    "### Step 3. Breakdown by Birthplace, EDA"
   ]
  },
  {
   "cell_type": "markdown",
   "id": "2535ad05",
   "metadata": {},
   "source": [
    "#### Furthermore, we can divide the birthplace feature (BPL) into a more low-resolution field - foreign born and domestic born individuals (ie those who are born in the continental US):"
   ]
  },
  {
   "cell_type": "code",
   "execution_count": null,
   "id": "b14a3643",
   "metadata": {},
   "outputs": [],
   "source": [
    "def is_domestic(bpl):\n",
    "    #if birthplace code is for the US...\n",
    "    if bpl < 100:\n",
    "        return 1\n",
    "    return 0\n",
    "\n",
    "df['domestic_born'] = df['BPL'].map(is_domestic)\n",
    "df[['BPL','domestic_born']].head()"
   ]
  },
  {
   "cell_type": "markdown",
   "id": "7a2610a4",
   "metadata": {},
   "source": [
    "Putting all this together, we can conclude that individuals that are born abroad and move to the US tend to be under-represented, while, as intiuition dictates, individuals born in the US tend to not be underrepresented. "
   ]
  },
  {
   "cell_type": "code",
   "execution_count": null,
   "id": "d3732f6b",
   "metadata": {},
   "outputs": [],
   "source": [
    "pd.crosstab(\n",
    "    df['domestic_born'],\n",
    "    df['under_represented'],\n",
    "    normalize='index'\n",
    ").plot.bar(\n",
    "    title='Distribution of Underrepresented persons by birthplace'\n",
    ")"
   ]
  },
  {
   "cell_type": "markdown",
   "id": "829d8d28",
   "metadata": {},
   "source": [
    "### Step 4. Educational Attainment, EDA"
   ]
  },
  {
   "cell_type": "markdown",
   "id": "1ed88241",
   "metadata": {},
   "source": [
    "**Context:** The ``EDUC`` field contains values from 0-11 representing levels of educational attainment in increasing order - that is, a 0 is lower than a 1, etc. The `EDUCD` field extrapolates on the low-level details in a similar fashion. Our primary motivation is to simplify these values broadly into the following categories:\n",
    "\n",
    "<ul>\n",
    "    <li>None/Below Secondary (High School)</li>\n",
    "    <li>Secondary (High School)</li>\n",
    "    <li>Associate's</li>\n",
    "    <li>Bachelor's</li>\n",
    "    <li>Master's</li>\n",
    "    <li>PhD/Other</li>\n",
    "</ul>"
   ]
  },
  {
   "cell_type": "code",
   "execution_count": null,
   "id": "a7723242",
   "metadata": {},
   "outputs": [],
   "source": [
    "df['EDUC'].sort_values().unique()"
   ]
  },
  {
   "cell_type": "code",
   "execution_count": null,
   "id": "40fe3edc",
   "metadata": {},
   "outputs": [],
   "source": [
    "df['EDUCD'].sort_values().unique()"
   ]
  },
  {
   "cell_type": "code",
   "execution_count": null,
   "id": "f2486eb8",
   "metadata": {},
   "outputs": [],
   "source": [
    "def highest_edu(educd):\n",
    "    if educd in [81,82,83]:\n",
    "        return 'Associate'\n",
    "    if educd == 101:\n",
    "        return 'Bachelor'\n",
    "    if educd in [114,115]:\n",
    "        return 'Master'\n",
    "    if educd in [116]:\n",
    "        return 'PhD'\n",
    "    if educd < 62 or educd==999:\n",
    "        return 'None/Below HS'\n",
    "    if educd < 114:\n",
    "        return 'High School'\n",
    "    \n",
    "df['EDU_verbose'] = df['EDUCD'].map(highest_edu)\n",
    "df[['EDU_verbose','EDUCD']].tail()"
   ]
  },
  {
   "cell_type": "code",
   "execution_count": null,
   "id": "1c3cdda9",
   "metadata": {},
   "outputs": [],
   "source": [
    "pd.crosstab(\n",
    "    df['under_represented'],\n",
    "    df['EDU_verbose'],\n",
    "    normalize='index'\n",
    ").plot.bar(\n",
    "    title='Distribution of Underrepresented persons by degree attainment'\n",
    ")"
   ]
  },
  {
   "cell_type": "markdown",
   "id": "6512e4d3",
   "metadata": {},
   "source": [
    "major takeaways here include the fact that under-represented persons tend to drop out of high school at a far greater rate while earning fewer high school diplomas, master's degrees, associate's degrees, and bachelor's degrees."
   ]
  },
  {
   "cell_type": "markdown",
   "id": "ffe5a411",
   "metadata": {},
   "source": [
    "### Employment & Education, EDA"
   ]
  },
  {
   "cell_type": "markdown",
   "id": "dd7c7476",
   "metadata": {},
   "source": [
    "we first observe the difference in employment status across represented and underepresented groups and find that most of the populartion is employed in both groups, but under-represented communities tend to be more unemployed."
   ]
  },
  {
   "cell_type": "code",
   "execution_count": null,
   "id": "0e83e86e",
   "metadata": {},
   "outputs": [],
   "source": [
    "pd.crosstab(\n",
    "    df['under_represented'],\n",
    "    df['EMPSTAT'],\n",
    "    normalize='index'\n",
    ").plot.bar(\n",
    "    title='Distribution of Underrepresented persons by employment status'\n",
    ")\n",
    "plt.legend(['Employed','Unemployed','not in labor force'])"
   ]
  },
  {
   "cell_type": "markdown",
   "id": "b509b51a",
   "metadata": {},
   "source": [
    "#### Analyzing STEM Education in Particular\n",
    "In order to identify if a degree belong to a stem field, we have two tiers of analysis - one at the `DEGFIELD` level, which shows us a high-level description of the degree in question. If we do not confirm at this level that a field of study is STEM, we move into the `DEGFIELDD` field, which offers more specific information on the degree.\n",
    "\n",
    "**for this section, we have developed a separate library containing logic that separates both DEGFIELD and DEGFIELDD codes into stem designation.**"
   ]
  },
  {
   "cell_type": "code",
   "execution_count": null,
   "id": "4e9dae27",
   "metadata": {},
   "outputs": [],
   "source": [
    "df['is_STEM'] = df.apply(lambda x: dc.is_stem_degree(x.DEGFIELD,x.DEGFIELDD),axis=1)"
   ]
  },
  {
   "cell_type": "code",
   "execution_count": null,
   "id": "e1b9d500",
   "metadata": {},
   "outputs": [],
   "source": [
    "df[['DEGFIELD','DEGFIELDD','is_STEM']].head()"
   ]
  },
  {
   "cell_type": "markdown",
   "id": "1c19eec1",
   "metadata": {},
   "source": [
    "#### STEM Degree Attainment by Target Variable\n",
    "A cursory analysis suggests that underrepresented individuals in STEM majors tend to have a significantly lower presence than in non-STEM fields."
   ]
  },
  {
   "cell_type": "code",
   "execution_count": null,
   "id": "d726769c",
   "metadata": {},
   "outputs": [],
   "source": [
    "pd.crosstab(\n",
    "    df['is_STEM'],\n",
    "    df['under_represented'],\n",
    "    normalize='index'\n",
    ").plot.bar(\n",
    "    title='Distribution of Underrepresented persons by STEM attainment'\n",
    ")"
   ]
  },
  {
   "cell_type": "markdown",
   "id": "36c71c41",
   "metadata": {},
   "source": [
    "#### Which STEM majors have the smallest under-represented group?"
   ]
  },
  {
   "cell_type": "markdown",
   "id": "27641173",
   "metadata": {},
   "source": [
    "Preliminary findings suggest that under-represented groups are least present in military technologies, Environmental Sciences, Math, and Physical Sciences."
   ]
  },
  {
   "cell_type": "code",
   "execution_count": null,
   "id": "d51ebba5",
   "metadata": {},
   "outputs": [],
   "source": [
    "df['Degree'] = df['DEGFIELD'].apply(lambda x: dc.degree_codes[x])\n",
    "df['Degree_D']=df['DEGFIELDD'].apply(lambda x: dc.detail_codes[x])\n",
    "temp = df.query(\"is_STEM==1\")\n",
    "\n",
    "pd.crosstab(\n",
    "    temp['Degree'],\n",
    "    temp['under_represented'],\n",
    "    normalize='index'\n",
    ").sort_values(1).plot.barh(\n",
    "    title='Concentration of Underrepresented persons by STEM Area'\n",
    ")\n",
    "plt.legend(['Represented','Under-Represented'])\n",
    "\n",
    "pd.crosstab(\n",
    "    temp['Degree_D'],\n",
    "    temp['under_represented'],\n",
    "    normalize='index'\n",
    ").sort_values(0)[:20].plot.bar(\n",
    "    title='Concentration of Underrepresented persons by STEM Degree, Top 20'\n",
    ")\n",
    "plt.legend(['Represented','Under-Represented'])\n",
    "del temp"
   ]
  },
  {
   "cell_type": "markdown",
   "id": "0ab344a5",
   "metadata": {},
   "source": [
    "However, we also note considerably racial parity in Computer Engineering, Electrical Engineering Technology and Computer Engineering - beyond these, in sorter order, racial parity begins to decrease quickly."
   ]
  },
  {
   "cell_type": "markdown",
   "id": "636dbb58",
   "metadata": {},
   "source": [
    "### Analyzing Career Attainment by Race, EDA"
   ]
  },
  {
   "cell_type": "markdown",
   "id": "a594ba2f",
   "metadata": {},
   "source": [
    "we begin by loading in a mapping from the IPUMS Census Occupation Codes data to give us a better interpretation of the `OCC` field in our dataset, which can be found <a href='https://usa.ipums.org/usa/volii/occ2018.shtml'>here</a>."
   ]
  },
  {
   "cell_type": "code",
   "execution_count": null,
   "id": "af4f0250",
   "metadata": {},
   "outputs": [],
   "source": [
    "import re\n",
    "occupations = pd.read_csv('occupation_map.csv')\n",
    "\n",
    "#standardize to lowercase\n",
    "def stdize(occ):\n",
    "    out = occ.lower()\n",
    "    out = re.sub(\"[^a-z\\s]\",\"\",out)\n",
    "    return out \n",
    "occupations['Occupation'] = occupations['Occupation'].map(stdize)\n",
    "\n",
    "occupations = dict(zip(occupations.OCC, occupations.Occupation))\n",
    "#get a sample \n",
    "list(occupations.values())[:5]"
   ]
  },
  {
   "cell_type": "markdown",
   "id": "742b79da",
   "metadata": {},
   "source": [
    "Next, we can use an apply function to determine everyone's occupation:"
   ]
  },
  {
   "cell_type": "code",
   "execution_count": null,
   "id": "d2cc6d25",
   "metadata": {},
   "outputs": [],
   "source": [
    "pd.set_option('display.max_colwidth', None)  \n",
    "df['JobRole'] = df['OCC'].apply(lambda x: occupations[x])\n",
    "df[['OCC','JobRole']].head()"
   ]
  },
  {
   "cell_type": "markdown",
   "id": "7333a597",
   "metadata": {},
   "source": [
    "#### What Roles do STEM majors tend to go into? \n",
    "We omit any indivudals with an `EmpStatus` that isn't 1 to get a clearer insight on employed STEM individuals."
   ]
  },
  {
   "cell_type": "code",
   "execution_count": null,
   "id": "72902cd3",
   "metadata": {
    "scrolled": true
   },
   "outputs": [],
   "source": [
    "temp = df.query(\"is_STEM==1 & EMPSTAT==1\")\n",
    "(temp['JobRole'].value_counts(normalize=True).sort_values(\n",
    "    ascending=False\n",
    ")[0:20]).plot(kind='bar',title='Top 20 Occupations for STEM majors')"
   ]
  },
  {
   "cell_type": "markdown",
   "id": "275e52b3",
   "metadata": {},
   "source": [
    "#### What roles do under-represented STEM majors go into compared to their counterparts?"
   ]
  },
  {
   "cell_type": "code",
   "execution_count": null,
   "id": "854f9e19",
   "metadata": {},
   "outputs": [],
   "source": [
    "df.query(\"is_STEM==1 & EMPSTAT==1 & under_represented==1\")['JobRole']\\\n",
    " .value_counts(normalize=True).sort_values(\n",
    "    ascending=False\n",
    ")[0:20]\\\n",
    ".plot(kind='barh',title='Top 20 Occupations for under-represented STEM majors')\n",
    "plt.show()\n",
    "\n",
    "df.query(\"is_STEM==1 & EMPSTAT==1 & under_represented==0\")['JobRole']\\\n",
    " .value_counts(normalize=True).sort_values(\n",
    "    ascending=False\n",
    ")[0:20]\\\n",
    ".plot(kind='barh',title='Top 20 Occupations for represented STEM majors')\n",
    "plt.show()"
   ]
  },
  {
   "cell_type": "markdown",
   "id": "25b60506",
   "metadata": {},
   "source": [
    "We can see that many STEM majors tend to go into nursing, leadership roles, but primarily into analyst and engineering roles, which lines up with expectations. Next, we can explore this breakdown by racial representation:"
   ]
  },
  {
   "cell_type": "code",
   "execution_count": null,
   "id": "1bb91ea5",
   "metadata": {},
   "outputs": [],
   "source": [
    "job_by_rep = pd.crosstab(\n",
    "    temp['JobRole']\n",
    "    ,temp['under_represented']\n",
    ")\n",
    "\n",
    "#add another column for total employment and sort to get top 20 roles\n",
    "job_by_rep[2] = job_by_rep[0]+job_by_rep[1]\n",
    "job_by_rep[0] = job_by_rep[0] / job_by_rep[2]\n",
    "job_by_rep[1] = 1 - job_by_rep[0]\n",
    "job_by_rep    = job_by_rep.sort_values(2,ascending=False)[:20]\n",
    "#get rid of total field to make chart clearer.\n",
    "job_by_rep    = job_by_rep.drop(2,axis=1)\n",
    "ax=job_by_rep.plot.barh(\n",
    "    title=f'Share of Underrepresented persons by Post-Stem Occupation,\\n Top {len(job_by_rep)} Occupations by Volume'\n",
    ")"
   ]
  },
  {
   "cell_type": "markdown",
   "id": "d1ccb05a",
   "metadata": {},
   "source": [
    "### Defining STEM Occupations"
   ]
  },
  {
   "cell_type": "markdown",
   "id": "3df99e03",
   "metadata": {},
   "source": [
    "We can do this by ingesting a list of STEM occupations from our previous occupation list from <a href=\"https://www.onetonline.org/find/stem?t=0\">O-Net</a> data and using a simple mapping function after we standardize the occupation names."
   ]
  },
  {
   "cell_type": "code",
   "execution_count": null,
   "id": "8444a5af",
   "metadata": {},
   "outputs": [],
   "source": [
    "stem_occupations = pd.read_csv(\"All_STEM_Occupations.csv\").rename({\"Occupation Types\":\"type\"},axis=1)\n",
    "#standardize to lowercase and remove grammar\n",
    "stem_occupations['Occupation'] = stem_occupations['Occupation'].map(stdize)"
   ]
  },
  {
   "cell_type": "markdown",
   "id": "c4fe9552",
   "metadata": {},
   "source": [
    "Based on stakeholder input, we also conclude that while nurses are listed as a STEM role, we do not consider them for our analysis. We also exclude other peculiarities such as sociologists."
   ]
  },
  {
   "cell_type": "code",
   "execution_count": null,
   "id": "5bbde174",
   "metadata": {},
   "outputs": [],
   "source": [
    "#remove anything containing the word nurs (nursing, nurse)\n",
    "blacklist = [\n",
    "    'nurse'\n",
    "    ,'nursing'\n",
    "    ,'social science'\n",
    "    ,'podiatrists'\n",
    "    ,'veterinarians'\n",
    "    ,'medical and health services managers'\n",
    "    ,'physical therapists'\n",
    "    ,'dental hygienists'\n",
    "    ,'speechlanguage pathologists'\n",
    "    ,'medical records specialists'\n",
    "    ,'architects except landscape and naval'\n",
    "]\n",
    "\n",
    "for term in blacklist:\n",
    "    removed = stem_occupations[\n",
    "        stem_occupations[\"Occupation\"].str.contains(term)==True\n",
    "    ]['Occupation'].unique()\n",
    "    print(f\"deleting the following terms: {list(removed)}\")\n",
    "    stem_occupations = stem_occupations[stem_occupations[\"Occupation\"].str.contains(term)==False]\n"
   ]
  },
  {
   "cell_type": "code",
   "execution_count": null,
   "id": "a74a3a3b",
   "metadata": {},
   "outputs": [],
   "source": [
    "#dictionarize\n",
    "stem_occupations = dict(zip(stem_occupations.Occupation, stem_occupations.type))\n",
    "\n",
    "#create a function that identifies a job's STEM role type\n",
    "def stemType(job):\n",
    "    if job in stem_occupations:\n",
    "        return stem_occupations[job]\n",
    "    return -1\n",
    "\n",
    "df['stemType'] = df['JobRole'].map(stemType)\n",
    "df[['stemType','JobRole']].head()"
   ]
  },
  {
   "cell_type": "markdown",
   "id": "9c927329",
   "metadata": {},
   "source": [
    "#### What Portion of people work in a STEM field?"
   ]
  },
  {
   "cell_type": "markdown",
   "id": "35095163",
   "metadata": {},
   "source": [
    "Under-represented groups tend to be slightly less employed in STEM fields, with similar patterns of employment in STEM fields to their counterparts, with R&D, Design, and Practicioner fields taking the bulk of employment."
   ]
  },
  {
   "cell_type": "code",
   "execution_count": null,
   "id": "f9bf7d91",
   "metadata": {
    "scrolled": true
   },
   "outputs": [],
   "source": [
    "df.groupby('under_represented')['stemType'].value_counts(normalize=True)"
   ]
  },
  {
   "cell_type": "markdown",
   "id": "2bb95773",
   "metadata": {},
   "source": [
    "this can better be understood by removing absent STEM-types from the chart:"
   ]
  },
  {
   "cell_type": "code",
   "execution_count": null,
   "id": "c9cb5f4d",
   "metadata": {
    "scrolled": true
   },
   "outputs": [],
   "source": [
    "df[df['stemType']!=-1].groupby('under_represented')['stemType'].value_counts(normalize=True)"
   ]
  },
  {
   "cell_type": "markdown",
   "id": "9677b4b1",
   "metadata": {},
   "source": [
    "#### What portion of STEM Employees have a post-secondary education?\n",
    "Results show a slightly larger number of STEM employees with no college education for under-represented groups."
   ]
  },
  {
   "cell_type": "code",
   "execution_count": null,
   "id": "e17ba7de",
   "metadata": {
    "scrolled": false
   },
   "outputs": [],
   "source": [
    "stem_employees = df[df['stemType']!=-1]\n",
    "stem_employees['past_HS'] = stem_employees['EDUC'] >= 7\n",
    "\n",
    "pd.crosstab(\n",
    "    stem_employees['under_represented'],\n",
    "    stem_employees['past_HS'],\n",
    "    normalize='index'\n",
    ").plot(kind='bar',title='Portion of STEM employees with College Experience by Demographic')\n",
    "plt.legend(['No College Experience','College Experience'])"
   ]
  },
  {
   "cell_type": "markdown",
   "id": "7649def1",
   "metadata": {},
   "source": [
    "#### How do rates of college non-completion affect wages in a given profession?"
   ]
  },
  {
   "cell_type": "code",
   "execution_count": null,
   "id": "471a8d07",
   "metadata": {},
   "outputs": [],
   "source": [
    "wage_hs = stem_employees.groupby('JobRole')[['INCWAGE','past_HS']].mean()\n",
    "plt.scatter(x=wage_hs['past_HS'],y=wage_hs['INCWAGE'])\n",
    "plt.title(\"STEM Employee College Experience vs Wages\")\n",
    "plt.xlabel(\"% of Employees with College Experience in Industry\")\n",
    "plt.ylabel(\"Average Salary for Industry\")\n",
    "plt.show()"
   ]
  },
  {
   "cell_type": "markdown",
   "id": "de286c5a",
   "metadata": {},
   "source": [
    "#### Breaking Down STEM Role Areas By Demographic"
   ]
  },
  {
   "cell_type": "markdown",
   "id": "c267c5b6",
   "metadata": {},
   "source": [
    "First, we examine what portion of each group is employed in STEM in general, then for individuals who hold a STEM degree. Analysis of the general population shows that across the board, under-represented individuals tend to be employed less frequently in STEM roles than in non-STEM roles."
   ]
  },
  {
   "cell_type": "code",
   "execution_count": null,
   "id": "690052a6",
   "metadata": {},
   "outputs": [],
   "source": [
    "pd.crosstab(\n",
    "    df['stemType'],\n",
    "    df['under_represented'],\n",
    "    normalize='index'\n",
    ").sort_values(0).plot.bar(\n",
    "    title='Concentration of Underrepresented persons by STEM Jobs'\n",
    ")"
   ]
  },
  {
   "cell_type": "markdown",
   "id": "a7a45f3c",
   "metadata": {},
   "source": [
    "#### What STEM roles do under-represented STEM graduates take on?"
   ]
  },
  {
   "cell_type": "code",
   "execution_count": null,
   "id": "b35edfbf",
   "metadata": {
    "scrolled": true
   },
   "outputs": [],
   "source": [
    "df[df['stemType']!=-1].query(\"is_STEM==1 & under_represented==1\")['stemType'].value_counts(normalize=True).plot(kind='bar',title='Concentration of Underrepresented STEM Graduates by STEM Job Areas')"
   ]
  },
  {
   "cell_type": "code",
   "execution_count": null,
   "id": "04c767de",
   "metadata": {},
   "outputs": [],
   "source": [
    "df[df['stemType']!=-1].query(\"is_STEM==1 & under_represented==1\")['JobRole'].value_counts(normalize=True)[0:10].plot(kind='bar',title='Concentration of Underrepresented STEM Graduates by STEM Jobs, Top 10')"
   ]
  },
  {
   "cell_type": "markdown",
   "id": "990c1676",
   "metadata": {},
   "source": [
    "STEM Graduates primarily tend to take on nursing and software developer roles - RNs, software evelopers, medical managers, computer occupations, and computer programs - which can all roughly be categorized as either medical or software development roles. "
   ]
  },
  {
   "cell_type": "markdown",
   "id": "b85cf263",
   "metadata": {},
   "source": [
    "#### Salary Analysis - How Much Do Stem Employees Earn?"
   ]
  },
  {
   "cell_type": "code",
   "execution_count": null,
   "id": "889533b2",
   "metadata": {},
   "outputs": [],
   "source": [
    "df.groupby('stemType')['INCWAGE'].median().plot(kind='bar',title='Median Wage by STEM Job Type')"
   ]
  },
  {
   "cell_type": "code",
   "execution_count": null,
   "id": "13b5307c",
   "metadata": {},
   "outputs": [],
   "source": [
    "df[df['stemType']!=-1].groupby(['under_represented','stemType'])['INCWAGE'].median()"
   ]
  },
  {
   "cell_type": "markdown",
   "id": "7c44c1de",
   "metadata": {},
   "source": [
    "Underrepresented employees make considerably less in managerial and R&D/Practicioner roles than their counterparts. We can also extend this analysis to specific jobs, looking at the top 20 fields:"
   ]
  },
  {
   "cell_type": "code",
   "execution_count": null,
   "id": "b3c7c544",
   "metadata": {},
   "outputs": [],
   "source": [
    "#get top 20 fields by volume of employees\n",
    "top_twenty_fields = df[df['stemType']!=-1]['JobRole'].value_counts().sort_values(ascending=False)[:20]\n",
    "top_twenty_fields = list(top_twenty_fields.index)\n",
    "top_twenty_fields[:5]"
   ]
  },
  {
   "cell_type": "code",
   "execution_count": null,
   "id": "422862c6",
   "metadata": {},
   "outputs": [],
   "source": [
    "top_twenty_workers = df[df['stemType']!=-1]\\\n",
    "    .query(f\"JobRole in {top_twenty_fields}\")"
   ]
  },
  {
   "cell_type": "code",
   "execution_count": null,
   "id": "42ab3772",
   "metadata": {},
   "outputs": [],
   "source": [
    "pd.crosstab(\n",
    "    top_twenty_workers['JobRole'],\n",
    "    top_twenty_workers['under_represented'],\n",
    "    values=top_twenty_workers['INCWAGE'],\n",
    "    aggfunc = 'median'\n",
    ").sort_values(0,ascending=False).plot(\n",
    "    kind='bar',\n",
    "    title='Median Wage by STEM Role and Representation, Top 20 Fields'\n",
    ")"
   ]
  },
  {
   "cell_type": "markdown",
   "id": "cb16234d",
   "metadata": {},
   "source": [
    "#### In Total, What Portion of STEM Employees do not have a STEM Background?"
   ]
  },
  {
   "cell_type": "code",
   "execution_count": null,
   "id": "dfd0bf99",
   "metadata": {},
   "outputs": [],
   "source": [
    "df[df['stemType']!=-1]['is_STEM'].value_counts(normalize=True)"
   ]
  },
  {
   "cell_type": "code",
   "execution_count": null,
   "id": "e6b7a3c4",
   "metadata": {},
   "outputs": [],
   "source": [
    "df[df['stemType']!=-1].groupby('under_represented')['is_STEM'].value_counts(normalize=True)"
   ]
  },
  {
   "cell_type": "markdown",
   "id": "9ef3c4d5",
   "metadata": {},
   "source": [
    "In total, more than half of individuals working in a STEM field did not get a STEM education in both represented and unde-represented groups. We can also look at the top fields for this trend:"
   ]
  },
  {
   "cell_type": "code",
   "execution_count": null,
   "id": "f28d1502",
   "metadata": {},
   "outputs": [],
   "source": [
    "df_temp = df[df['stemType']!=-1]\n",
    "temp_cross = pd.crosstab(\n",
    "    df_temp['JobRole'],\n",
    "    df_temp['is_STEM'],\n",
    ")\n",
    "temp_cross['n'] = temp_cross[0]+temp_cross[1]\n",
    "temp_cross.sort_values(by='n',ascending=False)[:20]\n",
    "#.plot(\n",
    "#     kind='bar',\n",
    "#     title='Median Wage by STEM Role and Representation, Top 20 Fields'\n",
    "# )\n",
    "# del df_temp"
   ]
  },
  {
   "cell_type": "code",
   "execution_count": null,
   "id": "a1e68ff7",
   "metadata": {},
   "outputs": [],
   "source": [
    "df[(df['JobRole'] == 'podiatrists') & (df['under_represented']==0)]"
   ]
  },
  {
   "cell_type": "code",
   "execution_count": null,
   "id": "8016600d",
   "metadata": {},
   "outputs": [],
   "source": []
  }
 ],
 "metadata": {
  "kernelspec": {
   "display_name": "Python 3 (ipykernel)",
   "language": "python",
   "name": "python3"
  },
  "language_info": {
   "codemirror_mode": {
    "name": "ipython",
    "version": 3
   },
   "file_extension": ".py",
   "mimetype": "text/x-python",
   "name": "python",
   "nbconvert_exporter": "python",
   "pygments_lexer": "ipython3",
   "version": "3.8.2"
  }
 },
 "nbformat": 4,
 "nbformat_minor": 5
}
