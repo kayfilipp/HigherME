{
 "cells": [
  {
   "cell_type": "code",
   "execution_count": 1,
   "id": "000250b4",
   "metadata": {},
   "outputs": [],
   "source": [
    "import pandas as pd \n",
    "import numpy as np\n",
    "import degree_codes as dc\n",
    "import matplotlib.pyplot as plt\n",
    "plt.style.use('seaborn-dark-palette')\n",
    "import warnings\n",
    "warnings.filterwarnings(\"ignore\")\n",
    "from sklearn.model_selection import train_test_split, GridSearchCV\n",
    "from imblearn.combine import SMOTETomek\n",
    "from sklearn.neural_network import MLPClassifier\n",
    "import seaborn as sns\n",
    "from sklearn.linear_model import LogisticRegression\n",
    "from dmba import classificationSummary, gainsChart\n",
    "from sklearn.metrics import roc_curve, auc\n",
    "from sklearn.metrics import precision_score\n",
    "from sklearn.metrics import recall_score\n",
    "from sklearn.metrics import f1_score\n",
    "from sklearn.metrics import roc_auc_score\n",
    "from sklearn.ensemble import RandomForestClassifier\n",
    "from sklearn.metrics import accuracy_score\n",
    "from sklearn.model_selection import RandomizedSearchCV\n",
    "import pprint\n",
    "from sklearn.svm import SVC  "
   ]
  },
  {
   "cell_type": "code",
   "execution_count": 153,
   "id": "59751226",
   "metadata": {},
   "outputs": [
    {
     "data": {
      "text/html": [
       "<div>\n",
       "<style scoped>\n",
       "    .dataframe tbody tr th:only-of-type {\n",
       "        vertical-align: middle;\n",
       "    }\n",
       "\n",
       "    .dataframe tbody tr th {\n",
       "        vertical-align: top;\n",
       "    }\n",
       "\n",
       "    .dataframe thead th {\n",
       "        text-align: right;\n",
       "    }\n",
       "</style>\n",
       "<table border=\"1\" class=\"dataframe\">\n",
       "  <thead>\n",
       "    <tr style=\"text-align: right;\">\n",
       "      <th></th>\n",
       "      <th>YEAR</th>\n",
       "      <th>MULTYEAR</th>\n",
       "      <th>SAMPLE</th>\n",
       "      <th>SERIAL</th>\n",
       "      <th>CBSERIAL</th>\n",
       "      <th>HHWT</th>\n",
       "      <th>CLUSTER</th>\n",
       "      <th>STATEFIP</th>\n",
       "      <th>STRATA</th>\n",
       "      <th>GQ</th>\n",
       "      <th>...</th>\n",
       "      <th>INCWAGE</th>\n",
       "      <th>State</th>\n",
       "      <th>under_represented</th>\n",
       "      <th>domestic_born</th>\n",
       "      <th>EDU_verbose</th>\n",
       "      <th>is_STEM_degree</th>\n",
       "      <th>Degree</th>\n",
       "      <th>Degree_D</th>\n",
       "      <th>JobRole</th>\n",
       "      <th>stemType</th>\n",
       "    </tr>\n",
       "  </thead>\n",
       "  <tbody>\n",
       "    <tr>\n",
       "      <th>0</th>\n",
       "      <td>2020</td>\n",
       "      <td>2016</td>\n",
       "      <td>202003</td>\n",
       "      <td>6676264</td>\n",
       "      <td>2016000978820</td>\n",
       "      <td>5.15</td>\n",
       "      <td>2020066762643</td>\n",
       "      <td>55</td>\n",
       "      <td>10055</td>\n",
       "      <td>1</td>\n",
       "      <td>...</td>\n",
       "      <td>51776</td>\n",
       "      <td>Wisconsin</td>\n",
       "      <td>0</td>\n",
       "      <td>1</td>\n",
       "      <td>High School</td>\n",
       "      <td>0</td>\n",
       "      <td>NaN</td>\n",
       "      <td>NaN</td>\n",
       "      <td>couriers and messengers</td>\n",
       "      <td>-1</td>\n",
       "    </tr>\n",
       "    <tr>\n",
       "      <th>1</th>\n",
       "      <td>2020</td>\n",
       "      <td>2016</td>\n",
       "      <td>202003</td>\n",
       "      <td>4027595</td>\n",
       "      <td>2016000661290</td>\n",
       "      <td>17.51</td>\n",
       "      <td>2020040275953</td>\n",
       "      <td>36</td>\n",
       "      <td>60036</td>\n",
       "      <td>1</td>\n",
       "      <td>...</td>\n",
       "      <td>21573</td>\n",
       "      <td>New York</td>\n",
       "      <td>0</td>\n",
       "      <td>1</td>\n",
       "      <td>High School</td>\n",
       "      <td>0</td>\n",
       "      <td>NaN</td>\n",
       "      <td>NaN</td>\n",
       "      <td>miscellaneous production workers including equ...</td>\n",
       "      <td>-1</td>\n",
       "    </tr>\n",
       "    <tr>\n",
       "      <th>2</th>\n",
       "      <td>2020</td>\n",
       "      <td>2017</td>\n",
       "      <td>202003</td>\n",
       "      <td>5156019</td>\n",
       "      <td>2017000181278</td>\n",
       "      <td>6.18</td>\n",
       "      <td>2020051560193</td>\n",
       "      <td>42</td>\n",
       "      <td>370142</td>\n",
       "      <td>1</td>\n",
       "      <td>...</td>\n",
       "      <td>0</td>\n",
       "      <td>Pennsylvania</td>\n",
       "      <td>0</td>\n",
       "      <td>0</td>\n",
       "      <td>Bachelor</td>\n",
       "      <td>0</td>\n",
       "      <td>Criminal Justice and Fire Protection</td>\n",
       "      <td>Criminal Justice and Fire Protection</td>\n",
       "      <td>elementary and middle school teachers</td>\n",
       "      <td>-1</td>\n",
       "    </tr>\n",
       "  </tbody>\n",
       "</table>\n",
       "<p>3 rows × 38 columns</p>\n",
       "</div>"
      ],
      "text/plain": [
       "   YEAR  MULTYEAR  SAMPLE   SERIAL       CBSERIAL   HHWT        CLUSTER  \\\n",
       "0  2020      2016  202003  6676264  2016000978820   5.15  2020066762643   \n",
       "1  2020      2016  202003  4027595  2016000661290  17.51  2020040275953   \n",
       "2  2020      2017  202003  5156019  2017000181278   6.18  2020051560193   \n",
       "\n",
       "   STATEFIP  STRATA  GQ  ...  INCWAGE         State  under_represented  \\\n",
       "0        55   10055   1  ...    51776     Wisconsin                  0   \n",
       "1        36   60036   1  ...    21573      New York                  0   \n",
       "2        42  370142   1  ...        0  Pennsylvania                  0   \n",
       "\n",
       "   domestic_born  EDU_verbose  is_STEM_degree  \\\n",
       "0              1  High School               0   \n",
       "1              1  High School               0   \n",
       "2              0     Bachelor               0   \n",
       "\n",
       "                                 Degree                              Degree_D  \\\n",
       "0                                   NaN                                   NaN   \n",
       "1                                   NaN                                   NaN   \n",
       "2  Criminal Justice and Fire Protection  Criminal Justice and Fire Protection   \n",
       "\n",
       "                                             JobRole  stemType  \n",
       "0                            couriers and messengers        -1  \n",
       "1  miscellaneous production workers including equ...        -1  \n",
       "2              elementary and middle school teachers        -1  \n",
       "\n",
       "[3 rows x 38 columns]"
      ]
     },
     "execution_count": 153,
     "metadata": {},
     "output_type": "execute_result"
    }
   ],
   "source": [
    "df=pd.read_csv('main_df.csv')\n",
    "df.head(3)"
   ]
  },
  {
   "cell_type": "code",
   "execution_count": 154,
   "id": "19b248ec",
   "metadata": {},
   "outputs": [],
   "source": [
    "#selecting the feautures for modeling\n",
    "df_model=df[[\n",
    "    'SEX'\n",
    "    #,'RACE'\n",
    "    ,'AGE'\n",
    "    ,'domestic_born'\n",
    "    ,'EDU_verbose'\n",
    "    ,'is_STEM_degree'\n",
    "    ,'under_represented'\n",
    "    ,'stemType'\n",
    "]]\n",
    "del df"
   ]
  },
  {
   "cell_type": "code",
   "execution_count": 4,
   "id": "ef07b352",
   "metadata": {},
   "outputs": [
    {
     "data": {
      "text/plain": [
       "-1                                                                                 189173\n",
       "Research, Development, Design, and Practitioners                                     4052\n",
       "Managerial                                                                            768\n",
       "Research, Development, Design, and Practitioners; Technologists and Technicians       612\n",
       "Technologists and Technicians                                                         355\n",
       "Sales                                                                                  39\n",
       "Name: stemType, dtype: int64"
      ]
     },
     "execution_count": 4,
     "metadata": {},
     "output_type": "execute_result"
    }
   ],
   "source": [
    "df_model['stemType'].value_counts()"
   ]
  },
  {
   "cell_type": "markdown",
   "id": "ff9ec7e7",
   "metadata": {},
   "source": [
    "In order to run any sort of modeling on stemType, our target variable, we have to binarize it by employing a lambda function. At this point, stemType indicates whether an individual works in STEM, rather than which STEM field they're employed in :"
   ]
  },
  {
   "cell_type": "code",
   "execution_count": 156,
   "id": "902a7131",
   "metadata": {},
   "outputs": [
    {
     "data": {
      "text/plain": [
       "0    0\n",
       "1    0\n",
       "2    0\n",
       "Name: stemType, dtype: int64"
      ]
     },
     "execution_count": 156,
     "metadata": {},
     "output_type": "execute_result"
    }
   ],
   "source": [
    "def binarize_stem(x):\n",
    "    if x == '-1':\n",
    "        return 0\n",
    "    return 1\n",
    "\n",
    "#binarize STEM\n",
    "df_model['stemType'] = df_model['stemType'].map(binarize_stem)\n",
    "\n",
    "df_model['stemType'].head(3)"
   ]
  },
  {
   "cell_type": "markdown",
   "id": "fc0cbc58",
   "metadata": {},
   "source": [
    "In order to deploy our ML model online, we need to save a version of our full dataset that enables the user to define the value for each feature before we do encoding for EDU_verbose."
   ]
  },
  {
   "cell_type": "code",
   "execution_count": 183,
   "id": "d7e958c9",
   "metadata": {},
   "outputs": [],
   "source": [
    "df_model.to_csv('streamlit/data.csv',index=None)"
   ]
  },
  {
   "cell_type": "markdown",
   "id": "a2488c85",
   "metadata": {},
   "source": [
    "Given that there's several different levels of education, we would benefit from using dummy variables in our modeling for them:"
   ]
  },
  {
   "cell_type": "code",
   "execution_count": 6,
   "id": "2c43da3b",
   "metadata": {},
   "outputs": [],
   "source": [
    "#a = pd.get_dummies(df_model['RACE'], prefix = \"RACE\")# get dummy variables for Race\n",
    "b = pd.get_dummies(df_model['EDU_verbose'],prefix='EDU_verbose')#get dummy variables for Education\n",
    "\n",
    "frames = [\n",
    "    df_model\n",
    "    #, a\n",
    "    , b] # append them as a list\n",
    "df_model = pd.concat(frames, axis = 1)\n",
    "df_model=df_model.drop(columns = [\n",
    "    'EDU_verbose'\n",
    "    #, 'RACE'\n",
    "]) "
   ]
  },
  {
   "cell_type": "markdown",
   "id": "fd9048d0",
   "metadata": {},
   "source": [
    "Finally, to keep scale consistent, we would want to normalize the AGE variable to avoid giving it more weight. We can do this by subtracting the mean and dividing by the standard devation:"
   ]
  },
  {
   "cell_type": "code",
   "execution_count": 12,
   "id": "01632c5b",
   "metadata": {},
   "outputs": [
    {
     "name": "stdout",
     "output_type": "stream",
     "text": [
      "Age Std. Dev:18.939649284403245\n",
      "Mean Age:50.02754885922492\n"
     ]
    }
   ],
   "source": [
    "print(f\"Age Std. Dev:{df_model['AGE'].std()}\")\n",
    "print(f\"Mean Age:{df_model['AGE'].mean()}\")"
   ]
  },
  {
   "cell_type": "code",
   "execution_count": 13,
   "id": "63a6b975",
   "metadata": {},
   "outputs": [
    {
     "data": {
      "text/plain": [
       "0    0.156943\n",
       "1    0.315341\n",
       "2   -0.793444\n",
       "Name: AGE, dtype: float64"
      ]
     },
     "execution_count": 13,
     "metadata": {},
     "output_type": "execute_result"
    }
   ],
   "source": [
    "df_model['AGE'] = (df_model['AGE']-df_model['AGE'].mean())/df_model['AGE'].std()\n",
    "df_model['AGE'].head(3)"
   ]
  },
  {
   "cell_type": "code",
   "execution_count": 14,
   "id": "386d1eee",
   "metadata": {},
   "outputs": [
    {
     "data": {
      "text/plain": [
       "0    189173\n",
       "1      5826\n",
       "Name: stemType, dtype: int64"
      ]
     },
     "execution_count": 14,
     "metadata": {},
     "output_type": "execute_result"
    }
   ],
   "source": [
    "y=df_model['stemType']\n",
    "y.value_counts()"
   ]
  },
  {
   "cell_type": "markdown",
   "id": "249e2944",
   "metadata": {},
   "source": [
    "### Check for class imbalance "
   ]
  },
  {
   "cell_type": "code",
   "execution_count": 15,
   "id": "09766e2e",
   "metadata": {},
   "outputs": [
    {
     "name": "stdout",
     "output_type": "stream",
     "text": [
      "Percent of 0s: 97.01\n",
      "\n",
      "Percent of 1s: 2.99\n"
     ]
    },
    {
     "data": {
      "image/png": "[encoded data removed]",
      "text/plain": [
       "<Figure size 432x288 with 1 Axes>"
      ]
     },
     "metadata": {
      "needs_background": "light"
     },
     "output_type": "display_data"
    }
   ],
   "source": [
    "data = pd.DataFrame(df_model['stemType'])\n",
    "percentage1 = round((data.stemType.sum() / data.shape[0]) * 100, 2) \n",
    "percentage0 = round(100 - percentage1, 2)\n",
    "print('Percent of 0s:', percentage0)\n",
    "print('\\nPercent of 1s:', percentage1)\n",
    "t=df_model['stemType'].value_counts().values\n",
    "sns.barplot([0,1],t)\n",
    "plt.title('Target variable count')\n",
    "plt.show()"
   ]
  },
  {
   "cell_type": "code",
   "execution_count": 16,
   "id": "6d98f280",
   "metadata": {},
   "outputs": [],
   "source": [
    "X = df_model.drop(columns=['stemType'])\n",
    "y = df_model['stemType']\n",
    "train_X, rem_X, train_y, rem_y = train_test_split(X, y, train_size=0.6, random_state=42, stratify = y)\n",
    "valid_X, test_X, valid_y, test_y = train_test_split(rem_X, rem_y, train_size=0.5, random_state=42, stratify = rem_y) "
   ]
  },
  {
   "cell_type": "code",
   "execution_count": 17,
   "id": "b581ad37",
   "metadata": {},
   "outputs": [
    {
     "name": "stdout",
     "output_type": "stream",
     "text": [
      "Training Set:\n",
      " 0    113503\n",
      "1      3496\n",
      "Name: stemType, dtype: int64 \n",
      " 0    0.970119\n",
      "1    0.029881\n",
      "Name: stemType, dtype: float64\n",
      "\n",
      "Validation Set:\n",
      " 0    37835\n",
      "1     1165\n",
      "Name: stemType, dtype: int64 \n",
      " 0    0.970128\n",
      "1    0.029872\n",
      "Name: stemType, dtype: float64\n",
      "\n",
      "Test Set:\n",
      " 0    37835\n",
      "1     1165\n",
      "Name: stemType, dtype: int64 \n",
      " 0    0.970128\n",
      "1    0.029872\n",
      "Name: stemType, dtype: float64\n"
     ]
    }
   ],
   "source": [
    "print('Training Set:\\n', train_y.value_counts(), '\\n', train_y.value_counts(normalize = True))\n",
    "print('\\nValidation Set:\\n', valid_y.value_counts(), '\\n', valid_y.value_counts(normalize = True))\n",
    "print('\\nTest Set:\\n', test_y.value_counts(), '\\n', test_y.value_counts(normalize = True))"
   ]
  },
  {
   "cell_type": "code",
   "execution_count": null,
   "id": "2c89fc7d",
   "metadata": {},
   "outputs": [],
   "source": [
    "try:\n",
    "    train_X_res = pd.read_csv('SMOTE_df.csv')\n",
    "    train_y_res = pd.read_csv('SMOTE_df_target.csv')\n",
    "except:\n",
    "    print(\"using SMOTE to rebalance...\")\n",
    "    # Fixing the class imbalance with tomekLinks and SMOTE\n",
    "    SMOTEtl = SMOTETomek(random_state = 42)\n",
    "\n",
    "    # fit predictor and target variable for training set only\n",
    "    train_X_res, train_y_res = SMOTEtl.fit_resample(train_X, train_y)\n",
    "\n",
    "    print('Original dataset shape:\\n', train_y.value_counts())\n",
    "    print('Resampled dataset shape:\\n', train_y_res.value_counts())\n",
    "\n",
    "    train_X_res.to_csv('SMOTE_df.csv',index=None)\n",
    "    train_y_res.to_csv('SMOTE_df_target.csv',index=None)"
   ]
  },
  {
   "cell_type": "code",
   "execution_count": 21,
   "id": "d5bf190c",
   "metadata": {},
   "outputs": [
    {
     "data": {
      "text/html": [
       "<div>\n",
       "<style scoped>\n",
       "    .dataframe tbody tr th:only-of-type {\n",
       "        vertical-align: middle;\n",
       "    }\n",
       "\n",
       "    .dataframe tbody tr th {\n",
       "        vertical-align: top;\n",
       "    }\n",
       "\n",
       "    .dataframe thead th {\n",
       "        text-align: right;\n",
       "    }\n",
       "</style>\n",
       "<table border=\"1\" class=\"dataframe\">\n",
       "  <thead>\n",
       "    <tr style=\"text-align: right;\">\n",
       "      <th></th>\n",
       "      <th>SEX</th>\n",
       "      <th>AGE</th>\n",
       "      <th>domestic_born</th>\n",
       "      <th>is_STEM_degree</th>\n",
       "      <th>under_represented</th>\n",
       "      <th>EDU_verbose_Associate</th>\n",
       "      <th>EDU_verbose_Bachelor</th>\n",
       "      <th>EDU_verbose_High School</th>\n",
       "      <th>EDU_verbose_Master</th>\n",
       "      <th>EDU_verbose_None/Below HS</th>\n",
       "      <th>EDU_verbose_PhD</th>\n",
       "    </tr>\n",
       "  </thead>\n",
       "  <tbody>\n",
       "    <tr>\n",
       "      <th>0</th>\n",
       "      <td>-1</td>\n",
       "      <td>-0.212652</td>\n",
       "      <td>1</td>\n",
       "      <td>0</td>\n",
       "      <td>1</td>\n",
       "      <td>0</td>\n",
       "      <td>0</td>\n",
       "      <td>0</td>\n",
       "      <td>0</td>\n",
       "      <td>1</td>\n",
       "      <td>0</td>\n",
       "    </tr>\n",
       "    <tr>\n",
       "      <th>1</th>\n",
       "      <td>0</td>\n",
       "      <td>1.318528</td>\n",
       "      <td>0</td>\n",
       "      <td>0</td>\n",
       "      <td>0</td>\n",
       "      <td>0</td>\n",
       "      <td>0</td>\n",
       "      <td>1</td>\n",
       "      <td>0</td>\n",
       "      <td>0</td>\n",
       "      <td>0</td>\n",
       "    </tr>\n",
       "    <tr>\n",
       "      <th>2</th>\n",
       "      <td>-1</td>\n",
       "      <td>0.051345</td>\n",
       "      <td>1</td>\n",
       "      <td>0</td>\n",
       "      <td>0</td>\n",
       "      <td>0</td>\n",
       "      <td>0</td>\n",
       "      <td>1</td>\n",
       "      <td>0</td>\n",
       "      <td>0</td>\n",
       "      <td>0</td>\n",
       "    </tr>\n",
       "    <tr>\n",
       "      <th>3</th>\n",
       "      <td>-1</td>\n",
       "      <td>2.321714</td>\n",
       "      <td>1</td>\n",
       "      <td>0</td>\n",
       "      <td>0</td>\n",
       "      <td>0</td>\n",
       "      <td>0</td>\n",
       "      <td>0</td>\n",
       "      <td>0</td>\n",
       "      <td>0</td>\n",
       "      <td>1</td>\n",
       "    </tr>\n",
       "    <tr>\n",
       "      <th>4</th>\n",
       "      <td>-1</td>\n",
       "      <td>1.846521</td>\n",
       "      <td>1</td>\n",
       "      <td>0</td>\n",
       "      <td>0</td>\n",
       "      <td>0</td>\n",
       "      <td>0</td>\n",
       "      <td>0</td>\n",
       "      <td>0</td>\n",
       "      <td>1</td>\n",
       "      <td>0</td>\n",
       "    </tr>\n",
       "  </tbody>\n",
       "</table>\n",
       "</div>"
      ],
      "text/plain": [
       "   SEX       AGE  domestic_born  is_STEM_degree  under_represented  \\\n",
       "0   -1 -0.212652              1               0                  1   \n",
       "1    0  1.318528              0               0                  0   \n",
       "2   -1  0.051345              1               0                  0   \n",
       "3   -1  2.321714              1               0                  0   \n",
       "4   -1  1.846521              1               0                  0   \n",
       "\n",
       "   EDU_verbose_Associate  EDU_verbose_Bachelor  EDU_verbose_High School  \\\n",
       "0                      0                     0                        0   \n",
       "1                      0                     0                        1   \n",
       "2                      0                     0                        1   \n",
       "3                      0                     0                        0   \n",
       "4                      0                     0                        0   \n",
       "\n",
       "   EDU_verbose_Master  EDU_verbose_None/Below HS  EDU_verbose_PhD  \n",
       "0                   0                          1                0  \n",
       "1                   0                          0                0  \n",
       "2                   0                          0                0  \n",
       "3                   0                          0                1  \n",
       "4                   0                          1                0  "
      ]
     },
     "execution_count": 21,
     "metadata": {},
     "output_type": "execute_result"
    }
   ],
   "source": [
    "train_X_res.head()"
   ]
  },
  {
   "cell_type": "markdown",
   "id": "d6b1dda4",
   "metadata": {},
   "source": [
    "We can also save our SMOTE data to .csv to avoid having to re-run this data during development work for future replications, which is handled in the **except** statement above."
   ]
  },
  {
   "cell_type": "markdown",
   "id": "552bb833",
   "metadata": {},
   "source": [
    "### Helper Function: Confusion Matrix"
   ]
  },
  {
   "cell_type": "code",
   "execution_count": 22,
   "id": "fc2e2e00",
   "metadata": {},
   "outputs": [],
   "source": [
    "def confusionMatrices(model, title):\n",
    "    print(title + ' - training results')\n",
    "    classificationSummary(train_y_res, model.predict(train_X_res))\n",
    "    print(title + ' - validation results')\n",
    "    valid_pred = model.predict(valid_X)\n",
    "    classificationSummary(valid_y, valid_pred)"
   ]
  },
  {
   "cell_type": "markdown",
   "id": "85d78fd4",
   "metadata": {},
   "source": [
    "### Helper Function: Evaluation Metrics"
   ]
  },
  {
   "cell_type": "code",
   "execution_count": 64,
   "id": "a3c9f6a6",
   "metadata": {},
   "outputs": [],
   "source": [
    "def evalMetrics(model,mod_predict,verbose=True):\n",
    "    # precision tp / (tp + fp)\n",
    "    precision = precision_score(test_y, mod_predict)\n",
    "    # recall: tp / (tp + fn)\n",
    "    recall = recall_score(test_y, mod_predict)\n",
    "    \n",
    "    # f1: 2 tp / (2 tp + fp + fn)\n",
    "    f1 = f1_score(test_y, mod_predict)\n",
    "    \n",
    "    # ROC AUC\n",
    "    mp = model.predict_proba(test_X)\n",
    "    mp = mp[:, 1]\n",
    "    auc = roc_auc_score(test_y, mp)\n",
    "    \n",
    "    if verbose:\n",
    "        print('Precision: %f' % precision)\n",
    "        print('Recall: %f' % recall)\n",
    "        print('F1 score: %f' % f1)\n",
    "        print('ROC AUC: %f' % auc)\n",
    "        \n",
    "    return {\n",
    "        \"precision\": precision,\n",
    "        \"recall\": recall,\n",
    "        \"f1\": f1,\n",
    "        \"roc_auc\":auc\n",
    "    }"
   ]
  },
  {
   "cell_type": "markdown",
   "id": "9709b579",
   "metadata": {},
   "source": [
    "### Helper Function: Performance Plotting"
   ]
  },
  {
   "cell_type": "code",
   "execution_count": 146,
   "id": "375ef315",
   "metadata": {},
   "outputs": [],
   "source": [
    "def roc_vs(roc_scores,params,param_name):\n",
    "    # plot\n",
    "    plt.plot(params,roc_scores)\n",
    "    max_roc = max(roc_scores)\n",
    "    max_index = roc_scores.index(max_roc)\n",
    "    \n",
    "    try:\n",
    "        max_param = round(params[max_index],4)\n",
    "    except:\n",
    "        max_param = params[max_index]\n",
    "        \n",
    "    max_roc = round(max_roc,4)\n",
    "    plt.ylabel('roc-auc')\n",
    "    plt.xlabel(param_name)\n",
    "    plt.title(f'roc-auc score vs {param_name}, max roc:{max_roc}, parameter: {max_param}')\n",
    "    plt.show()"
   ]
  },
  {
   "cell_type": "markdown",
   "id": "dbc5494d",
   "metadata": {},
   "source": [
    "### Naive Bayes"
   ]
  },
  {
   "cell_type": "code",
   "execution_count": 24,
   "id": "c9989dbb",
   "metadata": {
    "scrolled": true
   },
   "outputs": [
    {
     "name": "stdout",
     "output_type": "stream",
     "text": [
      "Naive Bayes - training results\n",
      "Confusion Matrix (Accuracy 0.7335)\n",
      "\n",
      "       Prediction\n",
      "Actual     0     1\n",
      "     0 81792 31656\n",
      "     1 28822 84626\n",
      "Naive Bayes - validation results\n",
      "Confusion Matrix (Accuracy 0.7251)\n",
      "\n",
      "       Prediction\n",
      "Actual     0     1\n",
      "     0 27454 10381\n",
      "     1   340   825\n"
     ]
    }
   ],
   "source": [
    "from sklearn.naive_bayes import GaussianNB\n",
    "gnb = GaussianNB()\n",
    "gnb.fit(train_X_res, train_y_res)\n",
    "confusionMatrices(gnb,'Naive Bayes')"
   ]
  },
  {
   "cell_type": "markdown",
   "id": "70b1751e",
   "metadata": {},
   "source": [
    "#### Evaluation and Confusion Matrix:"
   ]
  },
  {
   "cell_type": "code",
   "execution_count": 65,
   "id": "93555f30",
   "metadata": {
    "scrolled": true
   },
   "outputs": [
    {
     "data": {
      "text/plain": [
       "{'precision': 0.0749890877346137,\n",
       " 'recall': 0.7373390557939914,\n",
       " 'f1': 0.13613312202852615,\n",
       " 'roc_auc': 0.8162830360652278}"
      ]
     },
     "execution_count": 65,
     "metadata": {},
     "output_type": "execute_result"
    }
   ],
   "source": [
    "gnb_pred = gnb.predict(test_X)\n",
    "evalMetrics(gnb,gnb_pred,False)"
   ]
  },
  {
   "cell_type": "markdown",
   "id": "91a6cd44",
   "metadata": {},
   "source": [
    "### Logistic Regression - Initial Overview and Tuning"
   ]
  },
  {
   "cell_type": "code",
   "execution_count": 35,
   "id": "8058a4dd",
   "metadata": {},
   "outputs": [],
   "source": [
    "C_param_range = [0.001,0.01,0.1,1,10,100]\n",
    "roc_scores = []\n",
    "for c in C_param_range:\n",
    "\n",
    "    logit_reg = LogisticRegression(\n",
    "        penalty=\"elasticnet\"\n",
    "        , C=c\n",
    "        , solver='saga'\n",
    "        , random_state = 1\n",
    "        , l1_ratio = 0.5\n",
    "    )\n",
    "    logit_reg.fit(train_X_res, train_y_res)\n",
    "    #confusionMatrices(logit_reg, 'Logistic regression')\n",
    "    logit_pred = logit_reg.predict(test_X)\n",
    "    roc_scores.append(evalMetrics(logit_reg,logit_pred,False)['roc_auc'])"
   ]
  },
  {
   "cell_type": "code",
   "execution_count": 39,
   "id": "ad18a53a",
   "metadata": {},
   "outputs": [
    {
     "name": "stdout",
     "output_type": "stream",
     "text": [
      "0.8319343478657895\n"
     ]
    }
   ],
   "source": [
    "print(max(roc_scores))"
   ]
  },
  {
   "cell_type": "markdown",
   "id": "82ae4352",
   "metadata": {},
   "source": [
    "#### Deep Search"
   ]
  },
  {
   "cell_type": "code",
   "execution_count": 54,
   "id": "cb1ff55b",
   "metadata": {},
   "outputs": [
    {
     "data": {
      "text/html": [
       "<style>#sk-container-id-4 {color: black;background-color: white;}#sk-container-id-4 pre{padding: 0;}#sk-container-id-4 div.sk-toggleable {background-color: white;}#sk-container-id-4 label.sk-toggleable__label {cursor: pointer;display: block;width: 100%;margin-bottom: 0;padding: 0.3em;box-sizing: border-box;text-align: center;}#sk-container-id-4 label.sk-toggleable__label-arrow:before {content: \"▸\";float: left;margin-right: 0.25em;color: #696969;}#sk-container-id-4 label.sk-toggleable__label-arrow:hover:before {color: black;}#sk-container-id-4 div.sk-estimator:hover label.sk-toggleable__label-arrow:before {color: black;}#sk-container-id-4 div.sk-toggleable__content {max-height: 0;max-width: 0;overflow: hidden;text-align: left;background-color: #f0f8ff;}#sk-container-id-4 div.sk-toggleable__content pre {margin: 0.2em;color: black;border-radius: 0.25em;background-color: #f0f8ff;}#sk-container-id-4 input.sk-toggleable__control:checked~div.sk-toggleable__content {max-height: 200px;max-width: 100%;overflow: auto;}#sk-container-id-4 input.sk-toggleable__control:checked~label.sk-toggleable__label-arrow:before {content: \"▾\";}#sk-container-id-4 div.sk-estimator input.sk-toggleable__control:checked~label.sk-toggleable__label {background-color: #d4ebff;}#sk-container-id-4 div.sk-label input.sk-toggleable__control:checked~label.sk-toggleable__label {background-color: #d4ebff;}#sk-container-id-4 input.sk-hidden--visually {border: 0;clip: rect(1px 1px 1px 1px);clip: rect(1px, 1px, 1px, 1px);height: 1px;margin: -1px;overflow: hidden;padding: 0;position: absolute;width: 1px;}#sk-container-id-4 div.sk-estimator {font-family: monospace;background-color: #f0f8ff;border: 1px dotted black;border-radius: 0.25em;box-sizing: border-box;margin-bottom: 0.5em;}#sk-container-id-4 div.sk-estimator:hover {background-color: #d4ebff;}#sk-container-id-4 div.sk-parallel-item::after {content: \"\";width: 100%;border-bottom: 1px solid gray;flex-grow: 1;}#sk-container-id-4 div.sk-label:hover label.sk-toggleable__label {background-color: #d4ebff;}#sk-container-id-4 div.sk-serial::before {content: \"\";position: absolute;border-left: 1px solid gray;box-sizing: border-box;top: 0;bottom: 0;left: 50%;z-index: 0;}#sk-container-id-4 div.sk-serial {display: flex;flex-direction: column;align-items: center;background-color: white;padding-right: 0.2em;padding-left: 0.2em;position: relative;}#sk-container-id-4 div.sk-item {position: relative;z-index: 1;}#sk-container-id-4 div.sk-parallel {display: flex;align-items: stretch;justify-content: center;background-color: white;position: relative;}#sk-container-id-4 div.sk-item::before, #sk-container-id-4 div.sk-parallel-item::before {content: \"\";position: absolute;border-left: 1px solid gray;box-sizing: border-box;top: 0;bottom: 0;left: 50%;z-index: -1;}#sk-container-id-4 div.sk-parallel-item {display: flex;flex-direction: column;z-index: 1;position: relative;background-color: white;}#sk-container-id-4 div.sk-parallel-item:first-child::after {align-self: flex-end;width: 50%;}#sk-container-id-4 div.sk-parallel-item:last-child::after {align-self: flex-start;width: 50%;}#sk-container-id-4 div.sk-parallel-item:only-child::after {width: 0;}#sk-container-id-4 div.sk-dashed-wrapped {border: 1px dashed gray;margin: 0 0.4em 0.5em 0.4em;box-sizing: border-box;padding-bottom: 0.4em;background-color: white;}#sk-container-id-4 div.sk-label label {font-family: monospace;font-weight: bold;display: inline-block;line-height: 1.2em;}#sk-container-id-4 div.sk-label-container {text-align: center;}#sk-container-id-4 div.sk-container {/* jupyter's `normalize.less` sets `[hidden] { display: none; }` but bootstrap.min.css set `[hidden] { display: none !important; }` so we also need the `!important` here to be able to override the default hidden behavior on the sphinx rendered scikit-learn.org. See: https://github.com/scikit-learn/scikit-learn/issues/21755 */display: inline-block !important;position: relative;}#sk-container-id-4 div.sk-text-repr-fallback {display: none;}</style><div id=\"sk-container-id-4\" class=\"sk-top-container\"><div class=\"sk-text-repr-fallback\"><pre>GridSearchCV(cv=5, estimator=LogisticRegression(random_state=1),\n",
       "             param_grid={&#x27;C&#x27;: [0.0001, 0.0005, 0.001, 0.005, 0.01],\n",
       "                         &#x27;penalty&#x27;: [&#x27;none&#x27;, &#x27;elasticnet&#x27;, &#x27;l1&#x27;, &#x27;l2&#x27;],\n",
       "                         &#x27;solver&#x27;: [&#x27;newton-cg&#x27;, &#x27;lbfgs&#x27;, &#x27;liblinear&#x27;, &#x27;sag&#x27;,\n",
       "                                    &#x27;saga&#x27;]},\n",
       "             scoring=&#x27;roc_auc&#x27;)</pre><b>In a Jupyter environment, please rerun this cell to show the HTML representation or trust the notebook. <br />On GitHub, the HTML representation is unable to render, please try loading this page with nbviewer.org.</b></div><div class=\"sk-container\" hidden><div class=\"sk-item sk-dashed-wrapped\"><div class=\"sk-label-container\"><div class=\"sk-label sk-toggleable\"><input class=\"sk-toggleable__control sk-hidden--visually\" id=\"sk-estimator-id-10\" type=\"checkbox\" ><label for=\"sk-estimator-id-10\" class=\"sk-toggleable__label sk-toggleable__label-arrow\">GridSearchCV</label><div class=\"sk-toggleable__content\"><pre>GridSearchCV(cv=5, estimator=LogisticRegression(random_state=1),\n",
       "             param_grid={&#x27;C&#x27;: [0.0001, 0.0005, 0.001, 0.005, 0.01],\n",
       "                         &#x27;penalty&#x27;: [&#x27;none&#x27;, &#x27;elasticnet&#x27;, &#x27;l1&#x27;, &#x27;l2&#x27;],\n",
       "                         &#x27;solver&#x27;: [&#x27;newton-cg&#x27;, &#x27;lbfgs&#x27;, &#x27;liblinear&#x27;, &#x27;sag&#x27;,\n",
       "                                    &#x27;saga&#x27;]},\n",
       "             scoring=&#x27;roc_auc&#x27;)</pre></div></div></div><div class=\"sk-parallel\"><div class=\"sk-parallel-item\"><div class=\"sk-item\"><div class=\"sk-label-container\"><div class=\"sk-label sk-toggleable\"><input class=\"sk-toggleable__control sk-hidden--visually\" id=\"sk-estimator-id-11\" type=\"checkbox\" ><label for=\"sk-estimator-id-11\" class=\"sk-toggleable__label sk-toggleable__label-arrow\">estimator: LogisticRegression</label><div class=\"sk-toggleable__content\"><pre>LogisticRegression(random_state=1)</pre></div></div></div><div class=\"sk-serial\"><div class=\"sk-item\"><div class=\"sk-estimator sk-toggleable\"><input class=\"sk-toggleable__control sk-hidden--visually\" id=\"sk-estimator-id-12\" type=\"checkbox\" ><label for=\"sk-estimator-id-12\" class=\"sk-toggleable__label sk-toggleable__label-arrow\">LogisticRegression</label><div class=\"sk-toggleable__content\"><pre>LogisticRegression(random_state=1)</pre></div></div></div></div></div></div></div></div></div></div>"
      ],
      "text/plain": [
       "GridSearchCV(cv=5, estimator=LogisticRegression(random_state=1),\n",
       "             param_grid={'C': [0.0001, 0.0005, 0.001, 0.005, 0.01],\n",
       "                         'penalty': ['none', 'elasticnet', 'l1', 'l2'],\n",
       "                         'solver': ['newton-cg', 'lbfgs', 'liblinear', 'sag',\n",
       "                                    'saga']},\n",
       "             scoring='roc_auc')"
      ]
     },
     "execution_count": 54,
     "metadata": {},
     "output_type": "execute_result"
    }
   ],
   "source": [
    "parameters = {\n",
    "                'solver': ['newton-cg', 'lbfgs', 'liblinear', 'sag', 'saga'],\n",
    "                'penalty':['none', 'elasticnet', 'l1', 'l2'],\n",
    "                'C':[0.0001, 0.0005, 0.001, 0.005, 0.01]\n",
    "             }\n",
    "\n",
    "\n",
    "\n",
    "grid_search = GridSearchCV(\n",
    "    estimator = LogisticRegression(random_state=1),  \n",
    "    param_grid = parameters,\n",
    "    scoring = 'roc_auc',\n",
    "    cv = 5,\n",
    "    verbose=0)\n",
    "\n",
    "\n",
    "grid_search.fit(train_X_res, train_y_res)"
   ]
  },
  {
   "cell_type": "code",
   "execution_count": 58,
   "id": "236cd3b8",
   "metadata": {
    "scrolled": true
   },
   "outputs": [
    {
     "name": "stdout",
     "output_type": "stream",
     "text": [
      "LogisticRegression(C=0.0001, penalty='none', random_state=1)\n"
     ]
    }
   ],
   "source": [
    "print(grid_search.best_estimator_)"
   ]
  },
  {
   "cell_type": "code",
   "execution_count": 60,
   "id": "72bb757f",
   "metadata": {},
   "outputs": [
    {
     "data": {
      "text/plain": [
       "{'precision': 0.09274238227146814,\n",
       " 'recall': 0.7184549356223175,\n",
       " 'f1': 0.16427870461236507,\n",
       " 'roc_auc': 0.8319209170608091}"
      ]
     },
     "execution_count": 60,
     "metadata": {},
     "output_type": "execute_result"
    }
   ],
   "source": [
    "lr = LogisticRegression(random_state=1,C=0.0001,penalty='none')\n",
    "lr.fit(train_X_res,train_y_res)\n",
    "logit_pred = logit_reg.predict(test_X)\n",
    "evalMetrics(logit_reg,logit_pred,False)"
   ]
  },
  {
   "cell_type": "markdown",
   "id": "c6f4527a",
   "metadata": {},
   "source": [
    "### Random Forest - GridSearch"
   ]
  },
  {
   "cell_type": "markdown",
   "id": "1613e2ba",
   "metadata": {},
   "source": [
    "To optimize random forest performance, we want to cycle through the number of estimators, the maximum tree depth, the log-loss, the cost function, and more:"
   ]
  },
  {
   "cell_type": "code",
   "execution_count": 21,
   "id": "d09671ae",
   "metadata": {},
   "outputs": [
    {
     "name": "stdout",
     "output_type": "stream",
     "text": [
      "{'bootstrap': [True, False],\n",
      " 'max_depth': [1, 2, 3, 4, 5, 6, 7, 8, 9, 10, None],\n",
      " 'max_features': ['auto', 'sqrt'],\n",
      " 'min_samples_leaf': [1, 2, 4],\n",
      " 'min_samples_split': [2, 5, 10],\n",
      " 'n_estimators': [400, 450, 500, 550, 600]}\n"
     ]
    }
   ],
   "source": [
    "rf = RandomForestClassifier(random_state = 1,verbose = 2)\n",
    "\n",
    "# Number of trees in random forest\n",
    "n_estimators = [400,450,500,550,600]\n",
    "# Number of features to consider at every split\n",
    "max_features = ['auto', 'sqrt']\n",
    "# Maximum number of levels in tree\n",
    "max_depth = [int(x) for x in np.linspace(1, 10, num = 10)]\n",
    "max_depth.append(None)\n",
    "# Minimum number of samples required to split a node\n",
    "min_samples_split = [2, 5, 10]\n",
    "# Minimum number of samples required at each leaf node\n",
    "min_samples_leaf = [1, 2, 4]\n",
    "# Method of selecting samples for training each tree\n",
    "bootstrap = [True, False]\n",
    "# Create the random grid\n",
    "random_grid = {'n_estimators': n_estimators,\n",
    "               'max_features': max_features,\n",
    "               'max_depth': max_depth,\n",
    "               'min_samples_split': min_samples_split,\n",
    "               'min_samples_leaf': min_samples_leaf,\n",
    "               'bootstrap': bootstrap}\n",
    "pprint.pprint(random_grid)"
   ]
  },
  {
   "cell_type": "code",
   "execution_count": null,
   "id": "699a0d79",
   "metadata": {},
   "outputs": [
    {
     "name": "stdout",
     "output_type": "stream",
     "text": [
      "Fitting 3 folds for each of 100 candidates, totalling 300 fits\n"
     ]
    }
   ],
   "source": [
    "# search across 100 different combinations, and use all available cores\n",
    "rf_random = RandomizedSearchCV(\n",
    "    estimator = rf\n",
    "    , param_distributions = random_grid\n",
    "    , n_iter = 100\n",
    "    , cv = 3\n",
    "    , verbose=2\n",
    "    , random_state=1\n",
    "    , n_jobs = -1\n",
    "    , scoring = 'roc_auc'\n",
    ")\n",
    "# Fit the random search model\n",
    "rf_random.fit(train_X_res, train_y_res)"
   ]
  },
  {
   "cell_type": "markdown",
   "id": "eb4bece6",
   "metadata": {},
   "source": [
    "We can see which parameters perform the best for our random forest:"
   ]
  },
  {
   "cell_type": "markdown",
   "id": "8ec1ec3f",
   "metadata": {},
   "source": [
    "Continue by reviewing the array of ROC scores we got from our models:"
   ]
  },
  {
   "cell_type": "code",
   "execution_count": null,
   "id": "ad4f080a",
   "metadata": {},
   "outputs": [],
   "source": [
    "RandomForest_pred = rf_random.predict(test_X)"
   ]
  },
  {
   "cell_type": "code",
   "execution_count": null,
   "id": "4b99c157",
   "metadata": {},
   "outputs": [],
   "source": [
    "evalMetrics(rf_random,RandomForest_pred)\n",
    "classificationSummary(test_y, RandomForest_pred)"
   ]
  },
  {
   "cell_type": "markdown",
   "id": "3a19b829",
   "metadata": {},
   "source": [
    "We can also compare this with our original model:"
   ]
  },
  {
   "cell_type": "code",
   "execution_count": null,
   "id": "02bc4602",
   "metadata": {},
   "outputs": [],
   "source": [
    "#current best roc ~ 83.7%\n",
    "RandomForest = RandomForestClassifier(\n",
    "    n_estimators=500 #current best = 500\n",
    "    , random_state=1\n",
    "    , max_depth = 6\n",
    ")\n",
    "RandomForest.fit(train_X_res, train_y_res)\n",
    "RandomForest_pred = RandomForest.predict(test_X)\n",
    "evalMetrics(RandomForest,RandomForest_pred)\n",
    "classificationSummary(test_y, RandomForest_pred)"
   ]
  },
  {
   "cell_type": "markdown",
   "id": "bf63a6ab",
   "metadata": {},
   "source": [
    "it appears that despite our eforts to conduct some sort of gridsearch for our random forest model, we're unable to beat the roc of 83.7% using conventional means, and will have to approach this more carefully by tuning each metric alone until we get better insights."
   ]
  },
  {
   "cell_type": "markdown",
   "id": "a285e74f",
   "metadata": {},
   "source": [
    "#### 1. Number of Estimators"
   ]
  },
  {
   "cell_type": "code",
   "execution_count": 129,
   "id": "bc3fea1c",
   "metadata": {},
   "outputs": [],
   "source": [
    "estimators = [125,150,175,200,225,250]\n",
    "roc_scores = []\n",
    "\n",
    "for e in estimators:\n",
    "    RandomForest = RandomForestClassifier(\n",
    "        n_estimators= e #current best = 500\n",
    "        , random_state=1\n",
    "        , max_depth = 6\n",
    "    )\n",
    "    RandomForest.fit(train_X_res, train_y_res)\n",
    "    RandomForest_pred = RandomForest.predict(test_X)\n",
    "    \n",
    "    #get roc_auc\n",
    "    this_roc = evalMetrics(RandomForest,RandomForest_pred,verbose=False)['roc_auc']\n",
    "    roc_scores.append(this_roc)"
   ]
  },
  {
   "cell_type": "markdown",
   "id": "f7fb93e4",
   "metadata": {},
   "source": [
    "#### 1b. Visualization"
   ]
  },
  {
   "cell_type": "markdown",
   "id": "9d7a2c99",
   "metadata": {},
   "source": [
    "we can conclude that around 200 estimators is an optimal number for our random forest clasifier."
   ]
  },
  {
   "cell_type": "code",
   "execution_count": 130,
   "id": "88b9a1e8",
   "metadata": {
    "scrolled": true
   },
   "outputs": [
    {
     "data": {
      "image/png": "[encoded data removed]",
      "text/plain": [
       "<Figure size 432x288 with 1 Axes>"
      ]
     },
     "metadata": {
      "needs_background": "light"
     },
     "output_type": "display_data"
    }
   ],
   "source": [
    "roc_vs(roc_scores,estimators,\"estimators\")"
   ]
  },
  {
   "cell_type": "markdown",
   "id": "498032e3",
   "metadata": {},
   "source": [
    "#### 2. max depth"
   ]
  },
  {
   "cell_type": "code",
   "execution_count": 131,
   "id": "be1198fe",
   "metadata": {},
   "outputs": [],
   "source": [
    "depths = list(range(1,10))\n",
    "roc_scores = []\n",
    "\n",
    "for d in depths:\n",
    "    RandomForest = RandomForestClassifier(\n",
    "        n_estimators= 200 #current best = 500\n",
    "        , random_state=1\n",
    "        , max_depth = d\n",
    "    )\n",
    "    RandomForest.fit(train_X_res, train_y_res)\n",
    "    RandomForest_pred = RandomForest.predict(test_X)\n",
    "    \n",
    "    #get roc_auc\n",
    "    this_roc = evalMetrics(RandomForest,RandomForest_pred,verbose=False)['roc_auc']\n",
    "    roc_scores.append(this_roc)"
   ]
  },
  {
   "cell_type": "markdown",
   "id": "aeabe317",
   "metadata": {},
   "source": [
    "#### 2b. Visualization"
   ]
  },
  {
   "cell_type": "markdown",
   "id": "e956b254",
   "metadata": {},
   "source": [
    "a max depth of 7 seems to be an optimal parameter at this stage."
   ]
  },
  {
   "cell_type": "code",
   "execution_count": 132,
   "id": "51b075e2",
   "metadata": {
    "scrolled": true
   },
   "outputs": [
    {
     "data": {
      "image/png": "[encoded data removed]",
      "text/plain": [
       "<Figure size 432x288 with 1 Axes>"
      ]
     },
     "metadata": {
      "needs_background": "light"
     },
     "output_type": "display_data"
    }
   ],
   "source": [
    "roc_vs(roc_scores,depths,\"tree depth\")"
   ]
  },
  {
   "cell_type": "markdown",
   "id": "ed568d72",
   "metadata": {},
   "source": [
    "#### 3. Min sample split"
   ]
  },
  {
   "cell_type": "code",
   "execution_count": 137,
   "id": "e00a67e8",
   "metadata": {},
   "outputs": [],
   "source": [
    "min_samples_split = list(range(22,40,2))\n",
    "roc_scores = []\n",
    "\n",
    "for m in min_samples_split:\n",
    "    RandomForest = RandomForestClassifier(\n",
    "        n_estimators= 200\n",
    "        , random_state=1\n",
    "        , max_depth = 7\n",
    "        , min_samples_split = m\n",
    "    )\n",
    "    RandomForest.fit(train_X_res, train_y_res)\n",
    "    RandomForest_pred = RandomForest.predict(test_X)\n",
    "    \n",
    "    #get roc_auc\n",
    "    this_roc = evalMetrics(RandomForest,RandomForest_pred,verbose=False)['roc_auc']\n",
    "    roc_scores.append(this_roc)"
   ]
  },
  {
   "cell_type": "markdown",
   "id": "75a66131",
   "metadata": {},
   "source": [
    "#### 3b. Visualization\n",
    "Optimal performance seems to be at a min-sample split of 24."
   ]
  },
  {
   "cell_type": "code",
   "execution_count": 138,
   "id": "b4cc74bc",
   "metadata": {
    "scrolled": true
   },
   "outputs": [
    {
     "data": {
      "image/png": "[encoded data removed]",
      "text/plain": [
       "<Figure size 432x288 with 1 Axes>"
      ]
     },
     "metadata": {
      "needs_background": "light"
     },
     "output_type": "display_data"
    }
   ],
   "source": [
    "roc_vs(roc_scores,min_samples_split,\"min samples split\")"
   ]
  },
  {
   "cell_type": "markdown",
   "id": "9a237338",
   "metadata": {},
   "source": [
    "#### 4. Min samples per leaf"
   ]
  },
  {
   "cell_type": "code",
   "execution_count": 139,
   "id": "fbf86e5a",
   "metadata": {},
   "outputs": [],
   "source": [
    "# Minimum number of samples required at each leaf node\n",
    "min_samples_leaf = [1,5,10,20,30,40,50,60,70,80,90,100,150,175,200,250,300]\n",
    "roc_scores = []\n",
    "\n",
    "for m in min_samples_leaf:\n",
    "    RandomForest = RandomForestClassifier(\n",
    "        n_estimators= 200\n",
    "        , random_state=1\n",
    "        , max_depth = 7\n",
    "        , min_samples_split = 24\n",
    "        , min_samples_leaf=m\n",
    "    )\n",
    "    RandomForest.fit(train_X_res, train_y_res)\n",
    "    RandomForest_pred = RandomForest.predict(test_X)\n",
    "    \n",
    "    #get roc_auc\n",
    "    this_roc = evalMetrics(RandomForest,RandomForest_pred,verbose=False)['roc_auc']\n",
    "    roc_scores.append(this_roc)"
   ]
  },
  {
   "cell_type": "markdown",
   "id": "a86be181",
   "metadata": {},
   "source": [
    "#### 4b. Visualization\n",
    "150 samples per leaf at a minimum is an optimal parameter."
   ]
  },
  {
   "cell_type": "code",
   "execution_count": 140,
   "id": "0afc4f95",
   "metadata": {
    "scrolled": true
   },
   "outputs": [
    {
     "data": {
      "image/png": "[encoded data removed]",
      "text/plain": [
       "<Figure size 432x288 with 1 Axes>"
      ]
     },
     "metadata": {
      "needs_background": "light"
     },
     "output_type": "display_data"
    }
   ],
   "source": [
    "roc_vs(roc_scores,min_samples_leaf,\"min samples leaf\")"
   ]
  },
  {
   "cell_type": "markdown",
   "id": "b61a8cae",
   "metadata": {},
   "source": [
    "#### 5. criterion for splitting"
   ]
  },
  {
   "cell_type": "code",
   "execution_count": 141,
   "id": "969d3761",
   "metadata": {},
   "outputs": [],
   "source": [
    "# Minimum number of samples required at each leaf node\n",
    "criteria = [\"gini\",\"entropy\",\"log_loss\"]\n",
    "roc_scores = []\n",
    "\n",
    "for c in criteria:\n",
    "    RandomForest = RandomForestClassifier(\n",
    "        n_estimators= 200\n",
    "        , random_state=1\n",
    "        , max_depth = 7\n",
    "        , min_samples_split = 24\n",
    "        , min_samples_leaf=150\n",
    "        , criterion = c \n",
    "    )\n",
    "    RandomForest.fit(train_X_res, train_y_res)\n",
    "    RandomForest_pred = RandomForest.predict(test_X)\n",
    "    \n",
    "    #get roc_auc\n",
    "    this_roc = evalMetrics(RandomForest,RandomForest_pred,verbose=False)['roc_auc']\n",
    "    roc_scores.append(this_roc)"
   ]
  },
  {
   "cell_type": "markdown",
   "id": "25e8492c",
   "metadata": {},
   "source": [
    "#### 5b. Visualization\n",
    "In conclusion, any criterion except gini is sufficient for optimization."
   ]
  },
  {
   "cell_type": "code",
   "execution_count": 147,
   "id": "4038059a",
   "metadata": {
    "scrolled": true
   },
   "outputs": [
    {
     "data": {
      "image/png": "[encoded data removed]",
      "text/plain": [
       "<Figure size 432x288 with 1 Axes>"
      ]
     },
     "metadata": {
      "needs_background": "light"
     },
     "output_type": "display_data"
    }
   ],
   "source": [
    "roc_vs(roc_scores,criteria,\"criteria\")"
   ]
  },
  {
   "cell_type": "markdown",
   "id": "b1009daf",
   "metadata": {},
   "source": [
    "#### Conclusion\n",
    "Despite several different layers of optimization work, the final conclusion for our random forest model is an ROC-AUC of 83.85%."
   ]
  },
  {
   "cell_type": "markdown",
   "id": "5fdf3bb1",
   "metadata": {},
   "source": [
    "### Neural Network"
   ]
  },
  {
   "cell_type": "code",
   "execution_count": null,
   "id": "ad617a30",
   "metadata": {},
   "outputs": [],
   "source": [
    "neuralNet = MLPClassifier(\n",
    "    hidden_layer_sizes=(5)\n",
    "    , activation='logistic'\n",
    "    , solver='adam'\n",
    "    , max_iter=2000, \n",
    "    random_state=1\n",
    ")\n",
    "neuralNet.fit(train_X_res, train_y_res)\n",
    "confusionMatrices(neuralNet, 'Neural Network')"
   ]
  },
  {
   "cell_type": "code",
   "execution_count": null,
   "id": "374000cf",
   "metadata": {},
   "outputs": [],
   "source": [
    "neuralNet_pred = neuralNet.predict(test_X)\n",
    "classificationSummary(test_y, neuralNet_pred )\n",
    "evalMetrics(neuralNet,neuralNet_pred)"
   ]
  },
  {
   "cell_type": "markdown",
   "id": "cb62770d",
   "metadata": {},
   "source": [
    "Our neural network has an roc-auc of 84%, which is very similar to our random forest model. Here, we can take some steps to optimize our neural network by changing the number of hidden layers, the number of units, the learning rate, and more."
   ]
  },
  {
   "cell_type": "markdown",
   "id": "0e075ea6",
   "metadata": {},
   "source": [
    "#### 1. Hidden Layer Units"
   ]
  },
  {
   "cell_type": "code",
   "execution_count": null,
   "id": "d40cd7d3",
   "metadata": {},
   "outputs": [],
   "source": [
    "sizes = [1,2,3,4,5,10,15]\n",
    "roc_scores = []\n",
    "\n",
    "for size in sizes:\n",
    "    neuralNet = MLPClassifier(\n",
    "        hidden_layer_sizes=(size)\n",
    "        , activation='logistic'\n",
    "        , solver= 'adam'#'lbfgs'\n",
    "        , max_iter=2000, \n",
    "        random_state=1\n",
    "    )\n",
    "    neuralNet.fit(train_X_res, train_y_res)\n",
    "    #confusionMatrices(neuralNet, 'Neural Network')\n",
    "    neuralNet_pred = neuralNet.predict(test_X)\n",
    "    this_roc = evalMetrics(neuralNet,neuralNet_pred,verbose=False)['roc_auc']\n",
    "    roc_scores.append(this_roc)"
   ]
  },
  {
   "cell_type": "markdown",
   "id": "f7f91a02",
   "metadata": {},
   "source": [
    "#### 1b. Visualization\n",
    "Having 10 nodes in our hidden layer creates the best performance."
   ]
  },
  {
   "cell_type": "code",
   "execution_count": null,
   "id": "f3f900c6",
   "metadata": {
    "scrolled": true
   },
   "outputs": [],
   "source": [
    "# plot\n",
    "plt.plot(sizes,roc_scores)\n",
    "plt.title(f'roc-auc score vs hidden layer size, max:{max(roc_scores)}')\n",
    "plt.show()"
   ]
  },
  {
   "cell_type": "markdown",
   "id": "7afc90c6",
   "metadata": {},
   "source": [
    "#### 2. Max Iterations"
   ]
  },
  {
   "cell_type": "code",
   "execution_count": null,
   "id": "cb4c18aa",
   "metadata": {},
   "outputs": [],
   "source": [
    "its =  [int(x) for x in np.linspace(100, 5000, num = 20)]\n",
    "roc_scores = []\n",
    "\n",
    "for it in its:\n",
    "    neuralNet = MLPClassifier(\n",
    "        hidden_layer_sizes=(10)\n",
    "        , activation='logistic'\n",
    "        , solver='adam'\n",
    "        , max_iter=it, \n",
    "        random_state=1\n",
    "    )\n",
    "    neuralNet.fit(train_X_res, train_y_res)\n",
    "    #confusionMatrices(neuralNet, 'Neural Network')\n",
    "    neuralNet_pred = neuralNet.predict(test_X)\n",
    "    this_roc = evalMetrics(neuralNet,neuralNet_pred,verbose=False)['roc_auc']\n",
    "    roc_scores.append(this_roc)"
   ]
  },
  {
   "cell_type": "markdown",
   "id": "872c9d27",
   "metadata": {},
   "source": [
    "#### 2b. Visualization"
   ]
  },
  {
   "cell_type": "markdown",
   "id": "e99a71c0",
   "metadata": {},
   "source": [
    "100 iterations is ideal for optimizing our roc-auc scores."
   ]
  },
  {
   "cell_type": "code",
   "execution_count": null,
   "id": "fc1faa61",
   "metadata": {
    "scrolled": true
   },
   "outputs": [],
   "source": [
    "# plot\n",
    "plt.plot(its,roc_scores)\n",
    "plt.title(f'roc-auc score vs max iterations, max:{max(roc_scores)}')\n",
    "plt.show()"
   ]
  },
  {
   "cell_type": "markdown",
   "id": "8a99a3f9",
   "metadata": {},
   "source": [
    "#### 3. Alpha Selection \n",
    "Context: In this model, the Alpha is the strength of the L2 regularization, which removes a small portion of the weights without ever going down to zero."
   ]
  },
  {
   "cell_type": "code",
   "execution_count": null,
   "id": "d3fefc5b",
   "metadata": {},
   "outputs": [],
   "source": [
    "alphas =  [float(x) for x in np.linspace(0.01, 0.1, num = 10)] \n",
    "roc_scores = []\n",
    "\n",
    "for alpha in alphas:\n",
    "    neuralNet = MLPClassifier(\n",
    "        hidden_layer_sizes=(10)\n",
    "        , activation='logistic'\n",
    "        , solver='adam'\n",
    "        , max_iter=100\n",
    "        , alpha = alpha\n",
    "        , random_state=1\n",
    "    )\n",
    "    neuralNet.fit(train_X_res, train_y_res)\n",
    "    #confusionMatrices(neuralNet, 'Neural Network')\n",
    "    neuralNet_pred = neuralNet.predict(test_X)\n",
    "    this_roc = evalMetrics(neuralNet,neuralNet_pred,verbose=False)['roc_auc']\n",
    "    roc_scores.append(this_roc)"
   ]
  },
  {
   "cell_type": "markdown",
   "id": "486ce143",
   "metadata": {},
   "source": [
    "#### 3b. Visualization"
   ]
  },
  {
   "cell_type": "code",
   "execution_count": null,
   "id": "0a03dc15",
   "metadata": {
    "scrolled": true
   },
   "outputs": [],
   "source": [
    "# plot\n",
    "plt.plot(alphas,roc_scores)\n",
    "max_roc = max(roc_scores)\n",
    "max_index = roc_scores.index(max_roc)\n",
    "max_param = alphas[max_index]\n",
    "\n",
    "plt.title(f'roc-auc score vs alpha, max:{max_roc}, parameter: {max_param}')\n",
    "plt.show()"
   ]
  },
  {
   "cell_type": "markdown",
   "id": "d922eab2",
   "metadata": {},
   "source": [
    "#### 4. Adam: Beta-1"
   ]
  },
  {
   "cell_type": "code",
   "execution_count": 118,
   "id": "ec13cd8c",
   "metadata": {},
   "outputs": [],
   "source": [
    "beta_ones = [float(x) for x in np.linspace(0.30,0.70, num = 40)] \n",
    "roc_scores = []\n",
    "\n",
    "for b in beta_ones:\n",
    "    \n",
    "    neuralNet = MLPClassifier(\n",
    "        hidden_layer_sizes = (10)\n",
    "        , activation       = 'logistic'\n",
    "        , solver           = 'adam'\n",
    "        , max_iter         = 100\n",
    "        , alpha            = 0.02\n",
    "        , beta_1           = b\n",
    "        , random_state     = 1\n",
    "    )\n",
    "    \n",
    "    neuralNet.fit(train_X_res, train_y_res)\n",
    "    #confusionMatrices(neuralNet, 'Neural Network')\n",
    "    neuralNet_pred = neuralNet.predict(test_X)\n",
    "    this_roc = evalMetrics(neuralNet,neuralNet_pred,verbose=False)['roc_auc']\n",
    "    roc_scores.append(this_roc)"
   ]
  },
  {
   "cell_type": "markdown",
   "id": "3b56355e",
   "metadata": {},
   "source": [
    "#### 4b. Visualization"
   ]
  },
  {
   "cell_type": "code",
   "execution_count": 123,
   "id": "2843e483",
   "metadata": {},
   "outputs": [
    {
     "data": {
      "image/png": "[encoded data removed]",
      "text/plain": [
       "<Figure size 432x288 with 1 Axes>"
      ]
     },
     "metadata": {
      "needs_background": "light"
     },
     "output_type": "display_data"
    }
   ],
   "source": [
    "# plot\n",
    "plt.plot(beta_ones,roc_scores)\n",
    "max_roc = max(roc_scores)\n",
    "max_index = roc_scores.index(max_roc)\n",
    "max_param = round(beta_ones[max_index],4)\n",
    "max_roc = round(max_roc,4)\n",
    "plt.ylabel('roc-auc')\n",
    "plt.xlabel('beta-1')\n",
    "plt.title(f'roc-auc score vs beta-1, max:{max_roc}, parameter: {max_param}')\n",
    "plt.show()"
   ]
  },
  {
   "cell_type": "markdown",
   "id": "e869de6e",
   "metadata": {},
   "source": [
    "#### 5. Activation Function"
   ]
  },
  {
   "cell_type": "code",
   "execution_count": 17,
   "id": "b85b9cd6",
   "metadata": {},
   "outputs": [],
   "source": [
    "acs = ['identity','logistic','tanh','relu']\n",
    "roc_scores = []\n",
    "\n",
    "for ac in acs:\n",
    "    neuralNet = MLPClassifier(\n",
    "        hidden_layer_sizes=(10)\n",
    "        , activation=ac\n",
    "        , solver='adam'\n",
    "        , max_iter=100\n",
    "        , alpha = 0.02\n",
    "        , beta_1 = 0.68\n",
    "        , random_state=1\n",
    "    )\n",
    "    neuralNet.fit(train_X_res, train_y_res)\n",
    "    #confusionMatrices(neuralNet, 'Neural Network')\n",
    "    neuralNet_pred = neuralNet.predict(test_X)\n",
    "    this_roc = evalMetrics(neuralNet,neuralNet_pred,verbose=False)['roc_auc']\n",
    "    roc_scores.append(this_roc)"
   ]
  },
  {
   "cell_type": "markdown",
   "id": "5ced980d",
   "metadata": {},
   "source": [
    "#### 5b. Visualization"
   ]
  },
  {
   "cell_type": "code",
   "execution_count": 144,
   "id": "597fd7aa",
   "metadata": {
    "scrolled": true
   },
   "outputs": [
    {
     "ename": "NameError",
     "evalue": "name 'acs' is not defined",
     "output_type": "error",
     "traceback": [
      "\u001b[1;31m---------------------------------------------------------------------------\u001b[0m",
      "\u001b[1;31mNameError\u001b[0m                                 Traceback (most recent call last)",
      "Input \u001b[1;32mIn [144]\u001b[0m, in \u001b[0;36m<cell line: 2>\u001b[1;34m()\u001b[0m\n\u001b[0;32m      1\u001b[0m \u001b[38;5;66;03m# plot\u001b[39;00m\n\u001b[1;32m----> 2\u001b[0m plt\u001b[38;5;241m.\u001b[39mplot(\u001b[43macs\u001b[49m,roc_scores)\n\u001b[0;32m      3\u001b[0m max_roc \u001b[38;5;241m=\u001b[39m \u001b[38;5;28mmax\u001b[39m(roc_scores)\n\u001b[0;32m      4\u001b[0m max_index \u001b[38;5;241m=\u001b[39m roc_scores\u001b[38;5;241m.\u001b[39mindex(max_roc)\n",
      "\u001b[1;31mNameError\u001b[0m: name 'acs' is not defined"
     ]
    }
   ],
   "source": [
    "# plot\n",
    "plt.plot(acs,roc_scores)\n",
    "max_roc = max(roc_scores)\n",
    "max_index = roc_scores.index(max_roc)\n",
    "max_param = acs[max_index]\n",
    "plt.ylabel('roc-auc')\n",
    "plt.xlabel('activations')\n",
    "plt.title(f'roc-auc score vs activations, max:{max_roc}, parameter: {max_param}')\n",
    "plt.show()"
   ]
  },
  {
   "cell_type": "markdown",
   "id": "816409cf",
   "metadata": {},
   "source": [
    "#### 6. Epsilon"
   ]
  },
  {
   "cell_type": "code",
   "execution_count": 25,
   "id": "d4dd4613",
   "metadata": {},
   "outputs": [],
   "source": [
    "epsilons = [float(x) for x in np.linspace(1e-10,1e-8, num = 10)] \n",
    "roc_scores = []\n",
    "for e in epsilons:\n",
    "    neuralNet = MLPClassifier(\n",
    "        hidden_layer_sizes=(10)\n",
    "        , activation='logistic'\n",
    "        , solver='adam'\n",
    "        , max_iter=100\n",
    "        , alpha = 0.02\n",
    "        , beta_1 = 0.68\n",
    "        , random_state=1\n",
    "        , epsilon= e\n",
    "    )\n",
    "    neuralNet.fit(train_X_res, train_y_res)\n",
    "    #confusionMatrices(neuralNet, 'Neural Network')\n",
    "    neuralNet_pred = neuralNet.predict(test_X)\n",
    "    this_roc = evalMetrics(neuralNet,neuralNet_pred,verbose=False)['roc_auc']\n",
    "    roc_scores.append(this_roc)"
   ]
  },
  {
   "cell_type": "markdown",
   "id": "304dcf4a",
   "metadata": {},
   "source": [
    "#### 6b. Visualization"
   ]
  },
  {
   "cell_type": "code",
   "execution_count": null,
   "id": "8d2f8e34",
   "metadata": {
    "scrolled": false
   },
   "outputs": [],
   "source": [
    "# plot\n",
    "plt.plot(epsilons,roc_scores)\n",
    "max_roc = max(roc_scores)\n",
    "max_index = roc_scores.index(max_roc)\n",
    "max_param = epsilons[max_index]\n",
    "\n",
    "plt.title(f'roc-auc score vs epsilon, max:{max_roc}, parameter: {max_param}')\n",
    "plt.ylabel('roc-auc')\n",
    "plt.xlabel('epsilon')\n",
    "plt.show()"
   ]
  },
  {
   "cell_type": "code",
   "execution_count": 97,
   "id": "65827242",
   "metadata": {},
   "outputs": [],
   "source": [
    "import xgboost as xgb\n",
    "from hyperopt import hp\n",
    "space = {'max_depth': hp.quniform(\"max_depth\", 3, 18, 1),\n",
    "         'gamma': hp.uniform('gamma', 1, 9),\n",
    "         'reg_alpha': hp.quniform('reg_alpha', 30, 180, 1),\n",
    "         'reg_lambda': hp.uniform('reg_lambda', 0, 1),\n",
    "         'colsample_bytree': hp.uniform('colsample_bytree', 0.5, 1),\n",
    "         'min_child_weight': hp.quniform('min_child_weight', 0, 10, 1),\n",
    "         'n_estimators': hp.choice(\"n_estimators\", num_estimator),\n",
    "         }\n",
    "\n"
   ]
  },
  {
   "cell_type": "markdown",
   "id": "c97f220a",
   "metadata": {},
   "source": [
    "### Final Models Based on Tuning"
   ]
  },
  {
   "cell_type": "markdown",
   "id": "a64a70aa",
   "metadata": {},
   "source": [
    "#### Logistic Regression"
   ]
  },
  {
   "cell_type": "code",
   "execution_count": 80,
   "id": "779cce50",
   "metadata": {
    "scrolled": true
   },
   "outputs": [
    {
     "data": {
      "text/html": [
       "<style>#sk-container-id-13 {color: black;background-color: white;}#sk-container-id-13 pre{padding: 0;}#sk-container-id-13 div.sk-toggleable {background-color: white;}#sk-container-id-13 label.sk-toggleable__label {cursor: pointer;display: block;width: 100%;margin-bottom: 0;padding: 0.3em;box-sizing: border-box;text-align: center;}#sk-container-id-13 label.sk-toggleable__label-arrow:before {content: \"▸\";float: left;margin-right: 0.25em;color: #696969;}#sk-container-id-13 label.sk-toggleable__label-arrow:hover:before {color: black;}#sk-container-id-13 div.sk-estimator:hover label.sk-toggleable__label-arrow:before {color: black;}#sk-container-id-13 div.sk-toggleable__content {max-height: 0;max-width: 0;overflow: hidden;text-align: left;background-color: #f0f8ff;}#sk-container-id-13 div.sk-toggleable__content pre {margin: 0.2em;color: black;border-radius: 0.25em;background-color: #f0f8ff;}#sk-container-id-13 input.sk-toggleable__control:checked~div.sk-toggleable__content {max-height: 200px;max-width: 100%;overflow: auto;}#sk-container-id-13 input.sk-toggleable__control:checked~label.sk-toggleable__label-arrow:before {content: \"▾\";}#sk-container-id-13 div.sk-estimator input.sk-toggleable__control:checked~label.sk-toggleable__label {background-color: #d4ebff;}#sk-container-id-13 div.sk-label input.sk-toggleable__control:checked~label.sk-toggleable__label {background-color: #d4ebff;}#sk-container-id-13 input.sk-hidden--visually {border: 0;clip: rect(1px 1px 1px 1px);clip: rect(1px, 1px, 1px, 1px);height: 1px;margin: -1px;overflow: hidden;padding: 0;position: absolute;width: 1px;}#sk-container-id-13 div.sk-estimator {font-family: monospace;background-color: #f0f8ff;border: 1px dotted black;border-radius: 0.25em;box-sizing: border-box;margin-bottom: 0.5em;}#sk-container-id-13 div.sk-estimator:hover {background-color: #d4ebff;}#sk-container-id-13 div.sk-parallel-item::after {content: \"\";width: 100%;border-bottom: 1px solid gray;flex-grow: 1;}#sk-container-id-13 div.sk-label:hover label.sk-toggleable__label {background-color: #d4ebff;}#sk-container-id-13 div.sk-serial::before {content: \"\";position: absolute;border-left: 1px solid gray;box-sizing: border-box;top: 0;bottom: 0;left: 50%;z-index: 0;}#sk-container-id-13 div.sk-serial {display: flex;flex-direction: column;align-items: center;background-color: white;padding-right: 0.2em;padding-left: 0.2em;position: relative;}#sk-container-id-13 div.sk-item {position: relative;z-index: 1;}#sk-container-id-13 div.sk-parallel {display: flex;align-items: stretch;justify-content: center;background-color: white;position: relative;}#sk-container-id-13 div.sk-item::before, #sk-container-id-13 div.sk-parallel-item::before {content: \"\";position: absolute;border-left: 1px solid gray;box-sizing: border-box;top: 0;bottom: 0;left: 50%;z-index: -1;}#sk-container-id-13 div.sk-parallel-item {display: flex;flex-direction: column;z-index: 1;position: relative;background-color: white;}#sk-container-id-13 div.sk-parallel-item:first-child::after {align-self: flex-end;width: 50%;}#sk-container-id-13 div.sk-parallel-item:last-child::after {align-self: flex-start;width: 50%;}#sk-container-id-13 div.sk-parallel-item:only-child::after {width: 0;}#sk-container-id-13 div.sk-dashed-wrapped {border: 1px dashed gray;margin: 0 0.4em 0.5em 0.4em;box-sizing: border-box;padding-bottom: 0.4em;background-color: white;}#sk-container-id-13 div.sk-label label {font-family: monospace;font-weight: bold;display: inline-block;line-height: 1.2em;}#sk-container-id-13 div.sk-label-container {text-align: center;}#sk-container-id-13 div.sk-container {/* jupyter's `normalize.less` sets `[hidden] { display: none; }` but bootstrap.min.css set `[hidden] { display: none !important; }` so we also need the `!important` here to be able to override the default hidden behavior on the sphinx rendered scikit-learn.org. See: https://github.com/scikit-learn/scikit-learn/issues/21755 */display: inline-block !important;position: relative;}#sk-container-id-13 div.sk-text-repr-fallback {display: none;}</style><div id=\"sk-container-id-13\" class=\"sk-top-container\"><div class=\"sk-text-repr-fallback\"><pre>LogisticRegression(C=0.0001, penalty=&#x27;none&#x27;, random_state=1)</pre><b>In a Jupyter environment, please rerun this cell to show the HTML representation or trust the notebook. <br />On GitHub, the HTML representation is unable to render, please try loading this page with nbviewer.org.</b></div><div class=\"sk-container\" hidden><div class=\"sk-item\"><div class=\"sk-estimator sk-toggleable\"><input class=\"sk-toggleable__control sk-hidden--visually\" id=\"sk-estimator-id-21\" type=\"checkbox\" checked><label for=\"sk-estimator-id-21\" class=\"sk-toggleable__label sk-toggleable__label-arrow\">LogisticRegression</label><div class=\"sk-toggleable__content\"><pre>LogisticRegression(C=0.0001, penalty=&#x27;none&#x27;, random_state=1)</pre></div></div></div></div></div>"
      ],
      "text/plain": [
       "LogisticRegression(C=0.0001, penalty='none', random_state=1)"
      ]
     },
     "execution_count": 80,
     "metadata": {},
     "output_type": "execute_result"
    }
   ],
   "source": [
    "lr = LogisticRegression(random_state=1,C=0.0001,penalty='none')\n",
    "lr.fit(train_X_res,train_y_res)\n",
    "lr"
   ]
  },
  {
   "cell_type": "code",
   "execution_count": 91,
   "id": "731ed0db",
   "metadata": {},
   "outputs": [],
   "source": [
    "logit_pred = lr.predict(test_X)\n",
    "lr_probs = lr.predict_proba(test_X)"
   ]
  },
  {
   "cell_type": "markdown",
   "id": "ae711212",
   "metadata": {},
   "source": [
    "#### Naive Bayes"
   ]
  },
  {
   "cell_type": "code",
   "execution_count": 72,
   "id": "e78d0431",
   "metadata": {},
   "outputs": [
    {
     "data": {
      "text/html": [
       "<style>#sk-container-id-10 {color: black;background-color: white;}#sk-container-id-10 pre{padding: 0;}#sk-container-id-10 div.sk-toggleable {background-color: white;}#sk-container-id-10 label.sk-toggleable__label {cursor: pointer;display: block;width: 100%;margin-bottom: 0;padding: 0.3em;box-sizing: border-box;text-align: center;}#sk-container-id-10 label.sk-toggleable__label-arrow:before {content: \"▸\";float: left;margin-right: 0.25em;color: #696969;}#sk-container-id-10 label.sk-toggleable__label-arrow:hover:before {color: black;}#sk-container-id-10 div.sk-estimator:hover label.sk-toggleable__label-arrow:before {color: black;}#sk-container-id-10 div.sk-toggleable__content {max-height: 0;max-width: 0;overflow: hidden;text-align: left;background-color: #f0f8ff;}#sk-container-id-10 div.sk-toggleable__content pre {margin: 0.2em;color: black;border-radius: 0.25em;background-color: #f0f8ff;}#sk-container-id-10 input.sk-toggleable__control:checked~div.sk-toggleable__content {max-height: 200px;max-width: 100%;overflow: auto;}#sk-container-id-10 input.sk-toggleable__control:checked~label.sk-toggleable__label-arrow:before {content: \"▾\";}#sk-container-id-10 div.sk-estimator input.sk-toggleable__control:checked~label.sk-toggleable__label {background-color: #d4ebff;}#sk-container-id-10 div.sk-label input.sk-toggleable__control:checked~label.sk-toggleable__label {background-color: #d4ebff;}#sk-container-id-10 input.sk-hidden--visually {border: 0;clip: rect(1px 1px 1px 1px);clip: rect(1px, 1px, 1px, 1px);height: 1px;margin: -1px;overflow: hidden;padding: 0;position: absolute;width: 1px;}#sk-container-id-10 div.sk-estimator {font-family: monospace;background-color: #f0f8ff;border: 1px dotted black;border-radius: 0.25em;box-sizing: border-box;margin-bottom: 0.5em;}#sk-container-id-10 div.sk-estimator:hover {background-color: #d4ebff;}#sk-container-id-10 div.sk-parallel-item::after {content: \"\";width: 100%;border-bottom: 1px solid gray;flex-grow: 1;}#sk-container-id-10 div.sk-label:hover label.sk-toggleable__label {background-color: #d4ebff;}#sk-container-id-10 div.sk-serial::before {content: \"\";position: absolute;border-left: 1px solid gray;box-sizing: border-box;top: 0;bottom: 0;left: 50%;z-index: 0;}#sk-container-id-10 div.sk-serial {display: flex;flex-direction: column;align-items: center;background-color: white;padding-right: 0.2em;padding-left: 0.2em;position: relative;}#sk-container-id-10 div.sk-item {position: relative;z-index: 1;}#sk-container-id-10 div.sk-parallel {display: flex;align-items: stretch;justify-content: center;background-color: white;position: relative;}#sk-container-id-10 div.sk-item::before, #sk-container-id-10 div.sk-parallel-item::before {content: \"\";position: absolute;border-left: 1px solid gray;box-sizing: border-box;top: 0;bottom: 0;left: 50%;z-index: -1;}#sk-container-id-10 div.sk-parallel-item {display: flex;flex-direction: column;z-index: 1;position: relative;background-color: white;}#sk-container-id-10 div.sk-parallel-item:first-child::after {align-self: flex-end;width: 50%;}#sk-container-id-10 div.sk-parallel-item:last-child::after {align-self: flex-start;width: 50%;}#sk-container-id-10 div.sk-parallel-item:only-child::after {width: 0;}#sk-container-id-10 div.sk-dashed-wrapped {border: 1px dashed gray;margin: 0 0.4em 0.5em 0.4em;box-sizing: border-box;padding-bottom: 0.4em;background-color: white;}#sk-container-id-10 div.sk-label label {font-family: monospace;font-weight: bold;display: inline-block;line-height: 1.2em;}#sk-container-id-10 div.sk-label-container {text-align: center;}#sk-container-id-10 div.sk-container {/* jupyter's `normalize.less` sets `[hidden] { display: none; }` but bootstrap.min.css set `[hidden] { display: none !important; }` so we also need the `!important` here to be able to override the default hidden behavior on the sphinx rendered scikit-learn.org. See: https://github.com/scikit-learn/scikit-learn/issues/21755 */display: inline-block !important;position: relative;}#sk-container-id-10 div.sk-text-repr-fallback {display: none;}</style><div id=\"sk-container-id-10\" class=\"sk-top-container\"><div class=\"sk-text-repr-fallback\"><pre>GaussianNB()</pre><b>In a Jupyter environment, please rerun this cell to show the HTML representation or trust the notebook. <br />On GitHub, the HTML representation is unable to render, please try loading this page with nbviewer.org.</b></div><div class=\"sk-container\" hidden><div class=\"sk-item\"><div class=\"sk-estimator sk-toggleable\"><input class=\"sk-toggleable__control sk-hidden--visually\" id=\"sk-estimator-id-18\" type=\"checkbox\" checked><label for=\"sk-estimator-id-18\" class=\"sk-toggleable__label sk-toggleable__label-arrow\">GaussianNB</label><div class=\"sk-toggleable__content\"><pre>GaussianNB()</pre></div></div></div></div></div>"
      ],
      "text/plain": [
       "GaussianNB()"
      ]
     },
     "execution_count": 72,
     "metadata": {},
     "output_type": "execute_result"
    }
   ],
   "source": [
    "gnb = GaussianNB()\n",
    "gnb.fit(train_X_res,train_y_res)\n",
    "gnb"
   ]
  },
  {
   "cell_type": "code",
   "execution_count": 82,
   "id": "d422438d",
   "metadata": {},
   "outputs": [],
   "source": [
    "gnb_pred = gnb.predict(test_X)\n",
    "gnb_probs = gnb.predict_proba(test_X)"
   ]
  },
  {
   "cell_type": "markdown",
   "id": "21c57cc1",
   "metadata": {},
   "source": [
    "#### Random Forest"
   ]
  },
  {
   "cell_type": "code",
   "execution_count": 148,
   "id": "416872d2",
   "metadata": {
    "scrolled": true
   },
   "outputs": [
    {
     "data": {
      "text/html": [
       "<style>#sk-container-id-16 {color: black;background-color: white;}#sk-container-id-16 pre{padding: 0;}#sk-container-id-16 div.sk-toggleable {background-color: white;}#sk-container-id-16 label.sk-toggleable__label {cursor: pointer;display: block;width: 100%;margin-bottom: 0;padding: 0.3em;box-sizing: border-box;text-align: center;}#sk-container-id-16 label.sk-toggleable__label-arrow:before {content: \"▸\";float: left;margin-right: 0.25em;color: #696969;}#sk-container-id-16 label.sk-toggleable__label-arrow:hover:before {color: black;}#sk-container-id-16 div.sk-estimator:hover label.sk-toggleable__label-arrow:before {color: black;}#sk-container-id-16 div.sk-toggleable__content {max-height: 0;max-width: 0;overflow: hidden;text-align: left;background-color: #f0f8ff;}#sk-container-id-16 div.sk-toggleable__content pre {margin: 0.2em;color: black;border-radius: 0.25em;background-color: #f0f8ff;}#sk-container-id-16 input.sk-toggleable__control:checked~div.sk-toggleable__content {max-height: 200px;max-width: 100%;overflow: auto;}#sk-container-id-16 input.sk-toggleable__control:checked~label.sk-toggleable__label-arrow:before {content: \"▾\";}#sk-container-id-16 div.sk-estimator input.sk-toggleable__control:checked~label.sk-toggleable__label {background-color: #d4ebff;}#sk-container-id-16 div.sk-label input.sk-toggleable__control:checked~label.sk-toggleable__label {background-color: #d4ebff;}#sk-container-id-16 input.sk-hidden--visually {border: 0;clip: rect(1px 1px 1px 1px);clip: rect(1px, 1px, 1px, 1px);height: 1px;margin: -1px;overflow: hidden;padding: 0;position: absolute;width: 1px;}#sk-container-id-16 div.sk-estimator {font-family: monospace;background-color: #f0f8ff;border: 1px dotted black;border-radius: 0.25em;box-sizing: border-box;margin-bottom: 0.5em;}#sk-container-id-16 div.sk-estimator:hover {background-color: #d4ebff;}#sk-container-id-16 div.sk-parallel-item::after {content: \"\";width: 100%;border-bottom: 1px solid gray;flex-grow: 1;}#sk-container-id-16 div.sk-label:hover label.sk-toggleable__label {background-color: #d4ebff;}#sk-container-id-16 div.sk-serial::before {content: \"\";position: absolute;border-left: 1px solid gray;box-sizing: border-box;top: 0;bottom: 0;left: 50%;z-index: 0;}#sk-container-id-16 div.sk-serial {display: flex;flex-direction: column;align-items: center;background-color: white;padding-right: 0.2em;padding-left: 0.2em;position: relative;}#sk-container-id-16 div.sk-item {position: relative;z-index: 1;}#sk-container-id-16 div.sk-parallel {display: flex;align-items: stretch;justify-content: center;background-color: white;position: relative;}#sk-container-id-16 div.sk-item::before, #sk-container-id-16 div.sk-parallel-item::before {content: \"\";position: absolute;border-left: 1px solid gray;box-sizing: border-box;top: 0;bottom: 0;left: 50%;z-index: -1;}#sk-container-id-16 div.sk-parallel-item {display: flex;flex-direction: column;z-index: 1;position: relative;background-color: white;}#sk-container-id-16 div.sk-parallel-item:first-child::after {align-self: flex-end;width: 50%;}#sk-container-id-16 div.sk-parallel-item:last-child::after {align-self: flex-start;width: 50%;}#sk-container-id-16 div.sk-parallel-item:only-child::after {width: 0;}#sk-container-id-16 div.sk-dashed-wrapped {border: 1px dashed gray;margin: 0 0.4em 0.5em 0.4em;box-sizing: border-box;padding-bottom: 0.4em;background-color: white;}#sk-container-id-16 div.sk-label label {font-family: monospace;font-weight: bold;display: inline-block;line-height: 1.2em;}#sk-container-id-16 div.sk-label-container {text-align: center;}#sk-container-id-16 div.sk-container {/* jupyter's `normalize.less` sets `[hidden] { display: none; }` but bootstrap.min.css set `[hidden] { display: none !important; }` so we also need the `!important` here to be able to override the default hidden behavior on the sphinx rendered scikit-learn.org. See: https://github.com/scikit-learn/scikit-learn/issues/21755 */display: inline-block !important;position: relative;}#sk-container-id-16 div.sk-text-repr-fallback {display: none;}</style><div id=\"sk-container-id-16\" class=\"sk-top-container\"><div class=\"sk-text-repr-fallback\"><pre>RandomForestClassifier(criterion=&#x27;log_loss&#x27;, max_depth=7, min_samples_leaf=150,\n",
       "                       min_samples_split=24, n_estimators=200, random_state=1)</pre><b>In a Jupyter environment, please rerun this cell to show the HTML representation or trust the notebook. <br />On GitHub, the HTML representation is unable to render, please try loading this page with nbviewer.org.</b></div><div class=\"sk-container\" hidden><div class=\"sk-item\"><div class=\"sk-estimator sk-toggleable\"><input class=\"sk-toggleable__control sk-hidden--visually\" id=\"sk-estimator-id-24\" type=\"checkbox\" checked><label for=\"sk-estimator-id-24\" class=\"sk-toggleable__label sk-toggleable__label-arrow\">RandomForestClassifier</label><div class=\"sk-toggleable__content\"><pre>RandomForestClassifier(criterion=&#x27;log_loss&#x27;, max_depth=7, min_samples_leaf=150,\n",
       "                       min_samples_split=24, n_estimators=200, random_state=1)</pre></div></div></div></div></div>"
      ],
      "text/plain": [
       "RandomForestClassifier(criterion='log_loss', max_depth=7, min_samples_leaf=150,\n",
       "                       min_samples_split=24, n_estimators=200, random_state=1)"
      ]
     },
     "execution_count": 148,
     "metadata": {},
     "output_type": "execute_result"
    }
   ],
   "source": [
    "rf = RandomForest = RandomForestClassifier(\n",
    "        n_estimators= 200\n",
    "        , random_state=1\n",
    "        , max_depth = 7\n",
    "        , min_samples_split = 24\n",
    "        , min_samples_leaf=150\n",
    "        , criterion = c \n",
    "    )\n",
    "rf.fit(train_X_res,train_y_res)\n",
    "rf"
   ]
  },
  {
   "cell_type": "code",
   "execution_count": 149,
   "id": "752e8b3f",
   "metadata": {},
   "outputs": [],
   "source": [
    "RandomForest_pred = rf.predict(test_X)\n",
    "rf_probs = rf.predict_proba(test_X)"
   ]
  },
  {
   "cell_type": "markdown",
   "id": "eab86d86",
   "metadata": {},
   "source": [
    "#### Neural Network"
   ]
  },
  {
   "cell_type": "code",
   "execution_count": 74,
   "id": "8e1963d7",
   "metadata": {
    "scrolled": true
   },
   "outputs": [
    {
     "data": {
      "text/html": [
       "<style>#sk-container-id-12 {color: black;background-color: white;}#sk-container-id-12 pre{padding: 0;}#sk-container-id-12 div.sk-toggleable {background-color: white;}#sk-container-id-12 label.sk-toggleable__label {cursor: pointer;display: block;width: 100%;margin-bottom: 0;padding: 0.3em;box-sizing: border-box;text-align: center;}#sk-container-id-12 label.sk-toggleable__label-arrow:before {content: \"▸\";float: left;margin-right: 0.25em;color: #696969;}#sk-container-id-12 label.sk-toggleable__label-arrow:hover:before {color: black;}#sk-container-id-12 div.sk-estimator:hover label.sk-toggleable__label-arrow:before {color: black;}#sk-container-id-12 div.sk-toggleable__content {max-height: 0;max-width: 0;overflow: hidden;text-align: left;background-color: #f0f8ff;}#sk-container-id-12 div.sk-toggleable__content pre {margin: 0.2em;color: black;border-radius: 0.25em;background-color: #f0f8ff;}#sk-container-id-12 input.sk-toggleable__control:checked~div.sk-toggleable__content {max-height: 200px;max-width: 100%;overflow: auto;}#sk-container-id-12 input.sk-toggleable__control:checked~label.sk-toggleable__label-arrow:before {content: \"▾\";}#sk-container-id-12 div.sk-estimator input.sk-toggleable__control:checked~label.sk-toggleable__label {background-color: #d4ebff;}#sk-container-id-12 div.sk-label input.sk-toggleable__control:checked~label.sk-toggleable__label {background-color: #d4ebff;}#sk-container-id-12 input.sk-hidden--visually {border: 0;clip: rect(1px 1px 1px 1px);clip: rect(1px, 1px, 1px, 1px);height: 1px;margin: -1px;overflow: hidden;padding: 0;position: absolute;width: 1px;}#sk-container-id-12 div.sk-estimator {font-family: monospace;background-color: #f0f8ff;border: 1px dotted black;border-radius: 0.25em;box-sizing: border-box;margin-bottom: 0.5em;}#sk-container-id-12 div.sk-estimator:hover {background-color: #d4ebff;}#sk-container-id-12 div.sk-parallel-item::after {content: \"\";width: 100%;border-bottom: 1px solid gray;flex-grow: 1;}#sk-container-id-12 div.sk-label:hover label.sk-toggleable__label {background-color: #d4ebff;}#sk-container-id-12 div.sk-serial::before {content: \"\";position: absolute;border-left: 1px solid gray;box-sizing: border-box;top: 0;bottom: 0;left: 50%;z-index: 0;}#sk-container-id-12 div.sk-serial {display: flex;flex-direction: column;align-items: center;background-color: white;padding-right: 0.2em;padding-left: 0.2em;position: relative;}#sk-container-id-12 div.sk-item {position: relative;z-index: 1;}#sk-container-id-12 div.sk-parallel {display: flex;align-items: stretch;justify-content: center;background-color: white;position: relative;}#sk-container-id-12 div.sk-item::before, #sk-container-id-12 div.sk-parallel-item::before {content: \"\";position: absolute;border-left: 1px solid gray;box-sizing: border-box;top: 0;bottom: 0;left: 50%;z-index: -1;}#sk-container-id-12 div.sk-parallel-item {display: flex;flex-direction: column;z-index: 1;position: relative;background-color: white;}#sk-container-id-12 div.sk-parallel-item:first-child::after {align-self: flex-end;width: 50%;}#sk-container-id-12 div.sk-parallel-item:last-child::after {align-self: flex-start;width: 50%;}#sk-container-id-12 div.sk-parallel-item:only-child::after {width: 0;}#sk-container-id-12 div.sk-dashed-wrapped {border: 1px dashed gray;margin: 0 0.4em 0.5em 0.4em;box-sizing: border-box;padding-bottom: 0.4em;background-color: white;}#sk-container-id-12 div.sk-label label {font-family: monospace;font-weight: bold;display: inline-block;line-height: 1.2em;}#sk-container-id-12 div.sk-label-container {text-align: center;}#sk-container-id-12 div.sk-container {/* jupyter's `normalize.less` sets `[hidden] { display: none; }` but bootstrap.min.css set `[hidden] { display: none !important; }` so we also need the `!important` here to be able to override the default hidden behavior on the sphinx rendered scikit-learn.org. See: https://github.com/scikit-learn/scikit-learn/issues/21755 */display: inline-block !important;position: relative;}#sk-container-id-12 div.sk-text-repr-fallback {display: none;}</style><div id=\"sk-container-id-12\" class=\"sk-top-container\"><div class=\"sk-text-repr-fallback\"><pre>MLPClassifier(activation=&#x27;logistic&#x27;, alpha=0.02, beta_1=0.68,\n",
       "              hidden_layer_sizes=10, max_iter=100, random_state=1)</pre><b>In a Jupyter environment, please rerun this cell to show the HTML representation or trust the notebook. <br />On GitHub, the HTML representation is unable to render, please try loading this page with nbviewer.org.</b></div><div class=\"sk-container\" hidden><div class=\"sk-item\"><div class=\"sk-estimator sk-toggleable\"><input class=\"sk-toggleable__control sk-hidden--visually\" id=\"sk-estimator-id-20\" type=\"checkbox\" checked><label for=\"sk-estimator-id-20\" class=\"sk-toggleable__label sk-toggleable__label-arrow\">MLPClassifier</label><div class=\"sk-toggleable__content\"><pre>MLPClassifier(activation=&#x27;logistic&#x27;, alpha=0.02, beta_1=0.68,\n",
       "              hidden_layer_sizes=10, max_iter=100, random_state=1)</pre></div></div></div></div></div>"
      ],
      "text/plain": [
       "MLPClassifier(activation='logistic', alpha=0.02, beta_1=0.68,\n",
       "              hidden_layer_sizes=10, max_iter=100, random_state=1)"
      ]
     },
     "execution_count": 74,
     "metadata": {},
     "output_type": "execute_result"
    }
   ],
   "source": [
    "neuralNet = MLPClassifier(\n",
    "    hidden_layer_sizes=(10)\n",
    "    , activation='logistic'\n",
    "    , solver='adam'\n",
    "    , max_iter=100\n",
    "    , alpha = 0.02\n",
    "    , beta_1 = 0.68\n",
    "    , random_state=1\n",
    "    , epsilon= 1e-8\n",
    ")\n",
    "neuralNet.fit(train_X_res,train_y_res)\n",
    "neuralNet"
   ]
  },
  {
   "cell_type": "code",
   "execution_count": 84,
   "id": "a51394e1",
   "metadata": {},
   "outputs": [],
   "source": [
    "neuralNet_pred = neuralNet.predict(test_X)\n",
    "nn_probs = neuralNet.predict_proba(test_X)"
   ]
  },
  {
   "cell_type": "code",
   "execution_count": 150,
   "id": "d6ab3d50",
   "metadata": {},
   "outputs": [
    {
     "data": {
      "text/html": [
       "<div>\n",
       "<style scoped>\n",
       "    .dataframe tbody tr th:only-of-type {\n",
       "        vertical-align: middle;\n",
       "    }\n",
       "\n",
       "    .dataframe tbody tr th {\n",
       "        vertical-align: top;\n",
       "    }\n",
       "\n",
       "    .dataframe thead th {\n",
       "        text-align: right;\n",
       "    }\n",
       "</style>\n",
       "<table border=\"1\" class=\"dataframe\">\n",
       "  <thead>\n",
       "    <tr style=\"text-align: right;\">\n",
       "      <th></th>\n",
       "      <th>Models</th>\n",
       "      <th>Accuracy</th>\n",
       "      <th>Precision</th>\n",
       "      <th>Recall</th>\n",
       "      <th>F1_Score</th>\n",
       "      <th>ROC AUC</th>\n",
       "    </tr>\n",
       "  </thead>\n",
       "  <tbody>\n",
       "    <tr>\n",
       "      <th>0</th>\n",
       "      <td>Logistic Regression</td>\n",
       "      <td>0.781641</td>\n",
       "      <td>0.092742</td>\n",
       "      <td>0.718455</td>\n",
       "      <td>0.164279</td>\n",
       "      <td>0.831921</td>\n",
       "    </tr>\n",
       "    <tr>\n",
       "      <th>1</th>\n",
       "      <td>Random Forest</td>\n",
       "      <td>0.816205</td>\n",
       "      <td>0.107493</td>\n",
       "      <td>0.705579</td>\n",
       "      <td>0.186564</td>\n",
       "      <td>0.838299</td>\n",
       "    </tr>\n",
       "    <tr>\n",
       "      <th>2</th>\n",
       "      <td>Neural Network</td>\n",
       "      <td>0.812077</td>\n",
       "      <td>0.105378</td>\n",
       "      <td>0.706438</td>\n",
       "      <td>0.183398</td>\n",
       "      <td>0.841615</td>\n",
       "    </tr>\n",
       "    <tr>\n",
       "      <th>3</th>\n",
       "      <td>Naive Bayes</td>\n",
       "      <td>0.720462</td>\n",
       "      <td>0.074989</td>\n",
       "      <td>0.737339</td>\n",
       "      <td>0.136133</td>\n",
       "      <td>0.816283</td>\n",
       "    </tr>\n",
       "  </tbody>\n",
       "</table>\n",
       "</div>"
      ],
      "text/plain": [
       "                Models  Accuracy  Precision    Recall  F1_Score   ROC AUC\n",
       "0  Logistic Regression  0.781641   0.092742  0.718455  0.164279  0.831921\n",
       "1        Random Forest  0.816205   0.107493  0.705579  0.186564  0.838299\n",
       "2       Neural Network  0.812077   0.105378  0.706438  0.183398  0.841615\n",
       "3          Naive Bayes  0.720462   0.074989  0.737339  0.136133  0.816283"
      ]
     },
     "execution_count": 150,
     "metadata": {},
     "output_type": "execute_result"
    }
   ],
   "source": [
    "table = {'Models':[\"Logistic Regression\", \n",
    "                   \"Random Forest\",\n",
    "                   \"Neural Network\",\n",
    "                   \"Naive Bayes\"],\n",
    "         'Accuracy':[accuracy_score(test_y, logit_pred), \n",
    "                     accuracy_score(test_y, RandomForest_pred),\n",
    "                     accuracy_score(test_y, neuralNet_pred),\n",
    "                     accuracy_score(test_y, gnb_pred)],\n",
    "         'Precision':[precision_score(test_y, logit_pred),\n",
    "                      precision_score(test_y, RandomForest_pred),\n",
    "                      precision_score(test_y, neuralNet_pred), \n",
    "                      precision_score(test_y, gnb_pred)\n",
    "                     ],\n",
    "         \"Recall\":[recall_score(test_y, logit_pred),\n",
    "                   recall_score(test_y, RandomForest_pred),\n",
    "                   recall_score(test_y,neuralNet_pred),\n",
    "                   recall_score(test_y,gnb_pred)\n",
    "                  ],\n",
    "         \"F1_Score\":[f1_score(test_y, logit_pred),\n",
    "                     f1_score(test_y, RandomForest_pred),\n",
    "                     f1_score(test_y,neuralNet_pred),\n",
    "                     f1_score(test_y,gnb_pred)\n",
    "                    ],\n",
    "         \"ROC AUC\":[roc_auc_score(test_y, lr_probs[:, 1]),\n",
    "                    roc_auc_score(test_y, rf_probs[:, 1]),\n",
    "                    roc_auc_score(test_y,  nn_probs[:, 1]),\n",
    "                    roc_auc_score(test_y, gnb_probs[:, 1])\n",
    "                   ]\n",
    "}\n",
    "table_report = pd.DataFrame(table)\n",
    "# print the data\n",
    "table_report"
   ]
  },
  {
   "cell_type": "markdown",
   "id": "cec68508",
   "metadata": {},
   "source": [
    "Our team chose to optimize on ROC-AUC score, with parsimony as a major consideration. In this case, we select the Random Forest model for its performance relative to the Neural Net on ROC, its relatively high accuracy and precision, high recall, and F1-Score."
   ]
  },
  {
   "cell_type": "code",
   "execution_count": 151,
   "id": "3999adcc",
   "metadata": {},
   "outputs": [],
   "source": [
    "import pickle\n",
    "ename = 'finalized_rf_model.sav'\n",
    "pickle.dump(rf, open(filename, 'wb'))"
   ]
  },
  {
   "cell_type": "code",
   "execution_count": 152,
   "id": "2936bfe7",
   "metadata": {},
   "outputs": [
    {
     "data": {
      "text/html": [
       "<style>#sk-container-id-17 {color: black;background-color: white;}#sk-container-id-17 pre{padding: 0;}#sk-container-id-17 div.sk-toggleable {background-color: white;}#sk-container-id-17 label.sk-toggleable__label {cursor: pointer;display: block;width: 100%;margin-bottom: 0;padding: 0.3em;box-sizing: border-box;text-align: center;}#sk-container-id-17 label.sk-toggleable__label-arrow:before {content: \"▸\";float: left;margin-right: 0.25em;color: #696969;}#sk-container-id-17 label.sk-toggleable__label-arrow:hover:before {color: black;}#sk-container-id-17 div.sk-estimator:hover label.sk-toggleable__label-arrow:before {color: black;}#sk-container-id-17 div.sk-toggleable__content {max-height: 0;max-width: 0;overflow: hidden;text-align: left;background-color: #f0f8ff;}#sk-container-id-17 div.sk-toggleable__content pre {margin: 0.2em;color: black;border-radius: 0.25em;background-color: #f0f8ff;}#sk-container-id-17 input.sk-toggleable__control:checked~div.sk-toggleable__content {max-height: 200px;max-width: 100%;overflow: auto;}#sk-container-id-17 input.sk-toggleable__control:checked~label.sk-toggleable__label-arrow:before {content: \"▾\";}#sk-container-id-17 div.sk-estimator input.sk-toggleable__control:checked~label.sk-toggleable__label {background-color: #d4ebff;}#sk-container-id-17 div.sk-label input.sk-toggleable__control:checked~label.sk-toggleable__label {background-color: #d4ebff;}#sk-container-id-17 input.sk-hidden--visually {border: 0;clip: rect(1px 1px 1px 1px);clip: rect(1px, 1px, 1px, 1px);height: 1px;margin: -1px;overflow: hidden;padding: 0;position: absolute;width: 1px;}#sk-container-id-17 div.sk-estimator {font-family: monospace;background-color: #f0f8ff;border: 1px dotted black;border-radius: 0.25em;box-sizing: border-box;margin-bottom: 0.5em;}#sk-container-id-17 div.sk-estimator:hover {background-color: #d4ebff;}#sk-container-id-17 div.sk-parallel-item::after {content: \"\";width: 100%;border-bottom: 1px solid gray;flex-grow: 1;}#sk-container-id-17 div.sk-label:hover label.sk-toggleable__label {background-color: #d4ebff;}#sk-container-id-17 div.sk-serial::before {content: \"\";position: absolute;border-left: 1px solid gray;box-sizing: border-box;top: 0;bottom: 0;left: 50%;z-index: 0;}#sk-container-id-17 div.sk-serial {display: flex;flex-direction: column;align-items: center;background-color: white;padding-right: 0.2em;padding-left: 0.2em;position: relative;}#sk-container-id-17 div.sk-item {position: relative;z-index: 1;}#sk-container-id-17 div.sk-parallel {display: flex;align-items: stretch;justify-content: center;background-color: white;position: relative;}#sk-container-id-17 div.sk-item::before, #sk-container-id-17 div.sk-parallel-item::before {content: \"\";position: absolute;border-left: 1px solid gray;box-sizing: border-box;top: 0;bottom: 0;left: 50%;z-index: -1;}#sk-container-id-17 div.sk-parallel-item {display: flex;flex-direction: column;z-index: 1;position: relative;background-color: white;}#sk-container-id-17 div.sk-parallel-item:first-child::after {align-self: flex-end;width: 50%;}#sk-container-id-17 div.sk-parallel-item:last-child::after {align-self: flex-start;width: 50%;}#sk-container-id-17 div.sk-parallel-item:only-child::after {width: 0;}#sk-container-id-17 div.sk-dashed-wrapped {border: 1px dashed gray;margin: 0 0.4em 0.5em 0.4em;box-sizing: border-box;padding-bottom: 0.4em;background-color: white;}#sk-container-id-17 div.sk-label label {font-family: monospace;font-weight: bold;display: inline-block;line-height: 1.2em;}#sk-container-id-17 div.sk-label-container {text-align: center;}#sk-container-id-17 div.sk-container {/* jupyter's `normalize.less` sets `[hidden] { display: none; }` but bootstrap.min.css set `[hidden] { display: none !important; }` so we also need the `!important` here to be able to override the default hidden behavior on the sphinx rendered scikit-learn.org. See: https://github.com/scikit-learn/scikit-learn/issues/21755 */display: inline-block !important;position: relative;}#sk-container-id-17 div.sk-text-repr-fallback {display: none;}</style><div id=\"sk-container-id-17\" class=\"sk-top-container\"><div class=\"sk-text-repr-fallback\"><pre>RandomForestClassifier(criterion=&#x27;log_loss&#x27;, max_depth=7, min_samples_leaf=150,\n",
       "                       min_samples_split=24, n_estimators=200, random_state=1)</pre><b>In a Jupyter environment, please rerun this cell to show the HTML representation or trust the notebook. <br />On GitHub, the HTML representation is unable to render, please try loading this page with nbviewer.org.</b></div><div class=\"sk-container\" hidden><div class=\"sk-item\"><div class=\"sk-estimator sk-toggleable\"><input class=\"sk-toggleable__control sk-hidden--visually\" id=\"sk-estimator-id-25\" type=\"checkbox\" checked><label for=\"sk-estimator-id-25\" class=\"sk-toggleable__label sk-toggleable__label-arrow\">RandomForestClassifier</label><div class=\"sk-toggleable__content\"><pre>RandomForestClassifier(criterion=&#x27;log_loss&#x27;, max_depth=7, min_samples_leaf=150,\n",
       "                       min_samples_split=24, n_estimators=200, random_state=1)</pre></div></div></div></div></div>"
      ],
      "text/plain": [
       "RandomForestClassifier(criterion='log_loss', max_depth=7, min_samples_leaf=150,\n",
       "                       min_samples_split=24, n_estimators=200, random_state=1)"
      ]
     },
     "execution_count": 152,
     "metadata": {},
     "output_type": "execute_result"
    }
   ],
   "source": [
    "#sanity check - reload form pickle\n",
    "loaded_model = pickle.load(open(filename, 'rb'))\n",
    "loaded_model"
   ]
  }
 ],
 "metadata": {
  "kernelspec": {
   "display_name": "Python 3 (ipykernel)",
   "language": "python",
   "name": "python3"
  },
  "language_info": {
   "codemirror_mode": {
    "name": "ipython",
    "version": 3
   },
   "file_extension": ".py",
   "mimetype": "text/x-python",
   "name": "python",
   "nbconvert_exporter": "python",
   "pygments_lexer": "ipython3",
   "version": "3.8.2"
  }
 },
 "nbformat": 4,
 "nbformat_minor": 5
}
