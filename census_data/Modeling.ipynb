{
 "cells": [
  {
   "cell_type": "code",
   "execution_count": 1,
   "id": "000250b4",
   "metadata": {},
   "outputs": [],
   "source": [
    "import pandas as pd \n",
    "import numpy as np\n",
    "import degree_codes as dc\n",
    "import matplotlib.pyplot as plt\n",
    "plt.style.use('seaborn-dark-palette')\n",
    "import warnings\n",
    "warnings.filterwarnings(\"ignore\")\n",
    "from sklearn.model_selection import train_test_split, GridSearchCV\n",
    "from imblearn.combine import SMOTETomek\n",
    "from sklearn.neural_network import MLPClassifier\n",
    "import seaborn as sns\n",
    "from sklearn.linear_model import LogisticRegression\n",
    "from dmba import classificationSummary, gainsChart\n",
    "from sklearn.metrics import roc_curve, auc\n",
    "from sklearn.metrics import precision_score\n",
    "from sklearn.metrics import recall_score\n",
    "from sklearn.metrics import f1_score\n",
    "from sklearn.metrics import roc_auc_score\n",
    "from sklearn.ensemble import RandomForestClassifier\n",
    "from sklearn.metrics import accuracy_score\n",
    "from sklearn.model_selection import RandomizedSearchCV\n",
    "import pprint\n",
    "from sklearn.svm import SVC  "
   ]
  },
  {
   "cell_type": "code",
   "execution_count": 2,
   "id": "59751226",
   "metadata": {},
   "outputs": [
    {
     "data": {
      "text/html": [
       "<div>\n",
       "<style scoped>\n",
       "    .dataframe tbody tr th:only-of-type {\n",
       "        vertical-align: middle;\n",
       "    }\n",
       "\n",
       "    .dataframe tbody tr th {\n",
       "        vertical-align: top;\n",
       "    }\n",
       "\n",
       "    .dataframe thead th {\n",
       "        text-align: right;\n",
       "    }\n",
       "</style>\n",
       "<table border=\"1\" class=\"dataframe\">\n",
       "  <thead>\n",
       "    <tr style=\"text-align: right;\">\n",
       "      <th></th>\n",
       "      <th>SEX</th>\n",
       "      <th>AGE</th>\n",
       "      <th>stemType</th>\n",
       "      <th>stemBinary</th>\n",
       "      <th>State</th>\n",
       "      <th>under_represented</th>\n",
       "      <th>domestic_born</th>\n",
       "      <th>EDU_verbose</th>\n",
       "      <th>is_STEM_degree</th>\n",
       "      <th>STEM_Degree_Area</th>\n",
       "    </tr>\n",
       "  </thead>\n",
       "  <tbody>\n",
       "    <tr>\n",
       "      <th>0</th>\n",
       "      <td>0</td>\n",
       "      <td>53</td>\n",
       "      <td>-1</td>\n",
       "      <td>0</td>\n",
       "      <td>Wisconsin</td>\n",
       "      <td>0</td>\n",
       "      <td>1</td>\n",
       "      <td>High School</td>\n",
       "      <td>0</td>\n",
       "      <td>None</td>\n",
       "    </tr>\n",
       "    <tr>\n",
       "      <th>1</th>\n",
       "      <td>0</td>\n",
       "      <td>56</td>\n",
       "      <td>-1</td>\n",
       "      <td>0</td>\n",
       "      <td>New York</td>\n",
       "      <td>0</td>\n",
       "      <td>1</td>\n",
       "      <td>High School</td>\n",
       "      <td>0</td>\n",
       "      <td>None</td>\n",
       "    </tr>\n",
       "    <tr>\n",
       "      <th>2</th>\n",
       "      <td>1</td>\n",
       "      <td>35</td>\n",
       "      <td>-1</td>\n",
       "      <td>0</td>\n",
       "      <td>Pennsylvania</td>\n",
       "      <td>0</td>\n",
       "      <td>0</td>\n",
       "      <td>Bachelor</td>\n",
       "      <td>0</td>\n",
       "      <td>None</td>\n",
       "    </tr>\n",
       "  </tbody>\n",
       "</table>\n",
       "</div>"
      ],
      "text/plain": [
       "   SEX  AGE stemType  stemBinary         State  under_represented  \\\n",
       "0    0   53       -1           0     Wisconsin                  0   \n",
       "1    0   56       -1           0      New York                  0   \n",
       "2    1   35       -1           0  Pennsylvania                  0   \n",
       "\n",
       "   domestic_born  EDU_verbose  is_STEM_degree STEM_Degree_Area  \n",
       "0              1  High School               0             None  \n",
       "1              1  High School               0             None  \n",
       "2              0     Bachelor               0             None  "
      ]
     },
     "execution_count": 2,
     "metadata": {},
     "output_type": "execute_result"
    }
   ],
   "source": [
    "df=pd.read_csv('main_df.csv')\n",
    "df.head(3)"
   ]
  },
  {
   "cell_type": "code",
   "execution_count": 3,
   "id": "19b248ec",
   "metadata": {},
   "outputs": [],
   "source": [
    "#selecting the feautures for modeling\n",
    "df_model=df[[\n",
    "    'SEX'\n",
    "    #,'State'\n",
    "    ,'AGE'\n",
    "    ,'domestic_born'\n",
    "    ,'EDU_verbose'\n",
    "    ,'is_STEM_degree'\n",
    "    ,'under_represented'\n",
    "    ,'stemType'\n",
    "    ,'STEM_Degree_Area'\n",
    "]]\n",
    "del df"
   ]
  },
  {
   "cell_type": "code",
   "execution_count": 4,
   "id": "ef07b352",
   "metadata": {},
   "outputs": [
    {
     "data": {
      "text/plain": [
       "-1                                                                                 188145\n",
       "Research, Development, Design, and Practitioners                                     4031\n",
       "Other                                                                                1049\n",
       "Managerial                                                                            768\n",
       "Research, Development, Design, and Practitioners; Technologists and Technicians       612\n",
       "Technologists and Technicians                                                         355\n",
       "Sales                                                                                  39\n",
       "Name: stemType, dtype: int64"
      ]
     },
     "execution_count": 4,
     "metadata": {},
     "output_type": "execute_result"
    }
   ],
   "source": [
    "df_model['stemType'].value_counts()"
   ]
  },
  {
   "cell_type": "markdown",
   "id": "ff9ec7e7",
   "metadata": {},
   "source": [
    "In order to run any sort of modeling on stemType, our target variable, we have to binarize it by employing a lambda function. At this point, stemType indicates whether an individual works in STEM, rather than which STEM field they're employed in :"
   ]
  },
  {
   "cell_type": "code",
   "execution_count": 5,
   "id": "902a7131",
   "metadata": {},
   "outputs": [
    {
     "data": {
      "text/plain": [
       "0    0\n",
       "1    0\n",
       "2    0\n",
       "Name: stemType, dtype: int64"
      ]
     },
     "execution_count": 5,
     "metadata": {},
     "output_type": "execute_result"
    }
   ],
   "source": [
    "def binarize_stem(x):\n",
    "    if x == '-1':\n",
    "        return 0\n",
    "    return 1\n",
    "\n",
    "#binarize STEM\n",
    "df_model['stemType'] = df_model['stemType'].map(binarize_stem)\n",
    "\n",
    "df_model['stemType'].head(3)"
   ]
  },
  {
   "cell_type": "markdown",
   "id": "1e42e666",
   "metadata": {},
   "source": [
    "In order to deploy our ML model online, we need to save a version of our full dataset that enables the user to define the value for each feature before we do encoding for EDU_verbose."
   ]
  },
  {
   "cell_type": "code",
   "execution_count": 6,
   "id": "fac0fbfe",
   "metadata": {},
   "outputs": [],
   "source": [
    "df_model.to_csv('streamlit/data.csv',index=None)"
   ]
  },
  {
   "cell_type": "markdown",
   "id": "a2488c85",
   "metadata": {},
   "source": [
    "Given that there's several different levels of education, we would benefit from using dummy variables in our modeling for them:"
   ]
  },
  {
   "cell_type": "code",
   "execution_count": 7,
   "id": "2c43da3b",
   "metadata": {},
   "outputs": [
    {
     "data": {
      "text/html": [
       "<div>\n",
       "<style scoped>\n",
       "    .dataframe tbody tr th:only-of-type {\n",
       "        vertical-align: middle;\n",
       "    }\n",
       "\n",
       "    .dataframe tbody tr th {\n",
       "        vertical-align: top;\n",
       "    }\n",
       "\n",
       "    .dataframe thead th {\n",
       "        text-align: right;\n",
       "    }\n",
       "</style>\n",
       "<table border=\"1\" class=\"dataframe\">\n",
       "  <thead>\n",
       "    <tr style=\"text-align: right;\">\n",
       "      <th></th>\n",
       "      <th>SEX</th>\n",
       "      <th>AGE</th>\n",
       "      <th>domestic_born</th>\n",
       "      <th>is_STEM_degree</th>\n",
       "      <th>under_represented</th>\n",
       "      <th>stemType</th>\n",
       "      <th>STEM_Degree_Area_Agriculture</th>\n",
       "      <th>STEM_Degree_Area_Biology and Life Sciences</th>\n",
       "      <th>STEM_Degree_Area_Business</th>\n",
       "      <th>STEM_Degree_Area_Computer and Information Sciences</th>\n",
       "      <th>...</th>\n",
       "      <th>STEM_Degree_Area_Military Technologies</th>\n",
       "      <th>STEM_Degree_Area_None</th>\n",
       "      <th>STEM_Degree_Area_Nuclear, Industrial Radiology, and Biological Technologies</th>\n",
       "      <th>STEM_Degree_Area_Physical Sciences</th>\n",
       "      <th>EDU_verbose_Associate</th>\n",
       "      <th>EDU_verbose_Bachelor</th>\n",
       "      <th>EDU_verbose_High School</th>\n",
       "      <th>EDU_verbose_Master</th>\n",
       "      <th>EDU_verbose_None/Below HS</th>\n",
       "      <th>EDU_verbose_PhD</th>\n",
       "    </tr>\n",
       "  </thead>\n",
       "  <tbody>\n",
       "    <tr>\n",
       "      <th>0</th>\n",
       "      <td>0</td>\n",
       "      <td>53</td>\n",
       "      <td>1</td>\n",
       "      <td>0</td>\n",
       "      <td>0</td>\n",
       "      <td>0</td>\n",
       "      <td>0</td>\n",
       "      <td>0</td>\n",
       "      <td>0</td>\n",
       "      <td>0</td>\n",
       "      <td>...</td>\n",
       "      <td>0</td>\n",
       "      <td>1</td>\n",
       "      <td>0</td>\n",
       "      <td>0</td>\n",
       "      <td>0</td>\n",
       "      <td>0</td>\n",
       "      <td>1</td>\n",
       "      <td>0</td>\n",
       "      <td>0</td>\n",
       "      <td>0</td>\n",
       "    </tr>\n",
       "    <tr>\n",
       "      <th>1</th>\n",
       "      <td>0</td>\n",
       "      <td>56</td>\n",
       "      <td>1</td>\n",
       "      <td>0</td>\n",
       "      <td>0</td>\n",
       "      <td>0</td>\n",
       "      <td>0</td>\n",
       "      <td>0</td>\n",
       "      <td>0</td>\n",
       "      <td>0</td>\n",
       "      <td>...</td>\n",
       "      <td>0</td>\n",
       "      <td>1</td>\n",
       "      <td>0</td>\n",
       "      <td>0</td>\n",
       "      <td>0</td>\n",
       "      <td>0</td>\n",
       "      <td>1</td>\n",
       "      <td>0</td>\n",
       "      <td>0</td>\n",
       "      <td>0</td>\n",
       "    </tr>\n",
       "    <tr>\n",
       "      <th>2</th>\n",
       "      <td>1</td>\n",
       "      <td>35</td>\n",
       "      <td>0</td>\n",
       "      <td>0</td>\n",
       "      <td>0</td>\n",
       "      <td>0</td>\n",
       "      <td>0</td>\n",
       "      <td>0</td>\n",
       "      <td>0</td>\n",
       "      <td>0</td>\n",
       "      <td>...</td>\n",
       "      <td>0</td>\n",
       "      <td>1</td>\n",
       "      <td>0</td>\n",
       "      <td>0</td>\n",
       "      <td>0</td>\n",
       "      <td>1</td>\n",
       "      <td>0</td>\n",
       "      <td>0</td>\n",
       "      <td>0</td>\n",
       "      <td>0</td>\n",
       "    </tr>\n",
       "    <tr>\n",
       "      <th>3</th>\n",
       "      <td>0</td>\n",
       "      <td>30</td>\n",
       "      <td>1</td>\n",
       "      <td>0</td>\n",
       "      <td>0</td>\n",
       "      <td>0</td>\n",
       "      <td>0</td>\n",
       "      <td>0</td>\n",
       "      <td>0</td>\n",
       "      <td>0</td>\n",
       "      <td>...</td>\n",
       "      <td>0</td>\n",
       "      <td>1</td>\n",
       "      <td>0</td>\n",
       "      <td>0</td>\n",
       "      <td>0</td>\n",
       "      <td>0</td>\n",
       "      <td>1</td>\n",
       "      <td>0</td>\n",
       "      <td>0</td>\n",
       "      <td>0</td>\n",
       "    </tr>\n",
       "    <tr>\n",
       "      <th>4</th>\n",
       "      <td>0</td>\n",
       "      <td>47</td>\n",
       "      <td>1</td>\n",
       "      <td>0</td>\n",
       "      <td>0</td>\n",
       "      <td>0</td>\n",
       "      <td>0</td>\n",
       "      <td>0</td>\n",
       "      <td>0</td>\n",
       "      <td>0</td>\n",
       "      <td>...</td>\n",
       "      <td>0</td>\n",
       "      <td>1</td>\n",
       "      <td>0</td>\n",
       "      <td>0</td>\n",
       "      <td>0</td>\n",
       "      <td>0</td>\n",
       "      <td>1</td>\n",
       "      <td>0</td>\n",
       "      <td>0</td>\n",
       "      <td>0</td>\n",
       "    </tr>\n",
       "  </tbody>\n",
       "</table>\n",
       "<p>5 rows × 27 columns</p>\n",
       "</div>"
      ],
      "text/plain": [
       "   SEX  AGE  domestic_born  is_STEM_degree  under_represented  stemType  \\\n",
       "0    0   53              1               0                  0         0   \n",
       "1    0   56              1               0                  0         0   \n",
       "2    1   35              0               0                  0         0   \n",
       "3    0   30              1               0                  0         0   \n",
       "4    0   47              1               0                  0         0   \n",
       "\n",
       "   STEM_Degree_Area_Agriculture  STEM_Degree_Area_Biology and Life Sciences  \\\n",
       "0                             0                                           0   \n",
       "1                             0                                           0   \n",
       "2                             0                                           0   \n",
       "3                             0                                           0   \n",
       "4                             0                                           0   \n",
       "\n",
       "   STEM_Degree_Area_Business  \\\n",
       "0                          0   \n",
       "1                          0   \n",
       "2                          0   \n",
       "3                          0   \n",
       "4                          0   \n",
       "\n",
       "   STEM_Degree_Area_Computer and Information Sciences  ...  \\\n",
       "0                                                  0   ...   \n",
       "1                                                  0   ...   \n",
       "2                                                  0   ...   \n",
       "3                                                  0   ...   \n",
       "4                                                  0   ...   \n",
       "\n",
       "   STEM_Degree_Area_Military Technologies  STEM_Degree_Area_None  \\\n",
       "0                                       0                      1   \n",
       "1                                       0                      1   \n",
       "2                                       0                      1   \n",
       "3                                       0                      1   \n",
       "4                                       0                      1   \n",
       "\n",
       "   STEM_Degree_Area_Nuclear, Industrial Radiology, and Biological Technologies  \\\n",
       "0                                                  0                             \n",
       "1                                                  0                             \n",
       "2                                                  0                             \n",
       "3                                                  0                             \n",
       "4                                                  0                             \n",
       "\n",
       "   STEM_Degree_Area_Physical Sciences  EDU_verbose_Associate  \\\n",
       "0                                   0                      0   \n",
       "1                                   0                      0   \n",
       "2                                   0                      0   \n",
       "3                                   0                      0   \n",
       "4                                   0                      0   \n",
       "\n",
       "   EDU_verbose_Bachelor  EDU_verbose_High School  EDU_verbose_Master  \\\n",
       "0                     0                        1                   0   \n",
       "1                     0                        1                   0   \n",
       "2                     1                        0                   0   \n",
       "3                     0                        1                   0   \n",
       "4                     0                        1                   0   \n",
       "\n",
       "   EDU_verbose_None/Below HS  EDU_verbose_PhD  \n",
       "0                          0                0  \n",
       "1                          0                0  \n",
       "2                          0                0  \n",
       "3                          0                0  \n",
       "4                          0                0  \n",
       "\n",
       "[5 rows x 27 columns]"
      ]
     },
     "execution_count": 7,
     "metadata": {},
     "output_type": "execute_result"
    }
   ],
   "source": [
    "a = pd.get_dummies(df_model['STEM_Degree_Area'],prefix='STEM_Degree_Area')\n",
    "b = pd.get_dummies(df_model['EDU_verbose'],prefix='EDU_verbose')#get dummy variables for Education\n",
    "\n",
    "frames = [\n",
    "    df_model\n",
    "    , a\n",
    "    , b] # append them as a list\n",
    "df_model = pd.concat(frames, axis = 1)\n",
    "df_model=df_model.drop(columns = [\n",
    "    'EDU_verbose',\n",
    "    'STEM_Degree_Area'\n",
    "]) \n",
    "df_model.head()"
   ]
  },
  {
   "cell_type": "markdown",
   "id": "fd9048d0",
   "metadata": {},
   "source": [
    "Finally, to keep scale consistent, we would want to normalize the AGE variable to avoid giving it more weight. We can do this by subtracting the mean and dividing by the standard devation:"
   ]
  },
  {
   "cell_type": "code",
   "execution_count": 8,
   "id": "6f56da54",
   "metadata": {},
   "outputs": [
    {
     "name": "stdout",
     "output_type": "stream",
     "text": [
      "Age Std. Dev:18.939649284403245\n",
      "Mean Age:50.02754885922492\n"
     ]
    }
   ],
   "source": [
    "print(f\"Age Std. Dev:{df_model['AGE'].std()}\")\n",
    "print(f\"Mean Age:{df_model['AGE'].mean()}\")"
   ]
  },
  {
   "cell_type": "code",
   "execution_count": 9,
   "id": "63a6b975",
   "metadata": {},
   "outputs": [
    {
     "data": {
      "text/plain": [
       "0    0.156943\n",
       "1    0.315341\n",
       "2   -0.793444\n",
       "Name: AGE, dtype: float64"
      ]
     },
     "execution_count": 9,
     "metadata": {},
     "output_type": "execute_result"
    }
   ],
   "source": [
    "df_model['AGE'] = (df_model['AGE']-df_model['AGE'].mean())/df_model['AGE'].std()\n",
    "df_model['AGE'].head(3)"
   ]
  },
  {
   "cell_type": "code",
   "execution_count": 10,
   "id": "386d1eee",
   "metadata": {},
   "outputs": [
    {
     "data": {
      "text/plain": [
       "0    188145\n",
       "1      6854\n",
       "Name: stemType, dtype: int64"
      ]
     },
     "execution_count": 10,
     "metadata": {},
     "output_type": "execute_result"
    }
   ],
   "source": [
    "y=df_model['stemType']\n",
    "y.value_counts()"
   ]
  },
  {
   "cell_type": "markdown",
   "id": "249e2944",
   "metadata": {},
   "source": [
    "### Check for class imbalance "
   ]
  },
  {
   "cell_type": "code",
   "execution_count": 11,
   "id": "09766e2e",
   "metadata": {},
   "outputs": [
    {
     "name": "stdout",
     "output_type": "stream",
     "text": [
      "Percent of 0s: 96.49\n",
      "\n",
      "Percent of 1s: 3.51\n"
     ]
    },
    {
     "data": {
      "image/png": "[encoded data removed]",
      "text/plain": [
       "<Figure size 432x288 with 1 Axes>"
      ]
     },
     "metadata": {
      "needs_background": "light"
     },
     "output_type": "display_data"
    }
   ],
   "source": [
    "data = pd.DataFrame(df_model['stemType'])\n",
    "percentage1 = round((data.stemType.sum() / data.shape[0]) * 100, 2) \n",
    "percentage0 = round(100 - percentage1, 2)\n",
    "print('Percent of 0s:', percentage0)\n",
    "print('\\nPercent of 1s:', percentage1)\n",
    "t=df_model['stemType'].value_counts().values\n",
    "sns.barplot([0,1],t)\n",
    "plt.title('Target variable count')\n",
    "plt.show()"
   ]
  },
  {
   "cell_type": "code",
   "execution_count": 12,
   "id": "6d98f280",
   "metadata": {},
   "outputs": [],
   "source": [
    "X = df_model.drop(columns=['stemType'])\n",
    "y = df_model['stemType']\n",
    "train_X, rem_X, train_y, rem_y = train_test_split(X, y, train_size=0.6, random_state=42, stratify = y)\n",
    "valid_X, test_X, valid_y, test_y = train_test_split(rem_X, rem_y, train_size=0.5, random_state=42, stratify = rem_y) "
   ]
  },
  {
   "cell_type": "code",
   "execution_count": 13,
   "id": "b581ad37",
   "metadata": {},
   "outputs": [
    {
     "name": "stdout",
     "output_type": "stream",
     "text": [
      "Training Set:\n",
      " 0    112887\n",
      "1      4112\n",
      "Name: stemType, dtype: int64 \n",
      " 0    0.964854\n",
      "1    0.035146\n",
      "Name: stemType, dtype: float64\n",
      "\n",
      "Validation Set:\n",
      " 0    37629\n",
      "1     1371\n",
      "Name: stemType, dtype: int64 \n",
      " 0    0.964846\n",
      "1    0.035154\n",
      "Name: stemType, dtype: float64\n",
      "\n",
      "Test Set:\n",
      " 0    37629\n",
      "1     1371\n",
      "Name: stemType, dtype: int64 \n",
      " 0    0.964846\n",
      "1    0.035154\n",
      "Name: stemType, dtype: float64\n"
     ]
    }
   ],
   "source": [
    "print('Training Set:\\n', train_y.value_counts(), '\\n', train_y.value_counts(normalize = True))\n",
    "print('\\nValidation Set:\\n', valid_y.value_counts(), '\\n', valid_y.value_counts(normalize = True))\n",
    "print('\\nTest Set:\\n', test_y.value_counts(), '\\n', test_y.value_counts(normalize = True))"
   ]
  },
  {
   "cell_type": "code",
   "execution_count": 14,
   "id": "2c89fc7d",
   "metadata": {},
   "outputs": [
    {
     "name": "stdout",
     "output_type": "stream",
     "text": [
      "pre-loaded datasets\n"
     ]
    }
   ],
   "source": [
    "try:\n",
    "    train_X_res = pd.read_csv('SMOTE_df.csv')\n",
    "    train_y_res = pd.read_csv('SMOTE_df_target.csv')\n",
    "    print(\"pre-loaded datasets\")\n",
    "except:\n",
    "    print(\"using SMOTE to rebalance...\")\n",
    "    # Fixing the class imbalance with tomekLinks and SMOTE\n",
    "    SMOTEtl = SMOTETomek(random_state = 42)\n",
    "\n",
    "    # fit predictor and target variable for training set only\n",
    "    train_X_res, train_y_res = SMOTEtl.fit_resample(train_X, train_y)\n",
    "\n",
    "    print('Original dataset shape:\\n', train_y.value_counts())\n",
    "    print('Resampled dataset shape:\\n', train_y_res.value_counts())\n",
    "\n",
    "    train_X_res.to_csv('SMOTE_df.csv',index=None)\n",
    "    train_y_res.to_csv('SMOTE_df_target.csv',index=None)"
   ]
  },
  {
   "cell_type": "code",
   "execution_count": 15,
   "id": "70e26ecf",
   "metadata": {},
   "outputs": [
    {
     "data": {
      "text/html": [
       "<div>\n",
       "<style scoped>\n",
       "    .dataframe tbody tr th:only-of-type {\n",
       "        vertical-align: middle;\n",
       "    }\n",
       "\n",
       "    .dataframe tbody tr th {\n",
       "        vertical-align: top;\n",
       "    }\n",
       "\n",
       "    .dataframe thead th {\n",
       "        text-align: right;\n",
       "    }\n",
       "</style>\n",
       "<table border=\"1\" class=\"dataframe\">\n",
       "  <thead>\n",
       "    <tr style=\"text-align: right;\">\n",
       "      <th></th>\n",
       "      <th>SEX</th>\n",
       "      <th>AGE</th>\n",
       "      <th>domestic_born</th>\n",
       "      <th>is_STEM_degree</th>\n",
       "      <th>under_represented</th>\n",
       "      <th>STEM_Degree_Area_Agriculture</th>\n",
       "      <th>STEM_Degree_Area_Biology and Life Sciences</th>\n",
       "      <th>STEM_Degree_Area_Business</th>\n",
       "      <th>STEM_Degree_Area_Computer and Information Sciences</th>\n",
       "      <th>STEM_Degree_Area_Electrical and Mechanic Repairs and Technologies</th>\n",
       "      <th>...</th>\n",
       "      <th>STEM_Degree_Area_Military Technologies</th>\n",
       "      <th>STEM_Degree_Area_None</th>\n",
       "      <th>STEM_Degree_Area_Nuclear, Industrial Radiology, and Biological Technologies</th>\n",
       "      <th>STEM_Degree_Area_Physical Sciences</th>\n",
       "      <th>EDU_verbose_Associate</th>\n",
       "      <th>EDU_verbose_Bachelor</th>\n",
       "      <th>EDU_verbose_High School</th>\n",
       "      <th>EDU_verbose_Master</th>\n",
       "      <th>EDU_verbose_None/Below HS</th>\n",
       "      <th>EDU_verbose_PhD</th>\n",
       "    </tr>\n",
       "  </thead>\n",
       "  <tbody>\n",
       "    <tr>\n",
       "      <th>0</th>\n",
       "      <td>1</td>\n",
       "      <td>-1.374236</td>\n",
       "      <td>1</td>\n",
       "      <td>0</td>\n",
       "      <td>1</td>\n",
       "      <td>0</td>\n",
       "      <td>0</td>\n",
       "      <td>0</td>\n",
       "      <td>0</td>\n",
       "      <td>0</td>\n",
       "      <td>...</td>\n",
       "      <td>0</td>\n",
       "      <td>1</td>\n",
       "      <td>0</td>\n",
       "      <td>0</td>\n",
       "      <td>0</td>\n",
       "      <td>0</td>\n",
       "      <td>0</td>\n",
       "      <td>0</td>\n",
       "      <td>1</td>\n",
       "      <td>0</td>\n",
       "    </tr>\n",
       "    <tr>\n",
       "      <th>1</th>\n",
       "      <td>1</td>\n",
       "      <td>0.262542</td>\n",
       "      <td>0</td>\n",
       "      <td>0</td>\n",
       "      <td>0</td>\n",
       "      <td>0</td>\n",
       "      <td>0</td>\n",
       "      <td>0</td>\n",
       "      <td>0</td>\n",
       "      <td>0</td>\n",
       "      <td>...</td>\n",
       "      <td>0</td>\n",
       "      <td>1</td>\n",
       "      <td>0</td>\n",
       "      <td>0</td>\n",
       "      <td>1</td>\n",
       "      <td>0</td>\n",
       "      <td>0</td>\n",
       "      <td>0</td>\n",
       "      <td>0</td>\n",
       "      <td>0</td>\n",
       "    </tr>\n",
       "    <tr>\n",
       "      <th>2</th>\n",
       "      <td>0</td>\n",
       "      <td>-1.691032</td>\n",
       "      <td>1</td>\n",
       "      <td>0</td>\n",
       "      <td>1</td>\n",
       "      <td>0</td>\n",
       "      <td>0</td>\n",
       "      <td>0</td>\n",
       "      <td>0</td>\n",
       "      <td>0</td>\n",
       "      <td>...</td>\n",
       "      <td>0</td>\n",
       "      <td>1</td>\n",
       "      <td>0</td>\n",
       "      <td>0</td>\n",
       "      <td>0</td>\n",
       "      <td>0</td>\n",
       "      <td>0</td>\n",
       "      <td>0</td>\n",
       "      <td>1</td>\n",
       "      <td>0</td>\n",
       "    </tr>\n",
       "    <tr>\n",
       "      <th>3</th>\n",
       "      <td>1</td>\n",
       "      <td>-0.107053</td>\n",
       "      <td>1</td>\n",
       "      <td>0</td>\n",
       "      <td>1</td>\n",
       "      <td>0</td>\n",
       "      <td>0</td>\n",
       "      <td>0</td>\n",
       "      <td>0</td>\n",
       "      <td>0</td>\n",
       "      <td>...</td>\n",
       "      <td>0</td>\n",
       "      <td>1</td>\n",
       "      <td>0</td>\n",
       "      <td>0</td>\n",
       "      <td>0</td>\n",
       "      <td>0</td>\n",
       "      <td>1</td>\n",
       "      <td>0</td>\n",
       "      <td>0</td>\n",
       "      <td>0</td>\n",
       "    </tr>\n",
       "    <tr>\n",
       "      <th>4</th>\n",
       "      <td>0</td>\n",
       "      <td>0.156943</td>\n",
       "      <td>1</td>\n",
       "      <td>1</td>\n",
       "      <td>0</td>\n",
       "      <td>0</td>\n",
       "      <td>1</td>\n",
       "      <td>0</td>\n",
       "      <td>0</td>\n",
       "      <td>0</td>\n",
       "      <td>...</td>\n",
       "      <td>0</td>\n",
       "      <td>0</td>\n",
       "      <td>0</td>\n",
       "      <td>0</td>\n",
       "      <td>0</td>\n",
       "      <td>1</td>\n",
       "      <td>0</td>\n",
       "      <td>0</td>\n",
       "      <td>0</td>\n",
       "      <td>0</td>\n",
       "    </tr>\n",
       "  </tbody>\n",
       "</table>\n",
       "<p>5 rows × 26 columns</p>\n",
       "</div>"
      ],
      "text/plain": [
       "   SEX       AGE  domestic_born  is_STEM_degree  under_represented  \\\n",
       "0    1 -1.374236              1               0                  1   \n",
       "1    1  0.262542              0               0                  0   \n",
       "2    0 -1.691032              1               0                  1   \n",
       "3    1 -0.107053              1               0                  1   \n",
       "4    0  0.156943              1               1                  0   \n",
       "\n",
       "   STEM_Degree_Area_Agriculture  STEM_Degree_Area_Biology and Life Sciences  \\\n",
       "0                             0                                           0   \n",
       "1                             0                                           0   \n",
       "2                             0                                           0   \n",
       "3                             0                                           0   \n",
       "4                             0                                           1   \n",
       "\n",
       "   STEM_Degree_Area_Business  \\\n",
       "0                          0   \n",
       "1                          0   \n",
       "2                          0   \n",
       "3                          0   \n",
       "4                          0   \n",
       "\n",
       "   STEM_Degree_Area_Computer and Information Sciences  \\\n",
       "0                                                  0    \n",
       "1                                                  0    \n",
       "2                                                  0    \n",
       "3                                                  0    \n",
       "4                                                  0    \n",
       "\n",
       "   STEM_Degree_Area_Electrical and Mechanic Repairs and Technologies  ...  \\\n",
       "0                                                  0                  ...   \n",
       "1                                                  0                  ...   \n",
       "2                                                  0                  ...   \n",
       "3                                                  0                  ...   \n",
       "4                                                  0                  ...   \n",
       "\n",
       "   STEM_Degree_Area_Military Technologies  STEM_Degree_Area_None  \\\n",
       "0                                       0                      1   \n",
       "1                                       0                      1   \n",
       "2                                       0                      1   \n",
       "3                                       0                      1   \n",
       "4                                       0                      0   \n",
       "\n",
       "   STEM_Degree_Area_Nuclear, Industrial Radiology, and Biological Technologies  \\\n",
       "0                                                  0                             \n",
       "1                                                  0                             \n",
       "2                                                  0                             \n",
       "3                                                  0                             \n",
       "4                                                  0                             \n",
       "\n",
       "   STEM_Degree_Area_Physical Sciences  EDU_verbose_Associate  \\\n",
       "0                                   0                      0   \n",
       "1                                   0                      1   \n",
       "2                                   0                      0   \n",
       "3                                   0                      0   \n",
       "4                                   0                      0   \n",
       "\n",
       "   EDU_verbose_Bachelor  EDU_verbose_High School  EDU_verbose_Master  \\\n",
       "0                     0                        0                   0   \n",
       "1                     0                        0                   0   \n",
       "2                     0                        0                   0   \n",
       "3                     0                        1                   0   \n",
       "4                     1                        0                   0   \n",
       "\n",
       "   EDU_verbose_None/Below HS  EDU_verbose_PhD  \n",
       "0                          1                0  \n",
       "1                          0                0  \n",
       "2                          1                0  \n",
       "3                          0                0  \n",
       "4                          0                0  \n",
       "\n",
       "[5 rows x 26 columns]"
      ]
     },
     "execution_count": 15,
     "metadata": {},
     "output_type": "execute_result"
    }
   ],
   "source": [
    "train_X_res.head()"
   ]
  },
  {
   "cell_type": "markdown",
   "id": "d6b1dda4",
   "metadata": {},
   "source": [
    "We can also save our SMOTE data to .csv to avoid having to re-run this data during development work for future replications, which is handled in the **except** statement above."
   ]
  },
  {
   "cell_type": "markdown",
   "id": "552bb833",
   "metadata": {},
   "source": [
    "### Helper Function: Confusion Matrix"
   ]
  },
  {
   "cell_type": "code",
   "execution_count": 16,
   "id": "fc2e2e00",
   "metadata": {},
   "outputs": [],
   "source": [
    "def confusionMatrices(model, title):\n",
    "    print(title + ' - training results')\n",
    "    classificationSummary(train_y_res, model.predict(train_X_res))\n",
    "    print(title + ' - validation results')\n",
    "    valid_pred = model.predict(valid_X)\n",
    "    classificationSummary(valid_y, valid_pred)"
   ]
  },
  {
   "cell_type": "markdown",
   "id": "85d78fd4",
   "metadata": {},
   "source": [
    "### Helper Function: Evaluation Metrics"
   ]
  },
  {
   "cell_type": "code",
   "execution_count": 17,
   "id": "a3c9f6a6",
   "metadata": {},
   "outputs": [],
   "source": [
    "def evalMetrics(model,mod_predict,verbose=True):\n",
    "    # precision tp / (tp + fp)\n",
    "    precision = precision_score(test_y, mod_predict)\n",
    "    # recall: tp / (tp + fn)\n",
    "    recall = recall_score(test_y, mod_predict)\n",
    "    \n",
    "    # f1: 2 tp / (2 tp + fp + fn)\n",
    "    f1 = f1_score(test_y, mod_predict)\n",
    "    \n",
    "    # ROC AUC\n",
    "    mp = model.predict_proba(test_X)\n",
    "    mp = mp[:, 1]\n",
    "    auc = roc_auc_score(test_y, mp)\n",
    "    \n",
    "    if verbose:\n",
    "        print('Precision: %f' % precision)\n",
    "        print('Recall: %f' % recall)\n",
    "        print('F1 score: %f' % f1)\n",
    "        print('ROC AUC: %f' % auc)\n",
    "        \n",
    "    return {\n",
    "        \"precision\": precision,\n",
    "        \"recall\": recall,\n",
    "        \"f1\": f1,\n",
    "        \"roc_auc\":auc\n",
    "    }"
   ]
  },
  {
   "cell_type": "markdown",
   "id": "31922605",
   "metadata": {},
   "source": [
    "### Helper Function: Performance Plotting"
   ]
  },
  {
   "cell_type": "code",
   "execution_count": 18,
   "id": "b823dc74",
   "metadata": {},
   "outputs": [],
   "source": [
    "def roc_vs(roc_scores,params,param_name):\n",
    "    # plot\n",
    "    plt.plot(params,roc_scores)\n",
    "    max_roc = max(roc_scores)\n",
    "    max_index = roc_scores.index(max_roc)\n",
    "    \n",
    "    try:\n",
    "        max_param = round(params[max_index],4)\n",
    "    except:\n",
    "        max_param = params[max_index]\n",
    "        \n",
    "    max_roc = round(max_roc,4)\n",
    "    plt.ylabel('roc-auc')\n",
    "    plt.xlabel(param_name)\n",
    "    plt.title(f'roc-auc score vs {param_name}, max roc:{max_roc}, parameter: {max_param}')\n",
    "    plt.show()"
   ]
  },
  {
   "cell_type": "markdown",
   "id": "dbc5494d",
   "metadata": {},
   "source": [
    "### Naive Bayes"
   ]
  },
  {
   "cell_type": "code",
   "execution_count": 19,
   "id": "c9989dbb",
   "metadata": {
    "scrolled": true
   },
   "outputs": [
    {
     "name": "stdout",
     "output_type": "stream",
     "text": [
      "Naive Bayes - training results\n",
      "Confusion Matrix (Accuracy 0.7436)\n",
      "\n",
      "       Prediction\n",
      "Actual     0     1\n",
      "     0 95181 17348\n",
      "     1 40361 72168\n",
      "Naive Bayes - validation results\n",
      "Confusion Matrix (Accuracy 0.8374)\n",
      "\n",
      "       Prediction\n",
      "Actual     0     1\n",
      "     0 31779  5850\n",
      "     1   492   879\n"
     ]
    }
   ],
   "source": [
    "from sklearn.naive_bayes import GaussianNB\n",
    "gnb = GaussianNB()\n",
    "gnb.fit(train_X_res, train_y_res)\n",
    "confusionMatrices(gnb,'Naive Bayes')"
   ]
  },
  {
   "cell_type": "markdown",
   "id": "70b1751e",
   "metadata": {},
   "source": [
    "#### Evaluation and Confusion Matrix:"
   ]
  },
  {
   "cell_type": "code",
   "execution_count": 20,
   "id": "93555f30",
   "metadata": {
    "scrolled": true
   },
   "outputs": [
    {
     "data": {
      "text/plain": [
       "{'precision': 0.1338195891634415,\n",
       " 'recall': 0.6557257476294676,\n",
       " 'f1': 0.22227716652243787,\n",
       " 'roc_auc': 0.8349474452667653}"
      ]
     },
     "execution_count": 20,
     "metadata": {},
     "output_type": "execute_result"
    }
   ],
   "source": [
    "gnb_pred = gnb.predict(test_X)\n",
    "evalMetrics(gnb,gnb_pred,False)"
   ]
  },
  {
   "cell_type": "markdown",
   "id": "91a6cd44",
   "metadata": {},
   "source": [
    "### Logistic Regression - Initial Overview and Tuning"
   ]
  },
  {
   "cell_type": "code",
   "execution_count": 21,
   "id": "8058a4dd",
   "metadata": {},
   "outputs": [
    {
     "ename": "KeyboardInterrupt",
     "evalue": "",
     "output_type": "error",
     "traceback": [
      "\u001b[1;31m---------------------------------------------------------------------------\u001b[0m",
      "\u001b[1;31mKeyboardInterrupt\u001b[0m                         Traceback (most recent call last)",
      "Input \u001b[1;32mIn [21]\u001b[0m, in \u001b[0;36m<cell line: 3>\u001b[1;34m()\u001b[0m\n\u001b[0;32m      3\u001b[0m \u001b[38;5;28;01mfor\u001b[39;00m c \u001b[38;5;129;01min\u001b[39;00m C_param_range:\n\u001b[0;32m      5\u001b[0m     logit_reg \u001b[38;5;241m=\u001b[39m LogisticRegression(\n\u001b[0;32m      6\u001b[0m         penalty\u001b[38;5;241m=\u001b[39m\u001b[38;5;124m\"\u001b[39m\u001b[38;5;124melasticnet\u001b[39m\u001b[38;5;124m\"\u001b[39m\n\u001b[0;32m      7\u001b[0m         , C\u001b[38;5;241m=\u001b[39mc\n\u001b[1;32m   (...)\u001b[0m\n\u001b[0;32m     10\u001b[0m         , l1_ratio \u001b[38;5;241m=\u001b[39m \u001b[38;5;241m0.5\u001b[39m\n\u001b[0;32m     11\u001b[0m     )\n\u001b[1;32m---> 12\u001b[0m     \u001b[43mlogit_reg\u001b[49m\u001b[38;5;241;43m.\u001b[39;49m\u001b[43mfit\u001b[49m\u001b[43m(\u001b[49m\u001b[43mtrain_X_res\u001b[49m\u001b[43m,\u001b[49m\u001b[43m \u001b[49m\u001b[43mtrain_y_res\u001b[49m\u001b[43m)\u001b[49m\n\u001b[0;32m     13\u001b[0m     \u001b[38;5;66;03m#confusionMatrices(logit_reg, 'Logistic regression')\u001b[39;00m\n\u001b[0;32m     14\u001b[0m     logit_pred \u001b[38;5;241m=\u001b[39m logit_reg\u001b[38;5;241m.\u001b[39mpredict(test_X)\n",
      "File \u001b[1;32mc:\\users\\fkrasovsky\\appdata\\local\\programs\\python\\python38\\lib\\site-packages\\sklearn\\linear_model\\_logistic.py:1233\u001b[0m, in \u001b[0;36mLogisticRegression.fit\u001b[1;34m(self, X, y, sample_weight)\u001b[0m\n\u001b[0;32m   1230\u001b[0m \u001b[38;5;28;01melse\u001b[39;00m:\n\u001b[0;32m   1231\u001b[0m     n_threads \u001b[38;5;241m=\u001b[39m \u001b[38;5;241m1\u001b[39m\n\u001b[1;32m-> 1233\u001b[0m fold_coefs_ \u001b[38;5;241m=\u001b[39m \u001b[43mParallel\u001b[49m\u001b[43m(\u001b[49m\u001b[43mn_jobs\u001b[49m\u001b[38;5;241;43m=\u001b[39;49m\u001b[38;5;28;43mself\u001b[39;49m\u001b[38;5;241;43m.\u001b[39;49m\u001b[43mn_jobs\u001b[49m\u001b[43m,\u001b[49m\u001b[43m \u001b[49m\u001b[43mverbose\u001b[49m\u001b[38;5;241;43m=\u001b[39;49m\u001b[38;5;28;43mself\u001b[39;49m\u001b[38;5;241;43m.\u001b[39;49m\u001b[43mverbose\u001b[49m\u001b[43m,\u001b[49m\u001b[43m \u001b[49m\u001b[43mprefer\u001b[49m\u001b[38;5;241;43m=\u001b[39;49m\u001b[43mprefer\u001b[49m\u001b[43m)\u001b[49m\u001b[43m(\u001b[49m\n\u001b[0;32m   1234\u001b[0m \u001b[43m    \u001b[49m\u001b[43mpath_func\u001b[49m\u001b[43m(\u001b[49m\n\u001b[0;32m   1235\u001b[0m \u001b[43m        \u001b[49m\u001b[43mX\u001b[49m\u001b[43m,\u001b[49m\n\u001b[0;32m   1236\u001b[0m \u001b[43m        \u001b[49m\u001b[43my\u001b[49m\u001b[43m,\u001b[49m\n\u001b[0;32m   1237\u001b[0m \u001b[43m        \u001b[49m\u001b[43mpos_class\u001b[49m\u001b[38;5;241;43m=\u001b[39;49m\u001b[43mclass_\u001b[49m\u001b[43m,\u001b[49m\n\u001b[0;32m   1238\u001b[0m \u001b[43m        \u001b[49m\u001b[43mCs\u001b[49m\u001b[38;5;241;43m=\u001b[39;49m\u001b[43m[\u001b[49m\u001b[43mC_\u001b[49m\u001b[43m]\u001b[49m\u001b[43m,\u001b[49m\n\u001b[0;32m   1239\u001b[0m \u001b[43m        \u001b[49m\u001b[43ml1_ratio\u001b[49m\u001b[38;5;241;43m=\u001b[39;49m\u001b[38;5;28;43mself\u001b[39;49m\u001b[38;5;241;43m.\u001b[39;49m\u001b[43ml1_ratio\u001b[49m\u001b[43m,\u001b[49m\n\u001b[0;32m   1240\u001b[0m \u001b[43m        \u001b[49m\u001b[43mfit_intercept\u001b[49m\u001b[38;5;241;43m=\u001b[39;49m\u001b[38;5;28;43mself\u001b[39;49m\u001b[38;5;241;43m.\u001b[39;49m\u001b[43mfit_intercept\u001b[49m\u001b[43m,\u001b[49m\n\u001b[0;32m   1241\u001b[0m \u001b[43m        \u001b[49m\u001b[43mtol\u001b[49m\u001b[38;5;241;43m=\u001b[39;49m\u001b[38;5;28;43mself\u001b[39;49m\u001b[38;5;241;43m.\u001b[39;49m\u001b[43mtol\u001b[49m\u001b[43m,\u001b[49m\n\u001b[0;32m   1242\u001b[0m \u001b[43m        \u001b[49m\u001b[43mverbose\u001b[49m\u001b[38;5;241;43m=\u001b[39;49m\u001b[38;5;28;43mself\u001b[39;49m\u001b[38;5;241;43m.\u001b[39;49m\u001b[43mverbose\u001b[49m\u001b[43m,\u001b[49m\n\u001b[0;32m   1243\u001b[0m \u001b[43m        \u001b[49m\u001b[43msolver\u001b[49m\u001b[38;5;241;43m=\u001b[39;49m\u001b[43msolver\u001b[49m\u001b[43m,\u001b[49m\n\u001b[0;32m   1244\u001b[0m \u001b[43m        \u001b[49m\u001b[43mmulti_class\u001b[49m\u001b[38;5;241;43m=\u001b[39;49m\u001b[43mmulti_class\u001b[49m\u001b[43m,\u001b[49m\n\u001b[0;32m   1245\u001b[0m \u001b[43m        \u001b[49m\u001b[43mmax_iter\u001b[49m\u001b[38;5;241;43m=\u001b[39;49m\u001b[38;5;28;43mself\u001b[39;49m\u001b[38;5;241;43m.\u001b[39;49m\u001b[43mmax_iter\u001b[49m\u001b[43m,\u001b[49m\n\u001b[0;32m   1246\u001b[0m \u001b[43m        \u001b[49m\u001b[43mclass_weight\u001b[49m\u001b[38;5;241;43m=\u001b[39;49m\u001b[38;5;28;43mself\u001b[39;49m\u001b[38;5;241;43m.\u001b[39;49m\u001b[43mclass_weight\u001b[49m\u001b[43m,\u001b[49m\n\u001b[0;32m   1247\u001b[0m \u001b[43m        \u001b[49m\u001b[43mcheck_input\u001b[49m\u001b[38;5;241;43m=\u001b[39;49m\u001b[38;5;28;43;01mFalse\u001b[39;49;00m\u001b[43m,\u001b[49m\n\u001b[0;32m   1248\u001b[0m \u001b[43m        \u001b[49m\u001b[43mrandom_state\u001b[49m\u001b[38;5;241;43m=\u001b[39;49m\u001b[38;5;28;43mself\u001b[39;49m\u001b[38;5;241;43m.\u001b[39;49m\u001b[43mrandom_state\u001b[49m\u001b[43m,\u001b[49m\n\u001b[0;32m   1249\u001b[0m \u001b[43m        \u001b[49m\u001b[43mcoef\u001b[49m\u001b[38;5;241;43m=\u001b[39;49m\u001b[43mwarm_start_coef_\u001b[49m\u001b[43m,\u001b[49m\n\u001b[0;32m   1250\u001b[0m \u001b[43m        \u001b[49m\u001b[43mpenalty\u001b[49m\u001b[38;5;241;43m=\u001b[39;49m\u001b[43mpenalty\u001b[49m\u001b[43m,\u001b[49m\n\u001b[0;32m   1251\u001b[0m \u001b[43m        \u001b[49m\u001b[43mmax_squared_sum\u001b[49m\u001b[38;5;241;43m=\u001b[39;49m\u001b[43mmax_squared_sum\u001b[49m\u001b[43m,\u001b[49m\n\u001b[0;32m   1252\u001b[0m \u001b[43m        \u001b[49m\u001b[43msample_weight\u001b[49m\u001b[38;5;241;43m=\u001b[39;49m\u001b[43msample_weight\u001b[49m\u001b[43m,\u001b[49m\n\u001b[0;32m   1253\u001b[0m \u001b[43m        \u001b[49m\u001b[43mn_threads\u001b[49m\u001b[38;5;241;43m=\u001b[39;49m\u001b[43mn_threads\u001b[49m\u001b[43m,\u001b[49m\n\u001b[0;32m   1254\u001b[0m \u001b[43m    \u001b[49m\u001b[43m)\u001b[49m\n\u001b[0;32m   1255\u001b[0m \u001b[43m    \u001b[49m\u001b[38;5;28;43;01mfor\u001b[39;49;00m\u001b[43m \u001b[49m\u001b[43mclass_\u001b[49m\u001b[43m,\u001b[49m\u001b[43m \u001b[49m\u001b[43mwarm_start_coef_\u001b[49m\u001b[43m \u001b[49m\u001b[38;5;129;43;01min\u001b[39;49;00m\u001b[43m \u001b[49m\u001b[38;5;28;43mzip\u001b[39;49m\u001b[43m(\u001b[49m\u001b[43mclasses_\u001b[49m\u001b[43m,\u001b[49m\u001b[43m \u001b[49m\u001b[43mwarm_start_coef\u001b[49m\u001b[43m)\u001b[49m\n\u001b[0;32m   1256\u001b[0m \u001b[43m\u001b[49m\u001b[43m)\u001b[49m\n\u001b[0;32m   1258\u001b[0m fold_coefs_, _, n_iter_ \u001b[38;5;241m=\u001b[39m \u001b[38;5;28mzip\u001b[39m(\u001b[38;5;241m*\u001b[39mfold_coefs_)\n\u001b[0;32m   1259\u001b[0m \u001b[38;5;28mself\u001b[39m\u001b[38;5;241m.\u001b[39mn_iter_ \u001b[38;5;241m=\u001b[39m np\u001b[38;5;241m.\u001b[39masarray(n_iter_, dtype\u001b[38;5;241m=\u001b[39mnp\u001b[38;5;241m.\u001b[39mint32)[:, \u001b[38;5;241m0\u001b[39m]\n",
      "File \u001b[1;32mc:\\users\\fkrasovsky\\appdata\\local\\programs\\python\\python38\\lib\\site-packages\\joblib\\parallel.py:1043\u001b[0m, in \u001b[0;36mParallel.__call__\u001b[1;34m(self, iterable)\u001b[0m\n\u001b[0;32m   1034\u001b[0m \u001b[38;5;28;01mtry\u001b[39;00m:\n\u001b[0;32m   1035\u001b[0m     \u001b[38;5;66;03m# Only set self._iterating to True if at least a batch\u001b[39;00m\n\u001b[0;32m   1036\u001b[0m     \u001b[38;5;66;03m# was dispatched. In particular this covers the edge\u001b[39;00m\n\u001b[1;32m   (...)\u001b[0m\n\u001b[0;32m   1040\u001b[0m     \u001b[38;5;66;03m# was very quick and its callback already dispatched all the\u001b[39;00m\n\u001b[0;32m   1041\u001b[0m     \u001b[38;5;66;03m# remaining jobs.\u001b[39;00m\n\u001b[0;32m   1042\u001b[0m     \u001b[38;5;28mself\u001b[39m\u001b[38;5;241m.\u001b[39m_iterating \u001b[38;5;241m=\u001b[39m \u001b[38;5;28;01mFalse\u001b[39;00m\n\u001b[1;32m-> 1043\u001b[0m     \u001b[38;5;28;01mif\u001b[39;00m \u001b[38;5;28;43mself\u001b[39;49m\u001b[38;5;241;43m.\u001b[39;49m\u001b[43mdispatch_one_batch\u001b[49m\u001b[43m(\u001b[49m\u001b[43miterator\u001b[49m\u001b[43m)\u001b[49m:\n\u001b[0;32m   1044\u001b[0m         \u001b[38;5;28mself\u001b[39m\u001b[38;5;241m.\u001b[39m_iterating \u001b[38;5;241m=\u001b[39m \u001b[38;5;28mself\u001b[39m\u001b[38;5;241m.\u001b[39m_original_iterator \u001b[38;5;129;01mis\u001b[39;00m \u001b[38;5;129;01mnot\u001b[39;00m \u001b[38;5;28;01mNone\u001b[39;00m\n\u001b[0;32m   1046\u001b[0m     \u001b[38;5;28;01mwhile\u001b[39;00m \u001b[38;5;28mself\u001b[39m\u001b[38;5;241m.\u001b[39mdispatch_one_batch(iterator):\n",
      "File \u001b[1;32mc:\\users\\fkrasovsky\\appdata\\local\\programs\\python\\python38\\lib\\site-packages\\joblib\\parallel.py:861\u001b[0m, in \u001b[0;36mParallel.dispatch_one_batch\u001b[1;34m(self, iterator)\u001b[0m\n\u001b[0;32m    859\u001b[0m     \u001b[38;5;28;01mreturn\u001b[39;00m \u001b[38;5;28;01mFalse\u001b[39;00m\n\u001b[0;32m    860\u001b[0m \u001b[38;5;28;01melse\u001b[39;00m:\n\u001b[1;32m--> 861\u001b[0m     \u001b[38;5;28;43mself\u001b[39;49m\u001b[38;5;241;43m.\u001b[39;49m\u001b[43m_dispatch\u001b[49m\u001b[43m(\u001b[49m\u001b[43mtasks\u001b[49m\u001b[43m)\u001b[49m\n\u001b[0;32m    862\u001b[0m     \u001b[38;5;28;01mreturn\u001b[39;00m \u001b[38;5;28;01mTrue\u001b[39;00m\n",
      "File \u001b[1;32mc:\\users\\fkrasovsky\\appdata\\local\\programs\\python\\python38\\lib\\site-packages\\joblib\\parallel.py:779\u001b[0m, in \u001b[0;36mParallel._dispatch\u001b[1;34m(self, batch)\u001b[0m\n\u001b[0;32m    777\u001b[0m \u001b[38;5;28;01mwith\u001b[39;00m \u001b[38;5;28mself\u001b[39m\u001b[38;5;241m.\u001b[39m_lock:\n\u001b[0;32m    778\u001b[0m     job_idx \u001b[38;5;241m=\u001b[39m \u001b[38;5;28mlen\u001b[39m(\u001b[38;5;28mself\u001b[39m\u001b[38;5;241m.\u001b[39m_jobs)\n\u001b[1;32m--> 779\u001b[0m     job \u001b[38;5;241m=\u001b[39m \u001b[38;5;28;43mself\u001b[39;49m\u001b[38;5;241;43m.\u001b[39;49m\u001b[43m_backend\u001b[49m\u001b[38;5;241;43m.\u001b[39;49m\u001b[43mapply_async\u001b[49m\u001b[43m(\u001b[49m\u001b[43mbatch\u001b[49m\u001b[43m,\u001b[49m\u001b[43m \u001b[49m\u001b[43mcallback\u001b[49m\u001b[38;5;241;43m=\u001b[39;49m\u001b[43mcb\u001b[49m\u001b[43m)\u001b[49m\n\u001b[0;32m    780\u001b[0m     \u001b[38;5;66;03m# A job can complete so quickly than its callback is\u001b[39;00m\n\u001b[0;32m    781\u001b[0m     \u001b[38;5;66;03m# called before we get here, causing self._jobs to\u001b[39;00m\n\u001b[0;32m    782\u001b[0m     \u001b[38;5;66;03m# grow. To ensure correct results ordering, .insert is\u001b[39;00m\n\u001b[0;32m    783\u001b[0m     \u001b[38;5;66;03m# used (rather than .append) in the following line\u001b[39;00m\n\u001b[0;32m    784\u001b[0m     \u001b[38;5;28mself\u001b[39m\u001b[38;5;241m.\u001b[39m_jobs\u001b[38;5;241m.\u001b[39minsert(job_idx, job)\n",
      "File \u001b[1;32mc:\\users\\fkrasovsky\\appdata\\local\\programs\\python\\python38\\lib\\site-packages\\joblib\\_parallel_backends.py:208\u001b[0m, in \u001b[0;36mSequentialBackend.apply_async\u001b[1;34m(self, func, callback)\u001b[0m\n\u001b[0;32m    206\u001b[0m \u001b[38;5;28;01mdef\u001b[39;00m \u001b[38;5;21mapply_async\u001b[39m(\u001b[38;5;28mself\u001b[39m, func, callback\u001b[38;5;241m=\u001b[39m\u001b[38;5;28;01mNone\u001b[39;00m):\n\u001b[0;32m    207\u001b[0m     \u001b[38;5;124;03m\"\"\"Schedule a func to be run\"\"\"\u001b[39;00m\n\u001b[1;32m--> 208\u001b[0m     result \u001b[38;5;241m=\u001b[39m \u001b[43mImmediateResult\u001b[49m\u001b[43m(\u001b[49m\u001b[43mfunc\u001b[49m\u001b[43m)\u001b[49m\n\u001b[0;32m    209\u001b[0m     \u001b[38;5;28;01mif\u001b[39;00m callback:\n\u001b[0;32m    210\u001b[0m         callback(result)\n",
      "File \u001b[1;32mc:\\users\\fkrasovsky\\appdata\\local\\programs\\python\\python38\\lib\\site-packages\\joblib\\_parallel_backends.py:572\u001b[0m, in \u001b[0;36mImmediateResult.__init__\u001b[1;34m(self, batch)\u001b[0m\n\u001b[0;32m    569\u001b[0m \u001b[38;5;28;01mdef\u001b[39;00m \u001b[38;5;21m__init__\u001b[39m(\u001b[38;5;28mself\u001b[39m, batch):\n\u001b[0;32m    570\u001b[0m     \u001b[38;5;66;03m# Don't delay the application, to avoid keeping the input\u001b[39;00m\n\u001b[0;32m    571\u001b[0m     \u001b[38;5;66;03m# arguments in memory\u001b[39;00m\n\u001b[1;32m--> 572\u001b[0m     \u001b[38;5;28mself\u001b[39m\u001b[38;5;241m.\u001b[39mresults \u001b[38;5;241m=\u001b[39m \u001b[43mbatch\u001b[49m\u001b[43m(\u001b[49m\u001b[43m)\u001b[49m\n",
      "File \u001b[1;32mc:\\users\\fkrasovsky\\appdata\\local\\programs\\python\\python38\\lib\\site-packages\\joblib\\parallel.py:262\u001b[0m, in \u001b[0;36mBatchedCalls.__call__\u001b[1;34m(self)\u001b[0m\n\u001b[0;32m    258\u001b[0m \u001b[38;5;28;01mdef\u001b[39;00m \u001b[38;5;21m__call__\u001b[39m(\u001b[38;5;28mself\u001b[39m):\n\u001b[0;32m    259\u001b[0m     \u001b[38;5;66;03m# Set the default nested backend to self._backend but do not set the\u001b[39;00m\n\u001b[0;32m    260\u001b[0m     \u001b[38;5;66;03m# change the default number of processes to -1\u001b[39;00m\n\u001b[0;32m    261\u001b[0m     \u001b[38;5;28;01mwith\u001b[39;00m parallel_backend(\u001b[38;5;28mself\u001b[39m\u001b[38;5;241m.\u001b[39m_backend, n_jobs\u001b[38;5;241m=\u001b[39m\u001b[38;5;28mself\u001b[39m\u001b[38;5;241m.\u001b[39m_n_jobs):\n\u001b[1;32m--> 262\u001b[0m         \u001b[38;5;28;01mreturn\u001b[39;00m [func(\u001b[38;5;241m*\u001b[39margs, \u001b[38;5;241m*\u001b[39m\u001b[38;5;241m*\u001b[39mkwargs)\n\u001b[0;32m    263\u001b[0m                 \u001b[38;5;28;01mfor\u001b[39;00m func, args, kwargs \u001b[38;5;129;01min\u001b[39;00m \u001b[38;5;28mself\u001b[39m\u001b[38;5;241m.\u001b[39mitems]\n",
      "File \u001b[1;32mc:\\users\\fkrasovsky\\appdata\\local\\programs\\python\\python38\\lib\\site-packages\\joblib\\parallel.py:262\u001b[0m, in \u001b[0;36m<listcomp>\u001b[1;34m(.0)\u001b[0m\n\u001b[0;32m    258\u001b[0m \u001b[38;5;28;01mdef\u001b[39;00m \u001b[38;5;21m__call__\u001b[39m(\u001b[38;5;28mself\u001b[39m):\n\u001b[0;32m    259\u001b[0m     \u001b[38;5;66;03m# Set the default nested backend to self._backend but do not set the\u001b[39;00m\n\u001b[0;32m    260\u001b[0m     \u001b[38;5;66;03m# change the default number of processes to -1\u001b[39;00m\n\u001b[0;32m    261\u001b[0m     \u001b[38;5;28;01mwith\u001b[39;00m parallel_backend(\u001b[38;5;28mself\u001b[39m\u001b[38;5;241m.\u001b[39m_backend, n_jobs\u001b[38;5;241m=\u001b[39m\u001b[38;5;28mself\u001b[39m\u001b[38;5;241m.\u001b[39m_n_jobs):\n\u001b[1;32m--> 262\u001b[0m         \u001b[38;5;28;01mreturn\u001b[39;00m [\u001b[43mfunc\u001b[49m\u001b[43m(\u001b[49m\u001b[38;5;241;43m*\u001b[39;49m\u001b[43margs\u001b[49m\u001b[43m,\u001b[49m\u001b[43m \u001b[49m\u001b[38;5;241;43m*\u001b[39;49m\u001b[38;5;241;43m*\u001b[39;49m\u001b[43mkwargs\u001b[49m\u001b[43m)\u001b[49m\n\u001b[0;32m    263\u001b[0m                 \u001b[38;5;28;01mfor\u001b[39;00m func, args, kwargs \u001b[38;5;129;01min\u001b[39;00m \u001b[38;5;28mself\u001b[39m\u001b[38;5;241m.\u001b[39mitems]\n",
      "File \u001b[1;32mc:\\users\\fkrasovsky\\appdata\\local\\programs\\python\\python38\\lib\\site-packages\\sklearn\\utils\\fixes.py:117\u001b[0m, in \u001b[0;36m_FuncWrapper.__call__\u001b[1;34m(self, *args, **kwargs)\u001b[0m\n\u001b[0;32m    115\u001b[0m \u001b[38;5;28;01mdef\u001b[39;00m \u001b[38;5;21m__call__\u001b[39m(\u001b[38;5;28mself\u001b[39m, \u001b[38;5;241m*\u001b[39margs, \u001b[38;5;241m*\u001b[39m\u001b[38;5;241m*\u001b[39mkwargs):\n\u001b[0;32m    116\u001b[0m     \u001b[38;5;28;01mwith\u001b[39;00m config_context(\u001b[38;5;241m*\u001b[39m\u001b[38;5;241m*\u001b[39m\u001b[38;5;28mself\u001b[39m\u001b[38;5;241m.\u001b[39mconfig):\n\u001b[1;32m--> 117\u001b[0m         \u001b[38;5;28;01mreturn\u001b[39;00m \u001b[38;5;28;43mself\u001b[39;49m\u001b[38;5;241;43m.\u001b[39;49m\u001b[43mfunction\u001b[49m\u001b[43m(\u001b[49m\u001b[38;5;241;43m*\u001b[39;49m\u001b[43margs\u001b[49m\u001b[43m,\u001b[49m\u001b[43m \u001b[49m\u001b[38;5;241;43m*\u001b[39;49m\u001b[38;5;241;43m*\u001b[39;49m\u001b[43mkwargs\u001b[49m\u001b[43m)\u001b[49m\n",
      "File \u001b[1;32mc:\\users\\fkrasovsky\\appdata\\local\\programs\\python\\python38\\lib\\site-packages\\sklearn\\linear_model\\_logistic.py:495\u001b[0m, in \u001b[0;36m_logistic_regression_path\u001b[1;34m(X, y, pos_class, Cs, fit_intercept, max_iter, tol, verbose, solver, coef, class_weight, dual, penalty, intercept_scaling, multi_class, random_state, check_input, max_squared_sum, sample_weight, l1_ratio, n_threads)\u001b[0m\n\u001b[0;32m    492\u001b[0m         alpha \u001b[38;5;241m=\u001b[39m (\u001b[38;5;241m1.0\u001b[39m \u001b[38;5;241m/\u001b[39m C) \u001b[38;5;241m*\u001b[39m (\u001b[38;5;241m1\u001b[39m \u001b[38;5;241m-\u001b[39m l1_ratio)\n\u001b[0;32m    493\u001b[0m         beta \u001b[38;5;241m=\u001b[39m (\u001b[38;5;241m1.0\u001b[39m \u001b[38;5;241m/\u001b[39m C) \u001b[38;5;241m*\u001b[39m l1_ratio\n\u001b[1;32m--> 495\u001b[0m     w0, n_iter_i, warm_start_sag \u001b[38;5;241m=\u001b[39m \u001b[43msag_solver\u001b[49m\u001b[43m(\u001b[49m\n\u001b[0;32m    496\u001b[0m \u001b[43m        \u001b[49m\u001b[43mX\u001b[49m\u001b[43m,\u001b[49m\n\u001b[0;32m    497\u001b[0m \u001b[43m        \u001b[49m\u001b[43mtarget\u001b[49m\u001b[43m,\u001b[49m\n\u001b[0;32m    498\u001b[0m \u001b[43m        \u001b[49m\u001b[43msample_weight\u001b[49m\u001b[43m,\u001b[49m\n\u001b[0;32m    499\u001b[0m \u001b[43m        \u001b[49m\u001b[43mloss\u001b[49m\u001b[43m,\u001b[49m\n\u001b[0;32m    500\u001b[0m \u001b[43m        \u001b[49m\u001b[43malpha\u001b[49m\u001b[43m,\u001b[49m\n\u001b[0;32m    501\u001b[0m \u001b[43m        \u001b[49m\u001b[43mbeta\u001b[49m\u001b[43m,\u001b[49m\n\u001b[0;32m    502\u001b[0m \u001b[43m        \u001b[49m\u001b[43mmax_iter\u001b[49m\u001b[43m,\u001b[49m\n\u001b[0;32m    503\u001b[0m \u001b[43m        \u001b[49m\u001b[43mtol\u001b[49m\u001b[43m,\u001b[49m\n\u001b[0;32m    504\u001b[0m \u001b[43m        \u001b[49m\u001b[43mverbose\u001b[49m\u001b[43m,\u001b[49m\n\u001b[0;32m    505\u001b[0m \u001b[43m        \u001b[49m\u001b[43mrandom_state\u001b[49m\u001b[43m,\u001b[49m\n\u001b[0;32m    506\u001b[0m \u001b[43m        \u001b[49m\u001b[38;5;28;43;01mFalse\u001b[39;49;00m\u001b[43m,\u001b[49m\n\u001b[0;32m    507\u001b[0m \u001b[43m        \u001b[49m\u001b[43mmax_squared_sum\u001b[49m\u001b[43m,\u001b[49m\n\u001b[0;32m    508\u001b[0m \u001b[43m        \u001b[49m\u001b[43mwarm_start_sag\u001b[49m\u001b[43m,\u001b[49m\n\u001b[0;32m    509\u001b[0m \u001b[43m        \u001b[49m\u001b[43mis_saga\u001b[49m\u001b[38;5;241;43m=\u001b[39;49m\u001b[43m(\u001b[49m\u001b[43msolver\u001b[49m\u001b[43m \u001b[49m\u001b[38;5;241;43m==\u001b[39;49m\u001b[43m \u001b[49m\u001b[38;5;124;43m\"\u001b[39;49m\u001b[38;5;124;43msaga\u001b[39;49m\u001b[38;5;124;43m\"\u001b[39;49m\u001b[43m)\u001b[49m\u001b[43m,\u001b[49m\n\u001b[0;32m    510\u001b[0m \u001b[43m    \u001b[49m\u001b[43m)\u001b[49m\n\u001b[0;32m    512\u001b[0m \u001b[38;5;28;01melse\u001b[39;00m:\n\u001b[0;32m    513\u001b[0m     \u001b[38;5;28;01mraise\u001b[39;00m \u001b[38;5;167;01mValueError\u001b[39;00m(\n\u001b[0;32m    514\u001b[0m         \u001b[38;5;124m\"\u001b[39m\u001b[38;5;124msolver must be one of \u001b[39m\u001b[38;5;124m{\u001b[39m\u001b[38;5;124m'\u001b[39m\u001b[38;5;124mliblinear\u001b[39m\u001b[38;5;124m'\u001b[39m\u001b[38;5;124m, \u001b[39m\u001b[38;5;124m'\u001b[39m\u001b[38;5;124mlbfgs\u001b[39m\u001b[38;5;124m'\u001b[39m\u001b[38;5;124m, \u001b[39m\u001b[38;5;124m\"\u001b[39m\n\u001b[0;32m    515\u001b[0m         \u001b[38;5;124m\"\u001b[39m\u001b[38;5;124m'\u001b[39m\u001b[38;5;124mnewton-cg\u001b[39m\u001b[38;5;124m'\u001b[39m\u001b[38;5;124m, \u001b[39m\u001b[38;5;124m'\u001b[39m\u001b[38;5;124msag\u001b[39m\u001b[38;5;124m'\u001b[39m\u001b[38;5;124m}, got \u001b[39m\u001b[38;5;124m'\u001b[39m\u001b[38;5;132;01m%s\u001b[39;00m\u001b[38;5;124m'\u001b[39m\u001b[38;5;124m instead\u001b[39m\u001b[38;5;124m\"\u001b[39m \u001b[38;5;241m%\u001b[39m solver\n\u001b[0;32m    516\u001b[0m     )\n",
      "File \u001b[1;32mc:\\users\\fkrasovsky\\appdata\\local\\programs\\python\\python38\\lib\\site-packages\\sklearn\\linear_model\\_sag.py:325\u001b[0m, in \u001b[0;36msag_solver\u001b[1;34m(X, y, sample_weight, loss, alpha, beta, max_iter, tol, verbose, random_state, check_input, max_squared_sum, warm_start_mem, is_saga)\u001b[0m\n\u001b[0;32m    319\u001b[0m     \u001b[38;5;28;01mraise\u001b[39;00m \u001b[38;5;167;01mZeroDivisionError\u001b[39;00m(\n\u001b[0;32m    320\u001b[0m         \u001b[38;5;124m\"\u001b[39m\u001b[38;5;124mCurrent sag implementation does not handle \u001b[39m\u001b[38;5;124m\"\u001b[39m\n\u001b[0;32m    321\u001b[0m         \u001b[38;5;124m\"\u001b[39m\u001b[38;5;124mthe case step_size * alpha_scaled == 1\u001b[39m\u001b[38;5;124m\"\u001b[39m\n\u001b[0;32m    322\u001b[0m     )\n\u001b[0;32m    324\u001b[0m sag \u001b[38;5;241m=\u001b[39m sag64 \u001b[38;5;28;01mif\u001b[39;00m X\u001b[38;5;241m.\u001b[39mdtype \u001b[38;5;241m==\u001b[39m np\u001b[38;5;241m.\u001b[39mfloat64 \u001b[38;5;28;01melse\u001b[39;00m sag32\n\u001b[1;32m--> 325\u001b[0m num_seen, n_iter_ \u001b[38;5;241m=\u001b[39m \u001b[43msag\u001b[49m\u001b[43m(\u001b[49m\n\u001b[0;32m    326\u001b[0m \u001b[43m    \u001b[49m\u001b[43mdataset\u001b[49m\u001b[43m,\u001b[49m\n\u001b[0;32m    327\u001b[0m \u001b[43m    \u001b[49m\u001b[43mcoef_init\u001b[49m\u001b[43m,\u001b[49m\n\u001b[0;32m    328\u001b[0m \u001b[43m    \u001b[49m\u001b[43mintercept_init\u001b[49m\u001b[43m,\u001b[49m\n\u001b[0;32m    329\u001b[0m \u001b[43m    \u001b[49m\u001b[43mn_samples\u001b[49m\u001b[43m,\u001b[49m\n\u001b[0;32m    330\u001b[0m \u001b[43m    \u001b[49m\u001b[43mn_features\u001b[49m\u001b[43m,\u001b[49m\n\u001b[0;32m    331\u001b[0m \u001b[43m    \u001b[49m\u001b[43mn_classes\u001b[49m\u001b[43m,\u001b[49m\n\u001b[0;32m    332\u001b[0m \u001b[43m    \u001b[49m\u001b[43mtol\u001b[49m\u001b[43m,\u001b[49m\n\u001b[0;32m    333\u001b[0m \u001b[43m    \u001b[49m\u001b[43mmax_iter\u001b[49m\u001b[43m,\u001b[49m\n\u001b[0;32m    334\u001b[0m \u001b[43m    \u001b[49m\u001b[43mloss\u001b[49m\u001b[43m,\u001b[49m\n\u001b[0;32m    335\u001b[0m \u001b[43m    \u001b[49m\u001b[43mstep_size\u001b[49m\u001b[43m,\u001b[49m\n\u001b[0;32m    336\u001b[0m \u001b[43m    \u001b[49m\u001b[43malpha_scaled\u001b[49m\u001b[43m,\u001b[49m\n\u001b[0;32m    337\u001b[0m \u001b[43m    \u001b[49m\u001b[43mbeta_scaled\u001b[49m\u001b[43m,\u001b[49m\n\u001b[0;32m    338\u001b[0m \u001b[43m    \u001b[49m\u001b[43msum_gradient_init\u001b[49m\u001b[43m,\u001b[49m\n\u001b[0;32m    339\u001b[0m \u001b[43m    \u001b[49m\u001b[43mgradient_memory_init\u001b[49m\u001b[43m,\u001b[49m\n\u001b[0;32m    340\u001b[0m \u001b[43m    \u001b[49m\u001b[43mseen_init\u001b[49m\u001b[43m,\u001b[49m\n\u001b[0;32m    341\u001b[0m \u001b[43m    \u001b[49m\u001b[43mnum_seen_init\u001b[49m\u001b[43m,\u001b[49m\n\u001b[0;32m    342\u001b[0m \u001b[43m    \u001b[49m\u001b[43mfit_intercept\u001b[49m\u001b[43m,\u001b[49m\n\u001b[0;32m    343\u001b[0m \u001b[43m    \u001b[49m\u001b[43mintercept_sum_gradient\u001b[49m\u001b[43m,\u001b[49m\n\u001b[0;32m    344\u001b[0m \u001b[43m    \u001b[49m\u001b[43mintercept_decay\u001b[49m\u001b[43m,\u001b[49m\n\u001b[0;32m    345\u001b[0m \u001b[43m    \u001b[49m\u001b[43mis_saga\u001b[49m\u001b[43m,\u001b[49m\n\u001b[0;32m    346\u001b[0m \u001b[43m    \u001b[49m\u001b[43mverbose\u001b[49m\u001b[43m,\u001b[49m\n\u001b[0;32m    347\u001b[0m \u001b[43m\u001b[49m\u001b[43m)\u001b[49m\n\u001b[0;32m    349\u001b[0m \u001b[38;5;28;01mif\u001b[39;00m n_iter_ \u001b[38;5;241m==\u001b[39m max_iter:\n\u001b[0;32m    350\u001b[0m     warnings\u001b[38;5;241m.\u001b[39mwarn(\n\u001b[0;32m    351\u001b[0m         \u001b[38;5;124m\"\u001b[39m\u001b[38;5;124mThe max_iter was reached which means the coef_ did not converge\u001b[39m\u001b[38;5;124m\"\u001b[39m,\n\u001b[0;32m    352\u001b[0m         ConvergenceWarning,\n\u001b[0;32m    353\u001b[0m     )\n",
      "\u001b[1;31mKeyboardInterrupt\u001b[0m: "
     ]
    }
   ],
   "source": [
    "C_param_range = [0.001,0.01,0.1,1,10,100]\n",
    "roc_scores = []\n",
    "for c in C_param_range:\n",
    "\n",
    "    logit_reg = LogisticRegression(\n",
    "        penalty=\"elasticnet\"\n",
    "        , C=c\n",
    "        , solver='saga'\n",
    "        , random_state = 1\n",
    "        , l1_ratio = 0.5\n",
    "    )\n",
    "    logit_reg.fit(train_X_res, train_y_res)\n",
    "    #confusionMatrices(logit_reg, 'Logistic regression')\n",
    "    logit_pred = logit_reg.predict(test_X)\n",
    "    roc_scores.append(evalMetrics(logit_reg,logit_pred,False)['roc_auc'])"
   ]
  },
  {
   "cell_type": "code",
   "execution_count": null,
   "id": "0494dece",
   "metadata": {
    "scrolled": true
   },
   "outputs": [],
   "source": [
    "roc_vs(roc_scores,C_param_range,'Inverse Regularization Strength')"
   ]
  },
  {
   "cell_type": "code",
   "execution_count": null,
   "id": "ea002134",
   "metadata": {},
   "outputs": [],
   "source": [
    "l1_ratio = [0.1,0.15,0.2,0.25,0.3]\n",
    "roc_scores = []\n",
    "for l in l1_ratio:\n",
    "\n",
    "    logit_reg = LogisticRegression(\n",
    "        penalty=\"elasticnet\"\n",
    "        , C=0.1\n",
    "        , solver='saga'\n",
    "        , random_state = 1\n",
    "        , l1_ratio = l\n",
    "    )\n",
    "    logit_reg.fit(train_X_res, train_y_res)\n",
    "    #confusionMatrices(logit_reg, 'Logistic regression')\n",
    "    logit_pred = logit_reg.predict(test_X)\n",
    "    roc_scores.append(evalMetrics(logit_reg,logit_pred,False)['roc_auc'])"
   ]
  },
  {
   "cell_type": "code",
   "execution_count": null,
   "id": "3d8ccb67",
   "metadata": {},
   "outputs": [],
   "source": [
    "roc_vs(roc_scores,l1_ratio,'L1 Ratio')"
   ]
  },
  {
   "cell_type": "markdown",
   "id": "0b56737a",
   "metadata": {},
   "source": [
    "#### Deep Search"
   ]
  },
  {
   "cell_type": "code",
   "execution_count": 22,
   "id": "b6d8c18b",
   "metadata": {},
   "outputs": [
    {
     "name": "stdout",
     "output_type": "stream",
     "text": [
      "Fitting 5 folds for each of 27 candidates, totalling 135 fits\n"
     ]
    },
    {
     "data": {
      "text/html": [
       "<style>#sk-container-id-1 {color: black;background-color: white;}#sk-container-id-1 pre{padding: 0;}#sk-container-id-1 div.sk-toggleable {background-color: white;}#sk-container-id-1 label.sk-toggleable__label {cursor: pointer;display: block;width: 100%;margin-bottom: 0;padding: 0.3em;box-sizing: border-box;text-align: center;}#sk-container-id-1 label.sk-toggleable__label-arrow:before {content: \"▸\";float: left;margin-right: 0.25em;color: #696969;}#sk-container-id-1 label.sk-toggleable__label-arrow:hover:before {color: black;}#sk-container-id-1 div.sk-estimator:hover label.sk-toggleable__label-arrow:before {color: black;}#sk-container-id-1 div.sk-toggleable__content {max-height: 0;max-width: 0;overflow: hidden;text-align: left;background-color: #f0f8ff;}#sk-container-id-1 div.sk-toggleable__content pre {margin: 0.2em;color: black;border-radius: 0.25em;background-color: #f0f8ff;}#sk-container-id-1 input.sk-toggleable__control:checked~div.sk-toggleable__content {max-height: 200px;max-width: 100%;overflow: auto;}#sk-container-id-1 input.sk-toggleable__control:checked~label.sk-toggleable__label-arrow:before {content: \"▾\";}#sk-container-id-1 div.sk-estimator input.sk-toggleable__control:checked~label.sk-toggleable__label {background-color: #d4ebff;}#sk-container-id-1 div.sk-label input.sk-toggleable__control:checked~label.sk-toggleable__label {background-color: #d4ebff;}#sk-container-id-1 input.sk-hidden--visually {border: 0;clip: rect(1px 1px 1px 1px);clip: rect(1px, 1px, 1px, 1px);height: 1px;margin: -1px;overflow: hidden;padding: 0;position: absolute;width: 1px;}#sk-container-id-1 div.sk-estimator {font-family: monospace;background-color: #f0f8ff;border: 1px dotted black;border-radius: 0.25em;box-sizing: border-box;margin-bottom: 0.5em;}#sk-container-id-1 div.sk-estimator:hover {background-color: #d4ebff;}#sk-container-id-1 div.sk-parallel-item::after {content: \"\";width: 100%;border-bottom: 1px solid gray;flex-grow: 1;}#sk-container-id-1 div.sk-label:hover label.sk-toggleable__label {background-color: #d4ebff;}#sk-container-id-1 div.sk-serial::before {content: \"\";position: absolute;border-left: 1px solid gray;box-sizing: border-box;top: 0;bottom: 0;left: 50%;z-index: 0;}#sk-container-id-1 div.sk-serial {display: flex;flex-direction: column;align-items: center;background-color: white;padding-right: 0.2em;padding-left: 0.2em;position: relative;}#sk-container-id-1 div.sk-item {position: relative;z-index: 1;}#sk-container-id-1 div.sk-parallel {display: flex;align-items: stretch;justify-content: center;background-color: white;position: relative;}#sk-container-id-1 div.sk-item::before, #sk-container-id-1 div.sk-parallel-item::before {content: \"\";position: absolute;border-left: 1px solid gray;box-sizing: border-box;top: 0;bottom: 0;left: 50%;z-index: -1;}#sk-container-id-1 div.sk-parallel-item {display: flex;flex-direction: column;z-index: 1;position: relative;background-color: white;}#sk-container-id-1 div.sk-parallel-item:first-child::after {align-self: flex-end;width: 50%;}#sk-container-id-1 div.sk-parallel-item:last-child::after {align-self: flex-start;width: 50%;}#sk-container-id-1 div.sk-parallel-item:only-child::after {width: 0;}#sk-container-id-1 div.sk-dashed-wrapped {border: 1px dashed gray;margin: 0 0.4em 0.5em 0.4em;box-sizing: border-box;padding-bottom: 0.4em;background-color: white;}#sk-container-id-1 div.sk-label label {font-family: monospace;font-weight: bold;display: inline-block;line-height: 1.2em;}#sk-container-id-1 div.sk-label-container {text-align: center;}#sk-container-id-1 div.sk-container {/* jupyter's `normalize.less` sets `[hidden] { display: none; }` but bootstrap.min.css set `[hidden] { display: none !important; }` so we also need the `!important` here to be able to override the default hidden behavior on the sphinx rendered scikit-learn.org. See: https://github.com/scikit-learn/scikit-learn/issues/21755 */display: inline-block !important;position: relative;}#sk-container-id-1 div.sk-text-repr-fallback {display: none;}</style><div id=\"sk-container-id-1\" class=\"sk-top-container\"><div class=\"sk-text-repr-fallback\"><pre>GridSearchCV(cv=5, estimator=LogisticRegression(random_state=1),\n",
       "             param_grid={&#x27;C&#x27;: [0.1], &#x27;l1_ratio&#x27;: [0.19, 0.2, 0.21],\n",
       "                         &#x27;penalty&#x27;: [&#x27;elasticnet&#x27;, &#x27;l1&#x27;, &#x27;l2&#x27;],\n",
       "                         &#x27;random_state&#x27;: [1],\n",
       "                         &#x27;solver&#x27;: [&#x27;lbfgs&#x27;, &#x27;liblinear&#x27;, &#x27;saga&#x27;]},\n",
       "             scoring=&#x27;roc_auc&#x27;, verbose=1)</pre><b>In a Jupyter environment, please rerun this cell to show the HTML representation or trust the notebook. <br />On GitHub, the HTML representation is unable to render, please try loading this page with nbviewer.org.</b></div><div class=\"sk-container\" hidden><div class=\"sk-item sk-dashed-wrapped\"><div class=\"sk-label-container\"><div class=\"sk-label sk-toggleable\"><input class=\"sk-toggleable__control sk-hidden--visually\" id=\"sk-estimator-id-1\" type=\"checkbox\" ><label for=\"sk-estimator-id-1\" class=\"sk-toggleable__label sk-toggleable__label-arrow\">GridSearchCV</label><div class=\"sk-toggleable__content\"><pre>GridSearchCV(cv=5, estimator=LogisticRegression(random_state=1),\n",
       "             param_grid={&#x27;C&#x27;: [0.1], &#x27;l1_ratio&#x27;: [0.19, 0.2, 0.21],\n",
       "                         &#x27;penalty&#x27;: [&#x27;elasticnet&#x27;, &#x27;l1&#x27;, &#x27;l2&#x27;],\n",
       "                         &#x27;random_state&#x27;: [1],\n",
       "                         &#x27;solver&#x27;: [&#x27;lbfgs&#x27;, &#x27;liblinear&#x27;, &#x27;saga&#x27;]},\n",
       "             scoring=&#x27;roc_auc&#x27;, verbose=1)</pre></div></div></div><div class=\"sk-parallel\"><div class=\"sk-parallel-item\"><div class=\"sk-item\"><div class=\"sk-label-container\"><div class=\"sk-label sk-toggleable\"><input class=\"sk-toggleable__control sk-hidden--visually\" id=\"sk-estimator-id-2\" type=\"checkbox\" ><label for=\"sk-estimator-id-2\" class=\"sk-toggleable__label sk-toggleable__label-arrow\">estimator: LogisticRegression</label><div class=\"sk-toggleable__content\"><pre>LogisticRegression(random_state=1)</pre></div></div></div><div class=\"sk-serial\"><div class=\"sk-item\"><div class=\"sk-estimator sk-toggleable\"><input class=\"sk-toggleable__control sk-hidden--visually\" id=\"sk-estimator-id-3\" type=\"checkbox\" ><label for=\"sk-estimator-id-3\" class=\"sk-toggleable__label sk-toggleable__label-arrow\">LogisticRegression</label><div class=\"sk-toggleable__content\"><pre>LogisticRegression(random_state=1)</pre></div></div></div></div></div></div></div></div></div></div>"
      ],
      "text/plain": [
       "GridSearchCV(cv=5, estimator=LogisticRegression(random_state=1),\n",
       "             param_grid={'C': [0.1], 'l1_ratio': [0.19, 0.2, 0.21],\n",
       "                         'penalty': ['elasticnet', 'l1', 'l2'],\n",
       "                         'random_state': [1],\n",
       "                         'solver': ['lbfgs', 'liblinear', 'saga']},\n",
       "             scoring='roc_auc', verbose=1)"
      ]
     },
     "execution_count": 22,
     "metadata": {},
     "output_type": "execute_result"
    }
   ],
   "source": [
    "parameters = {\n",
    "                'solver': ['lbfgs', 'liblinear', 'saga'],\n",
    "                'penalty':['elasticnet', 'l1', 'l2'],\n",
    "                'C':[0.1],\n",
    "                'l1_ratio': [0.19,0.2,0.21],\n",
    "                'random_state': [1]\n",
    "             }\n",
    "\n",
    "\n",
    "\n",
    "grid_search = GridSearchCV(\n",
    "    estimator = LogisticRegression(random_state=1),  \n",
    "    param_grid = parameters,\n",
    "    scoring = 'roc_auc',\n",
    "    cv = 5,\n",
    "    verbose=1)\n",
    "\n",
    "\n",
    "grid_search.fit(train_X_res, train_y_res)"
   ]
  },
  {
   "cell_type": "code",
   "execution_count": 23,
   "id": "8280b37b",
   "metadata": {
    "scrolled": true
   },
   "outputs": [
    {
     "name": "stdout",
     "output_type": "stream",
     "text": [
      "LogisticRegression(C=0.1, l1_ratio=0.19, random_state=1, solver='saga')\n",
      "Precision: 0.132887\n",
      "Recall: 0.709701\n",
      "F1 score: 0.223858\n",
      "ROC AUC: 0.850597\n"
     ]
    },
    {
     "data": {
      "text/plain": [
       "{'precision': 0.13288718929254303,\n",
       " 'recall': 0.7097009482129832,\n",
       " 'f1': 0.22385827677441622,\n",
       " 'roc_auc': 0.8505973392691312}"
      ]
     },
     "execution_count": 23,
     "metadata": {},
     "output_type": "execute_result"
    }
   ],
   "source": [
    "print(grid_search.best_estimator_)\n",
    "evalMetrics(grid_search,grid_search.predict(test_X))"
   ]
  },
  {
   "cell_type": "markdown",
   "id": "c6f4527a",
   "metadata": {},
   "source": [
    "### Random Forest - GridSearch"
   ]
  },
  {
   "cell_type": "markdown",
   "id": "1613e2ba",
   "metadata": {},
   "source": [
    "To optimize random forest performance, we want to cycle through the number of estimators, the maximum tree depth, the log-loss, the cost function, and more:"
   ]
  },
  {
   "cell_type": "code",
   "execution_count": 24,
   "id": "d09671ae",
   "metadata": {},
   "outputs": [
    {
     "name": "stdout",
     "output_type": "stream",
     "text": [
      "{'bootstrap': [True, False],\n",
      " 'max_depth': [1, 2, 3, 4, 5, 6, 7, 8, 9, 10, None],\n",
      " 'max_features': ['auto', 'sqrt'],\n",
      " 'min_samples_leaf': [1, 2, 4],\n",
      " 'min_samples_split': [2, 5, 10],\n",
      " 'n_estimators': [400, 450, 500, 550, 600]}\n"
     ]
    }
   ],
   "source": [
    "rf = RandomForestClassifier(random_state = 1,verbose = 2)\n",
    "\n",
    "# Number of trees in random forest\n",
    "n_estimators = [400,450,500,550,600]\n",
    "# Number of features to consider at every split\n",
    "max_features = ['auto', 'sqrt']\n",
    "# Maximum number of levels in tree\n",
    "max_depth = [int(x) for x in np.linspace(1, 10, num = 10)]\n",
    "max_depth.append(None)\n",
    "# Minimum number of samples required to split a node\n",
    "min_samples_split = [2, 5, 10]\n",
    "# Minimum number of samples required at each leaf node\n",
    "min_samples_leaf = [1, 2, 4]\n",
    "# Method of selecting samples for training each tree\n",
    "bootstrap = [True, False]\n",
    "# Create the random grid\n",
    "random_grid = {'n_estimators': n_estimators,\n",
    "               'max_features': max_features,\n",
    "               'max_depth': max_depth,\n",
    "               'min_samples_split': min_samples_split,\n",
    "               'min_samples_leaf': min_samples_leaf,\n",
    "               'bootstrap': bootstrap}\n",
    "pprint.pprint(random_grid)"
   ]
  },
  {
   "cell_type": "code",
   "execution_count": 25,
   "id": "699a0d79",
   "metadata": {},
   "outputs": [
    {
     "name": "stdout",
     "output_type": "stream",
     "text": [
      "Fitting 3 folds for each of 100 candidates, totalling 300 fits\n"
     ]
    },
    {
     "name": "stderr",
     "output_type": "stream",
     "text": [
      "[Parallel(n_jobs=1)]: Using backend SequentialBackend with 1 concurrent workers.\n",
      "[Parallel(n_jobs=1)]: Done   1 out of   1 | elapsed:    0.1s remaining:    0.0s\n"
     ]
    },
    {
     "name": "stdout",
     "output_type": "stream",
     "text": [
      "building tree 1 of 450\n",
      "building tree 2 of 450\n",
      "building tree 3 of 450\n",
      "building tree 4 of 450\n",
      "building tree 5 of 450\n",
      "building tree 6 of 450\n",
      "building tree 7 of 450\n",
      "building tree 8 of 450\n",
      "building tree 9 of 450\n",
      "building tree 10 of 450\n",
      "building tree 11 of 450\n",
      "building tree 12 of 450\n",
      "building tree 13 of 450\n",
      "building tree 14 of 450\n",
      "building tree 15 of 450\n",
      "building tree 16 of 450\n",
      "building tree 17 of 450\n",
      "building tree 18 of 450\n",
      "building tree 19 of 450\n",
      "building tree 20 of 450\n",
      "building tree 21 of 450\n",
      "building tree 22 of 450\n",
      "building tree 23 of 450\n",
      "building tree 24 of 450\n",
      "building tree 25 of 450\n",
      "building tree 26 of 450\n",
      "building tree 27 of 450\n",
      "building tree 28 of 450\n",
      "building tree 29 of 450\n",
      "building tree 30 of 450\n",
      "building tree 31 of 450\n",
      "building tree 32 of 450\n",
      "building tree 33 of 450\n",
      "building tree 34 of 450\n",
      "building tree 35 of 450\n",
      "building tree 36 of 450\n",
      "building tree 37 of 450\n",
      "building tree 38 of 450\n",
      "building tree 39 of 450\n",
      "building tree 40 of 450\n",
      "building tree 41 of 450\n",
      "building tree 42 of 450\n",
      "building tree 43 of 450\n",
      "building tree 44 of 450\n",
      "building tree 45 of 450\n",
      "building tree 46 of 450\n",
      "building tree 47 of 450\n",
      "building tree 48 of 450\n",
      "building tree 49 of 450\n",
      "building tree 50 of 450\n",
      "building tree 51 of 450\n",
      "building tree 52 of 450\n",
      "building tree 53 of 450\n",
      "building tree 54 of 450\n",
      "building tree 55 of 450\n",
      "building tree 56 of 450\n",
      "building tree 57 of 450\n",
      "building tree 58 of 450\n",
      "building tree 59 of 450\n",
      "building tree 60 of 450\n",
      "building tree 61 of 450\n",
      "building tree 62 of 450\n",
      "building tree 63 of 450\n",
      "building tree 64 of 450\n",
      "building tree 65 of 450\n",
      "building tree 66 of 450\n",
      "building tree 67 of 450\n",
      "building tree 68 of 450\n",
      "building tree 69 of 450\n",
      "building tree 70 of 450\n",
      "building tree 71 of 450\n",
      "building tree 72 of 450\n",
      "building tree 73 of 450\n",
      "building tree 74 of 450\n",
      "building tree 75 of 450\n",
      "building tree 76 of 450\n",
      "building tree 77 of 450\n",
      "building tree 78 of 450\n",
      "building tree 79 of 450\n",
      "building tree 80 of 450\n",
      "building tree 81 of 450\n",
      "building tree 82 of 450\n",
      "building tree 83 of 450\n",
      "building tree 84 of 450\n",
      "building tree 85 of 450\n",
      "building tree 86 of 450\n",
      "building tree 87 of 450\n",
      "building tree 88 of 450\n",
      "building tree 89 of 450\n",
      "building tree 90 of 450\n",
      "building tree 91 of 450\n",
      "building tree 92 of 450\n",
      "building tree 93 of 450\n",
      "building tree 94 of 450\n",
      "building tree 95 of 450\n",
      "building tree 96 of 450\n",
      "building tree 97 of 450\n",
      "building tree 98 of 450\n",
      "building tree 99 of 450\n",
      "building tree 100 of 450\n",
      "building tree 101 of 450\n",
      "building tree 102 of 450\n",
      "building tree 103 of 450\n",
      "building tree 104 of 450\n",
      "building tree 105 of 450\n",
      "building tree 106 of 450\n",
      "building tree 107 of 450\n",
      "building tree 108 of 450\n",
      "building tree 109 of 450\n",
      "building tree 110 of 450\n",
      "building tree 111 of 450\n",
      "building tree 112 of 450\n",
      "building tree 113 of 450\n",
      "building tree 114 of 450\n",
      "building tree 115 of 450\n",
      "building tree 116 of 450\n",
      "building tree 117 of 450\n",
      "building tree 118 of 450\n",
      "building tree 119 of 450\n",
      "building tree 120 of 450\n",
      "building tree 121 of 450\n",
      "building tree 122 of 450\n",
      "building tree 123 of 450\n",
      "building tree 124 of 450\n",
      "building tree 125 of 450\n",
      "building tree 126 of 450\n",
      "building tree 127 of 450\n",
      "building tree 128 of 450\n",
      "building tree 129 of 450\n",
      "building tree 130 of 450\n",
      "building tree 131 of 450\n",
      "building tree 132 of 450\n",
      "building tree 133 of 450\n",
      "building tree 134 of 450\n",
      "building tree 135 of 450\n",
      "building tree 136 of 450\n",
      "building tree 137 of 450\n",
      "building tree 138 of 450\n",
      "building tree 139 of 450\n",
      "building tree 140 of 450\n",
      "building tree 141 of 450\n",
      "building tree 142 of 450\n",
      "building tree 143 of 450\n",
      "building tree 144 of 450\n",
      "building tree 145 of 450\n",
      "building tree 146 of 450\n",
      "building tree 147 of 450\n",
      "building tree 148 of 450\n",
      "building tree 149 of 450\n",
      "building tree 150 of 450\n",
      "building tree 151 of 450\n",
      "building tree 152 of 450\n",
      "building tree 153 of 450\n",
      "building tree 154 of 450\n",
      "building tree 155 of 450\n",
      "building tree 156 of 450\n",
      "building tree 157 of 450\n",
      "building tree 158 of 450\n",
      "building tree 159 of 450\n",
      "building tree 160 of 450\n",
      "building tree 161 of 450\n",
      "building tree 162 of 450\n",
      "building tree 163 of 450\n",
      "building tree 164 of 450\n",
      "building tree 165 of 450\n",
      "building tree 166 of 450\n",
      "building tree 167 of 450\n",
      "building tree 168 of 450\n",
      "building tree 169 of 450\n",
      "building tree 170 of 450\n",
      "building tree 171 of 450\n",
      "building tree 172 of 450\n",
      "building tree 173 of 450\n",
      "building tree 174 of 450\n",
      "building tree 175 of 450\n",
      "building tree 176 of 450\n",
      "building tree 177 of 450\n",
      "building tree 178 of 450\n",
      "building tree 179 of 450\n",
      "building tree 180 of 450\n",
      "building tree 181 of 450\n",
      "building tree 182 of 450\n",
      "building tree 183 of 450\n",
      "building tree 184 of 450\n",
      "building tree 185 of 450\n",
      "building tree 186 of 450\n",
      "building tree 187 of 450\n",
      "building tree 188 of 450\n",
      "building tree 189 of 450\n",
      "building tree 190 of 450\n",
      "building tree 191 of 450\n",
      "building tree 192 of 450\n",
      "building tree 193 of 450\n",
      "building tree 194 of 450\n",
      "building tree 195 of 450\n",
      "building tree 196 of 450\n",
      "building tree 197 of 450\n",
      "building tree 198 of 450\n",
      "building tree 199 of 450\n",
      "building tree 200 of 450\n",
      "building tree 201 of 450\n",
      "building tree 202 of 450\n",
      "building tree 203 of 450\n",
      "building tree 204 of 450\n",
      "building tree 205 of 450\n",
      "building tree 206 of 450\n",
      "building tree 207 of 450\n",
      "building tree 208 of 450\n",
      "building tree 209 of 450\n",
      "building tree 210 of 450\n",
      "building tree 211 of 450\n",
      "building tree 212 of 450\n",
      "building tree 213 of 450\n",
      "building tree 214 of 450\n",
      "building tree 215 of 450\n",
      "building tree 216 of 450\n",
      "building tree 217 of 450\n",
      "building tree 218 of 450\n",
      "building tree 219 of 450\n",
      "building tree 220 of 450\n",
      "building tree 221 of 450\n",
      "building tree 222 of 450\n",
      "building tree 223 of 450\n",
      "building tree 224 of 450\n",
      "building tree 225 of 450\n",
      "building tree 226 of 450\n",
      "building tree 227 of 450\n",
      "building tree 228 of 450\n",
      "building tree 229 of 450\n",
      "building tree 230 of 450\n",
      "building tree 231 of 450\n",
      "building tree 232 of 450\n",
      "building tree 233 of 450\n",
      "building tree 234 of 450\n",
      "building tree 235 of 450\n",
      "building tree 236 of 450\n",
      "building tree 237 of 450\n",
      "building tree 238 of 450\n",
      "building tree 239 of 450\n",
      "building tree 240 of 450\n",
      "building tree 241 of 450\n",
      "building tree 242 of 450\n",
      "building tree 243 of 450\n",
      "building tree 244 of 450\n",
      "building tree 245 of 450\n",
      "building tree 246 of 450\n",
      "building tree 247 of 450\n",
      "building tree 248 of 450\n",
      "building tree 249 of 450\n",
      "building tree 250 of 450\n",
      "building tree 251 of 450\n",
      "building tree 252 of 450\n",
      "building tree 253 of 450\n",
      "building tree 254 of 450\n",
      "building tree 255 of 450\n",
      "building tree 256 of 450\n",
      "building tree 257 of 450\n",
      "building tree 258 of 450\n",
      "building tree 259 of 450\n",
      "building tree 260 of 450\n",
      "building tree 261 of 450\n",
      "building tree 262 of 450\n",
      "building tree 263 of 450\n",
      "building tree 264 of 450\n",
      "building tree 265 of 450\n",
      "building tree 266 of 450\n",
      "building tree 267 of 450\n",
      "building tree 268 of 450\n",
      "building tree 269 of 450\n",
      "building tree 270 of 450\n",
      "building tree 271 of 450\n",
      "building tree 272 of 450\n",
      "building tree 273 of 450\n",
      "building tree 274 of 450\n",
      "building tree 275 of 450\n",
      "building tree 276 of 450\n",
      "building tree 277 of 450\n",
      "building tree 278 of 450\n",
      "building tree 279 of 450\n",
      "building tree 280 of 450\n",
      "building tree 281 of 450\n",
      "building tree 282 of 450\n",
      "building tree 283 of 450\n",
      "building tree 284 of 450\n",
      "building tree 285 of 450\n",
      "building tree 286 of 450\n",
      "building tree 287 of 450\n",
      "building tree 288 of 450\n",
      "building tree 289 of 450\n",
      "building tree 290 of 450\n",
      "building tree 291 of 450\n",
      "building tree 292 of 450\n",
      "building tree 293 of 450\n",
      "building tree 294 of 450\n",
      "building tree 295 of 450\n",
      "building tree 296 of 450\n",
      "building tree 297 of 450\n",
      "building tree 298 of 450\n",
      "building tree 299 of 450\n",
      "building tree 300 of 450\n",
      "building tree 301 of 450\n",
      "building tree 302 of 450\n",
      "building tree 303 of 450\n",
      "building tree 304 of 450\n",
      "building tree 305 of 450\n",
      "building tree 306 of 450\n",
      "building tree 307 of 450\n",
      "building tree 308 of 450\n",
      "building tree 309 of 450\n",
      "building tree 310 of 450\n",
      "building tree 311 of 450\n",
      "building tree 312 of 450\n",
      "building tree 313 of 450\n",
      "building tree 314 of 450\n",
      "building tree 315 of 450\n",
      "building tree 316 of 450\n",
      "building tree 317 of 450\n",
      "building tree 318 of 450\n",
      "building tree 319 of 450\n",
      "building tree 320 of 450\n",
      "building tree 321 of 450\n",
      "building tree 322 of 450\n",
      "building tree 323 of 450\n",
      "building tree 324 of 450\n",
      "building tree 325 of 450\n",
      "building tree 326 of 450\n",
      "building tree 327 of 450\n",
      "building tree 328 of 450\n",
      "building tree 329 of 450\n",
      "building tree 330 of 450\n",
      "building tree 331 of 450\n",
      "building tree 332 of 450\n",
      "building tree 333 of 450\n",
      "building tree 334 of 450\n"
     ]
    },
    {
     "name": "stdout",
     "output_type": "stream",
     "text": [
      "building tree 335 of 450\n",
      "building tree 336 of 450\n",
      "building tree 337 of 450\n",
      "building tree 338 of 450\n",
      "building tree 339 of 450\n",
      "building tree 340 of 450\n",
      "building tree 341 of 450\n",
      "building tree 342 of 450\n",
      "building tree 343 of 450\n",
      "building tree 344 of 450\n",
      "building tree 345 of 450\n",
      "building tree 346 of 450\n",
      "building tree 347 of 450\n",
      "building tree 348 of 450\n",
      "building tree 349 of 450\n",
      "building tree 350 of 450\n",
      "building tree 351 of 450\n",
      "building tree 352 of 450\n",
      "building tree 353 of 450\n",
      "building tree 354 of 450\n",
      "building tree 355 of 450\n",
      "building tree 356 of 450\n",
      "building tree 357 of 450\n",
      "building tree 358 of 450\n",
      "building tree 359 of 450\n",
      "building tree 360 of 450\n",
      "building tree 361 of 450\n",
      "building tree 362 of 450\n",
      "building tree 363 of 450\n",
      "building tree 364 of 450\n",
      "building tree 365 of 450\n",
      "building tree 366 of 450\n",
      "building tree 367 of 450\n",
      "building tree 368 of 450\n",
      "building tree 369 of 450\n",
      "building tree 370 of 450\n",
      "building tree 371 of 450\n",
      "building tree 372 of 450\n",
      "building tree 373 of 450\n",
      "building tree 374 of 450\n",
      "building tree 375 of 450\n",
      "building tree 376 of 450\n",
      "building tree 377 of 450\n",
      "building tree 378 of 450\n",
      "building tree 379 of 450\n",
      "building tree 380 of 450\n",
      "building tree 381 of 450\n",
      "building tree 382 of 450\n",
      "building tree 383 of 450\n",
      "building tree 384 of 450\n",
      "building tree 385 of 450\n",
      "building tree 386 of 450\n",
      "building tree 387 of 450\n",
      "building tree 388 of 450\n",
      "building tree 389 of 450\n",
      "building tree 390 of 450\n",
      "building tree 391 of 450\n",
      "building tree 392 of 450\n",
      "building tree 393 of 450\n",
      "building tree 394 of 450\n",
      "building tree 395 of 450\n",
      "building tree 396 of 450\n",
      "building tree 397 of 450\n",
      "building tree 398 of 450\n",
      "building tree 399 of 450\n",
      "building tree 400 of 450\n",
      "building tree 401 of 450\n",
      "building tree 402 of 450\n",
      "building tree 403 of 450\n",
      "building tree 404 of 450\n",
      "building tree 405 of 450\n",
      "building tree 406 of 450\n",
      "building tree 407 of 450\n",
      "building tree 408 of 450\n",
      "building tree 409 of 450\n",
      "building tree 410 of 450\n",
      "building tree 411 of 450\n",
      "building tree 412 of 450\n",
      "building tree 413 of 450\n",
      "building tree 414 of 450\n",
      "building tree 415 of 450\n",
      "building tree 416 of 450\n",
      "building tree 417 of 450\n",
      "building tree 418 of 450\n",
      "building tree 419 of 450\n",
      "building tree 420 of 450\n",
      "building tree 421 of 450\n",
      "building tree 422 of 450\n",
      "building tree 423 of 450\n",
      "building tree 424 of 450\n",
      "building tree 425 of 450\n",
      "building tree 426 of 450\n",
      "building tree 427 of 450\n",
      "building tree 428 of 450\n",
      "building tree 429 of 450\n",
      "building tree 430 of 450\n",
      "building tree 431 of 450\n",
      "building tree 432 of 450\n",
      "building tree 433 of 450\n",
      "building tree 434 of 450\n",
      "building tree 435 of 450\n",
      "building tree 436 of 450\n",
      "building tree 437 of 450\n",
      "building tree 438 of 450\n",
      "building tree 439 of 450\n",
      "building tree 440 of 450\n",
      "building tree 441 of 450\n",
      "building tree 442 of 450\n",
      "building tree 443 of 450\n",
      "building tree 444 of 450\n",
      "building tree 445 of 450\n",
      "building tree 446 of 450\n",
      "building tree 447 of 450\n",
      "building tree 448 of 450\n",
      "building tree 449 of 450\n",
      "building tree 450 of 450\n"
     ]
    },
    {
     "name": "stderr",
     "output_type": "stream",
     "text": [
      "[Parallel(n_jobs=1)]: Done 450 out of 450 | elapsed:  1.2min finished\n"
     ]
    },
    {
     "data": {
      "text/html": [
       "<style>#sk-container-id-2 {color: black;background-color: white;}#sk-container-id-2 pre{padding: 0;}#sk-container-id-2 div.sk-toggleable {background-color: white;}#sk-container-id-2 label.sk-toggleable__label {cursor: pointer;display: block;width: 100%;margin-bottom: 0;padding: 0.3em;box-sizing: border-box;text-align: center;}#sk-container-id-2 label.sk-toggleable__label-arrow:before {content: \"▸\";float: left;margin-right: 0.25em;color: #696969;}#sk-container-id-2 label.sk-toggleable__label-arrow:hover:before {color: black;}#sk-container-id-2 div.sk-estimator:hover label.sk-toggleable__label-arrow:before {color: black;}#sk-container-id-2 div.sk-toggleable__content {max-height: 0;max-width: 0;overflow: hidden;text-align: left;background-color: #f0f8ff;}#sk-container-id-2 div.sk-toggleable__content pre {margin: 0.2em;color: black;border-radius: 0.25em;background-color: #f0f8ff;}#sk-container-id-2 input.sk-toggleable__control:checked~div.sk-toggleable__content {max-height: 200px;max-width: 100%;overflow: auto;}#sk-container-id-2 input.sk-toggleable__control:checked~label.sk-toggleable__label-arrow:before {content: \"▾\";}#sk-container-id-2 div.sk-estimator input.sk-toggleable__control:checked~label.sk-toggleable__label {background-color: #d4ebff;}#sk-container-id-2 div.sk-label input.sk-toggleable__control:checked~label.sk-toggleable__label {background-color: #d4ebff;}#sk-container-id-2 input.sk-hidden--visually {border: 0;clip: rect(1px 1px 1px 1px);clip: rect(1px, 1px, 1px, 1px);height: 1px;margin: -1px;overflow: hidden;padding: 0;position: absolute;width: 1px;}#sk-container-id-2 div.sk-estimator {font-family: monospace;background-color: #f0f8ff;border: 1px dotted black;border-radius: 0.25em;box-sizing: border-box;margin-bottom: 0.5em;}#sk-container-id-2 div.sk-estimator:hover {background-color: #d4ebff;}#sk-container-id-2 div.sk-parallel-item::after {content: \"\";width: 100%;border-bottom: 1px solid gray;flex-grow: 1;}#sk-container-id-2 div.sk-label:hover label.sk-toggleable__label {background-color: #d4ebff;}#sk-container-id-2 div.sk-serial::before {content: \"\";position: absolute;border-left: 1px solid gray;box-sizing: border-box;top: 0;bottom: 0;left: 50%;z-index: 0;}#sk-container-id-2 div.sk-serial {display: flex;flex-direction: column;align-items: center;background-color: white;padding-right: 0.2em;padding-left: 0.2em;position: relative;}#sk-container-id-2 div.sk-item {position: relative;z-index: 1;}#sk-container-id-2 div.sk-parallel {display: flex;align-items: stretch;justify-content: center;background-color: white;position: relative;}#sk-container-id-2 div.sk-item::before, #sk-container-id-2 div.sk-parallel-item::before {content: \"\";position: absolute;border-left: 1px solid gray;box-sizing: border-box;top: 0;bottom: 0;left: 50%;z-index: -1;}#sk-container-id-2 div.sk-parallel-item {display: flex;flex-direction: column;z-index: 1;position: relative;background-color: white;}#sk-container-id-2 div.sk-parallel-item:first-child::after {align-self: flex-end;width: 50%;}#sk-container-id-2 div.sk-parallel-item:last-child::after {align-self: flex-start;width: 50%;}#sk-container-id-2 div.sk-parallel-item:only-child::after {width: 0;}#sk-container-id-2 div.sk-dashed-wrapped {border: 1px dashed gray;margin: 0 0.4em 0.5em 0.4em;box-sizing: border-box;padding-bottom: 0.4em;background-color: white;}#sk-container-id-2 div.sk-label label {font-family: monospace;font-weight: bold;display: inline-block;line-height: 1.2em;}#sk-container-id-2 div.sk-label-container {text-align: center;}#sk-container-id-2 div.sk-container {/* jupyter's `normalize.less` sets `[hidden] { display: none; }` but bootstrap.min.css set `[hidden] { display: none !important; }` so we also need the `!important` here to be able to override the default hidden behavior on the sphinx rendered scikit-learn.org. See: https://github.com/scikit-learn/scikit-learn/issues/21755 */display: inline-block !important;position: relative;}#sk-container-id-2 div.sk-text-repr-fallback {display: none;}</style><div id=\"sk-container-id-2\" class=\"sk-top-container\"><div class=\"sk-text-repr-fallback\"><pre>RandomizedSearchCV(cv=3,\n",
       "                   estimator=RandomForestClassifier(random_state=1, verbose=2),\n",
       "                   n_iter=100, n_jobs=-1,\n",
       "                   param_distributions={&#x27;bootstrap&#x27;: [True, False],\n",
       "                                        &#x27;max_depth&#x27;: [1, 2, 3, 4, 5, 6, 7, 8, 9,\n",
       "                                                      10, None],\n",
       "                                        &#x27;max_features&#x27;: [&#x27;auto&#x27;, &#x27;sqrt&#x27;],\n",
       "                                        &#x27;min_samples_leaf&#x27;: [1, 2, 4],\n",
       "                                        &#x27;min_samples_split&#x27;: [2, 5, 10],\n",
       "                                        &#x27;n_estimators&#x27;: [400, 450, 500, 550,\n",
       "                                                         600]},\n",
       "                   random_state=1, scoring=&#x27;roc_auc&#x27;, verbose=2)</pre><b>In a Jupyter environment, please rerun this cell to show the HTML representation or trust the notebook. <br />On GitHub, the HTML representation is unable to render, please try loading this page with nbviewer.org.</b></div><div class=\"sk-container\" hidden><div class=\"sk-item sk-dashed-wrapped\"><div class=\"sk-label-container\"><div class=\"sk-label sk-toggleable\"><input class=\"sk-toggleable__control sk-hidden--visually\" id=\"sk-estimator-id-4\" type=\"checkbox\" ><label for=\"sk-estimator-id-4\" class=\"sk-toggleable__label sk-toggleable__label-arrow\">RandomizedSearchCV</label><div class=\"sk-toggleable__content\"><pre>RandomizedSearchCV(cv=3,\n",
       "                   estimator=RandomForestClassifier(random_state=1, verbose=2),\n",
       "                   n_iter=100, n_jobs=-1,\n",
       "                   param_distributions={&#x27;bootstrap&#x27;: [True, False],\n",
       "                                        &#x27;max_depth&#x27;: [1, 2, 3, 4, 5, 6, 7, 8, 9,\n",
       "                                                      10, None],\n",
       "                                        &#x27;max_features&#x27;: [&#x27;auto&#x27;, &#x27;sqrt&#x27;],\n",
       "                                        &#x27;min_samples_leaf&#x27;: [1, 2, 4],\n",
       "                                        &#x27;min_samples_split&#x27;: [2, 5, 10],\n",
       "                                        &#x27;n_estimators&#x27;: [400, 450, 500, 550,\n",
       "                                                         600]},\n",
       "                   random_state=1, scoring=&#x27;roc_auc&#x27;, verbose=2)</pre></div></div></div><div class=\"sk-parallel\"><div class=\"sk-parallel-item\"><div class=\"sk-item\"><div class=\"sk-label-container\"><div class=\"sk-label sk-toggleable\"><input class=\"sk-toggleable__control sk-hidden--visually\" id=\"sk-estimator-id-5\" type=\"checkbox\" ><label for=\"sk-estimator-id-5\" class=\"sk-toggleable__label sk-toggleable__label-arrow\">estimator: RandomForestClassifier</label><div class=\"sk-toggleable__content\"><pre>RandomForestClassifier(random_state=1, verbose=2)</pre></div></div></div><div class=\"sk-serial\"><div class=\"sk-item\"><div class=\"sk-estimator sk-toggleable\"><input class=\"sk-toggleable__control sk-hidden--visually\" id=\"sk-estimator-id-6\" type=\"checkbox\" ><label for=\"sk-estimator-id-6\" class=\"sk-toggleable__label sk-toggleable__label-arrow\">RandomForestClassifier</label><div class=\"sk-toggleable__content\"><pre>RandomForestClassifier(random_state=1, verbose=2)</pre></div></div></div></div></div></div></div></div></div></div>"
      ],
      "text/plain": [
       "RandomizedSearchCV(cv=3,\n",
       "                   estimator=RandomForestClassifier(random_state=1, verbose=2),\n",
       "                   n_iter=100, n_jobs=-1,\n",
       "                   param_distributions={'bootstrap': [True, False],\n",
       "                                        'max_depth': [1, 2, 3, 4, 5, 6, 7, 8, 9,\n",
       "                                                      10, None],\n",
       "                                        'max_features': ['auto', 'sqrt'],\n",
       "                                        'min_samples_leaf': [1, 2, 4],\n",
       "                                        'min_samples_split': [2, 5, 10],\n",
       "                                        'n_estimators': [400, 450, 500, 550,\n",
       "                                                         600]},\n",
       "                   random_state=1, scoring='roc_auc', verbose=2)"
      ]
     },
     "execution_count": 25,
     "metadata": {},
     "output_type": "execute_result"
    }
   ],
   "source": [
    "# search across 100 different combinations, and use all available cores\n",
    "rf_random = RandomizedSearchCV(\n",
    "    estimator = rf\n",
    "    , param_distributions = random_grid\n",
    "    , n_iter = 100\n",
    "    , cv = 3\n",
    "    , verbose=2\n",
    "    , random_state=1\n",
    "    , n_jobs = -1\n",
    "    , scoring = 'roc_auc'\n",
    ")\n",
    "# Fit the random search model\n",
    "rf_random.fit(train_X_res, train_y_res)"
   ]
  },
  {
   "cell_type": "markdown",
   "id": "eb4bece6",
   "metadata": {},
   "source": [
    "We can see which parameters perform the best for our random forest:"
   ]
  },
  {
   "cell_type": "markdown",
   "id": "8ec1ec3f",
   "metadata": {},
   "source": [
    "Continue by reviewing the array of ROC scores we got from our models:"
   ]
  },
  {
   "cell_type": "code",
   "execution_count": 26,
   "id": "6e5ef03b",
   "metadata": {},
   "outputs": [
    {
     "name": "stderr",
     "output_type": "stream",
     "text": [
      "[Parallel(n_jobs=1)]: Using backend SequentialBackend with 1 concurrent workers.\n",
      "[Parallel(n_jobs=1)]: Done   1 out of   1 | elapsed:    0.0s remaining:    0.0s\n",
      "[Parallel(n_jobs=1)]: Done 450 out of 450 | elapsed:    3.2s finished\n"
     ]
    }
   ],
   "source": [
    "RandomForest_pred = rf_random.predict(test_X)"
   ]
  },
  {
   "cell_type": "code",
   "execution_count": 27,
   "id": "4b99c157",
   "metadata": {},
   "outputs": [
    {
     "name": "stderr",
     "output_type": "stream",
     "text": [
      "[Parallel(n_jobs=1)]: Using backend SequentialBackend with 1 concurrent workers.\n",
      "[Parallel(n_jobs=1)]: Done   1 out of   1 | elapsed:    0.0s remaining:    0.0s\n"
     ]
    },
    {
     "name": "stdout",
     "output_type": "stream",
     "text": [
      "Precision: 0.146047\n",
      "Recall: 0.467542\n",
      "F1 score: 0.222569\n",
      "ROC AUC: 0.760302\n",
      "Confusion Matrix (Accuracy 0.8852)\n",
      "\n",
      "       Prediction\n",
      "Actual     0     1\n",
      "     0 33881  3748\n",
      "     1   730   641\n"
     ]
    },
    {
     "name": "stderr",
     "output_type": "stream",
     "text": [
      "[Parallel(n_jobs=1)]: Done 450 out of 450 | elapsed:    3.2s finished\n"
     ]
    }
   ],
   "source": [
    "evalMetrics(rf_random,RandomForest_pred)\n",
    "classificationSummary(test_y, RandomForest_pred)"
   ]
  },
  {
   "cell_type": "markdown",
   "id": "3a19b829",
   "metadata": {},
   "source": [
    "We can also compare this with our original model:"
   ]
  },
  {
   "cell_type": "code",
   "execution_count": 29,
   "id": "02bc4602",
   "metadata": {},
   "outputs": [
    {
     "name": "stdout",
     "output_type": "stream",
     "text": [
      "Precision: 0.133769\n",
      "Recall: 0.702407\n",
      "F1 score: 0.224737\n",
      "ROC AUC: 0.857464\n",
      "Confusion Matrix (Accuracy 0.8296)\n",
      "\n",
      "       Prediction\n",
      "Actual     0     1\n",
      "     0 31393  6236\n",
      "     1   408   963\n"
     ]
    }
   ],
   "source": [
    "#current best roc ~ 83.7%\n",
    "RandomForest = RandomForestClassifier(\n",
    "    n_estimators=500 #current best = 500\n",
    "    , random_state=1\n",
    "    , max_depth = 6\n",
    ")\n",
    "RandomForest.fit(train_X_res, train_y_res)\n",
    "RandomForest_pred = RandomForest.predict(test_X)\n",
    "evalMetrics(RandomForest,RandomForest_pred)\n",
    "classificationSummary(test_y, RandomForest_pred)"
   ]
  },
  {
   "cell_type": "markdown",
   "id": "cbb0f68b",
   "metadata": {},
   "source": [
    "it appears that despite our eforts to conduct some sort of gridsearch for our random forest model, we're unable to beat the roc of 83.7% using conventional means, and will have to approach this more carefully by tuning each metric alone until we get better insights."
   ]
  },
  {
   "cell_type": "markdown",
   "id": "585f1f5f",
   "metadata": {},
   "source": [
    "#### 1. Number of Estimators"
   ]
  },
  {
   "cell_type": "code",
   "execution_count": 30,
   "id": "5c833314",
   "metadata": {},
   "outputs": [],
   "source": [
    "estimators = [125,150,175,200,225,250]\n",
    "roc_scores = []\n",
    "\n",
    "for e in estimators:\n",
    "    RandomForest = RandomForestClassifier(\n",
    "        n_estimators= e #current best = 500\n",
    "        , random_state=1\n",
    "        , max_depth = 6\n",
    "    )\n",
    "    RandomForest.fit(train_X_res, train_y_res)\n",
    "    RandomForest_pred = RandomForest.predict(test_X)\n",
    "    \n",
    "    #get roc_auc\n",
    "    this_roc = evalMetrics(RandomForest,RandomForest_pred,verbose=False)['roc_auc']\n",
    "    roc_scores.append(this_roc)"
   ]
  },
  {
   "cell_type": "markdown",
   "id": "175eb79b",
   "metadata": {},
   "source": [
    "#### 1b. Visualization"
   ]
  },
  {
   "cell_type": "markdown",
   "id": "4beda81f",
   "metadata": {},
   "source": [
    "we can conclude that around 200 estimators is an optimal number for our random forest clasifier."
   ]
  },
  {
   "cell_type": "code",
   "execution_count": 31,
   "id": "7824b9a5",
   "metadata": {
    "scrolled": true
   },
   "outputs": [
    {
     "data": {
      "image/png": "[encoded data removed]",
      "text/plain": [
       "<Figure size 432x288 with 1 Axes>"
      ]
     },
     "metadata": {
      "needs_background": "light"
     },
     "output_type": "display_data"
    }
   ],
   "source": [
    "roc_vs(roc_scores,estimators,\"estimators\")"
   ]
  },
  {
   "cell_type": "markdown",
   "id": "2a6a5f17",
   "metadata": {},
   "source": [
    "#### 2. max depth"
   ]
  },
  {
   "cell_type": "code",
   "execution_count": 32,
   "id": "614e572f",
   "metadata": {},
   "outputs": [],
   "source": [
    "depths = list(range(1,10))\n",
    "roc_scores = []\n",
    "\n",
    "for d in depths:\n",
    "    RandomForest = RandomForestClassifier(\n",
    "        n_estimators= 200 #current best = 500\n",
    "        , random_state=1\n",
    "        , max_depth = d\n",
    "    )\n",
    "    RandomForest.fit(train_X_res, train_y_res)\n",
    "    RandomForest_pred = RandomForest.predict(test_X)\n",
    "    \n",
    "    #get roc_auc\n",
    "    this_roc = evalMetrics(RandomForest,RandomForest_pred,verbose=False)['roc_auc']\n",
    "    roc_scores.append(this_roc)"
   ]
  },
  {
   "cell_type": "markdown",
   "id": "a1ce7f17",
   "metadata": {},
   "source": [
    "#### 2b. Visualization"
   ]
  },
  {
   "cell_type": "markdown",
   "id": "a1f237cc",
   "metadata": {},
   "source": [
    "a max depth of 7 seems to be an optimal parameter at this stage."
   ]
  },
  {
   "cell_type": "code",
   "execution_count": 33,
   "id": "0c6718ff",
   "metadata": {
    "scrolled": true
   },
   "outputs": [
    {
     "data": {
      "image/png": "[encoded data removed]",
      "text/plain": [
       "<Figure size 432x288 with 1 Axes>"
      ]
     },
     "metadata": {
      "needs_background": "light"
     },
     "output_type": "display_data"
    }
   ],
   "source": [
    "roc_vs(roc_scores,depths,\"tree depth\")"
   ]
  },
  {
   "cell_type": "markdown",
   "id": "441efae1",
   "metadata": {},
   "source": [
    "#### 3. Min sample split"
   ]
  },
  {
   "cell_type": "code",
   "execution_count": 34,
   "id": "53de5ea6",
   "metadata": {},
   "outputs": [],
   "source": [
    "min_samples_split = list(range(22,40,2))\n",
    "roc_scores = []\n",
    "\n",
    "for m in min_samples_split:\n",
    "    RandomForest = RandomForestClassifier(\n",
    "        n_estimators= 200\n",
    "        , random_state=1\n",
    "        , max_depth = 7\n",
    "        , min_samples_split = m\n",
    "    )\n",
    "    RandomForest.fit(train_X_res, train_y_res)\n",
    "    RandomForest_pred = RandomForest.predict(test_X)\n",
    "    \n",
    "    #get roc_auc\n",
    "    this_roc = evalMetrics(RandomForest,RandomForest_pred,verbose=False)['roc_auc']\n",
    "    roc_scores.append(this_roc)"
   ]
  },
  {
   "cell_type": "markdown",
   "id": "68ec33e1",
   "metadata": {},
   "source": [
    "#### 3b. Visualization\n",
    "Optimal performance seems to be at a min-sample split of 22."
   ]
  },
  {
   "cell_type": "code",
   "execution_count": 35,
   "id": "08b09776",
   "metadata": {
    "scrolled": true
   },
   "outputs": [
    {
     "data": {
      "image/png": "[encoded data removed]",
      "text/plain": [
       "<Figure size 432x288 with 1 Axes>"
      ]
     },
     "metadata": {
      "needs_background": "light"
     },
     "output_type": "display_data"
    }
   ],
   "source": [
    "roc_vs(roc_scores,min_samples_split,\"min samples split\")"
   ]
  },
  {
   "cell_type": "markdown",
   "id": "9d1db9da",
   "metadata": {},
   "source": [
    "#### 4. Min samples per leaf"
   ]
  },
  {
   "cell_type": "code",
   "execution_count": 36,
   "id": "9ae8dc62",
   "metadata": {},
   "outputs": [],
   "source": [
    "# Minimum number of samples required at each leaf node\n",
    "min_samples_leaf = [1,5,10,20,30,40,50,60,70,80,90,100,150,175,200,250,300]\n",
    "roc_scores = []\n",
    "\n",
    "for m in min_samples_leaf:\n",
    "    RandomForest = RandomForestClassifier(\n",
    "        n_estimators= 200\n",
    "        , random_state=1\n",
    "        , max_depth = 7\n",
    "        , min_samples_split = 22\n",
    "        , min_samples_leaf=m\n",
    "    )\n",
    "    RandomForest.fit(train_X_res, train_y_res)\n",
    "    RandomForest_pred = RandomForest.predict(test_X)\n",
    "    \n",
    "    #get roc_auc\n",
    "    this_roc = evalMetrics(RandomForest,RandomForest_pred,verbose=False)['roc_auc']\n",
    "    roc_scores.append(this_roc)"
   ]
  },
  {
   "cell_type": "markdown",
   "id": "aedfe3fd",
   "metadata": {},
   "source": [
    "#### 4b. Visualization\n",
    "150 samples per leaf at a minimum is an optimal parameter."
   ]
  },
  {
   "cell_type": "code",
   "execution_count": 37,
   "id": "2e92221a",
   "metadata": {
    "scrolled": true
   },
   "outputs": [
    {
     "data": {
      "image/png": "[encoded data removed]",
      "text/plain": [
       "<Figure size 432x288 with 1 Axes>"
      ]
     },
     "metadata": {
      "needs_background": "light"
     },
     "output_type": "display_data"
    }
   ],
   "source": [
    "roc_vs(roc_scores,min_samples_leaf,\"min samples leaf\")"
   ]
  },
  {
   "cell_type": "markdown",
   "id": "b705a585",
   "metadata": {},
   "source": [
    "#### 5. criterion for splitting"
   ]
  },
  {
   "cell_type": "code",
   "execution_count": 38,
   "id": "f0dd520c",
   "metadata": {},
   "outputs": [],
   "source": [
    "# Minimum number of samples required at each leaf node\n",
    "criteria = [\"gini\",\"entropy\",\"log_loss\"]\n",
    "roc_scores = []\n",
    "\n",
    "for c in criteria:\n",
    "    RandomForest = RandomForestClassifier(\n",
    "        n_estimators= 200\n",
    "        , random_state=1\n",
    "        , max_depth = 7\n",
    "        , min_samples_split = 24\n",
    "        , min_samples_leaf=1\n",
    "        , criterion = c \n",
    "    )\n",
    "    RandomForest.fit(train_X_res, train_y_res)\n",
    "    RandomForest_pred = RandomForest.predict(test_X)\n",
    "    \n",
    "    #get roc_auc\n",
    "    this_roc = evalMetrics(RandomForest,RandomForest_pred,verbose=False)['roc_auc']\n",
    "    roc_scores.append(this_roc)"
   ]
  },
  {
   "cell_type": "markdown",
   "id": "a716d2fa",
   "metadata": {},
   "source": [
    "#### 5b. Visualization\n",
    "In conclusion, any criterion except gini is sufficient for optimization."
   ]
  },
  {
   "cell_type": "code",
   "execution_count": 39,
   "id": "97cebc89",
   "metadata": {
    "scrolled": true
   },
   "outputs": [
    {
     "data": {
      "image/png": "[encoded data removed]",
      "text/plain": [
       "<Figure size 432x288 with 1 Axes>"
      ]
     },
     "metadata": {
      "needs_background": "light"
     },
     "output_type": "display_data"
    }
   ],
   "source": [
    "roc_vs(roc_scores,criteria,\"criteria\")"
   ]
  },
  {
   "cell_type": "markdown",
   "id": "c48c664c",
   "metadata": {},
   "source": [
    "#### Conclusion\n",
    "Despite several different layers of optimization work, the final conclusion for our random forest model is an ROC-AUC of 85.8%."
   ]
  },
  {
   "cell_type": "markdown",
   "id": "5fdf3bb1",
   "metadata": {},
   "source": [
    "### Neural Network"
   ]
  },
  {
   "cell_type": "code",
   "execution_count": null,
   "id": "ad617a30",
   "metadata": {},
   "outputs": [],
   "source": [
    "neuralNet = MLPClassifier(\n",
    "    hidden_layer_sizes=(5)\n",
    "    , activation='logistic'\n",
    "    , solver='adam'\n",
    "    , max_iter=2000, \n",
    "    random_state=1\n",
    ")\n",
    "neuralNet.fit(train_X_res, train_y_res)"
   ]
  },
  {
   "cell_type": "code",
   "execution_count": 41,
   "id": "374000cf",
   "metadata": {},
   "outputs": [
    {
     "name": "stdout",
     "output_type": "stream",
     "text": [
      "Confusion Matrix (Accuracy 0.8424)\n",
      "\n",
      "       Prediction\n",
      "Actual     0     1\n",
      "     0 31893  5736\n",
      "     1   411   960\n",
      "Precision: 0.143369\n",
      "Recall: 0.700219\n",
      "F1 score: 0.238007\n",
      "ROC AUC: 0.860603\n"
     ]
    },
    {
     "data": {
      "text/plain": [
       "{'precision': 0.14336917562724014,\n",
       " 'recall': 0.700218818380744,\n",
       " 'f1': 0.23800669393826698,\n",
       " 'roc_auc': 0.8606030557580683}"
      ]
     },
     "execution_count": 41,
     "metadata": {},
     "output_type": "execute_result"
    }
   ],
   "source": [
    "neuralNet_pred = neuralNet.predict(test_X)\n",
    "classificationSummary(test_y, neuralNet_pred )\n",
    "evalMetrics(neuralNet,neuralNet_pred)"
   ]
  },
  {
   "cell_type": "markdown",
   "id": "c943b705",
   "metadata": {},
   "source": [
    "Our neural network has an roc-auc of 84%, which is very similar to our random forest model. Here, we can take some steps to optimize our neural network by changing the number of hidden layers, the number of units, the learning rate, and more."
   ]
  },
  {
   "cell_type": "markdown",
   "id": "d256244f",
   "metadata": {},
   "source": [
    "#### 1. Hidden Layer Units"
   ]
  },
  {
   "cell_type": "code",
   "execution_count": 44,
   "id": "49dab314",
   "metadata": {},
   "outputs": [],
   "source": [
    "sizes = [3,4,5,6,7,10]\n",
    "roc_scores = []\n",
    "\n",
    "for size in sizes:\n",
    "    neuralNet = MLPClassifier(\n",
    "        hidden_layer_sizes=(size)\n",
    "        , activation='logistic'\n",
    "        , solver= 'adam'#'lbfgs'\n",
    "        , max_iter=2000, \n",
    "        random_state=1\n",
    "    )\n",
    "    neuralNet.fit(train_X_res, train_y_res)\n",
    "    #confusionMatrices(neuralNet, 'Neural Network')\n",
    "    neuralNet_pred = neuralNet.predict(test_X)\n",
    "    this_roc = evalMetrics(neuralNet,neuralNet_pred,verbose=False)['roc_auc']\n",
    "    roc_scores.append(this_roc)"
   ]
  },
  {
   "cell_type": "markdown",
   "id": "ce4bc5b4",
   "metadata": {},
   "source": [
    "#### 1b. Visualization\n",
    "Having 5 nodes in our hidden layer creates the best performance."
   ]
  },
  {
   "cell_type": "code",
   "execution_count": 45,
   "id": "84f4f548",
   "metadata": {
    "scrolled": true
   },
   "outputs": [
    {
     "data": {
      "image/png": "[encoded data removed]",
      "text/plain": [
       "<Figure size 432x288 with 1 Axes>"
      ]
     },
     "metadata": {
      "needs_background": "light"
     },
     "output_type": "display_data"
    }
   ],
   "source": [
    "# plot\n",
    "roc_vs(roc_scores,sizes,\"hidden layer size\")"
   ]
  },
  {
   "cell_type": "markdown",
   "id": "5e749411",
   "metadata": {},
   "source": [
    "#### 2b. Visualization"
   ]
  },
  {
   "cell_type": "markdown",
   "id": "f541e7e0",
   "metadata": {},
   "source": [
    "100 iterations is ideal for optimizing our roc-auc scores.\n",
    "The code for this section has been discarded on account of the fact that, under no circumstances, did modifying the number of max iterations create any chance in performance."
   ]
  },
  {
   "cell_type": "markdown",
   "id": "d7b08865",
   "metadata": {},
   "source": [
    "#### 3. Alpha Selection \n",
    "Context: In this model, the Alpha is the strength of the L2 regularization, which removes a small portion of the weights without ever going down to zero."
   ]
  },
  {
   "cell_type": "code",
   "execution_count": 78,
   "id": "df03f712",
   "metadata": {},
   "outputs": [],
   "source": [
    "alphas =  [0.00125,0.002,0.00215,0.00225,0.0025,0.003]\n",
    "roc_scores = []\n",
    "\n",
    "for alpha in alphas:\n",
    "    neuralNet = MLPClassifier(\n",
    "        hidden_layer_sizes=(5)\n",
    "        , activation='logistic'\n",
    "        , solver='adam'\n",
    "        , max_iter=100\n",
    "        , alpha = alpha\n",
    "        , random_state=1\n",
    "    )\n",
    "    neuralNet.fit(train_X_res, train_y_res)\n",
    "    #confusionMatrices(neuralNet, 'Neural Network')\n",
    "    neuralNet_pred = neuralNet.predict(test_X)\n",
    "    this_roc = evalMetrics(neuralNet,neuralNet_pred,verbose=False)['roc_auc']\n",
    "    roc_scores.append(this_roc)"
   ]
  },
  {
   "cell_type": "markdown",
   "id": "1f3419c3",
   "metadata": {},
   "source": [
    "#### 3b. Visualization"
   ]
  },
  {
   "cell_type": "code",
   "execution_count": 79,
   "id": "1ff3c1c8",
   "metadata": {
    "scrolled": true
   },
   "outputs": [
    {
     "data": {
      "image/png": "[encoded data removed]",
      "text/plain": [
       "<Figure size 432x288 with 1 Axes>"
      ]
     },
     "metadata": {
      "needs_background": "light"
     },
     "output_type": "display_data"
    }
   ],
   "source": [
    "# plot\n",
    "roc_vs(roc_scores,alphas,'alpha')"
   ]
  },
  {
   "cell_type": "markdown",
   "id": "58ca822b",
   "metadata": {},
   "source": [
    "#### 4. Adam: Beta-1"
   ]
  },
  {
   "cell_type": "code",
   "execution_count": 80,
   "id": "313267d8",
   "metadata": {},
   "outputs": [],
   "source": [
    "beta_ones = [0.80,0.85,0.875,0.9,0.925,0.95]\n",
    "roc_scores = []\n",
    "\n",
    "for b in beta_ones:\n",
    "    \n",
    "    neuralNet = MLPClassifier(\n",
    "        hidden_layer_sizes = (5)\n",
    "        , activation       = 'logistic'\n",
    "        , solver           = 'adam'\n",
    "        , max_iter         = 100\n",
    "        , alpha            = 0.0025\n",
    "        , beta_1           = b\n",
    "        , random_state     = 1\n",
    "    )\n",
    "    \n",
    "    neuralNet.fit(train_X_res, train_y_res)\n",
    "    #confusionMatrices(neuralNet, 'Neural Network')\n",
    "    neuralNet_pred = neuralNet.predict(test_X)\n",
    "    this_roc = evalMetrics(neuralNet,neuralNet_pred,verbose=False)['roc_auc']\n",
    "    roc_scores.append(this_roc)"
   ]
  },
  {
   "cell_type": "markdown",
   "id": "2b673121",
   "metadata": {},
   "source": [
    "#### 4b. Visualization"
   ]
  },
  {
   "cell_type": "code",
   "execution_count": 81,
   "id": "b995d00d",
   "metadata": {},
   "outputs": [
    {
     "data": {
      "image/png": "[encoded data removed]",
      "text/plain": [
       "<Figure size 432x288 with 1 Axes>"
      ]
     },
     "metadata": {
      "needs_background": "light"
     },
     "output_type": "display_data"
    }
   ],
   "source": [
    "# plot\n",
    "roc_vs(roc_scores,beta_ones,'beta-1')"
   ]
  },
  {
   "cell_type": "markdown",
   "id": "65392ce4",
   "metadata": {},
   "source": [
    "#### 5. Activation Function"
   ]
  },
  {
   "cell_type": "code",
   "execution_count": 100,
   "id": "a98e304a",
   "metadata": {},
   "outputs": [],
   "source": [
    "acs = ['identity','logistic','tanh','relu']\n",
    "roc_scores = []\n",
    "\n",
    "for ac in acs:\n",
    "    neuralNet = MLPClassifier(\n",
    "        hidden_layer_sizes=(5)\n",
    "        , activation=ac\n",
    "        , solver='adam'\n",
    "        , max_iter=100\n",
    "        , alpha = 0.0025\n",
    "        , beta_1 = 0.85\n",
    "        , random_state=1\n",
    "    )\n",
    "    neuralNet.fit(train_X_res, train_y_res)\n",
    "    #confusionMatrices(neuralNet, 'Neural Network')\n",
    "    neuralNet_pred = neuralNet.predict(test_X)\n",
    "    this_roc = evalMetrics(neuralNet,neuralNet_pred,verbose=False)['roc_auc']\n",
    "    roc_scores.append(this_roc)"
   ]
  },
  {
   "cell_type": "markdown",
   "id": "77b7a1d4",
   "metadata": {},
   "source": [
    "#### 5b. Visualization"
   ]
  },
  {
   "cell_type": "code",
   "execution_count": 101,
   "id": "fd2c4e7f",
   "metadata": {
    "scrolled": true
   },
   "outputs": [
    {
     "data": {
      "image/png": "[encoded data removed]",
      "text/plain": [
       "<Figure size 432x288 with 1 Axes>"
      ]
     },
     "metadata": {
      "needs_background": "light"
     },
     "output_type": "display_data"
    }
   ],
   "source": [
    "roc_vs(roc_scores,acs,'activation function')"
   ]
  },
  {
   "cell_type": "markdown",
   "id": "6c29b9c0",
   "metadata": {},
   "source": [
    "#### 6. Epsilon"
   ]
  },
  {
   "cell_type": "code",
   "execution_count": 102,
   "id": "fb3c80b3",
   "metadata": {},
   "outputs": [],
   "source": [
    "epsilons = [float(x) for x in np.linspace(1e-10,1e-8, num = 10)] \n",
    "roc_scores = []\n",
    "for e in epsilons:\n",
    "    neuralNet = MLPClassifier(\n",
    "        hidden_layer_sizes=(5)\n",
    "        , activation='logistic'\n",
    "        , solver='adam'\n",
    "        , max_iter=100\n",
    "        , alpha = 0.0025\n",
    "        , beta_1 = 0.85\n",
    "        , random_state=1\n",
    "        , epsilon = e \n",
    "    )\n",
    "    neuralNet.fit(train_X_res, train_y_res)\n",
    "    #confusionMatrices(neuralNet, 'Neural Network')\n",
    "    neuralNet_pred = neuralNet.predict(test_X)\n",
    "    this_roc = evalMetrics(neuralNet,neuralNet_pred,verbose=False)['roc_auc']\n",
    "    roc_scores.append(this_roc)"
   ]
  },
  {
   "cell_type": "markdown",
   "id": "8c13cac1",
   "metadata": {},
   "source": [
    "#### 6b. Visualization"
   ]
  },
  {
   "cell_type": "code",
   "execution_count": 103,
   "id": "8b8c62b2",
   "metadata": {
    "scrolled": false
   },
   "outputs": [
    {
     "data": {
      "image/png": "[encoded data removed]",
      "text/plain": [
       "<Figure size 432x288 with 1 Axes>"
      ]
     },
     "metadata": {
      "needs_background": "light"
     },
     "output_type": "display_data"
    }
   ],
   "source": [
    "# plot - we dont use the wrapper because of how small the values are \n",
    "plt.plot(epsilons,roc_scores)\n",
    "max_roc = max(roc_scores)\n",
    "max_index = roc_scores.index(max_roc)\n",
    "max_param = epsilons[max_index]\n",
    "max_roc = round(max_roc,3)\n",
    "plt.title(f'roc-auc score vs epsilon, max:{max_roc}, parameter: {max_param}')\n",
    "plt.ylabel('roc-auc')\n",
    "plt.xlabel('epsilon')\n",
    "plt.show()"
   ]
  },
  {
   "cell_type": "markdown",
   "id": "ec88e0ad",
   "metadata": {},
   "source": [
    "### Final Models Based on Tuning"
   ]
  },
  {
   "cell_type": "markdown",
   "id": "982a0232",
   "metadata": {},
   "source": [
    "#### Logistic Regression"
   ]
  },
  {
   "cell_type": "code",
   "execution_count": 84,
   "id": "d3f1c32a",
   "metadata": {
    "scrolled": true
   },
   "outputs": [
    {
     "data": {
      "text/html": [
       "<style>#sk-container-id-3 {color: black;background-color: white;}#sk-container-id-3 pre{padding: 0;}#sk-container-id-3 div.sk-toggleable {background-color: white;}#sk-container-id-3 label.sk-toggleable__label {cursor: pointer;display: block;width: 100%;margin-bottom: 0;padding: 0.3em;box-sizing: border-box;text-align: center;}#sk-container-id-3 label.sk-toggleable__label-arrow:before {content: \"▸\";float: left;margin-right: 0.25em;color: #696969;}#sk-container-id-3 label.sk-toggleable__label-arrow:hover:before {color: black;}#sk-container-id-3 div.sk-estimator:hover label.sk-toggleable__label-arrow:before {color: black;}#sk-container-id-3 div.sk-toggleable__content {max-height: 0;max-width: 0;overflow: hidden;text-align: left;background-color: #f0f8ff;}#sk-container-id-3 div.sk-toggleable__content pre {margin: 0.2em;color: black;border-radius: 0.25em;background-color: #f0f8ff;}#sk-container-id-3 input.sk-toggleable__control:checked~div.sk-toggleable__content {max-height: 200px;max-width: 100%;overflow: auto;}#sk-container-id-3 input.sk-toggleable__control:checked~label.sk-toggleable__label-arrow:before {content: \"▾\";}#sk-container-id-3 div.sk-estimator input.sk-toggleable__control:checked~label.sk-toggleable__label {background-color: #d4ebff;}#sk-container-id-3 div.sk-label input.sk-toggleable__control:checked~label.sk-toggleable__label {background-color: #d4ebff;}#sk-container-id-3 input.sk-hidden--visually {border: 0;clip: rect(1px 1px 1px 1px);clip: rect(1px, 1px, 1px, 1px);height: 1px;margin: -1px;overflow: hidden;padding: 0;position: absolute;width: 1px;}#sk-container-id-3 div.sk-estimator {font-family: monospace;background-color: #f0f8ff;border: 1px dotted black;border-radius: 0.25em;box-sizing: border-box;margin-bottom: 0.5em;}#sk-container-id-3 div.sk-estimator:hover {background-color: #d4ebff;}#sk-container-id-3 div.sk-parallel-item::after {content: \"\";width: 100%;border-bottom: 1px solid gray;flex-grow: 1;}#sk-container-id-3 div.sk-label:hover label.sk-toggleable__label {background-color: #d4ebff;}#sk-container-id-3 div.sk-serial::before {content: \"\";position: absolute;border-left: 1px solid gray;box-sizing: border-box;top: 0;bottom: 0;left: 50%;z-index: 0;}#sk-container-id-3 div.sk-serial {display: flex;flex-direction: column;align-items: center;background-color: white;padding-right: 0.2em;padding-left: 0.2em;position: relative;}#sk-container-id-3 div.sk-item {position: relative;z-index: 1;}#sk-container-id-3 div.sk-parallel {display: flex;align-items: stretch;justify-content: center;background-color: white;position: relative;}#sk-container-id-3 div.sk-item::before, #sk-container-id-3 div.sk-parallel-item::before {content: \"\";position: absolute;border-left: 1px solid gray;box-sizing: border-box;top: 0;bottom: 0;left: 50%;z-index: -1;}#sk-container-id-3 div.sk-parallel-item {display: flex;flex-direction: column;z-index: 1;position: relative;background-color: white;}#sk-container-id-3 div.sk-parallel-item:first-child::after {align-self: flex-end;width: 50%;}#sk-container-id-3 div.sk-parallel-item:last-child::after {align-self: flex-start;width: 50%;}#sk-container-id-3 div.sk-parallel-item:only-child::after {width: 0;}#sk-container-id-3 div.sk-dashed-wrapped {border: 1px dashed gray;margin: 0 0.4em 0.5em 0.4em;box-sizing: border-box;padding-bottom: 0.4em;background-color: white;}#sk-container-id-3 div.sk-label label {font-family: monospace;font-weight: bold;display: inline-block;line-height: 1.2em;}#sk-container-id-3 div.sk-label-container {text-align: center;}#sk-container-id-3 div.sk-container {/* jupyter's `normalize.less` sets `[hidden] { display: none; }` but bootstrap.min.css set `[hidden] { display: none !important; }` so we also need the `!important` here to be able to override the default hidden behavior on the sphinx rendered scikit-learn.org. See: https://github.com/scikit-learn/scikit-learn/issues/21755 */display: inline-block !important;position: relative;}#sk-container-id-3 div.sk-text-repr-fallback {display: none;}</style><div id=\"sk-container-id-3\" class=\"sk-top-container\"><div class=\"sk-text-repr-fallback\"><pre>LogisticRegression(C=0.1, l1_ratio=0.19, random_state=1, solver=&#x27;saga&#x27;)</pre><b>In a Jupyter environment, please rerun this cell to show the HTML representation or trust the notebook. <br />On GitHub, the HTML representation is unable to render, please try loading this page with nbviewer.org.</b></div><div class=\"sk-container\" hidden><div class=\"sk-item\"><div class=\"sk-estimator sk-toggleable\"><input class=\"sk-toggleable__control sk-hidden--visually\" id=\"sk-estimator-id-7\" type=\"checkbox\" checked><label for=\"sk-estimator-id-7\" class=\"sk-toggleable__label sk-toggleable__label-arrow\">LogisticRegression</label><div class=\"sk-toggleable__content\"><pre>LogisticRegression(C=0.1, l1_ratio=0.19, random_state=1, solver=&#x27;saga&#x27;)</pre></div></div></div></div></div>"
      ],
      "text/plain": [
       "LogisticRegression(C=0.1, l1_ratio=0.19, random_state=1, solver='saga')"
      ]
     },
     "execution_count": 84,
     "metadata": {},
     "output_type": "execute_result"
    }
   ],
   "source": [
    "lr = LogisticRegression(C=0.1, l1_ratio=0.19, random_state=1, solver='saga')\n",
    "lr.fit(train_X_res,train_y_res)\n",
    "lr"
   ]
  },
  {
   "cell_type": "code",
   "execution_count": 85,
   "id": "ad099415",
   "metadata": {},
   "outputs": [],
   "source": [
    "logit_pred = lr.predict(test_X)\n",
    "lr_probs = lr.predict_proba(test_X)"
   ]
  },
  {
   "cell_type": "markdown",
   "id": "31fc5cd9",
   "metadata": {},
   "source": [
    "#### Naive Bayes"
   ]
  },
  {
   "cell_type": "code",
   "execution_count": 86,
   "id": "b57c7c65",
   "metadata": {},
   "outputs": [
    {
     "data": {
      "text/html": [
       "<style>#sk-container-id-4 {color: black;background-color: white;}#sk-container-id-4 pre{padding: 0;}#sk-container-id-4 div.sk-toggleable {background-color: white;}#sk-container-id-4 label.sk-toggleable__label {cursor: pointer;display: block;width: 100%;margin-bottom: 0;padding: 0.3em;box-sizing: border-box;text-align: center;}#sk-container-id-4 label.sk-toggleable__label-arrow:before {content: \"▸\";float: left;margin-right: 0.25em;color: #696969;}#sk-container-id-4 label.sk-toggleable__label-arrow:hover:before {color: black;}#sk-container-id-4 div.sk-estimator:hover label.sk-toggleable__label-arrow:before {color: black;}#sk-container-id-4 div.sk-toggleable__content {max-height: 0;max-width: 0;overflow: hidden;text-align: left;background-color: #f0f8ff;}#sk-container-id-4 div.sk-toggleable__content pre {margin: 0.2em;color: black;border-radius: 0.25em;background-color: #f0f8ff;}#sk-container-id-4 input.sk-toggleable__control:checked~div.sk-toggleable__content {max-height: 200px;max-width: 100%;overflow: auto;}#sk-container-id-4 input.sk-toggleable__control:checked~label.sk-toggleable__label-arrow:before {content: \"▾\";}#sk-container-id-4 div.sk-estimator input.sk-toggleable__control:checked~label.sk-toggleable__label {background-color: #d4ebff;}#sk-container-id-4 div.sk-label input.sk-toggleable__control:checked~label.sk-toggleable__label {background-color: #d4ebff;}#sk-container-id-4 input.sk-hidden--visually {border: 0;clip: rect(1px 1px 1px 1px);clip: rect(1px, 1px, 1px, 1px);height: 1px;margin: -1px;overflow: hidden;padding: 0;position: absolute;width: 1px;}#sk-container-id-4 div.sk-estimator {font-family: monospace;background-color: #f0f8ff;border: 1px dotted black;border-radius: 0.25em;box-sizing: border-box;margin-bottom: 0.5em;}#sk-container-id-4 div.sk-estimator:hover {background-color: #d4ebff;}#sk-container-id-4 div.sk-parallel-item::after {content: \"\";width: 100%;border-bottom: 1px solid gray;flex-grow: 1;}#sk-container-id-4 div.sk-label:hover label.sk-toggleable__label {background-color: #d4ebff;}#sk-container-id-4 div.sk-serial::before {content: \"\";position: absolute;border-left: 1px solid gray;box-sizing: border-box;top: 0;bottom: 0;left: 50%;z-index: 0;}#sk-container-id-4 div.sk-serial {display: flex;flex-direction: column;align-items: center;background-color: white;padding-right: 0.2em;padding-left: 0.2em;position: relative;}#sk-container-id-4 div.sk-item {position: relative;z-index: 1;}#sk-container-id-4 div.sk-parallel {display: flex;align-items: stretch;justify-content: center;background-color: white;position: relative;}#sk-container-id-4 div.sk-item::before, #sk-container-id-4 div.sk-parallel-item::before {content: \"\";position: absolute;border-left: 1px solid gray;box-sizing: border-box;top: 0;bottom: 0;left: 50%;z-index: -1;}#sk-container-id-4 div.sk-parallel-item {display: flex;flex-direction: column;z-index: 1;position: relative;background-color: white;}#sk-container-id-4 div.sk-parallel-item:first-child::after {align-self: flex-end;width: 50%;}#sk-container-id-4 div.sk-parallel-item:last-child::after {align-self: flex-start;width: 50%;}#sk-container-id-4 div.sk-parallel-item:only-child::after {width: 0;}#sk-container-id-4 div.sk-dashed-wrapped {border: 1px dashed gray;margin: 0 0.4em 0.5em 0.4em;box-sizing: border-box;padding-bottom: 0.4em;background-color: white;}#sk-container-id-4 div.sk-label label {font-family: monospace;font-weight: bold;display: inline-block;line-height: 1.2em;}#sk-container-id-4 div.sk-label-container {text-align: center;}#sk-container-id-4 div.sk-container {/* jupyter's `normalize.less` sets `[hidden] { display: none; }` but bootstrap.min.css set `[hidden] { display: none !important; }` so we also need the `!important` here to be able to override the default hidden behavior on the sphinx rendered scikit-learn.org. See: https://github.com/scikit-learn/scikit-learn/issues/21755 */display: inline-block !important;position: relative;}#sk-container-id-4 div.sk-text-repr-fallback {display: none;}</style><div id=\"sk-container-id-4\" class=\"sk-top-container\"><div class=\"sk-text-repr-fallback\"><pre>GaussianNB()</pre><b>In a Jupyter environment, please rerun this cell to show the HTML representation or trust the notebook. <br />On GitHub, the HTML representation is unable to render, please try loading this page with nbviewer.org.</b></div><div class=\"sk-container\" hidden><div class=\"sk-item\"><div class=\"sk-estimator sk-toggleable\"><input class=\"sk-toggleable__control sk-hidden--visually\" id=\"sk-estimator-id-8\" type=\"checkbox\" checked><label for=\"sk-estimator-id-8\" class=\"sk-toggleable__label sk-toggleable__label-arrow\">GaussianNB</label><div class=\"sk-toggleable__content\"><pre>GaussianNB()</pre></div></div></div></div></div>"
      ],
      "text/plain": [
       "GaussianNB()"
      ]
     },
     "execution_count": 86,
     "metadata": {},
     "output_type": "execute_result"
    }
   ],
   "source": [
    "gnb = GaussianNB()\n",
    "gnb.fit(train_X_res,train_y_res)\n",
    "gnb"
   ]
  },
  {
   "cell_type": "code",
   "execution_count": 87,
   "id": "e1f4bdde",
   "metadata": {},
   "outputs": [],
   "source": [
    "gnb_pred = gnb.predict(test_X)\n",
    "gnb_probs = gnb.predict_proba(test_X)"
   ]
  },
  {
   "cell_type": "markdown",
   "id": "cd624875",
   "metadata": {},
   "source": [
    "#### Random Forest"
   ]
  },
  {
   "cell_type": "code",
   "execution_count": 88,
   "id": "24644fab",
   "metadata": {
    "scrolled": true
   },
   "outputs": [
    {
     "data": {
      "text/html": [
       "<style>#sk-container-id-5 {color: black;background-color: white;}#sk-container-id-5 pre{padding: 0;}#sk-container-id-5 div.sk-toggleable {background-color: white;}#sk-container-id-5 label.sk-toggleable__label {cursor: pointer;display: block;width: 100%;margin-bottom: 0;padding: 0.3em;box-sizing: border-box;text-align: center;}#sk-container-id-5 label.sk-toggleable__label-arrow:before {content: \"▸\";float: left;margin-right: 0.25em;color: #696969;}#sk-container-id-5 label.sk-toggleable__label-arrow:hover:before {color: black;}#sk-container-id-5 div.sk-estimator:hover label.sk-toggleable__label-arrow:before {color: black;}#sk-container-id-5 div.sk-toggleable__content {max-height: 0;max-width: 0;overflow: hidden;text-align: left;background-color: #f0f8ff;}#sk-container-id-5 div.sk-toggleable__content pre {margin: 0.2em;color: black;border-radius: 0.25em;background-color: #f0f8ff;}#sk-container-id-5 input.sk-toggleable__control:checked~div.sk-toggleable__content {max-height: 200px;max-width: 100%;overflow: auto;}#sk-container-id-5 input.sk-toggleable__control:checked~label.sk-toggleable__label-arrow:before {content: \"▾\";}#sk-container-id-5 div.sk-estimator input.sk-toggleable__control:checked~label.sk-toggleable__label {background-color: #d4ebff;}#sk-container-id-5 div.sk-label input.sk-toggleable__control:checked~label.sk-toggleable__label {background-color: #d4ebff;}#sk-container-id-5 input.sk-hidden--visually {border: 0;clip: rect(1px 1px 1px 1px);clip: rect(1px, 1px, 1px, 1px);height: 1px;margin: -1px;overflow: hidden;padding: 0;position: absolute;width: 1px;}#sk-container-id-5 div.sk-estimator {font-family: monospace;background-color: #f0f8ff;border: 1px dotted black;border-radius: 0.25em;box-sizing: border-box;margin-bottom: 0.5em;}#sk-container-id-5 div.sk-estimator:hover {background-color: #d4ebff;}#sk-container-id-5 div.sk-parallel-item::after {content: \"\";width: 100%;border-bottom: 1px solid gray;flex-grow: 1;}#sk-container-id-5 div.sk-label:hover label.sk-toggleable__label {background-color: #d4ebff;}#sk-container-id-5 div.sk-serial::before {content: \"\";position: absolute;border-left: 1px solid gray;box-sizing: border-box;top: 0;bottom: 0;left: 50%;z-index: 0;}#sk-container-id-5 div.sk-serial {display: flex;flex-direction: column;align-items: center;background-color: white;padding-right: 0.2em;padding-left: 0.2em;position: relative;}#sk-container-id-5 div.sk-item {position: relative;z-index: 1;}#sk-container-id-5 div.sk-parallel {display: flex;align-items: stretch;justify-content: center;background-color: white;position: relative;}#sk-container-id-5 div.sk-item::before, #sk-container-id-5 div.sk-parallel-item::before {content: \"\";position: absolute;border-left: 1px solid gray;box-sizing: border-box;top: 0;bottom: 0;left: 50%;z-index: -1;}#sk-container-id-5 div.sk-parallel-item {display: flex;flex-direction: column;z-index: 1;position: relative;background-color: white;}#sk-container-id-5 div.sk-parallel-item:first-child::after {align-self: flex-end;width: 50%;}#sk-container-id-5 div.sk-parallel-item:last-child::after {align-self: flex-start;width: 50%;}#sk-container-id-5 div.sk-parallel-item:only-child::after {width: 0;}#sk-container-id-5 div.sk-dashed-wrapped {border: 1px dashed gray;margin: 0 0.4em 0.5em 0.4em;box-sizing: border-box;padding-bottom: 0.4em;background-color: white;}#sk-container-id-5 div.sk-label label {font-family: monospace;font-weight: bold;display: inline-block;line-height: 1.2em;}#sk-container-id-5 div.sk-label-container {text-align: center;}#sk-container-id-5 div.sk-container {/* jupyter's `normalize.less` sets `[hidden] { display: none; }` but bootstrap.min.css set `[hidden] { display: none !important; }` so we also need the `!important` here to be able to override the default hidden behavior on the sphinx rendered scikit-learn.org. See: https://github.com/scikit-learn/scikit-learn/issues/21755 */display: inline-block !important;position: relative;}#sk-container-id-5 div.sk-text-repr-fallback {display: none;}</style><div id=\"sk-container-id-5\" class=\"sk-top-container\"><div class=\"sk-text-repr-fallback\"><pre>RandomForestClassifier(criterion=&#x27;log_loss&#x27;, max_depth=7, min_samples_split=24,\n",
       "                       n_estimators=200, random_state=1)</pre><b>In a Jupyter environment, please rerun this cell to show the HTML representation or trust the notebook. <br />On GitHub, the HTML representation is unable to render, please try loading this page with nbviewer.org.</b></div><div class=\"sk-container\" hidden><div class=\"sk-item\"><div class=\"sk-estimator sk-toggleable\"><input class=\"sk-toggleable__control sk-hidden--visually\" id=\"sk-estimator-id-9\" type=\"checkbox\" checked><label for=\"sk-estimator-id-9\" class=\"sk-toggleable__label sk-toggleable__label-arrow\">RandomForestClassifier</label><div class=\"sk-toggleable__content\"><pre>RandomForestClassifier(criterion=&#x27;log_loss&#x27;, max_depth=7, min_samples_split=24,\n",
       "                       n_estimators=200, random_state=1)</pre></div></div></div></div></div>"
      ],
      "text/plain": [
       "RandomForestClassifier(criterion='log_loss', max_depth=7, min_samples_split=24,\n",
       "                       n_estimators=200, random_state=1)"
      ]
     },
     "execution_count": 88,
     "metadata": {},
     "output_type": "execute_result"
    }
   ],
   "source": [
    "rf = RandomForestClassifier(\n",
    "        n_estimators= 200\n",
    "        , random_state=1\n",
    "        , max_depth = 7\n",
    "        , min_samples_split = 24\n",
    "        , min_samples_leaf=1\n",
    "        , criterion = c \n",
    "    )\n",
    "rf.fit(train_X_res,train_y_res)\n",
    "rf"
   ]
  },
  {
   "cell_type": "code",
   "execution_count": 89,
   "id": "7dd6b36a",
   "metadata": {},
   "outputs": [],
   "source": [
    "RandomForest_pred = rf.predict(test_X)\n",
    "rf_probs = rf.predict_proba(test_X)"
   ]
  },
  {
   "cell_type": "markdown",
   "id": "fd67e4c5",
   "metadata": {},
   "source": [
    "#### Neural Network"
   ]
  },
  {
   "cell_type": "code",
   "execution_count": 104,
   "id": "4756ad0c",
   "metadata": {
    "scrolled": true
   },
   "outputs": [
    {
     "data": {
      "text/html": [
       "<style>#sk-container-id-6 {color: black;background-color: white;}#sk-container-id-6 pre{padding: 0;}#sk-container-id-6 div.sk-toggleable {background-color: white;}#sk-container-id-6 label.sk-toggleable__label {cursor: pointer;display: block;width: 100%;margin-bottom: 0;padding: 0.3em;box-sizing: border-box;text-align: center;}#sk-container-id-6 label.sk-toggleable__label-arrow:before {content: \"▸\";float: left;margin-right: 0.25em;color: #696969;}#sk-container-id-6 label.sk-toggleable__label-arrow:hover:before {color: black;}#sk-container-id-6 div.sk-estimator:hover label.sk-toggleable__label-arrow:before {color: black;}#sk-container-id-6 div.sk-toggleable__content {max-height: 0;max-width: 0;overflow: hidden;text-align: left;background-color: #f0f8ff;}#sk-container-id-6 div.sk-toggleable__content pre {margin: 0.2em;color: black;border-radius: 0.25em;background-color: #f0f8ff;}#sk-container-id-6 input.sk-toggleable__control:checked~div.sk-toggleable__content {max-height: 200px;max-width: 100%;overflow: auto;}#sk-container-id-6 input.sk-toggleable__control:checked~label.sk-toggleable__label-arrow:before {content: \"▾\";}#sk-container-id-6 div.sk-estimator input.sk-toggleable__control:checked~label.sk-toggleable__label {background-color: #d4ebff;}#sk-container-id-6 div.sk-label input.sk-toggleable__control:checked~label.sk-toggleable__label {background-color: #d4ebff;}#sk-container-id-6 input.sk-hidden--visually {border: 0;clip: rect(1px 1px 1px 1px);clip: rect(1px, 1px, 1px, 1px);height: 1px;margin: -1px;overflow: hidden;padding: 0;position: absolute;width: 1px;}#sk-container-id-6 div.sk-estimator {font-family: monospace;background-color: #f0f8ff;border: 1px dotted black;border-radius: 0.25em;box-sizing: border-box;margin-bottom: 0.5em;}#sk-container-id-6 div.sk-estimator:hover {background-color: #d4ebff;}#sk-container-id-6 div.sk-parallel-item::after {content: \"\";width: 100%;border-bottom: 1px solid gray;flex-grow: 1;}#sk-container-id-6 div.sk-label:hover label.sk-toggleable__label {background-color: #d4ebff;}#sk-container-id-6 div.sk-serial::before {content: \"\";position: absolute;border-left: 1px solid gray;box-sizing: border-box;top: 0;bottom: 0;left: 50%;z-index: 0;}#sk-container-id-6 div.sk-serial {display: flex;flex-direction: column;align-items: center;background-color: white;padding-right: 0.2em;padding-left: 0.2em;position: relative;}#sk-container-id-6 div.sk-item {position: relative;z-index: 1;}#sk-container-id-6 div.sk-parallel {display: flex;align-items: stretch;justify-content: center;background-color: white;position: relative;}#sk-container-id-6 div.sk-item::before, #sk-container-id-6 div.sk-parallel-item::before {content: \"\";position: absolute;border-left: 1px solid gray;box-sizing: border-box;top: 0;bottom: 0;left: 50%;z-index: -1;}#sk-container-id-6 div.sk-parallel-item {display: flex;flex-direction: column;z-index: 1;position: relative;background-color: white;}#sk-container-id-6 div.sk-parallel-item:first-child::after {align-self: flex-end;width: 50%;}#sk-container-id-6 div.sk-parallel-item:last-child::after {align-self: flex-start;width: 50%;}#sk-container-id-6 div.sk-parallel-item:only-child::after {width: 0;}#sk-container-id-6 div.sk-dashed-wrapped {border: 1px dashed gray;margin: 0 0.4em 0.5em 0.4em;box-sizing: border-box;padding-bottom: 0.4em;background-color: white;}#sk-container-id-6 div.sk-label label {font-family: monospace;font-weight: bold;display: inline-block;line-height: 1.2em;}#sk-container-id-6 div.sk-label-container {text-align: center;}#sk-container-id-6 div.sk-container {/* jupyter's `normalize.less` sets `[hidden] { display: none; }` but bootstrap.min.css set `[hidden] { display: none !important; }` so we also need the `!important` here to be able to override the default hidden behavior on the sphinx rendered scikit-learn.org. See: https://github.com/scikit-learn/scikit-learn/issues/21755 */display: inline-block !important;position: relative;}#sk-container-id-6 div.sk-text-repr-fallback {display: none;}</style><div id=\"sk-container-id-6\" class=\"sk-top-container\"><div class=\"sk-text-repr-fallback\"><pre>MLPClassifier(activation=&#x27;logistic&#x27;, alpha=0.0025, beta_1=0.85, epsilon=1e-10,\n",
       "              hidden_layer_sizes=5, max_iter=100, random_state=1)</pre><b>In a Jupyter environment, please rerun this cell to show the HTML representation or trust the notebook. <br />On GitHub, the HTML representation is unable to render, please try loading this page with nbviewer.org.</b></div><div class=\"sk-container\" hidden><div class=\"sk-item\"><div class=\"sk-estimator sk-toggleable\"><input class=\"sk-toggleable__control sk-hidden--visually\" id=\"sk-estimator-id-10\" type=\"checkbox\" checked><label for=\"sk-estimator-id-10\" class=\"sk-toggleable__label sk-toggleable__label-arrow\">MLPClassifier</label><div class=\"sk-toggleable__content\"><pre>MLPClassifier(activation=&#x27;logistic&#x27;, alpha=0.0025, beta_1=0.85, epsilon=1e-10,\n",
       "              hidden_layer_sizes=5, max_iter=100, random_state=1)</pre></div></div></div></div></div>"
      ],
      "text/plain": [
       "MLPClassifier(activation='logistic', alpha=0.0025, beta_1=0.85, epsilon=1e-10,\n",
       "              hidden_layer_sizes=5, max_iter=100, random_state=1)"
      ]
     },
     "execution_count": 104,
     "metadata": {},
     "output_type": "execute_result"
    }
   ],
   "source": [
    "neuralNet = MLPClassifier(\n",
    "    hidden_layer_sizes=(5)\n",
    "    , activation='logistic'\n",
    "    , solver='adam'\n",
    "    , max_iter=100\n",
    "    , alpha = 0.0025\n",
    "    , beta_1 = 0.85\n",
    "    , random_state=1\n",
    "    , epsilon = 1e-10\n",
    ")\n",
    "neuralNet.fit(train_X_res,train_y_res)\n",
    "neuralNet"
   ]
  },
  {
   "cell_type": "code",
   "execution_count": 105,
   "id": "259dd161",
   "metadata": {},
   "outputs": [],
   "source": [
    "neuralNet_pred = neuralNet.predict(test_X)\n",
    "nn_probs = neuralNet.predict_proba(test_X)"
   ]
  },
  {
   "cell_type": "code",
   "execution_count": 106,
   "id": "d6ab3d50",
   "metadata": {},
   "outputs": [
    {
     "data": {
      "text/html": [
       "<div>\n",
       "<style scoped>\n",
       "    .dataframe tbody tr th:only-of-type {\n",
       "        vertical-align: middle;\n",
       "    }\n",
       "\n",
       "    .dataframe tbody tr th {\n",
       "        vertical-align: top;\n",
       "    }\n",
       "\n",
       "    .dataframe thead th {\n",
       "        text-align: right;\n",
       "    }\n",
       "</style>\n",
       "<table border=\"1\" class=\"dataframe\">\n",
       "  <thead>\n",
       "    <tr style=\"text-align: right;\">\n",
       "      <th></th>\n",
       "      <th>Models</th>\n",
       "      <th>Accuracy</th>\n",
       "      <th>Precision</th>\n",
       "      <th>Recall</th>\n",
       "      <th>F1_Score</th>\n",
       "      <th>ROC AUC</th>\n",
       "    </tr>\n",
       "  </thead>\n",
       "  <tbody>\n",
       "    <tr>\n",
       "      <th>0</th>\n",
       "      <td>Logistic Regression</td>\n",
       "      <td>0.827000</td>\n",
       "      <td>0.132887</td>\n",
       "      <td>0.709701</td>\n",
       "      <td>0.223858</td>\n",
       "      <td>0.850597</td>\n",
       "    </tr>\n",
       "    <tr>\n",
       "      <th>1</th>\n",
       "      <td>Random Forest</td>\n",
       "      <td>0.837179</td>\n",
       "      <td>0.139464</td>\n",
       "      <td>0.702407</td>\n",
       "      <td>0.232721</td>\n",
       "      <td>0.857389</td>\n",
       "    </tr>\n",
       "    <tr>\n",
       "      <th>2</th>\n",
       "      <td>Neural Network</td>\n",
       "      <td>0.842949</td>\n",
       "      <td>0.143628</td>\n",
       "      <td>0.698760</td>\n",
       "      <td>0.238279</td>\n",
       "      <td>0.860887</td>\n",
       "    </tr>\n",
       "    <tr>\n",
       "      <th>3</th>\n",
       "      <td>Naive Bayes</td>\n",
       "      <td>0.838692</td>\n",
       "      <td>0.133820</td>\n",
       "      <td>0.655726</td>\n",
       "      <td>0.222277</td>\n",
       "      <td>0.834947</td>\n",
       "    </tr>\n",
       "  </tbody>\n",
       "</table>\n",
       "</div>"
      ],
      "text/plain": [
       "                Models  Accuracy  Precision    Recall  F1_Score   ROC AUC\n",
       "0  Logistic Regression  0.827000   0.132887  0.709701  0.223858  0.850597\n",
       "1        Random Forest  0.837179   0.139464  0.702407  0.232721  0.857389\n",
       "2       Neural Network  0.842949   0.143628  0.698760  0.238279  0.860887\n",
       "3          Naive Bayes  0.838692   0.133820  0.655726  0.222277  0.834947"
      ]
     },
     "execution_count": 106,
     "metadata": {},
     "output_type": "execute_result"
    }
   ],
   "source": [
    "table = {'Models':[\"Logistic Regression\", \n",
    "                   \"Random Forest\",\n",
    "                   \"Neural Network\",\n",
    "                   \"Naive Bayes\"],\n",
    "         'Accuracy':[accuracy_score(test_y, logit_pred), \n",
    "                     accuracy_score(test_y, RandomForest_pred),\n",
    "                     accuracy_score(test_y, neuralNet_pred),\n",
    "                     accuracy_score(test_y, gnb_pred)],\n",
    "         'Precision':[precision_score(test_y, logit_pred),\n",
    "                      precision_score(test_y, RandomForest_pred),\n",
    "                      precision_score(test_y, neuralNet_pred), \n",
    "                      precision_score(test_y, gnb_pred)\n",
    "                     ],\n",
    "         \"Recall\":[recall_score(test_y, logit_pred),\n",
    "                   recall_score(test_y, RandomForest_pred),\n",
    "                   recall_score(test_y,neuralNet_pred),\n",
    "                   recall_score(test_y,gnb_pred)\n",
    "                  ],\n",
    "         \"F1_Score\":[f1_score(test_y, logit_pred),\n",
    "                     f1_score(test_y, RandomForest_pred),\n",
    "                     f1_score(test_y,neuralNet_pred),\n",
    "                     f1_score(test_y,gnb_pred)\n",
    "                    ],\n",
    "         \"ROC AUC\":[roc_auc_score(test_y, lr_probs[:, 1]),\n",
    "                    roc_auc_score(test_y, rf_probs[:, 1]),\n",
    "                    roc_auc_score(test_y,  nn_probs[:, 1]),\n",
    "                    roc_auc_score(test_y, gnb_probs[:, 1])\n",
    "                   ]\n",
    "}\n",
    "table_report = pd.DataFrame(table)\n",
    "# print the data\n",
    "table_report"
   ]
  },
  {
   "cell_type": "markdown",
   "id": "483f4de5",
   "metadata": {},
   "source": [
    "Our team chose to optimize on ROC-AUC score, with parsimony as a major consideration. In this case, we select the Random Forest model for its performance relative to the Neural Net on ROC, its relatively high accuracy and precision, high recall, and F1-Score."
   ]
  },
  {
   "cell_type": "code",
   "execution_count": 108,
   "id": "521c893c",
   "metadata": {},
   "outputs": [],
   "source": [
    "import pickle\n",
    "filename = 'finalized_rf_model.pkl'\n",
    "pickle.dump(rf, open(filename, 'wb'))"
   ]
  },
  {
   "cell_type": "code",
   "execution_count": 109,
   "id": "37b75900",
   "metadata": {},
   "outputs": [
    {
     "data": {
      "text/html": [
       "<style>#sk-container-id-7 {color: black;background-color: white;}#sk-container-id-7 pre{padding: 0;}#sk-container-id-7 div.sk-toggleable {background-color: white;}#sk-container-id-7 label.sk-toggleable__label {cursor: pointer;display: block;width: 100%;margin-bottom: 0;padding: 0.3em;box-sizing: border-box;text-align: center;}#sk-container-id-7 label.sk-toggleable__label-arrow:before {content: \"▸\";float: left;margin-right: 0.25em;color: #696969;}#sk-container-id-7 label.sk-toggleable__label-arrow:hover:before {color: black;}#sk-container-id-7 div.sk-estimator:hover label.sk-toggleable__label-arrow:before {color: black;}#sk-container-id-7 div.sk-toggleable__content {max-height: 0;max-width: 0;overflow: hidden;text-align: left;background-color: #f0f8ff;}#sk-container-id-7 div.sk-toggleable__content pre {margin: 0.2em;color: black;border-radius: 0.25em;background-color: #f0f8ff;}#sk-container-id-7 input.sk-toggleable__control:checked~div.sk-toggleable__content {max-height: 200px;max-width: 100%;overflow: auto;}#sk-container-id-7 input.sk-toggleable__control:checked~label.sk-toggleable__label-arrow:before {content: \"▾\";}#sk-container-id-7 div.sk-estimator input.sk-toggleable__control:checked~label.sk-toggleable__label {background-color: #d4ebff;}#sk-container-id-7 div.sk-label input.sk-toggleable__control:checked~label.sk-toggleable__label {background-color: #d4ebff;}#sk-container-id-7 input.sk-hidden--visually {border: 0;clip: rect(1px 1px 1px 1px);clip: rect(1px, 1px, 1px, 1px);height: 1px;margin: -1px;overflow: hidden;padding: 0;position: absolute;width: 1px;}#sk-container-id-7 div.sk-estimator {font-family: monospace;background-color: #f0f8ff;border: 1px dotted black;border-radius: 0.25em;box-sizing: border-box;margin-bottom: 0.5em;}#sk-container-id-7 div.sk-estimator:hover {background-color: #d4ebff;}#sk-container-id-7 div.sk-parallel-item::after {content: \"\";width: 100%;border-bottom: 1px solid gray;flex-grow: 1;}#sk-container-id-7 div.sk-label:hover label.sk-toggleable__label {background-color: #d4ebff;}#sk-container-id-7 div.sk-serial::before {content: \"\";position: absolute;border-left: 1px solid gray;box-sizing: border-box;top: 0;bottom: 0;left: 50%;z-index: 0;}#sk-container-id-7 div.sk-serial {display: flex;flex-direction: column;align-items: center;background-color: white;padding-right: 0.2em;padding-left: 0.2em;position: relative;}#sk-container-id-7 div.sk-item {position: relative;z-index: 1;}#sk-container-id-7 div.sk-parallel {display: flex;align-items: stretch;justify-content: center;background-color: white;position: relative;}#sk-container-id-7 div.sk-item::before, #sk-container-id-7 div.sk-parallel-item::before {content: \"\";position: absolute;border-left: 1px solid gray;box-sizing: border-box;top: 0;bottom: 0;left: 50%;z-index: -1;}#sk-container-id-7 div.sk-parallel-item {display: flex;flex-direction: column;z-index: 1;position: relative;background-color: white;}#sk-container-id-7 div.sk-parallel-item:first-child::after {align-self: flex-end;width: 50%;}#sk-container-id-7 div.sk-parallel-item:last-child::after {align-self: flex-start;width: 50%;}#sk-container-id-7 div.sk-parallel-item:only-child::after {width: 0;}#sk-container-id-7 div.sk-dashed-wrapped {border: 1px dashed gray;margin: 0 0.4em 0.5em 0.4em;box-sizing: border-box;padding-bottom: 0.4em;background-color: white;}#sk-container-id-7 div.sk-label label {font-family: monospace;font-weight: bold;display: inline-block;line-height: 1.2em;}#sk-container-id-7 div.sk-label-container {text-align: center;}#sk-container-id-7 div.sk-container {/* jupyter's `normalize.less` sets `[hidden] { display: none; }` but bootstrap.min.css set `[hidden] { display: none !important; }` so we also need the `!important` here to be able to override the default hidden behavior on the sphinx rendered scikit-learn.org. See: https://github.com/scikit-learn/scikit-learn/issues/21755 */display: inline-block !important;position: relative;}#sk-container-id-7 div.sk-text-repr-fallback {display: none;}</style><div id=\"sk-container-id-7\" class=\"sk-top-container\"><div class=\"sk-text-repr-fallback\"><pre>RandomForestClassifier(criterion=&#x27;log_loss&#x27;, max_depth=7, min_samples_split=24,\n",
       "                       n_estimators=200, random_state=1)</pre><b>In a Jupyter environment, please rerun this cell to show the HTML representation or trust the notebook. <br />On GitHub, the HTML representation is unable to render, please try loading this page with nbviewer.org.</b></div><div class=\"sk-container\" hidden><div class=\"sk-item\"><div class=\"sk-estimator sk-toggleable\"><input class=\"sk-toggleable__control sk-hidden--visually\" id=\"sk-estimator-id-11\" type=\"checkbox\" checked><label for=\"sk-estimator-id-11\" class=\"sk-toggleable__label sk-toggleable__label-arrow\">RandomForestClassifier</label><div class=\"sk-toggleable__content\"><pre>RandomForestClassifier(criterion=&#x27;log_loss&#x27;, max_depth=7, min_samples_split=24,\n",
       "                       n_estimators=200, random_state=1)</pre></div></div></div></div></div>"
      ],
      "text/plain": [
       "RandomForestClassifier(criterion='log_loss', max_depth=7, min_samples_split=24,\n",
       "                       n_estimators=200, random_state=1)"
      ]
     },
     "execution_count": 109,
     "metadata": {},
     "output_type": "execute_result"
    }
   ],
   "source": [
    "#sanity check - reload form pickle\n",
    "loaded_model = pickle.load(open(filename, 'rb'))\n",
    "loaded_model"
   ]
  }
 ],
 "metadata": {
  "kernelspec": {
   "display_name": "Python 3 (ipykernel)",
   "language": "python",
   "name": "python3"
  },
  "language_info": {
   "codemirror_mode": {
    "name": "ipython",
    "version": 3
   },
   "file_extension": ".py",
   "mimetype": "text/x-python",
   "name": "python",
   "nbconvert_exporter": "python",
   "pygments_lexer": "ipython3",
   "version": "3.8.2"
  }
 },
 "nbformat": 4,
 "nbformat_minor": 5
}
