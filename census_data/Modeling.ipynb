{
 "cells": [
  {
   "cell_type": "code",
   "execution_count": 1,
   "id": "000250b4",
   "metadata": {},
   "outputs": [],
   "source": [
    "import pandas as pd \n",
    "import numpy as np\n",
    "import degree_codes as dc\n",
    "import matplotlib.pyplot as plt\n",
    "plt.style.use('seaborn-dark-palette')\n",
    "import warnings\n",
    "warnings.filterwarnings(\"ignore\")\n",
    "from sklearn.model_selection import train_test_split, GridSearchCV\n",
    "from imblearn.combine import SMOTETomek\n",
    "from sklearn.neural_network import MLPClassifier\n",
    "import seaborn as sns\n",
    "from sklearn.linear_model import LogisticRegression\n",
    "from dmba import classificationSummary, gainsChart\n",
    "from sklearn.metrics import roc_curve, auc\n",
    "from sklearn.metrics import precision_score\n",
    "from sklearn.metrics import recall_score\n",
    "from sklearn.metrics import f1_score\n",
    "from sklearn.metrics import roc_auc_score\n",
    "from sklearn.ensemble import RandomForestClassifier\n",
    "from sklearn.metrics import accuracy_score\n",
    "from sklearn.model_selection import RandomizedSearchCV\n",
    "import pprint"
   ]
  },
  {
   "cell_type": "code",
   "execution_count": 2,
   "id": "59751226",
   "metadata": {},
   "outputs": [
    {
     "data": {
      "text/html": [
       "<div>\n",
       "<style scoped>\n",
       "    .dataframe tbody tr th:only-of-type {\n",
       "        vertical-align: middle;\n",
       "    }\n",
       "\n",
       "    .dataframe tbody tr th {\n",
       "        vertical-align: top;\n",
       "    }\n",
       "\n",
       "    .dataframe thead th {\n",
       "        text-align: right;\n",
       "    }\n",
       "</style>\n",
       "<table border=\"1\" class=\"dataframe\">\n",
       "  <thead>\n",
       "    <tr style=\"text-align: right;\">\n",
       "      <th></th>\n",
       "      <th>YEAR</th>\n",
       "      <th>MULTYEAR</th>\n",
       "      <th>SAMPLE</th>\n",
       "      <th>SERIAL</th>\n",
       "      <th>CBSERIAL</th>\n",
       "      <th>HHWT</th>\n",
       "      <th>CLUSTER</th>\n",
       "      <th>STATEFIP</th>\n",
       "      <th>STRATA</th>\n",
       "      <th>GQ</th>\n",
       "      <th>...</th>\n",
       "      <th>INCWAGE</th>\n",
       "      <th>State</th>\n",
       "      <th>under_represented</th>\n",
       "      <th>domestic_born</th>\n",
       "      <th>EDU_verbose</th>\n",
       "      <th>is_STEM_degree</th>\n",
       "      <th>Degree</th>\n",
       "      <th>Degree_D</th>\n",
       "      <th>JobRole</th>\n",
       "      <th>stemType</th>\n",
       "    </tr>\n",
       "  </thead>\n",
       "  <tbody>\n",
       "    <tr>\n",
       "      <th>0</th>\n",
       "      <td>2020</td>\n",
       "      <td>2016</td>\n",
       "      <td>202003</td>\n",
       "      <td>6676264</td>\n",
       "      <td>2016000978820</td>\n",
       "      <td>5.15</td>\n",
       "      <td>2020066762643</td>\n",
       "      <td>55</td>\n",
       "      <td>10055</td>\n",
       "      <td>1</td>\n",
       "      <td>...</td>\n",
       "      <td>51776</td>\n",
       "      <td>Wisconsin</td>\n",
       "      <td>0</td>\n",
       "      <td>1</td>\n",
       "      <td>High School</td>\n",
       "      <td>0</td>\n",
       "      <td>NaN</td>\n",
       "      <td>NaN</td>\n",
       "      <td>couriers and messengers</td>\n",
       "      <td>-1</td>\n",
       "    </tr>\n",
       "    <tr>\n",
       "      <th>1</th>\n",
       "      <td>2020</td>\n",
       "      <td>2016</td>\n",
       "      <td>202003</td>\n",
       "      <td>4027595</td>\n",
       "      <td>2016000661290</td>\n",
       "      <td>17.51</td>\n",
       "      <td>2020040275953</td>\n",
       "      <td>36</td>\n",
       "      <td>60036</td>\n",
       "      <td>1</td>\n",
       "      <td>...</td>\n",
       "      <td>21573</td>\n",
       "      <td>New York</td>\n",
       "      <td>0</td>\n",
       "      <td>1</td>\n",
       "      <td>High School</td>\n",
       "      <td>0</td>\n",
       "      <td>NaN</td>\n",
       "      <td>NaN</td>\n",
       "      <td>miscellaneous production workers including equ...</td>\n",
       "      <td>-1</td>\n",
       "    </tr>\n",
       "    <tr>\n",
       "      <th>2</th>\n",
       "      <td>2020</td>\n",
       "      <td>2017</td>\n",
       "      <td>202003</td>\n",
       "      <td>5156019</td>\n",
       "      <td>2017000181278</td>\n",
       "      <td>6.18</td>\n",
       "      <td>2020051560193</td>\n",
       "      <td>42</td>\n",
       "      <td>370142</td>\n",
       "      <td>1</td>\n",
       "      <td>...</td>\n",
       "      <td>0</td>\n",
       "      <td>Pennsylvania</td>\n",
       "      <td>0</td>\n",
       "      <td>0</td>\n",
       "      <td>Bachelor</td>\n",
       "      <td>0</td>\n",
       "      <td>Criminal Justice and Fire Protection</td>\n",
       "      <td>Criminal Justice and Fire Protection</td>\n",
       "      <td>elementary and middle school teachers</td>\n",
       "      <td>-1</td>\n",
       "    </tr>\n",
       "  </tbody>\n",
       "</table>\n",
       "<p>3 rows × 38 columns</p>\n",
       "</div>"
      ],
      "text/plain": [
       "   YEAR  MULTYEAR  SAMPLE   SERIAL       CBSERIAL   HHWT        CLUSTER  \\\n",
       "0  2020      2016  202003  6676264  2016000978820   5.15  2020066762643   \n",
       "1  2020      2016  202003  4027595  2016000661290  17.51  2020040275953   \n",
       "2  2020      2017  202003  5156019  2017000181278   6.18  2020051560193   \n",
       "\n",
       "   STATEFIP  STRATA  GQ  ...  INCWAGE         State  under_represented  \\\n",
       "0        55   10055   1  ...    51776     Wisconsin                  0   \n",
       "1        36   60036   1  ...    21573      New York                  0   \n",
       "2        42  370142   1  ...        0  Pennsylvania                  0   \n",
       "\n",
       "   domestic_born  EDU_verbose  is_STEM_degree  \\\n",
       "0              1  High School               0   \n",
       "1              1  High School               0   \n",
       "2              0     Bachelor               0   \n",
       "\n",
       "                                 Degree                              Degree_D  \\\n",
       "0                                   NaN                                   NaN   \n",
       "1                                   NaN                                   NaN   \n",
       "2  Criminal Justice and Fire Protection  Criminal Justice and Fire Protection   \n",
       "\n",
       "                                             JobRole  stemType  \n",
       "0                            couriers and messengers        -1  \n",
       "1  miscellaneous production workers including equ...        -1  \n",
       "2              elementary and middle school teachers        -1  \n",
       "\n",
       "[3 rows x 38 columns]"
      ]
     },
     "execution_count": 2,
     "metadata": {},
     "output_type": "execute_result"
    }
   ],
   "source": [
    "df=pd.read_csv('main_df.csv')\n",
    "df.head(3)"
   ]
  },
  {
   "cell_type": "code",
   "execution_count": 3,
   "id": "19b248ec",
   "metadata": {},
   "outputs": [],
   "source": [
    "#selecting the feautures for modeling\n",
    "df_model=df[[\n",
    "    'SEX'\n",
    "    #,'RACE'\n",
    "    ,'AGE'\n",
    "    ,'domestic_born'\n",
    "    ,'EDU_verbose'\n",
    "    ,'is_STEM_degree'\n",
    "    ,'under_represented'\n",
    "    ,'stemType'\n",
    "]]\n",
    "del df"
   ]
  },
  {
   "cell_type": "code",
   "execution_count": 4,
   "id": "ef07b352",
   "metadata": {},
   "outputs": [
    {
     "data": {
      "text/plain": [
       "-1                                                                                 189173\n",
       "Research, Development, Design, and Practitioners                                     4052\n",
       "Managerial                                                                            768\n",
       "Research, Development, Design, and Practitioners; Technologists and Technicians       612\n",
       "Technologists and Technicians                                                         355\n",
       "Sales                                                                                  39\n",
       "Name: stemType, dtype: int64"
      ]
     },
     "execution_count": 4,
     "metadata": {},
     "output_type": "execute_result"
    }
   ],
   "source": [
    "df_model['stemType'].value_counts()"
   ]
  },
  {
   "cell_type": "markdown",
   "id": "ff9ec7e7",
   "metadata": {},
   "source": [
    "In order to run any sort of modeling on stemType, our target variable, we have to binarize it by employing a lambda function. At this point, stemType indicates whether an individual works in STEM, rather than which STEM field they're employed in :"
   ]
  },
  {
   "cell_type": "code",
   "execution_count": 5,
   "id": "902a7131",
   "metadata": {},
   "outputs": [
    {
     "data": {
      "text/plain": [
       "0    0\n",
       "1    0\n",
       "2    0\n",
       "Name: stemType, dtype: int64"
      ]
     },
     "execution_count": 5,
     "metadata": {},
     "output_type": "execute_result"
    }
   ],
   "source": [
    "def binarize_stem(x):\n",
    "    if x == '-1':\n",
    "        return 0\n",
    "    return 1\n",
    "\n",
    "#binarize STEM\n",
    "df_model['stemType'] = df_model['stemType'].map(binarize_stem)\n",
    "\n",
    "#switch SEX from 1,2 to 0,1\n",
    "df_model['SEX'] = df_model['SEX']-1\n",
    "\n",
    "df_model['stemType'].head(3)"
   ]
  },
  {
   "cell_type": "markdown",
   "id": "a2488c85",
   "metadata": {},
   "source": [
    "Given that there's several different levels of education, we would benefit from using dummy variables in our modeling for them:"
   ]
  },
  {
   "cell_type": "code",
   "execution_count": 6,
   "id": "2c43da3b",
   "metadata": {},
   "outputs": [],
   "source": [
    "#a = pd.get_dummies(df_model['RACE'], prefix = \"RACE\")# get dummy variables for Race\n",
    "b = pd.get_dummies(df_model['EDU_verbose'],prefix='EDU_verbose')#get dummy variables for Education\n",
    "\n",
    "frames = [\n",
    "    df_model\n",
    "    #, a\n",
    "    , b] # append them as a list\n",
    "df_model = pd.concat(frames, axis = 1)\n",
    "df_model=df_model.drop(columns = [\n",
    "    'EDU_verbose'\n",
    "    #, 'RACE'\n",
    "]) "
   ]
  },
  {
   "cell_type": "markdown",
   "id": "fd9048d0",
   "metadata": {},
   "source": [
    "Finally, to keep scale consistent, we would want to normalize the AGE variable to avoid giving it more weight:"
   ]
  },
  {
   "cell_type": "code",
   "execution_count": 7,
   "id": "63a6b975",
   "metadata": {},
   "outputs": [
    {
     "data": {
      "text/plain": [
       "0    0.448718\n",
       "1    0.487179\n",
       "2    0.217949\n",
       "Name: AGE, dtype: float64"
      ]
     },
     "execution_count": 7,
     "metadata": {},
     "output_type": "execute_result"
    }
   ],
   "source": [
    "denom = df_model['AGE'].max() - df_model['AGE'].min()\n",
    "df_model['AGE'] = (df_model['AGE']-df_model['AGE'].min())/denom\n",
    "df_model['AGE'].head(3)"
   ]
  },
  {
   "cell_type": "code",
   "execution_count": 8,
   "id": "386d1eee",
   "metadata": {},
   "outputs": [
    {
     "data": {
      "text/plain": [
       "0    189173\n",
       "1      5826\n",
       "Name: stemType, dtype: int64"
      ]
     },
     "execution_count": 8,
     "metadata": {},
     "output_type": "execute_result"
    }
   ],
   "source": [
    "y=df_model['stemType']\n",
    "y.value_counts()"
   ]
  },
  {
   "cell_type": "markdown",
   "id": "249e2944",
   "metadata": {},
   "source": [
    "### Check for class imbalance "
   ]
  },
  {
   "cell_type": "code",
   "execution_count": 9,
   "id": "09766e2e",
   "metadata": {},
   "outputs": [
    {
     "name": "stdout",
     "output_type": "stream",
     "text": [
      "Percent of 0s: 97.01\n",
      "\n",
      "Percent of 1s: 2.99\n"
     ]
    },
    {
     "data": {
      "image/png": "[encoded data removed]",
      "text/plain": [
       "<Figure size 432x288 with 1 Axes>"
      ]
     },
     "metadata": {
      "needs_background": "light"
     },
     "output_type": "display_data"
    }
   ],
   "source": [
    "data = pd.DataFrame(df_model['stemType'])\n",
    "percentage1 = round((data.stemType.sum() / data.shape[0]) * 100, 2) \n",
    "percentage0 = round(100 - percentage1, 2)\n",
    "print('Percent of 0s:', percentage0)\n",
    "print('\\nPercent of 1s:', percentage1)\n",
    "t=df_model['stemType'].value_counts().values\n",
    "sns.barplot([0,1],t)\n",
    "plt.title('Target variable count')\n",
    "plt.show()"
   ]
  },
  {
   "cell_type": "code",
   "execution_count": 10,
   "id": "6d98f280",
   "metadata": {},
   "outputs": [],
   "source": [
    "X = df_model.drop(columns=['stemType'])\n",
    "y = df_model['stemType']\n",
    "train_X, rem_X, train_y, rem_y = train_test_split(X, y, train_size=0.6, random_state=42, stratify = y)\n",
    "valid_X, test_X, valid_y, test_y = train_test_split(rem_X, rem_y, train_size=0.5, random_state=42, stratify = rem_y) "
   ]
  },
  {
   "cell_type": "code",
   "execution_count": 11,
   "id": "b581ad37",
   "metadata": {},
   "outputs": [
    {
     "name": "stdout",
     "output_type": "stream",
     "text": [
      "Training Set:\n",
      " 0    113503\n",
      "1      3496\n",
      "Name: stemType, dtype: int64 \n",
      " 0    0.970119\n",
      "1    0.029881\n",
      "Name: stemType, dtype: float64\n",
      "\n",
      "Validation Set:\n",
      " 0    37835\n",
      "1     1165\n",
      "Name: stemType, dtype: int64 \n",
      " 0    0.970128\n",
      "1    0.029872\n",
      "Name: stemType, dtype: float64\n",
      "\n",
      "Test Set:\n",
      " 0    37835\n",
      "1     1165\n",
      "Name: stemType, dtype: int64 \n",
      " 0    0.970128\n",
      "1    0.029872\n",
      "Name: stemType, dtype: float64\n"
     ]
    }
   ],
   "source": [
    "print('Training Set:\\n', train_y.value_counts(), '\\n', train_y.value_counts(normalize = True))\n",
    "print('\\nValidation Set:\\n', valid_y.value_counts(), '\\n', valid_y.value_counts(normalize = True))\n",
    "print('\\nTest Set:\\n', test_y.value_counts(), '\\n', test_y.value_counts(normalize = True))"
   ]
  },
  {
   "cell_type": "code",
   "execution_count": 12,
   "id": "2c89fc7d",
   "metadata": {},
   "outputs": [],
   "source": [
    "try:\n",
    "    train_X_res = pd.read_csv('SMOTE_df.csv')\n",
    "    train_y_res = pd.read_csv('SMOTE_df_target.csv')\n",
    "except:\n",
    "    # Fixing the class imbalance with tomekLinks and SMOTE\n",
    "    SMOTEtl = SMOTETomek(random_state = 42)\n",
    "\n",
    "    # fit predictor and target variable for training set only\n",
    "    train_X_res, train_y_res = SMOTEtl.fit_resample(train_X, train_y)\n",
    "\n",
    "    print('Original dataset shape:\\n', train_y.value_counts())\n",
    "    print('Resampled dataset shape:\\n', train_y_res.value_counts())\n",
    "\n",
    "    train_X_res.to_csv('SMOTE_df.csv',index=None)\n",
    "    train_y_res.to_csv('SMOTE_df_target.csv',index=None)"
   ]
  },
  {
   "cell_type": "markdown",
   "id": "d6b1dda4",
   "metadata": {},
   "source": [
    "We can also save our SMOTE data to .csv to avoid having to re-run this data during development work for future replications, which is handled in the **except** statement above."
   ]
  },
  {
   "cell_type": "markdown",
   "id": "552bb833",
   "metadata": {},
   "source": [
    "### Helper Function: Confusion Matrix"
   ]
  },
  {
   "cell_type": "code",
   "execution_count": 13,
   "id": "fc2e2e00",
   "metadata": {},
   "outputs": [],
   "source": [
    "def confusionMatrices(model, title):\n",
    "    print(title + ' - training results')\n",
    "    classificationSummary(train_y_res, model.predict(train_X_res))\n",
    "    print(title + ' - validation results')\n",
    "    valid_pred = model.predict(valid_X)\n",
    "    classificationSummary(valid_y, valid_pred)"
   ]
  },
  {
   "cell_type": "markdown",
   "id": "85d78fd4",
   "metadata": {},
   "source": [
    "### Helper Function: Evaluation Metrics"
   ]
  },
  {
   "cell_type": "code",
   "execution_count": 14,
   "id": "a3c9f6a6",
   "metadata": {},
   "outputs": [],
   "source": [
    "def evalMetrics(model,mod_predict,verbose=True):\n",
    "    # precision tp / (tp + fp)\n",
    "    precision = precision_score(test_y, mod_predict)\n",
    "    # recall: tp / (tp + fn)\n",
    "    recall = recall_score(test_y, mod_predict)\n",
    "    \n",
    "    # f1: 2 tp / (2 tp + fp + fn)\n",
    "    f1 = f1_score(test_y, mod_predict)\n",
    "    \n",
    "    # ROC AUC\n",
    "    lr_probs = model.predict_proba(test_X)\n",
    "    lr_probs = lr_probs[:, 1]\n",
    "    auc = roc_auc_score(test_y, lr_probs)\n",
    "    \n",
    "    if verbose:\n",
    "        print('Precision: %f' % precision)\n",
    "        print('Recall: %f' % recall)\n",
    "        print('F1 score: %f' % f1)\n",
    "        print('ROC AUC: %f' % auc)\n",
    "        \n",
    "    return {\n",
    "        \"precision\": precision,\n",
    "        \"recall\": recall,\n",
    "        \"f1\": f1,\n",
    "        \"roc_auc\":auc\n",
    "    }"
   ]
  },
  {
   "cell_type": "markdown",
   "id": "dbc5494d",
   "metadata": {},
   "source": [
    "### Naive Bayes"
   ]
  },
  {
   "cell_type": "code",
   "execution_count": null,
   "id": "c9989dbb",
   "metadata": {
    "scrolled": true
   },
   "outputs": [],
   "source": [
    "from sklearn.naive_bayes import GaussianNB\n",
    "gnb = GaussianNB()\n",
    "gnb.fit(train_X_res, train_y_res)\n",
    "confusionMatrices(gnb,'Naive Bayes')"
   ]
  },
  {
   "cell_type": "markdown",
   "id": "70b1751e",
   "metadata": {},
   "source": [
    "#### Evaluation and Confusion Matrix:"
   ]
  },
  {
   "cell_type": "code",
   "execution_count": null,
   "id": "93555f30",
   "metadata": {
    "scrolled": true
   },
   "outputs": [],
   "source": [
    "gnb_pred = gnb.predict(test_X)\n",
    "evalMetrics(gnb,gnb_pred)\n",
    "classificationSummary(test_y, gnb_pred)"
   ]
  },
  {
   "cell_type": "markdown",
   "id": "91a6cd44",
   "metadata": {},
   "source": [
    "### Logistic regression"
   ]
  },
  {
   "cell_type": "code",
   "execution_count": null,
   "id": "8058a4dd",
   "metadata": {},
   "outputs": [],
   "source": [
    "logit_reg = LogisticRegression(penalty=\"l1\", C=1e42, solver='liblinear', random_state = 1)\n",
    "logit_reg.fit(train_X_res, train_y_res)\n",
    "confusionMatrices(logit_reg, 'Logistic regression')"
   ]
  },
  {
   "cell_type": "markdown",
   "id": "0baa5bce",
   "metadata": {},
   "source": [
    "#### Test Set"
   ]
  },
  {
   "cell_type": "code",
   "execution_count": null,
   "id": "0cb6f7c6",
   "metadata": {},
   "outputs": [],
   "source": [
    "logit_pred = logit_reg.predict(test_X)"
   ]
  },
  {
   "cell_type": "markdown",
   "id": "3aace6b2",
   "metadata": {},
   "source": [
    "#### Evaluation and Confusion Matrix"
   ]
  },
  {
   "cell_type": "code",
   "execution_count": null,
   "id": "7eb435b1",
   "metadata": {},
   "outputs": [],
   "source": [
    "evalMetrics(logit_reg,logit_pred)\n",
    "classificationSummary(test_y, logit_pred)"
   ]
  },
  {
   "cell_type": "markdown",
   "id": "c6f4527a",
   "metadata": {},
   "source": [
    "### Random Forest - GridSearch"
   ]
  },
  {
   "cell_type": "markdown",
   "id": "1613e2ba",
   "metadata": {},
   "source": [
    "To optimize random forest performance, we want to cycle through the number of estimators, the maximum tree depth, the log-loss, the cost function, and more:"
   ]
  },
  {
   "cell_type": "code",
   "execution_count": 41,
   "id": "d09671ae",
   "metadata": {},
   "outputs": [
    {
     "name": "stdout",
     "output_type": "stream",
     "text": [
      "{'bootstrap': [True, False],\n",
      " 'max_depth': [1, 2, 3, 4, 5, 6, 7, 8, 9, 10, None],\n",
      " 'max_features': ['auto', 'sqrt'],\n",
      " 'min_samples_leaf': [1, 2, 4],\n",
      " 'min_samples_split': [2, 5, 10],\n",
      " 'n_estimators': [400, 450, 500, 550, 600]}\n"
     ]
    }
   ],
   "source": [
    "rf = RandomForestClassifier(random_state = 1,verbose = 2)\n",
    "\n",
    "# Number of trees in random forest\n",
    "n_estimators = [400,450,500,550,600]\n",
    "# Number of features to consider at every split\n",
    "max_features = ['auto', 'sqrt']\n",
    "# Maximum number of levels in tree\n",
    "max_depth = [int(x) for x in np.linspace(1, 10, num = 10)]\n",
    "max_depth.append(None)\n",
    "# Minimum number of samples required to split a node\n",
    "min_samples_split = [2, 5, 10]\n",
    "# Minimum number of samples required at each leaf node\n",
    "min_samples_leaf = [1, 2, 4]\n",
    "# Method of selecting samples for training each tree\n",
    "bootstrap = [True, False]\n",
    "# Create the random grid\n",
    "random_grid = {'n_estimators': n_estimators,\n",
    "               'max_features': max_features,\n",
    "               'max_depth': max_depth,\n",
    "               'min_samples_split': min_samples_split,\n",
    "               'min_samples_leaf': min_samples_leaf,\n",
    "               'bootstrap': bootstrap}\n",
    "pprint.pprint(random_grid)"
   ]
  },
  {
   "cell_type": "code",
   "execution_count": null,
   "id": "699a0d79",
   "metadata": {},
   "outputs": [],
   "source": [
    "# search across 100 different combinations, and use all available cores\n",
    "rf_random = RandomizedSearchCV(\n",
    "    estimator = rf\n",
    "    , param_distributions = random_grid\n",
    "    , n_iter = 100\n",
    "    , cv = 3\n",
    "    , verbose=2\n",
    "    , random_state=1\n",
    "    , n_jobs = -1\n",
    "    , scoring = 'roc_auc'\n",
    ")\n",
    "# Fit the random search model\n",
    "rf_random.fit(train_X_res, train_y_res)"
   ]
  },
  {
   "cell_type": "markdown",
   "id": "eb4bece6",
   "metadata": {},
   "source": [
    "We can see which parameters perform the best for our random forest:"
   ]
  },
  {
   "cell_type": "markdown",
   "id": "8ec1ec3f",
   "metadata": {},
   "source": [
    "Continue by reviewing the array of ROC scores we got from our models:"
   ]
  },
  {
   "cell_type": "code",
   "execution_count": null,
   "id": "e22352b0",
   "metadata": {},
   "outputs": [],
   "source": [
    "RandomForest_pred = rf_random.predict(test_X)"
   ]
  },
  {
   "cell_type": "code",
   "execution_count": 46,
   "id": "4b99c157",
   "metadata": {},
   "outputs": [
    {
     "name": "stderr",
     "output_type": "stream",
     "text": [
      "[Parallel(n_jobs=1)]: Using backend SequentialBackend with 1 concurrent workers.\n",
      "[Parallel(n_jobs=1)]: Done   1 out of   1 | elapsed:    0.0s remaining:    0.0s\n",
      "[Parallel(n_jobs=1)]: Done   2 out of   2 | elapsed:    0.0s remaining:    0.0s\n",
      "[Parallel(n_jobs=1)]: Done   3 out of   3 | elapsed:    0.0s remaining:    0.0s\n",
      "[Parallel(n_jobs=1)]: Done   4 out of   4 | elapsed:    0.0s remaining:    0.0s\n",
      "[Parallel(n_jobs=1)]: Done   5 out of   5 | elapsed:    0.0s remaining:    0.0s\n",
      "[Parallel(n_jobs=1)]: Done   6 out of   6 | elapsed:    0.0s remaining:    0.0s\n",
      "[Parallel(n_jobs=1)]: Done   7 out of   7 | elapsed:    0.0s remaining:    0.0s\n",
      "[Parallel(n_jobs=1)]: Done   8 out of   8 | elapsed:    0.0s remaining:    0.0s\n",
      "[Parallel(n_jobs=1)]: Done   9 out of   9 | elapsed:    0.0s remaining:    0.0s\n"
     ]
    },
    {
     "name": "stdout",
     "output_type": "stream",
     "text": [
      "Precision: 0.107517\n",
      "Recall: 0.696137\n",
      "F1 score: 0.186266\n",
      "ROC AUC: 0.726414\n",
      "Confusion Matrix (Accuracy 0.8183)\n",
      "\n",
      "       Prediction\n",
      "Actual     0     1\n",
      "     0 31103  6732\n",
      "     1   354   811\n"
     ]
    },
    {
     "name": "stderr",
     "output_type": "stream",
     "text": [
      "[Parallel(n_jobs=1)]: Done 550 out of 550 | elapsed:    3.9s finished\n"
     ]
    }
   ],
   "source": [
    "evalMetrics(rf_random,RandomForest_pred)\n",
    "classificationSummary(test_y, RandomForest_pred)"
   ]
  },
  {
   "cell_type": "markdown",
   "id": "3a19b829",
   "metadata": {},
   "source": [
    "We can also compare this with our original model:"
   ]
  },
  {
   "cell_type": "code",
   "execution_count": 45,
   "id": "02bc4602",
   "metadata": {},
   "outputs": [
    {
     "name": "stdout",
     "output_type": "stream",
     "text": [
      "Precision: 0.107517\n",
      "Recall: 0.696137\n",
      "F1 score: 0.186266\n",
      "ROC AUC: 0.837011\n",
      "Confusion Matrix (Accuracy 0.8183)\n",
      "\n",
      "       Prediction\n",
      "Actual     0     1\n",
      "     0 31103  6732\n",
      "     1   354   811\n"
     ]
    }
   ],
   "source": [
    "#current best roc ~ 83.7%\n",
    "RandomForest = RandomForestClassifier(\n",
    "    n_estimators=500 #current best = 500\n",
    "    , random_state=1\n",
    "    , max_depth = 6\n",
    ")\n",
    "RandomForest.fit(train_X_res, train_y_res)\n",
    "RandomForest_pred = RandomForest.predict(test_X)\n",
    "evalMetrics(RandomForest,RandomForest_pred)\n",
    "classificationSummary(test_y, RandomForest_pred)"
   ]
  },
  {
   "cell_type": "markdown",
   "id": "34deeba4",
   "metadata": {},
   "source": [
    "it appears that despite our eforts to conduct some sort of gridsearch for our random forest model, we're unable to beat the roc of 83.7% using conventional means, and will have to approach this more carefully by tuning each metric alone until we get better insights."
   ]
  },
  {
   "cell_type": "markdown",
   "id": "253d5ad1",
   "metadata": {},
   "source": [
    "#### 1. Number of Estimators"
   ]
  },
  {
   "cell_type": "code",
   "execution_count": 65,
   "id": "d0ed7f7b",
   "metadata": {},
   "outputs": [],
   "source": [
    "estimators = [200,250,300,350,400,425,450]\n",
    "roc_scores = []\n",
    "\n",
    "for e in estimators:\n",
    "    RandomForest = RandomForestClassifier(\n",
    "        n_estimators= e #current best = 500\n",
    "        , random_state=1\n",
    "        , max_depth = 6\n",
    "    )\n",
    "    RandomForest.fit(train_X_res, train_y_res)\n",
    "    RandomForest_pred = RandomForest.predict(test_X)\n",
    "    \n",
    "    #get roc_auc\n",
    "    this_roc = evalMetrics(RandomForest,RandomForest_pred,verbose=False)['roc_auc']\n",
    "    roc_scores.append(this_roc)"
   ]
  },
  {
   "cell_type": "markdown",
   "id": "39f5e4d7",
   "metadata": {},
   "source": [
    "#### 1b. Visualization"
   ]
  },
  {
   "cell_type": "markdown",
   "id": "1b6e42b4",
   "metadata": {},
   "source": [
    "we can conclude that around 250 estimators is an optimal number for our random forest clasifier."
   ]
  },
  {
   "cell_type": "code",
   "execution_count": 66,
   "id": "f6b36db3",
   "metadata": {
    "scrolled": true
   },
   "outputs": [
    {
     "data": {
      "image/png": "[encoded data removed]",
      "text/plain": [
       "<Figure size 432x288 with 1 Axes>"
      ]
     },
     "metadata": {
      "needs_background": "light"
     },
     "output_type": "display_data"
    }
   ],
   "source": [
    "# plot\n",
    "plt.plot(estimators,roc_scores)\n",
    "plt.title(f'roc-auc score vs number of estimators, max:{max(roc_scores)}')\n",
    "plt.show()"
   ]
  },
  {
   "cell_type": "markdown",
   "id": "4341afe8",
   "metadata": {},
   "source": [
    "#### 2. max depth"
   ]
  },
  {
   "cell_type": "code",
   "execution_count": 60,
   "id": "cdb0df47",
   "metadata": {},
   "outputs": [],
   "source": [
    "depths = list(range(1,10))\n",
    "roc_scores = []\n",
    "\n",
    "for d in depths:\n",
    "    RandomForest = RandomForestClassifier(\n",
    "        n_estimators= 250 #current best = 500\n",
    "        , random_state=1\n",
    "        , max_depth = d\n",
    "    )\n",
    "    RandomForest.fit(train_X_res, train_y_res)\n",
    "    RandomForest_pred = RandomForest.predict(test_X)\n",
    "    \n",
    "    #get roc_auc\n",
    "    this_roc = evalMetrics(RandomForest,RandomForest_pred,verbose=False)['roc_auc']\n",
    "    roc_scores.append(this_roc)"
   ]
  },
  {
   "cell_type": "markdown",
   "id": "f885b20d",
   "metadata": {},
   "source": [
    "#### 2b. Visualization"
   ]
  },
  {
   "cell_type": "markdown",
   "id": "23858fd1",
   "metadata": {},
   "source": [
    "a max depth of 6 seems to be an optimal parameter at this stage."
   ]
  },
  {
   "cell_type": "code",
   "execution_count": 64,
   "id": "41b583da",
   "metadata": {
    "scrolled": true
   },
   "outputs": [
    {
     "data": {
      "image/png": "[encoded data removed]",
      "text/plain": [
       "<Figure size 432x288 with 1 Axes>"
      ]
     },
     "metadata": {
      "needs_background": "light"
     },
     "output_type": "display_data"
    }
   ],
   "source": [
    "# plot\n",
    "plt.plot(depths,roc_scores)\n",
    "plt.title(f'roc-auc score vs max depth of trees, max:{max(roc_scores)}')\n",
    "plt.show()"
   ]
  },
  {
   "cell_type": "markdown",
   "id": "8efc4282",
   "metadata": {},
   "source": [
    "#### 3. Min sample split"
   ]
  },
  {
   "cell_type": "code",
   "execution_count": 70,
   "id": "7e9c12fe",
   "metadata": {},
   "outputs": [],
   "source": [
    "min_samples_split = list(range(6,20,2))\n",
    "roc_scores = []\n",
    "\n",
    "for m in min_samples_split:\n",
    "    RandomForest = RandomForestClassifier(\n",
    "        n_estimators= 250 #current best = 500\n",
    "        , random_state=1\n",
    "        , max_depth = 6\n",
    "        , min_samples_split = m\n",
    "    )\n",
    "    RandomForest.fit(train_X_res, train_y_res)\n",
    "    RandomForest_pred = RandomForest.predict(test_X)\n",
    "    \n",
    "    #get roc_auc\n",
    "    this_roc = evalMetrics(RandomForest,RandomForest_pred,verbose=False)['roc_auc']\n",
    "    roc_scores.append(this_roc)"
   ]
  },
  {
   "cell_type": "markdown",
   "id": "b76f5c13",
   "metadata": {},
   "source": [
    "#### 3b. Visualization\n",
    "Optimal performance seems to be at a min-sample split of 12."
   ]
  },
  {
   "cell_type": "code",
   "execution_count": 71,
   "id": "799eaadb",
   "metadata": {
    "scrolled": true
   },
   "outputs": [
    {
     "data": {
      "image/png": "[encoded data removed]",
      "text/plain": [
       "<Figure size 432x288 with 1 Axes>"
      ]
     },
     "metadata": {
      "needs_background": "light"
     },
     "output_type": "display_data"
    }
   ],
   "source": [
    "# plot\n",
    "plt.plot(min_samples_split,roc_scores)\n",
    "plt.title(f'roc-auc score vs min samples split, max:{max(roc_scores)}')\n",
    "plt.show()"
   ]
  },
  {
   "cell_type": "markdown",
   "id": "a6e4f31c",
   "metadata": {},
   "source": [
    "#### 4. Min samples per leaf"
   ]
  },
  {
   "cell_type": "code",
   "execution_count": 76,
   "id": "0caa8032",
   "metadata": {},
   "outputs": [],
   "source": [
    "# Minimum number of samples required at each leaf node\n",
    "min_samples_leaf = [1,5,10,20,30,40,50,60,70,80,90,100,150,200,250,300]\n",
    "roc_scores = []\n",
    "\n",
    "for m in min_samples_leaf:\n",
    "    RandomForest = RandomForestClassifier(\n",
    "        n_estimators= 250 #current best = 500\n",
    "        , random_state=1\n",
    "        , max_depth = 6\n",
    "        , min_samples_split = 12\n",
    "        , min_samples_leaf = m\n",
    "    )\n",
    "    RandomForest.fit(train_X_res, train_y_res)\n",
    "    RandomForest_pred = RandomForest.predict(test_X)\n",
    "    \n",
    "    #get roc_auc\n",
    "    this_roc = evalMetrics(RandomForest,RandomForest_pred,verbose=False)['roc_auc']\n",
    "    roc_scores.append(this_roc)"
   ]
  },
  {
   "cell_type": "markdown",
   "id": "bdb54080",
   "metadata": {},
   "source": [
    "#### 4b. Visualization\n",
    "100 samples per leaf at a minimum is an optimal parameter."
   ]
  },
  {
   "cell_type": "code",
   "execution_count": 77,
   "id": "f2bd9ea9",
   "metadata": {
    "scrolled": true
   },
   "outputs": [
    {
     "data": {
      "image/png": "[encoded data removed]",
      "text/plain": [
       "<Figure size 432x288 with 1 Axes>"
      ]
     },
     "metadata": {
      "needs_background": "light"
     },
     "output_type": "display_data"
    }
   ],
   "source": [
    "# plot\n",
    "plt.plot(min_samples_leaf,roc_scores)\n",
    "plt.title(f'roc-auc score vs min samples per leaf, max:{max(roc_scores)}')\n",
    "plt.show()"
   ]
  },
  {
   "cell_type": "markdown",
   "id": "08d3f838",
   "metadata": {},
   "source": [
    "#### 5. criterion for splitting"
   ]
  },
  {
   "cell_type": "code",
   "execution_count": 78,
   "id": "96341632",
   "metadata": {},
   "outputs": [],
   "source": [
    "# Minimum number of samples required at each leaf node\n",
    "criteria = [\"gini\",\"entropy\",\"log_loss\"]\n",
    "roc_scores = []\n",
    "\n",
    "for c in criteria:\n",
    "    RandomForest = RandomForestClassifier(\n",
    "        n_estimators= 250 #current best = 500\n",
    "        , random_state=1\n",
    "        , max_depth = 6\n",
    "        , min_samples_split = 12\n",
    "        , min_samples_leaf = 100\n",
    "        , criterion = c \n",
    "    )\n",
    "    RandomForest.fit(train_X_res, train_y_res)\n",
    "    RandomForest_pred = RandomForest.predict(test_X)\n",
    "    \n",
    "    #get roc_auc\n",
    "    this_roc = evalMetrics(RandomForest,RandomForest_pred,verbose=False)['roc_auc']\n",
    "    roc_scores.append(this_roc)"
   ]
  },
  {
   "cell_type": "markdown",
   "id": "afa40c56",
   "metadata": {},
   "source": [
    "#### 5b. Visualization\n",
    "In conclusion, any criterion except gini is sufficient for optimization."
   ]
  },
  {
   "cell_type": "code",
   "execution_count": 79,
   "id": "b5c44bd3",
   "metadata": {
    "scrolled": true
   },
   "outputs": [
    {
     "data": {
      "image/png": "[encoded data removed]",
      "text/plain": [
       "<Figure size 432x288 with 1 Axes>"
      ]
     },
     "metadata": {
      "needs_background": "light"
     },
     "output_type": "display_data"
    }
   ],
   "source": [
    "# plot\n",
    "plt.plot(criteria,roc_scores)\n",
    "plt.title(f'roc-auc score vs criteria, max:{max(roc_scores)}')\n",
    "plt.show()"
   ]
  },
  {
   "cell_type": "markdown",
   "id": "76d4085f",
   "metadata": {},
   "source": [
    "#### Conclusion\n",
    "Despite several different layers of optimization work, the final conclusion for our random forest model is an ROC-AUC of 83.7%."
   ]
  },
  {
   "cell_type": "markdown",
   "id": "5fdf3bb1",
   "metadata": {},
   "source": [
    "### Neural Network"
   ]
  },
  {
   "cell_type": "code",
   "execution_count": 123,
   "id": "ad617a30",
   "metadata": {},
   "outputs": [
    {
     "name": "stdout",
     "output_type": "stream",
     "text": [
      "Neural Network - training results\n",
      "Confusion Matrix (Accuracy 0.7614)\n",
      "\n",
      "       Prediction\n",
      "Actual     0     1\n",
      "     0 93296 20123\n",
      "     1 33996 79423\n",
      "Neural Network - validation results\n",
      "Confusion Matrix (Accuracy 0.8164)\n",
      "\n",
      "       Prediction\n",
      "Actual     0     1\n",
      "     0 31066  6769\n",
      "     1   391   774\n"
     ]
    }
   ],
   "source": [
    "neuralNet = MLPClassifier(\n",
    "    hidden_layer_sizes=(5)\n",
    "    , activation='logistic'\n",
    "    , solver='adam'\n",
    "    , max_iter=2000, \n",
    "    random_state=1\n",
    ")\n",
    "neuralNet.fit(train_X_res, train_y_res)\n",
    "confusionMatrices(neuralNet, 'Neural Network')"
   ]
  },
  {
   "cell_type": "code",
   "execution_count": 124,
   "id": "374000cf",
   "metadata": {},
   "outputs": [
    {
     "name": "stdout",
     "output_type": "stream",
     "text": [
      "Confusion Matrix (Accuracy 0.8163)\n",
      "\n",
      "       Prediction\n",
      "Actual     0     1\n",
      "     0 31021  6814\n",
      "     1   349   816\n",
      "Precision: 0.106946\n",
      "Recall: 0.700429\n",
      "F1 score: 0.185560\n",
      "ROC AUC: 0.840990\n"
     ]
    },
    {
     "data": {
      "text/plain": [
       "{'precision': 0.10694626474442988,\n",
       " 'recall': 0.7004291845493562,\n",
       " 'f1': 0.1855599772598067,\n",
       " 'roc_auc': 0.8409899433444634}"
      ]
     },
     "execution_count": 124,
     "metadata": {},
     "output_type": "execute_result"
    }
   ],
   "source": [
    "neuralNet_pred = neuralNet.predict(test_X)\n",
    "classificationSummary(test_y, neuralNet_pred )\n",
    "evalMetrics(neuralNet,neuralNet_pred)"
   ]
  },
  {
   "cell_type": "markdown",
   "id": "02692164",
   "metadata": {},
   "source": [
    "Our neural network has an roc-auc of 84%, which is very similar to our random forest model. Here, we can take some steps to optimize our neural network by changing the number of hidden layers, the number of units, the learning rate, and more."
   ]
  },
  {
   "cell_type": "markdown",
   "id": "7612e852",
   "metadata": {},
   "source": [
    "#### 1. Hidden Layer Units"
   ]
  },
  {
   "cell_type": "code",
   "execution_count": 125,
   "id": "0cc85462",
   "metadata": {},
   "outputs": [],
   "source": [
    "sizes = [1,2,3,4,5,10,15]\n",
    "roc_scores = []\n",
    "\n",
    "for size in sizes:\n",
    "    neuralNet = MLPClassifier(\n",
    "        hidden_layer_sizes=(size)\n",
    "        , activation='logistic'\n",
    "        , solver= 'adam'#'lbfgs'\n",
    "        , max_iter=2000, \n",
    "        random_state=1\n",
    "    )\n",
    "    neuralNet.fit(train_X_res, train_y_res)\n",
    "    #confusionMatrices(neuralNet, 'Neural Network')\n",
    "    neuralNet_pred = neuralNet.predict(test_X)\n",
    "    this_roc = evalMetrics(neuralNet,neuralNet_pred,verbose=False)['roc_auc']\n",
    "    roc_scores.append(this_roc)"
   ]
  },
  {
   "cell_type": "markdown",
   "id": "c7b36f45",
   "metadata": {},
   "source": [
    "#### 1b. Visualization\n",
    "Having 10 nodes in our hidden layer creates the best performance."
   ]
  },
  {
   "cell_type": "code",
   "execution_count": 126,
   "id": "0b59bcb9",
   "metadata": {
    "scrolled": true
   },
   "outputs": [
    {
     "data": {
      "image/png": "[encoded data removed]",
      "text/plain": [
       "<Figure size 432x288 with 1 Axes>"
      ]
     },
     "metadata": {
      "needs_background": "light"
     },
     "output_type": "display_data"
    }
   ],
   "source": [
    "# plot\n",
    "plt.plot(sizes,roc_scores)\n",
    "plt.title(f'roc-auc score vs hidden layer size, max:{max(roc_scores)}')\n",
    "plt.show()"
   ]
  },
  {
   "cell_type": "markdown",
   "id": "3e7cedf6",
   "metadata": {},
   "source": [
    "#### 2. Max Iterations"
   ]
  },
  {
   "cell_type": "code",
   "execution_count": 127,
   "id": "3ed7ed19",
   "metadata": {},
   "outputs": [],
   "source": [
    "its =  [int(x) for x in np.linspace(100, 5000, num = 20)]\n",
    "roc_scores = []\n",
    "\n",
    "for it in its:\n",
    "    neuralNet = MLPClassifier(\n",
    "        hidden_layer_sizes=(10)\n",
    "        , activation='logistic'\n",
    "        , solver='adam'\n",
    "        , max_iter=it, \n",
    "        random_state=1\n",
    "    )\n",
    "    neuralNet.fit(train_X_res, train_y_res)\n",
    "    #confusionMatrices(neuralNet, 'Neural Network')\n",
    "    neuralNet_pred = neuralNet.predict(test_X)\n",
    "    this_roc = evalMetrics(neuralNet,neuralNet_pred,verbose=False)['roc_auc']\n",
    "    roc_scores.append(this_roc)"
   ]
  },
  {
   "cell_type": "markdown",
   "id": "3d09b1cd",
   "metadata": {},
   "source": [
    "#### 2b. Visualization"
   ]
  },
  {
   "cell_type": "markdown",
   "id": "ad2fd582",
   "metadata": {},
   "source": [
    "100 iterations is ideal for optimizing our roc-auc scores."
   ]
  },
  {
   "cell_type": "code",
   "execution_count": 128,
   "id": "4ddd3f6c",
   "metadata": {
    "scrolled": true
   },
   "outputs": [
    {
     "data": {
      "image/png": "[encoded data removed]",
      "text/plain": [
       "<Figure size 432x288 with 1 Axes>"
      ]
     },
     "metadata": {
      "needs_background": "light"
     },
     "output_type": "display_data"
    }
   ],
   "source": [
    "# plot\n",
    "plt.plot(its,roc_scores)\n",
    "plt.title(f'roc-auc score vs max iterations, max:{max(roc_scores)}')\n",
    "plt.show()"
   ]
  },
  {
   "cell_type": "markdown",
   "id": "290e225d",
   "metadata": {},
   "source": [
    "#### 3. Alpha Selection \n",
    "Context: In this model, the Alpha is the strength of the L2 regularization, which removes a small portion of the weights without ever going down to zero."
   ]
  },
  {
   "cell_type": "code",
   "execution_count": 132,
   "id": "f5739ec1",
   "metadata": {},
   "outputs": [],
   "source": [
    "alphas =  [float(x) for x in np.linspace(0.01, 0.1, num = 10)] \n",
    "roc_scores = []\n",
    "\n",
    "for alpha in alphas:\n",
    "    neuralNet = MLPClassifier(\n",
    "        hidden_layer_sizes=(4)\n",
    "        , activation='logistic'\n",
    "        , solver='adam'\n",
    "        , max_iter=100\n",
    "        , alpha = alpha\n",
    "        , random_state=1\n",
    "    )\n",
    "    neuralNet.fit(train_X_res, train_y_res)\n",
    "    #confusionMatrices(neuralNet, 'Neural Network')\n",
    "    neuralNet_pred = neuralNet.predict(test_X)\n",
    "    this_roc = evalMetrics(neuralNet,neuralNet_pred,verbose=False)['roc_auc']\n",
    "    roc_scores.append(this_roc)"
   ]
  },
  {
   "cell_type": "markdown",
   "id": "b3da9098",
   "metadata": {},
   "source": [
    "#### 3b. Visualization"
   ]
  },
  {
   "cell_type": "code",
   "execution_count": 133,
   "id": "b254995d",
   "metadata": {
    "scrolled": true
   },
   "outputs": [
    {
     "data": {
      "image/png": "[encoded data removed]",
      "text/plain": [
       "<Figure size 432x288 with 1 Axes>"
      ]
     },
     "metadata": {
      "needs_background": "light"
     },
     "output_type": "display_data"
    }
   ],
   "source": [
    "# plot\n",
    "plt.plot(alphas,roc_scores)\n",
    "max_roc = max(roc_scores)\n",
    "max_index = roc_scores.index(max_roc)\n",
    "max_param = alphas[max_index]\n",
    "\n",
    "plt.title(f'roc-auc score vs alpha, max:{max_roc}, parameter: {max_param}')\n",
    "plt.show()"
   ]
  },
  {
   "cell_type": "markdown",
   "id": "7166201a",
   "metadata": {},
   "source": [
    "#### 4. Solver (sgd,adam,lbfgs)\n",
    "This analysis also precludes the optimization of the **learning rate** parameter. If we determine that the optional solver is either sgd or adam, we can utilize learning_rate as a parameter and can also conduct tuning work on it in this document."
   ]
  },
  {
   "cell_type": "code",
   "execution_count": 119,
   "id": "ddc6e7b1",
   "metadata": {},
   "outputs": [],
   "source": [
    "solvers = ['sgd','adam','lbfgs']\n",
    "roc_scores = []\n",
    "\n",
    "for solver in solvers:\n",
    "    neuralNet = MLPClassifier(\n",
    "        hidden_layer_sizes = (4)\n",
    "        , activation       = 'logistic'\n",
    "        , solver           = solver\n",
    "        , max_iter         = 100\n",
    "        , alpha            = 0.0037\n",
    "        , random_state     = 1\n",
    "    )\n",
    "    neuralNet.fit(train_X_res, train_y_res)\n",
    "    #confusionMatrices(neuralNet, 'Neural Network')\n",
    "    neuralNet_pred = neuralNet.predict(test_X)\n",
    "    this_roc = evalMetrics(neuralNet,neuralNet_pred,verbose=False)['roc_auc']\n",
    "    roc_scores.append(this_roc)"
   ]
  },
  {
   "cell_type": "markdown",
   "id": "5d8df652",
   "metadata": {},
   "source": [
    "#### 4b. Visualization"
   ]
  },
  {
   "cell_type": "code",
   "execution_count": 120,
   "id": "c81b21d7",
   "metadata": {
    "scrolled": true
   },
   "outputs": [
    {
     "data": {
      "image/png": "[encoded data removed]",
      "text/plain": [
       "<Figure size 432x288 with 1 Axes>"
      ]
     },
     "metadata": {
      "needs_background": "light"
     },
     "output_type": "display_data"
    }
   ],
   "source": [
    "# plot\n",
    "plt.plot(solvers,roc_scores)\n",
    "max_roc = max(roc_scores)\n",
    "max_index = roc_scores.index(max_roc)\n",
    "max_param = solvers[max_index]\n",
    "\n",
    "plt.title(f'roc-auc score vs solvers, max:{max_roc}, parameter: {max_param}')\n",
    "plt.show()"
   ]
  },
  {
   "cell_type": "markdown",
   "id": "0fbfc531",
   "metadata": {},
   "source": [
    "#### 5. Activation Function"
   ]
  },
  {
   "cell_type": "code",
   "execution_count": 115,
   "id": "39c68125",
   "metadata": {},
   "outputs": [],
   "source": [
    "acs = ['identity','logistic','tanh','relu']\n",
    "roc_scores = []\n",
    "\n",
    "for ac in acs:\n",
    "    neuralNet = MLPClassifier(\n",
    "        hidden_layer_sizes = (4)\n",
    "        , activation       = ac\n",
    "        , solver           = 'lbfgs'\n",
    "        , max_iter         = 100\n",
    "        , alpha            = 0.0037\n",
    "        , random_state     = 1\n",
    "    )\n",
    "    neuralNet.fit(train_X_res, train_y_res)\n",
    "    #confusionMatrices(neuralNet, 'Neural Network')\n",
    "    neuralNet_pred = neuralNet.predict(test_X)\n",
    "    this_roc = evalMetrics(neuralNet,neuralNet_pred,verbose=False)['roc_auc']\n",
    "    roc_scores.append(this_roc)"
   ]
  },
  {
   "cell_type": "markdown",
   "id": "3f3661e5",
   "metadata": {},
   "source": [
    "#### 5b. Visualization"
   ]
  },
  {
   "cell_type": "code",
   "execution_count": 116,
   "id": "8e2dcf27",
   "metadata": {},
   "outputs": [
    {
     "data": {
      "image/png": "[encoded data removed]",
      "text/plain": [
       "<Figure size 432x288 with 1 Axes>"
      ]
     },
     "metadata": {
      "needs_background": "light"
     },
     "output_type": "display_data"
    }
   ],
   "source": [
    "# plot\n",
    "plt.plot(acs,roc_scores)\n",
    "max_roc = max(roc_scores)\n",
    "max_index = roc_scores.index(max_roc)\n",
    "max_param = acs[max_index]\n",
    "\n",
    "plt.title(f'roc-auc score vs solvers, max:{max_roc}, parameter: {max_param}')\n",
    "plt.show()"
   ]
  },
  {
   "cell_type": "code",
   "execution_count": 89,
   "id": "d6ab3d50",
   "metadata": {},
   "outputs": [
    {
     "data": {
      "text/html": [
       "<div>\n",
       "<style scoped>\n",
       "    .dataframe tbody tr th:only-of-type {\n",
       "        vertical-align: middle;\n",
       "    }\n",
       "\n",
       "    .dataframe tbody tr th {\n",
       "        vertical-align: top;\n",
       "    }\n",
       "\n",
       "    .dataframe thead th {\n",
       "        text-align: right;\n",
       "    }\n",
       "</style>\n",
       "<table border=\"1\" class=\"dataframe\">\n",
       "  <thead>\n",
       "    <tr style=\"text-align: right;\">\n",
       "      <th></th>\n",
       "      <th>Models</th>\n",
       "      <th>Accuracy</th>\n",
       "      <th>Precision</th>\n",
       "      <th>Recall</th>\n",
       "      <th>F1_Score</th>\n",
       "      <th>ROC AUC</th>\n",
       "    </tr>\n",
       "  </thead>\n",
       "  <tbody>\n",
       "    <tr>\n",
       "      <th>0</th>\n",
       "      <td>Logistic Regression</td>\n",
       "      <td>0.782205</td>\n",
       "      <td>0.093059</td>\n",
       "      <td>0.719313</td>\n",
       "      <td>0.164798</td>\n",
       "      <td>0.832059</td>\n",
       "    </tr>\n",
       "    <tr>\n",
       "      <th>1</th>\n",
       "      <td>Random Forest</td>\n",
       "      <td>0.818308</td>\n",
       "      <td>0.107517</td>\n",
       "      <td>0.696137</td>\n",
       "      <td>0.186266</td>\n",
       "      <td>0.837011</td>\n",
       "    </tr>\n",
       "    <tr>\n",
       "      <th>2</th>\n",
       "      <td>Neural Network</td>\n",
       "      <td>0.818051</td>\n",
       "      <td>0.108308</td>\n",
       "      <td>0.703863</td>\n",
       "      <td>0.187729</td>\n",
       "      <td>0.840197</td>\n",
       "    </tr>\n",
       "  </tbody>\n",
       "</table>\n",
       "</div>"
      ],
      "text/plain": [
       "                Models  Accuracy  Precision    Recall  F1_Score   ROC AUC\n",
       "0  Logistic Regression  0.782205   0.093059  0.719313  0.164798  0.832059\n",
       "1        Random Forest  0.818308   0.107517  0.696137  0.186266  0.837011\n",
       "2       Neural Network  0.818051   0.108308  0.703863  0.187729  0.840197"
      ]
     },
     "execution_count": 89,
     "metadata": {},
     "output_type": "execute_result"
    }
   ],
   "source": [
    "table = {'Models':[\"Logistic Regression\", \n",
    "                   \"Random Forest\",\n",
    "                   \"Neural Network\"],\n",
    "         'Accuracy':[accuracy_score(test_y, logit_pred),\n",
    "                     \n",
    "                     accuracy_score(test_y, RandomForest_pred),\n",
    "                     \n",
    "                     accuracy_score(test_y, neuralNet_pred)],\n",
    "         'Precision':[precision_score(test_y, logit_pred),\n",
    "                   \n",
    "                 \n",
    "                      precision_score(test_y, RandomForest_pred),\n",
    "                      \n",
    "                      precision_score(test_y, neuralNet_pred) ],\n",
    "         \"Recall\":[recall_score(test_y, logit_pred),\n",
    "               \n",
    "                   recall_score(test_y, RandomForest_pred),\n",
    "          \n",
    "                   recall_score(test_y,neuralNet_pred)],\n",
    "         \"F1_Score\":[f1_score(test_y, logit_pred),\n",
    "                    \n",
    "                     f1_score(test_y, RandomForest_pred),\n",
    "                   \n",
    "                     f1_score(test_y,neuralNet_pred)],\n",
    "         \"ROC AUC\":[roc_auc_score(test_y, lr_probs),\n",
    "                   \n",
    "                    roc_auc_score(test_y, rf_probs),\n",
    "                  \n",
    "                    roc_auc_score(test_y,  nn_probs)]\n",
    "}\n",
    "table_report = pd.DataFrame(table)\n",
    "# print the data\n",
    "table_report"
   ]
  }
 ],
 "metadata": {
  "kernelspec": {
   "display_name": "Python 3 (ipykernel)",
   "language": "python",
   "name": "python3"
  },
  "language_info": {
   "codemirror_mode": {
    "name": "ipython",
    "version": 3
   },
   "file_extension": ".py",
   "mimetype": "text/x-python",
   "name": "python",
   "nbconvert_exporter": "python",
   "pygments_lexer": "ipython3",
   "version": "3.8.2"
  }
 },
 "nbformat": 4,
 "nbformat_minor": 5
}
