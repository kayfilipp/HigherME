{
 "cells": [
  {
   "cell_type": "markdown",
   "id": "55bf096b",
   "metadata": {},
   "source": [
    "<h1>Analyzing US Census Data for HigherME</h1>\n",
    "<div id='home'></div>"
   ]
  },
  {
   "cell_type": "markdown",
   "id": "45b60c3a",
   "metadata": {},
   "source": [
    "**Nava Roohi, Cole Bailey, Filipp Krasovsky**"
   ]
  },
  {
   "cell_type": "markdown",
   "id": "fff3ebba",
   "metadata": {},
   "source": [
    "This notebook explores the underlying trends and patterns in our 2020 census dataset through extensive visualization and data transformation. This notebook also conducts some occupation and degree mapping by using data from ONet to make sense of the various codes present in `DEGREE, DEGREED`, and `OCC`.\n",
    "\n",
    "This notebook outputs a transformed dataframe into `/datasets/transformed/main_df.csv`, which allows the team to consistently engage in EDA and feature engineering without disrupting the integrity of our modeling pipeline."
   ]
  },
  {
   "cell_type": "markdown",
   "id": "0e12de3c",
   "metadata": {},
   "source": [
    "#### Table of Contents\n",
    "1. [Data Cleaning](#DataCleaning)<br>\n",
    "<t>1b. [Identifying All Occupations](#IdentifyingOCC)<br>\n",
    "<t>1b. [Identifying STEM Occupations](#IdentifyingOCCSTEM)<br>\n",
    "2. [Data EDA, Cleanup and Transformation for Nontarget Features](#EDA)<br>\n",
    "<t>2b. [Sex Binarization](#Sex)<br>\n",
    "<t>2c. [Defining Racial Groups](#Race)<br>\n",
    "<t>2d. [Birthplace Analysis](#bpl)<br>\n",
    "<t>2e. [Educational Attainment](#EDU)<br>\n",
    "3. [Education & Employment](#empEDU)<br>\n",
    "<t>3b. [STEM Education](#STEMEDU)<br>\n",
    "<t>3c. [STEM Education & Race](#STEMRACE)<br>\n",
    "<t>3d. [Racial Representation by STEM Major](#STEMREP)<br>\n",
    "4. [Career Attainment by Race](#RACECAREER)<br>\n",
    "    <t>4b. [What Roles do Underrepresented STEM Majors go into?](#RACEROLES)<br>\n",
    "    <t>4c. [STEM Employment - General Public](#STEMP)<br>\n",
    "    <t>4d. [Post-Secondary Education for STEM Employees](#POST_SECOND)<br>\n",
    "    <t>4e. [College Completion vs. Median Wage](#NONCOMPLETION)<br>\n",
    "    <t>4f. [Demographic Representation in STEM Jobs](#RBD)<br>\n",
    "<t>4g. [What STEM Roles do Under-represented persons take on?](#under_rep_stem_roles)<br>\n",
    "    <t>4h. [Salary Analysis - How Much Do Stem Employees Earn?](#salary)<br>\n",
    "    <t>4i. [In Total, What Portion of STEM Employees do not have a STEM Background?](#no_stem)<br>\n",
    "    <t>4j. [How does not having a STEM degree affect income in these fields?](#no_stem_salary)<br>\n",
    "5. [Publish Transformed Dataset](#publish)<br>"
   ]
  },
  {
   "cell_type": "code",
   "execution_count": 70,
   "id": "1526d419",
   "metadata": {},
   "outputs": [],
   "source": [
    "import pandas as pd \n",
    "import degree_codes as dc #custom library for mapping careers and degree codes \n",
    "import matplotlib.pyplot as plt\n",
    "from statsmodels.stats.proportion import proportions_ztest\n",
    "import numpy as np \n",
    "plt.style.use('seaborn-dark-palette')\n",
    "import warnings\n",
    "warnings.filterwarnings(\"ignore\")\n",
    "import os"
   ]
  },
  {
   "cell_type": "code",
   "execution_count": 71,
   "id": "6034cd21",
   "metadata": {
    "scrolled": true
   },
   "outputs": [
    {
     "data": {
      "text/html": [
       "<div>\n",
       "<style scoped>\n",
       "    .dataframe tbody tr th:only-of-type {\n",
       "        vertical-align: middle;\n",
       "    }\n",
       "\n",
       "    .dataframe tbody tr th {\n",
       "        vertical-align: top;\n",
       "    }\n",
       "\n",
       "    .dataframe thead th {\n",
       "        text-align: right;\n",
       "    }\n",
       "</style>\n",
       "<table border=\"1\" class=\"dataframe\">\n",
       "  <thead>\n",
       "    <tr style=\"text-align: right;\">\n",
       "      <th></th>\n",
       "      <th>STATEFIP</th>\n",
       "      <th>SEX</th>\n",
       "      <th>AGE</th>\n",
       "      <th>RACE</th>\n",
       "      <th>RACED</th>\n",
       "      <th>HISPAN</th>\n",
       "      <th>HISPAND</th>\n",
       "      <th>BPL</th>\n",
       "      <th>BPLD</th>\n",
       "      <th>EDUC</th>\n",
       "      <th>EDUCD</th>\n",
       "      <th>DEGFIELD</th>\n",
       "      <th>DEGFIELDD</th>\n",
       "      <th>DEGFIELD2</th>\n",
       "      <th>DEGFIELD2D</th>\n",
       "      <th>EMPSTAT</th>\n",
       "      <th>EMPSTATD</th>\n",
       "      <th>OCC</th>\n",
       "      <th>IND</th>\n",
       "      <th>INCWAGE</th>\n",
       "    </tr>\n",
       "  </thead>\n",
       "  <tbody>\n",
       "    <tr>\n",
       "      <th>0</th>\n",
       "      <td>55</td>\n",
       "      <td>1</td>\n",
       "      <td>53</td>\n",
       "      <td>1</td>\n",
       "      <td>100</td>\n",
       "      <td>0</td>\n",
       "      <td>0</td>\n",
       "      <td>27</td>\n",
       "      <td>2700</td>\n",
       "      <td>6</td>\n",
       "      <td>65</td>\n",
       "      <td>0</td>\n",
       "      <td>0</td>\n",
       "      <td>0</td>\n",
       "      <td>0</td>\n",
       "      <td>1</td>\n",
       "      <td>10</td>\n",
       "      <td>5510</td>\n",
       "      <td>6380</td>\n",
       "      <td>51776</td>\n",
       "    </tr>\n",
       "    <tr>\n",
       "      <th>1</th>\n",
       "      <td>36</td>\n",
       "      <td>1</td>\n",
       "      <td>56</td>\n",
       "      <td>1</td>\n",
       "      <td>100</td>\n",
       "      <td>0</td>\n",
       "      <td>0</td>\n",
       "      <td>36</td>\n",
       "      <td>3600</td>\n",
       "      <td>6</td>\n",
       "      <td>64</td>\n",
       "      <td>0</td>\n",
       "      <td>0</td>\n",
       "      <td>0</td>\n",
       "      <td>0</td>\n",
       "      <td>1</td>\n",
       "      <td>10</td>\n",
       "      <td>8990</td>\n",
       "      <td>770</td>\n",
       "      <td>21573</td>\n",
       "    </tr>\n",
       "    <tr>\n",
       "      <th>2</th>\n",
       "      <td>42</td>\n",
       "      <td>2</td>\n",
       "      <td>35</td>\n",
       "      <td>1</td>\n",
       "      <td>100</td>\n",
       "      <td>0</td>\n",
       "      <td>0</td>\n",
       "      <td>200</td>\n",
       "      <td>20000</td>\n",
       "      <td>10</td>\n",
       "      <td>101</td>\n",
       "      <td>53</td>\n",
       "      <td>5301</td>\n",
       "      <td>0</td>\n",
       "      <td>0</td>\n",
       "      <td>3</td>\n",
       "      <td>30</td>\n",
       "      <td>2310</td>\n",
       "      <td>7860</td>\n",
       "      <td>0</td>\n",
       "    </tr>\n",
       "    <tr>\n",
       "      <th>3</th>\n",
       "      <td>55</td>\n",
       "      <td>1</td>\n",
       "      <td>30</td>\n",
       "      <td>1</td>\n",
       "      <td>100</td>\n",
       "      <td>0</td>\n",
       "      <td>0</td>\n",
       "      <td>27</td>\n",
       "      <td>2700</td>\n",
       "      <td>6</td>\n",
       "      <td>63</td>\n",
       "      <td>0</td>\n",
       "      <td>0</td>\n",
       "      <td>0</td>\n",
       "      <td>0</td>\n",
       "      <td>1</td>\n",
       "      <td>10</td>\n",
       "      <td>910</td>\n",
       "      <td>6870</td>\n",
       "      <td>52000</td>\n",
       "    </tr>\n",
       "    <tr>\n",
       "      <th>4</th>\n",
       "      <td>39</td>\n",
       "      <td>1</td>\n",
       "      <td>47</td>\n",
       "      <td>1</td>\n",
       "      <td>100</td>\n",
       "      <td>0</td>\n",
       "      <td>0</td>\n",
       "      <td>39</td>\n",
       "      <td>3900</td>\n",
       "      <td>6</td>\n",
       "      <td>63</td>\n",
       "      <td>0</td>\n",
       "      <td>0</td>\n",
       "      <td>0</td>\n",
       "      <td>0</td>\n",
       "      <td>1</td>\n",
       "      <td>10</td>\n",
       "      <td>4220</td>\n",
       "      <td>7870</td>\n",
       "      <td>40126</td>\n",
       "    </tr>\n",
       "  </tbody>\n",
       "</table>\n",
       "</div>"
      ],
      "text/plain": [
       "   STATEFIP  SEX  AGE  RACE  RACED  HISPAN  HISPAND  BPL   BPLD  EDUC  EDUCD  \\\n",
       "0        55    1   53     1    100       0        0   27   2700     6     65   \n",
       "1        36    1   56     1    100       0        0   36   3600     6     64   \n",
       "2        42    2   35     1    100       0        0  200  20000    10    101   \n",
       "3        55    1   30     1    100       0        0   27   2700     6     63   \n",
       "4        39    1   47     1    100       0        0   39   3900     6     63   \n",
       "\n",
       "   DEGFIELD  DEGFIELDD  DEGFIELD2  DEGFIELD2D  EMPSTAT  EMPSTATD   OCC   IND  \\\n",
       "0         0          0          0           0        1        10  5510  6380   \n",
       "1         0          0          0           0        1        10  8990   770   \n",
       "2        53       5301          0           0        3        30  2310  7860   \n",
       "3         0          0          0           0        1        10   910  6870   \n",
       "4         0          0          0           0        1        10  4220  7870   \n",
       "\n",
       "   INCWAGE  \n",
       "0    51776  \n",
       "1    21573  \n",
       "2        0  \n",
       "3    52000  \n",
       "4    40126  "
      ]
     },
     "execution_count": 71,
     "metadata": {},
     "output_type": "execute_result"
    }
   ],
   "source": [
    "# Remove any metrics collected at the household level\n",
    "df = pd.read_csv(\"./datasets/raw/raw_census_data.csv\")\n",
    "df = df.drop(columns=[\n",
    "    'YEAR'\n",
    "    ,'MULTYEAR'\n",
    "    ,'SAMPLE'\n",
    "    ,'SERIAL'\n",
    "    ,'CBSERIAL'\n",
    "    ,'HHWT'\n",
    "    ,'CLUSTER'\n",
    "    ,'GQ'\n",
    "    ,'STRATA'\n",
    "    ,'PERNUM'\n",
    "    ,'PERWT'\n",
    "])\n",
    "df.head()"
   ]
  },
  {
   "cell_type": "code",
   "execution_count": 72,
   "id": "f957da7d",
   "metadata": {},
   "outputs": [
    {
     "name": "stdout",
     "output_type": "stream",
     "text": [
      "18\n",
      "(194999, 20)\n"
     ]
    }
   ],
   "source": [
    "#sanity check to make sure our age is above 18\n",
    "print(df['AGE'].min())\n",
    "print(df.shape)"
   ]
  },
  {
   "cell_type": "markdown",
   "id": "883980d1",
   "metadata": {},
   "source": [
    "<a id=\"DataCleaning\"></a>\n",
    "# Data Cleaning"
   ]
  },
  {
   "cell_type": "markdown",
   "id": "1852a0f4",
   "metadata": {},
   "source": [
    "## Prereq: Target Variable - STEM Occupation Definition"
   ]
  },
  {
   "cell_type": "markdown",
   "id": "90b178aa",
   "metadata": {},
   "source": [
    "<a id = \"IdentifyingOCC\"></a>\n",
    "### Step 1. Identifying Occupations \n",
    "[Home](#home)<br><br>\n",
    "we begin by loading in a mapping from the IPUMS Census Occupation Codes data to give us a better interpretation of the `OCC` field in our dataset, which can be found <a href='https://usa.ipums.org/usa/volii/occ2018.shtml'>here</a>."
   ]
  },
  {
   "cell_type": "code",
   "execution_count": 73,
   "id": "c57bd353",
   "metadata": {},
   "outputs": [
    {
     "data": {
      "text/plain": [
       "\"{0: 'na not applicable', 10: 'chief executives and legislators', 20: 'general and operations manager...\""
      ]
     },
     "execution_count": 73,
     "metadata": {},
     "output_type": "execute_result"
    }
   ],
   "source": [
    "import re\n",
    "occupations = pd.read_csv('./occupation_codes/occupation_map.csv')\n",
    "#standardize occupation names to have single-spaced, lowercase strings.\n",
    "occupations['Occupation'] = occupations['Occupation'].map(dc.stdize)\n",
    "\n",
    "#create a dictionary of key = OCC code, value = name\n",
    "occupations = dict(zip(occupations.OCC, occupations.Occupation))\n",
    "#get a sample \n",
    "str(occupations)[0:100]+\"...\""
   ]
  },
  {
   "cell_type": "markdown",
   "id": "1cb3134e",
   "metadata": {},
   "source": [
    "Next, we map everyone's job role by using their OCC code."
   ]
  },
  {
   "cell_type": "code",
   "execution_count": 74,
   "id": "363634cc",
   "metadata": {},
   "outputs": [
    {
     "data": {
      "text/html": [
       "<div>\n",
       "<style scoped>\n",
       "    .dataframe tbody tr th:only-of-type {\n",
       "        vertical-align: middle;\n",
       "    }\n",
       "\n",
       "    .dataframe tbody tr th {\n",
       "        vertical-align: top;\n",
       "    }\n",
       "\n",
       "    .dataframe thead th {\n",
       "        text-align: right;\n",
       "    }\n",
       "</style>\n",
       "<table border=\"1\" class=\"dataframe\">\n",
       "  <thead>\n",
       "    <tr style=\"text-align: right;\">\n",
       "      <th></th>\n",
       "      <th>OCC</th>\n",
       "      <th>job_role</th>\n",
       "    </tr>\n",
       "  </thead>\n",
       "  <tbody>\n",
       "    <tr>\n",
       "      <th>0</th>\n",
       "      <td>5510</td>\n",
       "      <td>couriers and messengers</td>\n",
       "    </tr>\n",
       "    <tr>\n",
       "      <th>1</th>\n",
       "      <td>8990</td>\n",
       "      <td>miscellaneous production workers including equipment operators and tenders</td>\n",
       "    </tr>\n",
       "    <tr>\n",
       "      <th>2</th>\n",
       "      <td>2310</td>\n",
       "      <td>elementary and middle school teachers</td>\n",
       "    </tr>\n",
       "    <tr>\n",
       "      <th>3</th>\n",
       "      <td>910</td>\n",
       "      <td>credit counselors and loan officers</td>\n",
       "    </tr>\n",
       "    <tr>\n",
       "      <th>4</th>\n",
       "      <td>4220</td>\n",
       "      <td>janitors and building cleaners</td>\n",
       "    </tr>\n",
       "  </tbody>\n",
       "</table>\n",
       "</div>"
      ],
      "text/plain": [
       "    OCC  \\\n",
       "0  5510   \n",
       "1  8990   \n",
       "2  2310   \n",
       "3   910   \n",
       "4  4220   \n",
       "\n",
       "                                                                     job_role  \n",
       "0                                                     couriers and messengers  \n",
       "1  miscellaneous production workers including equipment operators and tenders  \n",
       "2                                       elementary and middle school teachers  \n",
       "3                                         credit counselors and loan officers  \n",
       "4                                              janitors and building cleaners  "
      ]
     },
     "execution_count": 74,
     "metadata": {},
     "output_type": "execute_result"
    }
   ],
   "source": [
    "#map Occupation code into job_role field.\n",
    "pd.set_option('display.max_colwidth', None)  \n",
    "df['job_role'] = df['OCC'].apply(lambda x: occupations[x])\n",
    "df[['OCC','job_role']].head()"
   ]
  },
  {
   "cell_type": "markdown",
   "id": "b0a2de3d",
   "metadata": {},
   "source": [
    "<a id='IdentifyingOCCSTEM'></a>\n",
    "### Step 2. Identifying STEM Occupations\n",
    "[Home](#home)<br><br>"
   ]
  },
  {
   "cell_type": "markdown",
   "id": "f8e4cf57",
   "metadata": {},
   "source": [
    "We can do this by ingesting a list of STEM occupations from our previous occupation list from <a href=\"https://www.onetonline.org/find/stem?t=0\">O-Net</a> data and using a simple mapping function after we standardize the occupation names."
   ]
  },
  {
   "cell_type": "code",
   "execution_count": 75,
   "id": "1bb0e395",
   "metadata": {
    "scrolled": false
   },
   "outputs": [
    {
     "data": {
      "text/html": [
       "<div>\n",
       "<style scoped>\n",
       "    .dataframe tbody tr th:only-of-type {\n",
       "        vertical-align: middle;\n",
       "    }\n",
       "\n",
       "    .dataframe tbody tr th {\n",
       "        vertical-align: top;\n",
       "    }\n",
       "\n",
       "    .dataframe thead th {\n",
       "        text-align: right;\n",
       "    }\n",
       "</style>\n",
       "<table border=\"1\" class=\"dataframe\">\n",
       "  <thead>\n",
       "    <tr style=\"text-align: right;\">\n",
       "      <th></th>\n",
       "      <th>Code</th>\n",
       "      <th>Occupation</th>\n",
       "      <th>type</th>\n",
       "    </tr>\n",
       "  </thead>\n",
       "  <tbody>\n",
       "    <tr>\n",
       "      <th>0</th>\n",
       "      <td>15-2011.00</td>\n",
       "      <td>actuaries</td>\n",
       "      <td>Research, Development, Design, and Practitioners</td>\n",
       "    </tr>\n",
       "    <tr>\n",
       "      <th>1</th>\n",
       "      <td>29-1291.00</td>\n",
       "      <td>acupuncturists</td>\n",
       "      <td>Research, Development, Design, and Practitioners</td>\n",
       "    </tr>\n",
       "    <tr>\n",
       "      <th>2</th>\n",
       "      <td>29-1141.02</td>\n",
       "      <td>advanced practice psychiatric nurses</td>\n",
       "      <td>Research, Development, Design, and Practitioners</td>\n",
       "    </tr>\n",
       "  </tbody>\n",
       "</table>\n",
       "</div>"
      ],
      "text/plain": [
       "         Code                            Occupation  \\\n",
       "0  15-2011.00                             actuaries   \n",
       "1  29-1291.00                        acupuncturists   \n",
       "2  29-1141.02  advanced practice psychiatric nurses   \n",
       "\n",
       "                                               type  \n",
       "0  Research, Development, Design, and Practitioners  \n",
       "1  Research, Development, Design, and Practitioners  \n",
       "2  Research, Development, Design, and Practitioners  "
      ]
     },
     "execution_count": 75,
     "metadata": {},
     "output_type": "execute_result"
    }
   ],
   "source": [
    "stem_occupations = pd.read_csv(\"./occupation_codes/All_STEM_Occupations.csv\").rename({\"Occupation Types\":\"type\"},axis=1)\n",
    "#standardize to lowercase and remove grammar\n",
    "stem_occupations['Occupation'] = stem_occupations['Occupation'].map(dc.stdize)\n",
    "stem_occupations.head(3)"
   ]
  },
  {
   "cell_type": "markdown",
   "id": "bbe594e9",
   "metadata": {},
   "source": [
    "Based on stakeholder input, we also conclude that while nurses are listed as a STEM role, we do not consider them for our analysis. We also exclude other peculiarities such as sociologists and accupuncturists. A full list of excluded and exempt careers is available in `degree_codes.py`."
   ]
  },
  {
   "cell_type": "code",
   "execution_count": 76,
   "id": "a34e41d2",
   "metadata": {
    "scrolled": true
   },
   "outputs": [
    {
     "data": {
      "text/html": [
       "<div>\n",
       "<style scoped>\n",
       "    .dataframe tbody tr th:only-of-type {\n",
       "        vertical-align: middle;\n",
       "    }\n",
       "\n",
       "    .dataframe tbody tr th {\n",
       "        vertical-align: top;\n",
       "    }\n",
       "\n",
       "    .dataframe thead th {\n",
       "        text-align: right;\n",
       "    }\n",
       "</style>\n",
       "<table border=\"1\" class=\"dataframe\">\n",
       "  <thead>\n",
       "    <tr style=\"text-align: right;\">\n",
       "      <th></th>\n",
       "      <th>Code</th>\n",
       "      <th>Occupation</th>\n",
       "      <th>type</th>\n",
       "    </tr>\n",
       "  </thead>\n",
       "  <tbody>\n",
       "    <tr>\n",
       "      <th>0</th>\n",
       "      <td>15-2011.00</td>\n",
       "      <td>actuaries</td>\n",
       "      <td>Research, Development, Design, and Practitioners</td>\n",
       "    </tr>\n",
       "    <tr>\n",
       "      <th>3</th>\n",
       "      <td>17-3021.00</td>\n",
       "      <td>aerospace engineering and operations technologists and technicians</td>\n",
       "      <td>Technologists and Technicians</td>\n",
       "    </tr>\n",
       "    <tr>\n",
       "      <th>4</th>\n",
       "      <td>17-2011.00</td>\n",
       "      <td>aerospace engineers</td>\n",
       "      <td>Research, Development, Design, and Practitioners</td>\n",
       "    </tr>\n",
       "  </tbody>\n",
       "</table>\n",
       "</div>"
      ],
      "text/plain": [
       "         Code  \\\n",
       "0  15-2011.00   \n",
       "3  17-3021.00   \n",
       "4  17-2011.00   \n",
       "\n",
       "                                                           Occupation  \\\n",
       "0                                                           actuaries   \n",
       "3  aerospace engineering and operations technologists and technicians   \n",
       "4                                                 aerospace engineers   \n",
       "\n",
       "                                               type  \n",
       "0  Research, Development, Design, and Practitioners  \n",
       "3                     Technologists and Technicians  \n",
       "4  Research, Development, Design, and Practitioners  "
      ]
     },
     "execution_count": 76,
     "metadata": {},
     "output_type": "execute_result"
    }
   ],
   "source": [
    "#iterate over careers that are non-STEM and remove them from our list of STEM occupations\n",
    "for term in dc.career_blacklist:\n",
    "    stem_occupations = stem_occupations[stem_occupations[\"Occupation\"].str.contains(term)==False]\n",
    "stem_occupations.head(3)"
   ]
  },
  {
   "cell_type": "markdown",
   "id": "c35e77ad",
   "metadata": {},
   "source": [
    "Finally, we create a dictionary of occpuations and their stem type, and iterate over our dataframe with a mapping function. if the occupation is not in the list of stem occupations, we return -1.\n",
    "Although the O-net is relatively comprehensive, we also created a list of whitelisted careers that we assert should be considered STEM due to their use of math or engineering disciplines."
   ]
  },
  {
   "cell_type": "code",
   "execution_count": 77,
   "id": "8c105180",
   "metadata": {},
   "outputs": [],
   "source": [
    "#dictionarize\n",
    "stem_occupations = dict(zip(stem_occupations.Occupation, stem_occupations.type))\n",
    "\n",
    "#create a function that identifies a job's STEM role type\n",
    "def stem_type(job):\n",
    "    if job in stem_occupations:\n",
    "        return stem_occupations[job]\n",
    "    if job in dc.career_whitelist:\n",
    "        return 'Other'\n",
    "    return '-1'\n",
    "\n",
    "df['stem_type'] = df['job_role'].map(stem_type)"
   ]
  },
  {
   "cell_type": "markdown",
   "id": "86c101a0",
   "metadata": {},
   "source": [
    "#### First, we review the STEM roles:"
   ]
  },
  {
   "cell_type": "code",
   "execution_count": 78,
   "id": "fa22c318",
   "metadata": {},
   "outputs": [
    {
     "data": {
      "text/html": [
       "<div>\n",
       "<style scoped>\n",
       "    .dataframe tbody tr th:only-of-type {\n",
       "        vertical-align: middle;\n",
       "    }\n",
       "\n",
       "    .dataframe tbody tr th {\n",
       "        vertical-align: top;\n",
       "    }\n",
       "\n",
       "    .dataframe thead th {\n",
       "        text-align: right;\n",
       "    }\n",
       "</style>\n",
       "<table border=\"1\" class=\"dataframe\">\n",
       "  <thead>\n",
       "    <tr style=\"text-align: right;\">\n",
       "      <th></th>\n",
       "      <th>stem_type</th>\n",
       "      <th>job_role</th>\n",
       "    </tr>\n",
       "  </thead>\n",
       "  <tbody>\n",
       "    <tr>\n",
       "      <th>19</th>\n",
       "      <td>Research, Development, Design, and Practitioners</td>\n",
       "      <td>civil engineers</td>\n",
       "    </tr>\n",
       "    <tr>\n",
       "      <th>22</th>\n",
       "      <td>Research, Development, Design, and Practitioners</td>\n",
       "      <td>aerospace engineers</td>\n",
       "    </tr>\n",
       "    <tr>\n",
       "      <th>23</th>\n",
       "      <td>Research, Development, Design, and Practitioners; Technologists and Technicians</td>\n",
       "      <td>computer occupations all other</td>\n",
       "    </tr>\n",
       "  </tbody>\n",
       "</table>\n",
       "</div>"
      ],
      "text/plain": [
       "                                                                          stem_type  \\\n",
       "19                                 Research, Development, Design, and Practitioners   \n",
       "22                                 Research, Development, Design, and Practitioners   \n",
       "23  Research, Development, Design, and Practitioners; Technologists and Technicians   \n",
       "\n",
       "                          job_role  \n",
       "19                 civil engineers  \n",
       "22             aerospace engineers  \n",
       "23  computer occupations all other  "
      ]
     },
     "execution_count": 78,
     "metadata": {},
     "output_type": "execute_result"
    }
   ],
   "source": [
    "df[df['stem_type']!='-1'][['stem_type','job_role']].head(3)"
   ]
  },
  {
   "cell_type": "markdown",
   "id": "84e18e68",
   "metadata": {},
   "source": [
    "#### Then, the non-STEM roles:"
   ]
  },
  {
   "cell_type": "code",
   "execution_count": 79,
   "id": "7fb51968",
   "metadata": {
    "scrolled": true
   },
   "outputs": [
    {
     "data": {
      "text/html": [
       "<div>\n",
       "<style scoped>\n",
       "    .dataframe tbody tr th:only-of-type {\n",
       "        vertical-align: middle;\n",
       "    }\n",
       "\n",
       "    .dataframe tbody tr th {\n",
       "        vertical-align: top;\n",
       "    }\n",
       "\n",
       "    .dataframe thead th {\n",
       "        text-align: right;\n",
       "    }\n",
       "</style>\n",
       "<table border=\"1\" class=\"dataframe\">\n",
       "  <thead>\n",
       "    <tr style=\"text-align: right;\">\n",
       "      <th></th>\n",
       "      <th>stem_type</th>\n",
       "      <th>job_role</th>\n",
       "    </tr>\n",
       "  </thead>\n",
       "  <tbody>\n",
       "    <tr>\n",
       "      <th>0</th>\n",
       "      <td>-1</td>\n",
       "      <td>couriers and messengers</td>\n",
       "    </tr>\n",
       "    <tr>\n",
       "      <th>1</th>\n",
       "      <td>-1</td>\n",
       "      <td>miscellaneous production workers including equipment operators and tenders</td>\n",
       "    </tr>\n",
       "    <tr>\n",
       "      <th>2</th>\n",
       "      <td>-1</td>\n",
       "      <td>elementary and middle school teachers</td>\n",
       "    </tr>\n",
       "  </tbody>\n",
       "</table>\n",
       "</div>"
      ],
      "text/plain": [
       "  stem_type  \\\n",
       "0        -1   \n",
       "1        -1   \n",
       "2        -1   \n",
       "\n",
       "                                                                     job_role  \n",
       "0                                                     couriers and messengers  \n",
       "1  miscellaneous production workers including equipment operators and tenders  \n",
       "2                                       elementary and middle school teachers  "
      ]
     },
     "execution_count": 79,
     "metadata": {},
     "output_type": "execute_result"
    }
   ],
   "source": [
    "df[df['stem_type']=='-1'][['stem_type','job_role']].head(3)"
   ]
  },
  {
   "cell_type": "markdown",
   "id": "86a586dc",
   "metadata": {},
   "source": [
    "for further analysis, we can also create a binary `stemBinary` variable, where 1 indicates a career is STEM related."
   ]
  },
  {
   "cell_type": "code",
   "execution_count": 80,
   "id": "76c2239b",
   "metadata": {},
   "outputs": [],
   "source": [
    "#if stem_type = -1, then stem_binary = 0. else, 1.\n",
    "df['stem_binary'] = df['stem_type'].apply(lambda x: int(x!='-1'))"
   ]
  },
  {
   "cell_type": "markdown",
   "id": "1231160b",
   "metadata": {},
   "source": [
    "<a id=\"EDA\"></a>\n",
    "## 2. Data EDA, Cleanup and Transformation for Nontarget Features\n",
    "[Home](#home)<br><br>"
   ]
  },
  {
   "cell_type": "markdown",
   "id": "5d941fe5",
   "metadata": {},
   "source": [
    "#### 2a. State Extraction from FIP Numbers\n",
    "We can use the degree_codes package we imported earlier to get a list of all state FIPs."
   ]
  },
  {
   "cell_type": "code",
   "execution_count": 81,
   "id": "9eefbd9f",
   "metadata": {
    "scrolled": true
   },
   "outputs": [
    {
     "data": {
      "text/plain": [
       "0       Wisconsin\n",
       "1        New York\n",
       "2    Pennsylvania\n",
       "3       Wisconsin\n",
       "4            Ohio\n",
       "Name: State, dtype: object"
      ]
     },
     "execution_count": 81,
     "metadata": {},
     "output_type": "execute_result"
    }
   ],
   "source": [
    "#map to a new variable called \"State\"\n",
    "df['State'] = df['STATEFIP'].apply(lambda x: dc.fips[x])\n",
    "df = df.drop(columns='STATEFIP')\n",
    "df['State'].head()"
   ]
  },
  {
   "cell_type": "markdown",
   "id": "a007e85b",
   "metadata": {},
   "source": [
    "**Are there meaningful differences in STEM career attainment by state?**<br>\n",
    "We can explore this by seeing if any states have a significant difference in STEM career attainment."
   ]
  },
  {
   "cell_type": "code",
   "execution_count": 82,
   "id": "b3f4569a",
   "metadata": {
    "scrolled": false
   },
   "outputs": [
    {
     "data": {
      "text/plain": [
       "Text(0, 0.5, '% of Employees in STEM')"
      ]
     },
     "execution_count": 82,
     "metadata": {},
     "output_type": "execute_result"
    },
    {
     "data": {
      "image/png": "[encoded data removed]",
      "text/plain": [
       "<Figure size 1080x360 with 1 Axes>"
      ]
     },
     "metadata": {
      "needs_background": "light"
     },
     "output_type": "display_data"
    }
   ],
   "source": [
    "plt.figure(figsize=(15, 5))\n",
    "pd.crosstab(\n",
    "    df['State'],\n",
    "    df['stem_binary']\n",
    "    ,normalize='index'\n",
    ").sort_values(by=1,ascending=False)[1].plot(\n",
    "    kind='bar'\n",
    "    ,title='STEM Employment by State, % of Total Workforce'\n",
    "    ,align='edge', width=0.2\n",
    ")\n",
    "\n",
    "plt.ylabel('% of Employees in STEM')"
   ]
  },
  {
   "cell_type": "markdown",
   "id": "d151c502",
   "metadata": {},
   "source": [
    "It seems like there's a significant difference between the District of Columbia, where 8% of the population has a STEM career, while Mississipi has close to zero."
   ]
  },
  {
   "cell_type": "markdown",
   "id": "2282cf13",
   "metadata": {},
   "source": [
    "<a id='Sex'></a>\n",
    "#### 2b. Change Sex to 0/1\n",
    "[Home](#home)<br><br>\n",
    "In order for modeling to work moving forward, all binary values must be grounded to a zero/one format."
   ]
  },
  {
   "cell_type": "code",
   "execution_count": 83,
   "id": "6a4918a1",
   "metadata": {
    "scrolled": true
   },
   "outputs": [
    {
     "data": {
      "text/plain": [
       "array([0, 1], dtype=int64)"
      ]
     },
     "execution_count": 83,
     "metadata": {},
     "output_type": "execute_result"
    }
   ],
   "source": [
    "#from 1,2 to 0,1 (male,female)\n",
    "df['SEX'] = df['SEX'] - 1\n",
    "df['SEX'].unique()"
   ]
  },
  {
   "cell_type": "markdown",
   "id": "f449a9cc",
   "metadata": {},
   "source": [
    "**Are there meaningful differences in STEM career attainment by Sex?**<br>"
   ]
  },
  {
   "cell_type": "code",
   "execution_count": 84,
   "id": "8eec49c4",
   "metadata": {
    "scrolled": true
   },
   "outputs": [
    {
     "data": {
      "text/plain": [
       "Text(0, 0.5, '% of Employees in STEM')"
      ]
     },
     "execution_count": 84,
     "metadata": {},
     "output_type": "execute_result"
    },
    {
     "data": {
      "image/png": "[encoded data removed]",
      "text/plain": [
       "<Figure size 432x288 with 1 Axes>"
      ]
     },
     "metadata": {
      "needs_background": "light"
     },
     "output_type": "display_data"
    }
   ],
   "source": [
    "pd.crosstab(\n",
    "    df['SEX'],\n",
    "    df['stem_binary'],\n",
    "    normalize='index'\n",
    ").sort_values(by=1,ascending=False)[1].plot(\n",
    "    kind='bar'\n",
    "    ,title='Percentage Employment in STEM by Sex'\n",
    ")\n",
    "\n",
    "plt.legend(['Sex'])\n",
    "plt.ylabel('% of Employees in STEM')"
   ]
  },
  {
   "cell_type": "markdown",
   "id": "d1813f0f",
   "metadata": {},
   "source": [
    "At a cursory glance, Men (sex=0) tend to be employed in STEM roles twice as often as women."
   ]
  },
  {
   "cell_type": "markdown",
   "id": "09203e0c",
   "metadata": {},
   "source": [
    "<a id='Race'></a>\n",
    "#### 2c. Defining under-represented racial groups\n",
    "[Home](#home)<br><br>\n",
    "Based on HigherME's subject matter experise, we consider under-represented groups to be non-white and non-asian. We will include hispanic individuals of any category in this group."
   ]
  },
  {
   "cell_type": "code",
   "execution_count": 85,
   "id": "6b8a62a9",
   "metadata": {
    "scrolled": true
   },
   "outputs": [
    {
     "data": {
      "text/plain": [
       "White                               149702\n",
       "Black/African American               18795\n",
       "Other Asian or Pacific Islander       7644\n",
       "Other race, nec                       7137\n",
       "Two major races                       5731\n",
       "Chinese                               2824\n",
       "American Indian or Alaska Native      1999\n",
       "Three or more major races              598\n",
       "Japanese                               569\n",
       "Name: RACE, dtype: int64"
      ]
     },
     "execution_count": 85,
     "metadata": {},
     "output_type": "execute_result"
    }
   ],
   "source": [
    "#for visualization, create a dictionary obj where each RACE code corresponds to its \n",
    "#string reperesentation. viewable in data_description directory.\n",
    "race_map ={\n",
    "    1: \"White\"\n",
    "    ,2: \"Black/African American\"\n",
    "    ,3: \"American Indian or Alaska Native\"\n",
    "    ,4: \"Chinese\"\n",
    "    ,5: \"Japanese\"\n",
    "    ,6: \"Other Asian or Pacific Islander\"\n",
    "    ,7: \"Other race, nec\"\n",
    "    ,8: \"Two major races\"\n",
    "    ,9: \"Three or more major races\"\n",
    "}\n",
    "df['RACE'].apply(lambda x: race_map[x]).value_counts()"
   ]
  },
  {
   "cell_type": "markdown",
   "id": "95fa4e80",
   "metadata": {},
   "source": [
    "Based on the definition, however, we are primarily interested in exploring career differences between non-white/asian individuals and their counterparts based on documentation that can be accessed <a href=\"https://github.com/kayfilipp/HigherME/blob/main/README.md\">here</a>. To this end, we can re-map the race for each row to exclude indices 1, 4, and 5. We do not exclude pacific islanders as of now, but are open to doing so if requirements change. We also include any hispanic individuals in our definition of under represented."
   ]
  },
  {
   "cell_type": "code",
   "execution_count": null,
   "id": "f8f5af68",
   "metadata": {},
   "outputs": [],
   "source": [
    "non_target = [1,4,5,6] #not white, asian\n",
    "\n",
    "def under_rep_id(race,hispan):\n",
    "    #if target is not 'Non-Hispanic'...\n",
    "    if hispan != 0:\n",
    "        return 1\n",
    "    #and target isn't nonwhite/ nonasian...\n",
    "    if race not in non_target:\n",
    "        return 1\n",
    "    #then they're not under-represented.\n",
    "    return 0\n",
    "\n",
    "#map racial status\n",
    "df['under_represented'] = df.apply(lambda x: under_rep_id(x.RACE,x.HISPAN),axis=1)\n",
    "df[['RACE','under_represented']].sample(10)"
   ]
  },
  {
   "cell_type": "code",
   "execution_count": null,
   "id": "abd1749d",
   "metadata": {
    "scrolled": true
   },
   "outputs": [],
   "source": [
    "df['under_represented'].value_counts(normalize=True).plot(\n",
    "    kind='bar', \n",
    "    title='Presence of Under-Represented Racial Groups'\n",
    ")\n",
    "plt.xlabel('Is Under-Represented')\n",
    "plt.ylabel('% of Dataset')\n",
    "plt.show()"
   ]
  },
  {
   "cell_type": "markdown",
   "id": "a8385e32",
   "metadata": {},
   "source": [
    "#### Since we're not doing low level analysis that explores the differences between Black and Hispanic applicants, we can drop the nuance on hispanic data for now."
   ]
  },
  {
   "cell_type": "code",
   "execution_count": null,
   "id": "76aefb6c",
   "metadata": {},
   "outputs": [],
   "source": [
    "df = df.drop(['HISPAN','HISPAND'],axis=1)"
   ]
  },
  {
   "cell_type": "markdown",
   "id": "da006692",
   "metadata": {},
   "source": [
    "<a id='bpl'></a>\n",
    "#### 2d. Breakdown by Birthplace, EDA\n",
    "[Home](#home)<br><br>"
   ]
  },
  {
   "cell_type": "markdown",
   "id": "70a4afc3",
   "metadata": {},
   "source": [
    "##### Furthermore, we can divide the birthplace feature (BPL) into a more low-resolution field - foreign born and domestic born individuals (ie those who are born in the continental US):"
   ]
  },
  {
   "cell_type": "code",
   "execution_count": null,
   "id": "6c7591bf",
   "metadata": {},
   "outputs": [],
   "source": [
    "def is_domestic(bpl):\n",
    "    #if birthplace code is for the US... (<100 = US states/territories)\n",
    "    if bpl < 100:\n",
    "        return 1\n",
    "    return 0\n",
    "\n",
    "df['domestic_born'] = df['BPL'].map(is_domestic)\n",
    "df[['BPL','domestic_born']].head()"
   ]
  },
  {
   "cell_type": "markdown",
   "id": "39efb3ec",
   "metadata": {},
   "source": [
    "Putting all this together, we can conclude that individuals that are born abroad and move to the US tend to be under-represented, while, as intiuition dictates, individuals born in the US tend to not be underrepresented. "
   ]
  },
  {
   "cell_type": "code",
   "execution_count": null,
   "id": "35d017da",
   "metadata": {
    "scrolled": true
   },
   "outputs": [],
   "source": [
    "pd.crosstab(\n",
    "    df['domestic_born'],\n",
    "    df['under_represented'],\n",
    "    normalize='index'\n",
    ").plot.bar(\n",
    "    title='Distribution of Underrepresented persons by birthplace'\n",
    ")\n",
    "plt.legend(['Represented','Under-represented'])"
   ]
  },
  {
   "cell_type": "markdown",
   "id": "25632981",
   "metadata": {},
   "source": [
    "**Is there a meaningful difference in STEM Employment between domestic and foreign-born persons?**"
   ]
  },
  {
   "cell_type": "code",
   "execution_count": null,
   "id": "f2d2bec2",
   "metadata": {
    "scrolled": true
   },
   "outputs": [],
   "source": [
    "pd.crosstab(\n",
    "    df['domestic_born'],\n",
    "    df['stem_binary'],\n",
    "    normalize='index'\n",
    ").sort_values(by=1,ascending=False)[1].plot(\n",
    "    kind='bar'\n",
    "    ,title='Employment in STEM by Birthplace, % of Workforce (1=Born in the US)'\n",
    ")\n",
    "plt.ylabel('% of Employees in STEM')"
   ]
  },
  {
   "cell_type": "markdown",
   "id": "9238e19f",
   "metadata": {},
   "source": [
    "Individuals born in the United States are somewhat less often employed in STEM. However, to determine if this difference is meaningful for analysis, we should conduct a hypothesis test."
   ]
  },
  {
   "cell_type": "code",
   "execution_count": null,
   "id": "84ac2d0e",
   "metadata": {},
   "outputs": [],
   "source": [
    "fb = df[df['domestic_born']==1]\n",
    "db = df[df['domestic_born']==0]\n",
    "\n",
    "#Hypothesis testing: N1,N2\n",
    "fb_n = len(fb)\n",
    "db_n = len(db)\n",
    "#hypothesis testing: X1,X2 \n",
    "fb_x = len(fb[fb['stem_binary']==1])\n",
    "db_x = len(db[db['stem_binary']==1])"
   ]
  },
  {
   "cell_type": "code",
   "execution_count": null,
   "id": "47c4eaee",
   "metadata": {},
   "outputs": [],
   "source": [
    "significance = 0.025\n",
    "# check our sample against Ho for Ha != Ho\n",
    "successes = np.array([fb_x, db_x])\n",
    "samples = np.array([fb_n, db_n])\n",
    "# note, no need for a Ho value here - it's derived from the other parameters\n",
    "stat, p_value = proportions_ztest(count=successes, nobs=samples,  alternative='two-sided')\n",
    "# report\n",
    "print('z_stat: %0.3f, p_value: %0.3f' % (stat, p_value))\n",
    "if p_value > significance:\n",
    "    print(\"Fail to reject the null hypothesis - we have nothing else to say\")\n",
    "else:\n",
    "    print(\"Reject the null hypothesis - suggest the alternative hypothesis is true\")"
   ]
  },
  {
   "cell_type": "markdown",
   "id": "cca5eac2",
   "metadata": {},
   "source": [
    "In conclusion, we can assert that birthplace is a relevant factor in determining STEM occupation."
   ]
  },
  {
   "cell_type": "markdown",
   "id": "013e6325",
   "metadata": {},
   "source": [
    "<a id='EDU'></a>\n",
    "#### 2e. Educational Attainment, EDA\n",
    "[Home](#home)<br><br>"
   ]
  },
  {
   "cell_type": "markdown",
   "id": "c200590c",
   "metadata": {},
   "source": [
    "**Context:** The ``EDUC`` field contains values from 0-11 representing levels of educational attainment in increasing order - that is, a 0 is lower than a 1, etc. The `EDUCD` field extrapolates on the low-level details in a similar fashion. Our primary motivation is to simplify these values broadly into the following categories:\n",
    "\n",
    "<ul>\n",
    "    <li>None/Below Secondary (High School)</li>\n",
    "    <li>Secondary (High School)</li>\n",
    "    <li>Associate's</li>\n",
    "    <li>Bachelor's</li>\n",
    "    <li>Master's</li>\n",
    "    <li>PhD/Other</li>\n",
    "</ul>"
   ]
  },
  {
   "cell_type": "code",
   "execution_count": null,
   "id": "56ea3457",
   "metadata": {},
   "outputs": [],
   "source": [
    "def highest_edu(educd):\n",
    "    if educd in [81,82,83]:\n",
    "        return 'Associate'\n",
    "    if educd == 101:\n",
    "        return 'Bachelor'\n",
    "    if educd in [114,115]:\n",
    "        return 'Master'\n",
    "    if educd in [116]:\n",
    "        return 'PhD'\n",
    "    if educd < 62 or educd==999:\n",
    "        return 'None/Below HS'\n",
    "    if educd < 114:\n",
    "        return 'High School'\n",
    "    \n",
    "df['EDU_verbose'] = df['EDUCD'].map(highest_edu)\n",
    "df[['EDU_verbose','EDUCD']].tail()"
   ]
  },
  {
   "cell_type": "code",
   "execution_count": null,
   "id": "03d4ca80",
   "metadata": {},
   "outputs": [],
   "source": [
    "pd.crosstab(\n",
    "    df['under_represented'],\n",
    "    df['EDU_verbose'],\n",
    "    normalize='index'\n",
    ").plot.bar(\n",
    "    title='Distribution of Underrepresented persons by degree attainment'\n",
    ")\n",
    "plt.ylabel('% of all education')"
   ]
  },
  {
   "cell_type": "markdown",
   "id": "59d59f8e",
   "metadata": {},
   "source": [
    "major takeaways here include the fact that under-represented persons tend to drop out of high school at a far greater rate while earning fewer high school diplomas, master's degrees, associate's degrees, and bachelor's degrees."
   ]
  },
  {
   "cell_type": "markdown",
   "id": "cd029423",
   "metadata": {},
   "source": [
    "<a id='empEDU'></a>\n",
    "### 3. Employment & Education, EDA"
   ]
  },
  {
   "cell_type": "markdown",
   "id": "6d33b936",
   "metadata": {},
   "source": [
    "[Home](#home)<br><br>\n",
    "we first observe the difference in employment status across represented and underepresented groups and find that most of the populartion is employed in both groups, but under-represented communities tend to be more unemployed."
   ]
  },
  {
   "cell_type": "code",
   "execution_count": null,
   "id": "1e0a68be",
   "metadata": {},
   "outputs": [],
   "source": [
    "pd.crosstab(\n",
    "    df['under_represented'],\n",
    "    df['EMPSTAT'],\n",
    "    normalize='index'\n",
    ").plot.bar(\n",
    "    title='Distribution of Underrepresented persons by employment status (1=under-represented)'\n",
    ")\n",
    "plt.legend(['Employed','Unemployed','not in labor force'])"
   ]
  },
  {
   "cell_type": "markdown",
   "id": "01b64ac7",
   "metadata": {},
   "source": [
    "<a id='STEMEDU'></a>\n",
    "#### 3b. Analyzing STEM Education in Particular\n",
    "[Home](#home)<br><br>\n",
    "In order to identify if a degree belong to a stem field, we have two tiers of analysis - one at the `DEGFIELD` level, which shows us a high-level description of the degree in question. If we do not confirm at this level that a field of study is STEM, we move into the `DEGFIELDD` field, which offers more specific information on the degree.\n",
    "\n",
    "**for this section, we have developed a separate library containing logic that separates both DEGFIELD and DEGFIELDD codes into stem designation.**"
   ]
  },
  {
   "cell_type": "code",
   "execution_count": null,
   "id": "2f65dbcd",
   "metadata": {},
   "outputs": [],
   "source": [
    "#check deree_codes.py for more detail.\n",
    "#looks at both the general degree area and specific major against a whitelist to see if a degree is \n",
    "#STEM related.\n",
    "df['is_STEM_degree'] = df.apply(lambda x: dc.is_stem_degree(x.DEGFIELD,x.DEGFIELDD),axis=1)"
   ]
  },
  {
   "cell_type": "code",
   "execution_count": null,
   "id": "91af7bd0",
   "metadata": {
    "scrolled": true
   },
   "outputs": [],
   "source": [
    "df[['DEGFIELD','DEGFIELDD','is_STEM_degree']].head()"
   ]
  },
  {
   "cell_type": "markdown",
   "id": "18cd3240",
   "metadata": {},
   "source": [
    "**Is there a meaningful difference in STEM Employment between STEM and non-STEM degrees?**"
   ]
  },
  {
   "cell_type": "code",
   "execution_count": null,
   "id": "67883c5e",
   "metadata": {
    "scrolled": false
   },
   "outputs": [],
   "source": [
    "pd.crosstab(\n",
    "    df['is_STEM_degree'],\n",
    "    df['stem_binary'],\n",
    "    normalize='index'\n",
    ").sort_values(by=1,ascending=False)[1].plot(\n",
    "    kind='bar'\n",
    "    ,title='Percentage Employment in STEM by Degree (1=STEM Degree)'\n",
    ")\n",
    "plt.ylabel('% of Employees in STEM')"
   ]
  },
  {
   "cell_type": "markdown",
   "id": "7ac0b663",
   "metadata": {},
   "source": [
    "This was a relatively foregone conclusion, but still a necessary sanity check to proceed with modeling."
   ]
  },
  {
   "cell_type": "markdown",
   "id": "47ac707e",
   "metadata": {},
   "source": [
    "<a id='STEMRACE'></a>\n",
    "#### 3c. STEM Degree Attainment by Racial Demographic\n",
    "[Home](#home)<br><br>\n",
    "A cursory analysis suggests that underrepresented individuals in STEM majors tend to have a significantly lower presence than in non-STEM fields."
   ]
  },
  {
   "cell_type": "code",
   "execution_count": null,
   "id": "2f48d6b7",
   "metadata": {
    "scrolled": true
   },
   "outputs": [],
   "source": [
    "pd.crosstab(\n",
    "    df['is_STEM_degree'],\n",
    "    df['under_represented'],\n",
    "    normalize='index'\n",
    ").plot.bar(\n",
    "    title='Distribution of Underrepresented persons by STEM attainment'\n",
    ")"
   ]
  },
  {
   "cell_type": "code",
   "execution_count": null,
   "id": "a4e1d260",
   "metadata": {},
   "outputs": [],
   "source": [
    "pd.crosstab(\n",
    "    df['is_STEM_degree'],\n",
    "    df['under_represented'],\n",
    "    normalize='index'\n",
    ")"
   ]
  },
  {
   "cell_type": "markdown",
   "id": "c9a5e251",
   "metadata": {},
   "source": [
    "On average, only ~14% of under-represented groups get a STEM degree compared to 27% of their counterparts, almost half as many."
   ]
  },
  {
   "cell_type": "markdown",
   "id": "66793de6",
   "metadata": {},
   "source": [
    "<a id='STEMREP'></a>\n",
    "#### 3d. Which STEM majors have the smallest under-represented group?\n",
    "[Home](#home)<br><br>"
   ]
  },
  {
   "cell_type": "markdown",
   "id": "3de942b2",
   "metadata": {},
   "source": [
    "Preliminary findings suggest that under-represented groups are least present in military technologies, Environmental Sciences, Math, and Physical Sciences."
   ]
  },
  {
   "cell_type": "code",
   "execution_count": null,
   "id": "ca34991d",
   "metadata": {},
   "outputs": [],
   "source": [
    "#string representations of degree codes \n",
    "df['Degree'] = df['DEGFIELD'].apply(lambda x: dc.degree_codes[x])\n",
    "df['Degree_D']=df['DEGFIELDD'].apply(lambda x: dc.detail_codes[x])\n",
    "\n",
    "temp = df.query(\"is_STEM_degree==1\")\n",
    "\n",
    "pd.crosstab(\n",
    "    temp['Degree'],\n",
    "    temp['under_represented'],\n",
    "    normalize='index'\n",
    ").sort_values(1).plot.barh(\n",
    "    title='Concentration of Underrepresented persons by STEM Degree Area'\n",
    ")\n",
    "plt.xlabel('Perentage (%)')\n",
    "plt.legend(['Represented','Under-Represented'])\n",
    "\n",
    "pd.crosstab(\n",
    "    temp['Degree_D'],\n",
    "    temp['under_represented'],\n",
    "    normalize='index'\n",
    ").sort_values(0)[:20].plot.bar(\n",
    "    title='Concentration of Underrepresented persons by STEM Degree, Top 20'\n",
    ")\n",
    "plt.ylabel('Perentage (%)')\n",
    "plt.legend(['Represented','Under-Represented'])\n",
    "del temp"
   ]
  },
  {
   "cell_type": "markdown",
   "id": "81aab122",
   "metadata": {},
   "source": [
    "However, we also note considerably racial parity in Computer Engineering, Electrical Engineering Technology and Computer Engineering - beyond these, in sorter order, racial parity begins to decrease quickly."
   ]
  },
  {
   "cell_type": "markdown",
   "id": "d615f605",
   "metadata": {},
   "source": [
    "**Is there a meaningful difference in STEM Employment across STEM Degree Areas?**"
   ]
  },
  {
   "cell_type": "code",
   "execution_count": null,
   "id": "5d1088d6",
   "metadata": {
    "scrolled": false
   },
   "outputs": [],
   "source": [
    "temp = df.query(\"is_STEM_degree==1\")\n",
    "pd.crosstab(\n",
    "    temp['Degree'],\n",
    "    temp['stem_binary'],\n",
    "    normalize='index'\n",
    ").sort_values(by=1,ascending=False)[0:5].plot.bar(\n",
    "    title='Percentage of Graduates employed in STEM by Degree Area, Top 5 by Employment'\n",
    ")\n",
    "\n",
    "plt.legend(['non-stem employment','stem employment'])\n",
    "pd.crosstab(\n",
    "    temp['Degree'],\n",
    "    temp['stem_binary'],\n",
    "    normalize='index'\n",
    ").sort_values(by=1,ascending=False)[-5:].plot.bar(\n",
    "    title='Percentage of Graduates employed in STEM by Degree Area, Bottom 5 by Employment'\n",
    ")\n",
    "plt.legend(['non-stem employment','stem employment'])\n",
    "del temp"
   ]
  },
  {
   "cell_type": "markdown",
   "id": "2f79b375",
   "metadata": {},
   "source": [
    "Given that there seems to be considerable gaps in employment by STEM degree area, we may consider making `STEM_Degree_Area` a field for modeling where the value only exists if the individual has a STEM degree:"
   ]
  },
  {
   "cell_type": "code",
   "execution_count": null,
   "id": "199a4681",
   "metadata": {},
   "outputs": [],
   "source": [
    "#essentially just DEGREE but for a provided 'NONE' option if a person did not get a STEM degree.\n",
    "#will be used in modeling.\n",
    "def stem_deg_area(is_stem_deg,deg):\n",
    "    if is_stem_deg == 1:\n",
    "        return deg \n",
    "    else:\n",
    "        return 'None'\n",
    "\n",
    "df['STEM_degree_area'] = df.apply(lambda x: stem_deg_area(x.is_STEM_degree,x.Degree),axis=1)"
   ]
  },
  {
   "cell_type": "code",
   "execution_count": null,
   "id": "1a202263",
   "metadata": {},
   "outputs": [],
   "source": [
    "pd.DataFrame(df['STEM_degree_area'].unique())"
   ]
  },
  {
   "cell_type": "markdown",
   "id": "27460340",
   "metadata": {},
   "source": [
    "<a id='RACECAREER'></a>\n",
    "### 4. Analyzing Career Attainment by Race, EDA\n",
    "[Home](#home)<br><br>"
   ]
  },
  {
   "cell_type": "markdown",
   "id": "8c87e212",
   "metadata": {},
   "source": [
    "#### What Roles do STEM majors tend to go into? \n",
    "We omit any indivudals with an `EmpStatus` that isn't 1 to get a clearer insight on employed STEM individuals. This visual displays both stem and non-stem careers."
   ]
  },
  {
   "cell_type": "code",
   "execution_count": null,
   "id": "e41be95b",
   "metadata": {
    "scrolled": false
   },
   "outputs": [],
   "source": [
    "temp = df.query(\"is_STEM_degree==1 & EMPSTAT==1\")\n",
    "(temp['job_role'].value_counts(normalize=True).sort_values(\n",
    "    ascending=False\n",
    ")[0:20]).plot(kind='bar',title='Top 20 Occupations for STEM majors')"
   ]
  },
  {
   "cell_type": "markdown",
   "id": "01d33762",
   "metadata": {},
   "source": [
    "The majority of individuals with STEM Degrees tend to go into nursing, medicine, software development, and engineering."
   ]
  },
  {
   "cell_type": "markdown",
   "id": "42f8c637",
   "metadata": {},
   "source": [
    "<a id='RACEROLES'></a>\n",
    "#### 4b. What roles do under-represented STEM majors go into compared to their counterparts?\n",
    "[Home](#home)<br><br>"
   ]
  },
  {
   "cell_type": "code",
   "execution_count": null,
   "id": "ced66731",
   "metadata": {},
   "outputs": [],
   "source": [
    "#get top 20 occupations for racial minority groups that got a STEM degree\n",
    "df.query(\"is_STEM_degree==1 & EMPSTAT==1 & under_represented==1\")['job_role']\\\n",
    " .value_counts(normalize=True).sort_values(\n",
    "    ascending=False\n",
    ")[0:20]\\\n",
    ".plot(kind='barh',title='Top 20 Occupations for under-represented STEM majors')\n",
    "plt.show()\n",
    "\n",
    "#get top 20 occupations for STEM graduates not from a minority racial group \n",
    "df.query(\"is_STEM_degree==1 & EMPSTAT==1 & under_represented==0\")['job_role']\\\n",
    " .value_counts(normalize=True).sort_values(\n",
    "    ascending=False\n",
    ")[0:20]\\\n",
    ".plot(kind='barh',title='Top 20 Occupations for represented STEM majors')\n",
    "plt.show()"
   ]
  },
  {
   "cell_type": "markdown",
   "id": "0cd39d62",
   "metadata": {},
   "source": [
    "We can see that many STEM majors tend to go into nursing, leadership roles, but primarily into analyst and engineering roles, which lines up with expectations. Next, we can explore this breakdown by racial representation:"
   ]
  },
  {
   "cell_type": "code",
   "execution_count": null,
   "id": "f2541e1b",
   "metadata": {},
   "outputs": [],
   "source": [
    "job_by_rep = pd.crosstab(\n",
    "    temp['job_role']\n",
    "    ,temp['under_represented']\n",
    ")\n",
    "\n",
    "#add another column for total employment and sort to get top 20 roles\n",
    "job_by_rep[2] = job_by_rep[0]+job_by_rep[1]\n",
    "job_by_rep[0] = job_by_rep[0] / job_by_rep[2]\n",
    "job_by_rep[1] = 1 - job_by_rep[0]\n",
    "job_by_rep    = job_by_rep.sort_values(2,ascending=False)[:20]\n",
    "#get rid of total field to make chart clearer.\n",
    "job_by_rep    = job_by_rep.drop(2,axis=1)\n",
    "ax=job_by_rep.plot.barh(\n",
    "    title=f'Share of Underrepresented persons by Post-Stem Occupation,\\n Top {len(job_by_rep)} Occupations by Volume'\n",
    ")"
   ]
  },
  {
   "cell_type": "markdown",
   "id": "d7acda34",
   "metadata": {},
   "source": [
    "<a id='STEMP'></a>\n",
    "#### 4c. What Portion of people work in a STEM field?\n",
    "[Home](#home)<br><br>"
   ]
  },
  {
   "cell_type": "markdown",
   "id": "278eff39",
   "metadata": {},
   "source": [
    "While over 4% of represented individuals go into STEM, only 2% of unrepresented groups tend to go into the same fields - again, more than half as often."
   ]
  },
  {
   "cell_type": "code",
   "execution_count": null,
   "id": "a15fc0e1",
   "metadata": {
    "scrolled": true
   },
   "outputs": [],
   "source": [
    "df.groupby('under_represented')['stem_binary'].value_counts(normalize=True)"
   ]
  },
  {
   "cell_type": "markdown",
   "id": "1d35069f",
   "metadata": {},
   "source": [
    "this can better be understood by removing absent STEM-types from the chart:"
   ]
  },
  {
   "cell_type": "code",
   "execution_count": null,
   "id": "83a40f0a",
   "metadata": {
    "scrolled": true
   },
   "outputs": [],
   "source": [
    "df[df['stem_type']!='-1'].groupby('under_represented')['stem_type'].value_counts(normalize=True)"
   ]
  },
  {
   "cell_type": "markdown",
   "id": "d202caf4",
   "metadata": {},
   "source": [
    "We observe relatively similar patterns of employment within racial groups, regardless of their frequency of entering a STEM field."
   ]
  },
  {
   "cell_type": "markdown",
   "id": "45f2c11d",
   "metadata": {},
   "source": [
    "<a id='POST_SECOND'></a>\n",
    "#### 4d. What portion of STEM Employees have a post-secondary education?\n",
    "[Home](#home)<br><br>\n",
    "Results show a slightly larger number of STEM employees with no college education for under-represented groups. In particular, under-represented groups have no STEM background 16% of the time while their counterparts only have a non-STEM background 8% of the time."
   ]
  },
  {
   "cell_type": "code",
   "execution_count": null,
   "id": "ba5657dc",
   "metadata": {
    "scrolled": true
   },
   "outputs": [],
   "source": [
    "stem_employees = df[df['stem_type']!='-1']\n",
    "stem_employees['past_HS'] = stem_employees['EDUC'] >= 7\n",
    "\n",
    "pd.crosstab(\n",
    "    stem_employees['under_represented'],\n",
    "    stem_employees['past_HS'],\n",
    "    normalize='index'\n",
    ").plot(kind='bar',title='Portion of STEM employees with College Experience by Demographic (1=Under-represented)')\n",
    "plt.legend(['No College Experience','College Experience'])"
   ]
  },
  {
   "cell_type": "markdown",
   "id": "f0aba58a",
   "metadata": {},
   "source": [
    "<a id='NONCOMPLETION'></a>\n",
    "#### 4e. How do rates of college non-completion affect wages in a given profession?\n",
    "[Home](#home)<br><br>"
   ]
  },
  {
   "cell_type": "code",
   "execution_count": null,
   "id": "73b3561d",
   "metadata": {},
   "outputs": [],
   "source": [
    "wage_hs = stem_employees.groupby('job_role')[['INCWAGE','past_HS']].mean()\n",
    "plt.scatter(x=wage_hs['past_HS'],y=wage_hs['INCWAGE'])\n",
    "plt.title (\"STEM Employee College Experience vs Wages\")\n",
    "plt.xlabel(\"% of Employees with College Experience in Industry\")\n",
    "plt.ylabel(\"Average Salary for Industry\")\n",
    "plt.show()"
   ]
  },
  {
   "cell_type": "markdown",
   "id": "a2f6d93d",
   "metadata": {},
   "source": [
    "<a id='RBD'></a>\n",
    "#### 4f. Breaking Down STEM Role Areas By Demographic\n",
    "[Home](#home)<br><br>"
   ]
  },
  {
   "cell_type": "markdown",
   "id": "7b30264e",
   "metadata": {},
   "source": [
    "First, we examine what portion of each group is employed in STEM in general, then for individuals who hold a STEM degree. Analysis of the general population shows that across the board, under-represented individuals tend to be employed less frequently in STEM roles than in non-STEM roles."
   ]
  },
  {
   "cell_type": "code",
   "execution_count": null,
   "id": "8aa8b44e",
   "metadata": {},
   "outputs": [],
   "source": [
    "pd.crosstab(\n",
    "    df['stem_type'],\n",
    "    df['under_represented'],\n",
    "    normalize='index'\n",
    ").sort_values(0).plot.bar(\n",
    "    title='Concentration of Underrepresented persons by STEM Jobs'\n",
    ")"
   ]
  },
  {
   "cell_type": "markdown",
   "id": "148e231d",
   "metadata": {},
   "source": [
    "<a id='under_rep_stem_roles'></a>\n",
    "#### 4g. What STEM roles do under-represented STEM graduates take on?\n",
    "[Home](#home)<br><br>"
   ]
  },
  {
   "cell_type": "code",
   "execution_count": null,
   "id": "5e4b940b",
   "metadata": {
    "scrolled": true
   },
   "outputs": [],
   "source": [
    "df[df['stem_type']!='-1'].query(\"is_STEM_degree==1 & under_represented==1\")['stem_type']\\\n",
    ".value_counts(normalize=True)\\\n",
    ".plot(kind='barh',title='Concentration of Underrepresented STEM Graduates by STEM Job Areas')"
   ]
  },
  {
   "cell_type": "code",
   "execution_count": null,
   "id": "7b3a7233",
   "metadata": {},
   "outputs": [],
   "source": [
    "df[df['stem_type']!='-1'].query(\"is_STEM_degree==1 & under_represented==1\")['job_role'].value_counts(normalize=True)[0:10].plot(kind='bar',title='Concentration of Underrepresented STEM Graduates by STEM Jobs, Top 10')"
   ]
  },
  {
   "cell_type": "markdown",
   "id": "aeb8dff2",
   "metadata": {},
   "source": [
    "STEM Graduates primarily tend to take on nursing and software developer roles - RNs, software evelopers, medical managers, computer occupations, and computer programs - which can all roughly be categorized as either medical or software development roles. "
   ]
  },
  {
   "cell_type": "markdown",
   "id": "d678a293",
   "metadata": {},
   "source": [
    "<a id='salary'></a>\n",
    "#### 4h. Salary Analysis - How Much Do Stem Employees Earn?\n",
    "[Home](#home)<br><br>"
   ]
  },
  {
   "cell_type": "code",
   "execution_count": null,
   "id": "ce5a0890",
   "metadata": {},
   "outputs": [],
   "source": [
    "df.groupby('stem_type')['INCWAGE'].median().plot(kind='bar',title='Median Wage by STEM Job Type')"
   ]
  },
  {
   "cell_type": "code",
   "execution_count": null,
   "id": "990839cc",
   "metadata": {},
   "outputs": [],
   "source": [
    "df[df['stem_type']!='-1'].groupby(['under_represented','stem_type'])['INCWAGE'].median()"
   ]
  },
  {
   "cell_type": "markdown",
   "id": "f04f895a",
   "metadata": {},
   "source": [
    "Underrepresented employees make considerably less in managerial and R&D/Practicioner roles than their counterparts. We can also extend this analysis to specific jobs, looking at the top 20 fields:"
   ]
  },
  {
   "cell_type": "code",
   "execution_count": null,
   "id": "6d56746c",
   "metadata": {},
   "outputs": [],
   "source": [
    "#get top 20 fields by volume of employees\n",
    "top_twenty_fields = df[df['stem_type']!='-1']['job_role'].value_counts().sort_values(ascending=False)[:20]\n",
    "top_twenty_fields = list(top_twenty_fields.index)\n",
    "top_twenty_fields[:5]"
   ]
  },
  {
   "cell_type": "code",
   "execution_count": null,
   "id": "eb51386c",
   "metadata": {},
   "outputs": [],
   "source": [
    "top_twenty_workers = df[df['stem_type']!='-1'].query(f\"job_role in {top_twenty_fields}\")"
   ]
  },
  {
   "cell_type": "code",
   "execution_count": null,
   "id": "82386825",
   "metadata": {
    "scrolled": true
   },
   "outputs": [],
   "source": [
    "pd.crosstab(\n",
    "    top_twenty_workers['job_role'],\n",
    "    top_twenty_workers['under_represented'],\n",
    "    values=top_twenty_workers['INCWAGE'],\n",
    "    aggfunc = 'median'\n",
    ").sort_values(0,ascending=False).plot(\n",
    "    kind='barh',\n",
    "    title='Median Wage by STEM Role and Representation, Top 20 Fields'\n",
    ")\n",
    "plt.legend(['under-represented','not under-represented'])"
   ]
  },
  {
   "cell_type": "markdown",
   "id": "8e770ce0",
   "metadata": {},
   "source": [
    "Although conclusively not relevant for our modeling, we have determined a significant wage discrepancy between represented and under-represented individuals in wages for most fields."
   ]
  },
  {
   "cell_type": "markdown",
   "id": "0188626d",
   "metadata": {},
   "source": [
    "<a id='no_stem'></a>\n",
    "#### 4i. In Total, What Portion of STEM Employees do not have a STEM Background?\n",
    "[Home](#home)<br><br>"
   ]
  },
  {
   "cell_type": "code",
   "execution_count": null,
   "id": "05c6f6d6",
   "metadata": {},
   "outputs": [],
   "source": [
    "df[df['stem_type']!='-1']['is_STEM_degree'].value_counts(normalize=True)"
   ]
  },
  {
   "cell_type": "code",
   "execution_count": null,
   "id": "c80012d5",
   "metadata": {},
   "outputs": [],
   "source": [
    "df[df['stem_type']!='-1'].groupby('under_represented')['is_STEM_degree'].value_counts(normalize=True)"
   ]
  },
  {
   "cell_type": "markdown",
   "id": "c96c33b7",
   "metadata": {},
   "source": [
    "In total, more than half of individuals working in a STEM field did not get a STEM education in both represented and under-represented groups. We can also look at the top fields for this trend:"
   ]
  },
  {
   "cell_type": "code",
   "execution_count": null,
   "id": "8b238fcb",
   "metadata": {
    "scrolled": true
   },
   "outputs": [],
   "source": [
    "df_temp = df[df['stem_type']!='-1']\n",
    "temp_cross = pd.crosstab(\n",
    "    df_temp['job_role'],\n",
    "    df_temp['is_STEM_degree'],\n",
    ")\n",
    "\n",
    "#we do not use normalize = True here because we want to get relative frequency\n",
    "#but still want to sort by total volume \n",
    "\n",
    "temp_cross['n'] = temp_cross[0]+temp_cross[1]\n",
    "temp_cross[0] = temp_cross[0]/temp_cross['n']\n",
    "temp_cross[1] = temp_cross[1]/temp_cross['n']\n",
    "temp_cross = temp_cross.sort_values(by='n',ascending=False)[:20]\n",
    "temp_cross = temp_cross.drop(columns=['n',1])\n",
    "temp_cross.plot(\n",
    "    kind='barh',\n",
    "    title='Percent of Employees with no STEM education by field, top 20 by volume'\n",
    ")\n",
    "#we can save this for the next cell.\n",
    "top_stem_roles = list(temp_cross.index)\n",
    "\n",
    "del df_temp\n",
    "del temp_cross"
   ]
  },
  {
   "cell_type": "markdown",
   "id": "9f3f38e1",
   "metadata": {},
   "source": [
    "<a id='no_stem_salary'></a>\n",
    "#### 4j. How does not having a STEM degree affect income in these fields?\n",
    "[Home](#home)<br><br>"
   ]
  },
  {
   "cell_type": "markdown",
   "id": "aa29ca2b",
   "metadata": {},
   "source": [
    "In general, individuals who go into STEM roles tend to make considerably smaller median salaries, with the notable exception of web developers, web and digital interface designers, and mapping technicians, who have considerable parity."
   ]
  },
  {
   "cell_type": "code",
   "execution_count": null,
   "id": "457c5057",
   "metadata": {},
   "outputs": [],
   "source": [
    "#get all individuals employed in the top stem roles by volume \n",
    "df_top_roles = df[df['job_role'].isin(top_stem_roles)]\n",
    "\n",
    "#chart their median salaries by stem degree attainment\n",
    "pd.crosstab(\n",
    "    df_top_roles['job_role'],\n",
    "    df_top_roles['is_STEM_degree'],\n",
    "    values = df_top_roles['INCWAGE'],\n",
    "    aggfunc = 'median'\n",
    ").plot(kind='barh')\n",
    "plt.title(\"Median Salary in top STEM fields by STEM Education\")\n",
    "plt.xlabel(\"Median Salary, USD\")\n",
    "plt.legend(['no STEM Degree','STEM Degree'])"
   ]
  },
  {
   "cell_type": "markdown",
   "id": "7c399072",
   "metadata": {},
   "source": [
    "<a id='publish'></a>\n",
    "### 5. Publish Transformed Dataset \n",
    "[Home](#home)<br><br>\n",
    "Having conducted the necesarry EDA and data transformation for our modeling step, we drop all irrelevant features and move our dataset into the `main_df.csv` destination. This data will be used by the `modeling.ipynb` notebook to select a suitable candidate model to deploy to streamlit for further testing."
   ]
  },
  {
   "cell_type": "code",
   "execution_count": null,
   "id": "5a869ebc",
   "metadata": {},
   "outputs": [],
   "source": [
    "df = df.drop(columns=[\n",
    "    'RACE'\n",
    "    ,'RACED'\n",
    "    ,'BPL'\n",
    "    ,'BPLD'\n",
    "    ,'EDUC'\n",
    "    ,'EDUCD'\n",
    "    ,'DEGFIELD'\n",
    "    ,'DEGFIELDD'\n",
    "    ,'DEGFIELD2'\n",
    "    ,'DEGFIELD2D'\n",
    "    ,'EMPSTAT'\n",
    "    ,'EMPSTATD'\n",
    "    ,'OCC'\n",
    "    ,'IND'\n",
    "    ,'job_role'\n",
    "    ,'Degree_D'\n",
    "    ,'Degree'\n",
    "    ,'INCWAGE'\n",
    "])"
   ]
  },
  {
   "cell_type": "code",
   "execution_count": null,
   "id": "17464637",
   "metadata": {},
   "outputs": [],
   "source": [
    "df.head()"
   ]
  },
  {
   "cell_type": "code",
   "execution_count": null,
   "id": "68c40df9",
   "metadata": {},
   "outputs": [],
   "source": [
    "df.to_csv('./datasets/transformed/main_df.csv',index=None)"
   ]
  }
 ],
 "metadata": {
  "kernelspec": {
   "display_name": "Python 3 (ipykernel)",
   "language": "python",
   "name": "python3"
  },
  "language_info": {
   "codemirror_mode": {
    "name": "ipython",
    "version": 3
   },
   "file_extension": ".py",
   "mimetype": "text/x-python",
   "name": "python",
   "nbconvert_exporter": "python",
   "pygments_lexer": "ipython3",
   "version": "3.8.2"
  }
 },
 "nbformat": 4,
 "nbformat_minor": 5
}
