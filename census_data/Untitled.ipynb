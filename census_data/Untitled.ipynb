{
 "cells": [
  {
   "cell_type": "markdown",
   "id": "068ccaf9",
   "metadata": {},
   "source": [
    "# Analyzing US Census Data for HigherME\n",
    "**Nava Roohi ,Cole Bailey, Filipp Krasovsky**"
   ]
  },
  {
   "cell_type": "code",
   "execution_count": 1,
   "id": "57906880",
   "metadata": {},
   "outputs": [],
   "source": [
    "import pandas as pd "
   ]
  },
  {
   "cell_type": "code",
   "execution_count": 2,
   "id": "45e6bdea",
   "metadata": {
    "scrolled": false
   },
   "outputs": [
    {
     "data": {
      "text/html": [
       "<div>\n",
       "<style scoped>\n",
       "    .dataframe tbody tr th:only-of-type {\n",
       "        vertical-align: middle;\n",
       "    }\n",
       "\n",
       "    .dataframe tbody tr th {\n",
       "        vertical-align: top;\n",
       "    }\n",
       "\n",
       "    .dataframe thead th {\n",
       "        text-align: right;\n",
       "    }\n",
       "</style>\n",
       "<table border=\"1\" class=\"dataframe\">\n",
       "  <thead>\n",
       "    <tr style=\"text-align: right;\">\n",
       "      <th></th>\n",
       "      <th>YEAR</th>\n",
       "      <th>MULTYEAR</th>\n",
       "      <th>SAMPLE</th>\n",
       "      <th>SERIAL</th>\n",
       "      <th>CBSERIAL</th>\n",
       "      <th>HHWT</th>\n",
       "      <th>CLUSTER</th>\n",
       "      <th>STATEFIP</th>\n",
       "      <th>STRATA</th>\n",
       "      <th>GQ</th>\n",
       "      <th>...</th>\n",
       "      <th>EDUCD</th>\n",
       "      <th>DEGFIELD</th>\n",
       "      <th>DEGFIELDD</th>\n",
       "      <th>DEGFIELD2</th>\n",
       "      <th>DEGFIELD2D</th>\n",
       "      <th>EMPSTAT</th>\n",
       "      <th>EMPSTATD</th>\n",
       "      <th>OCC</th>\n",
       "      <th>IND</th>\n",
       "      <th>INCWAGE</th>\n",
       "    </tr>\n",
       "  </thead>\n",
       "  <tbody>\n",
       "    <tr>\n",
       "      <th>0</th>\n",
       "      <td>2020</td>\n",
       "      <td>2017</td>\n",
       "      <td>202003</td>\n",
       "      <td>2817124</td>\n",
       "      <td>2017000546615</td>\n",
       "      <td>38.11</td>\n",
       "      <td>2020028171243</td>\n",
       "      <td>24</td>\n",
       "      <td>50224</td>\n",
       "      <td>1</td>\n",
       "      <td>...</td>\n",
       "      <td>114</td>\n",
       "      <td>29</td>\n",
       "      <td>2901</td>\n",
       "      <td>0</td>\n",
       "      <td>0</td>\n",
       "      <td>1</td>\n",
       "      <td>10</td>\n",
       "      <td>7700</td>\n",
       "      <td>670</td>\n",
       "      <td>68637</td>\n",
       "    </tr>\n",
       "    <tr>\n",
       "      <th>1</th>\n",
       "      <td>2020</td>\n",
       "      <td>2016</td>\n",
       "      <td>202003</td>\n",
       "      <td>2020495</td>\n",
       "      <td>2016000885630</td>\n",
       "      <td>24.72</td>\n",
       "      <td>2020020204953</td>\n",
       "      <td>17</td>\n",
       "      <td>190017</td>\n",
       "      <td>1</td>\n",
       "      <td>...</td>\n",
       "      <td>114</td>\n",
       "      <td>61</td>\n",
       "      <td>6109</td>\n",
       "      <td>0</td>\n",
       "      <td>0</td>\n",
       "      <td>1</td>\n",
       "      <td>10</td>\n",
       "      <td>3255</td>\n",
       "      <td>7970</td>\n",
       "      <td>86293</td>\n",
       "    </tr>\n",
       "    <tr>\n",
       "      <th>2</th>\n",
       "      <td>2020</td>\n",
       "      <td>2020</td>\n",
       "      <td>202003</td>\n",
       "      <td>3734784</td>\n",
       "      <td>2020000349780</td>\n",
       "      <td>37.08</td>\n",
       "      <td>2020037347843</td>\n",
       "      <td>32</td>\n",
       "      <td>40932</td>\n",
       "      <td>1</td>\n",
       "      <td>...</td>\n",
       "      <td>63</td>\n",
       "      <td>0</td>\n",
       "      <td>0</td>\n",
       "      <td>0</td>\n",
       "      <td>0</td>\n",
       "      <td>1</td>\n",
       "      <td>10</td>\n",
       "      <td>4760</td>\n",
       "      <td>5170</td>\n",
       "      <td>28000</td>\n",
       "    </tr>\n",
       "    <tr>\n",
       "      <th>3</th>\n",
       "      <td>2020</td>\n",
       "      <td>2017</td>\n",
       "      <td>202003</td>\n",
       "      <td>1404902</td>\n",
       "      <td>2017000403159</td>\n",
       "      <td>33.99</td>\n",
       "      <td>2020014049023</td>\n",
       "      <td>12</td>\n",
       "      <td>950912</td>\n",
       "      <td>1</td>\n",
       "      <td>...</td>\n",
       "      <td>81</td>\n",
       "      <td>0</td>\n",
       "      <td>0</td>\n",
       "      <td>0</td>\n",
       "      <td>0</td>\n",
       "      <td>1</td>\n",
       "      <td>10</td>\n",
       "      <td>4000</td>\n",
       "      <td>8660</td>\n",
       "      <td>86588</td>\n",
       "    </tr>\n",
       "    <tr>\n",
       "      <th>4</th>\n",
       "      <td>2020</td>\n",
       "      <td>2019</td>\n",
       "      <td>202003</td>\n",
       "      <td>1646896</td>\n",
       "      <td>2019001221265</td>\n",
       "      <td>11.33</td>\n",
       "      <td>2020016468963</td>\n",
       "      <td>12</td>\n",
       "      <td>10212</td>\n",
       "      <td>1</td>\n",
       "      <td>...</td>\n",
       "      <td>101</td>\n",
       "      <td>36</td>\n",
       "      <td>3600</td>\n",
       "      <td>52</td>\n",
       "      <td>5200</td>\n",
       "      <td>1</td>\n",
       "      <td>10</td>\n",
       "      <td>8740</td>\n",
       "      <td>5580</td>\n",
       "      <td>19136</td>\n",
       "    </tr>\n",
       "  </tbody>\n",
       "</table>\n",
       "<p>5 rows × 31 columns</p>\n",
       "</div>"
      ],
      "text/plain": [
       "   YEAR  MULTYEAR  SAMPLE   SERIAL       CBSERIAL   HHWT        CLUSTER  \\\n",
       "0  2020      2017  202003  2817124  2017000546615  38.11  2020028171243   \n",
       "1  2020      2016  202003  2020495  2016000885630  24.72  2020020204953   \n",
       "2  2020      2020  202003  3734784  2020000349780  37.08  2020037347843   \n",
       "3  2020      2017  202003  1404902  2017000403159  33.99  2020014049023   \n",
       "4  2020      2019  202003  1646896  2019001221265  11.33  2020016468963   \n",
       "\n",
       "   STATEFIP  STRATA  GQ  ...  EDUCD  DEGFIELD  DEGFIELDD  DEGFIELD2  \\\n",
       "0        24   50224   1  ...    114        29       2901          0   \n",
       "1        17  190017   1  ...    114        61       6109          0   \n",
       "2        32   40932   1  ...     63         0          0          0   \n",
       "3        12  950912   1  ...     81         0          0          0   \n",
       "4        12   10212   1  ...    101        36       3600         52   \n",
       "\n",
       "   DEGFIELD2D  EMPSTAT  EMPSTATD   OCC   IND  INCWAGE  \n",
       "0           0        1        10  7700   670    68637  \n",
       "1           0        1        10  3255  7970    86293  \n",
       "2           0        1        10  4760  5170    28000  \n",
       "3           0        1        10  4000  8660    86588  \n",
       "4        5200        1        10  8740  5580    19136  \n",
       "\n",
       "[5 rows x 31 columns]"
      ]
     },
     "execution_count": 2,
     "metadata": {},
     "output_type": "execute_result"
    }
   ],
   "source": [
    "df = pd.read_csv(\"new_df_3_age_filtered.csv\")\n",
    "df.head()"
   ]
  },
  {
   "cell_type": "code",
   "execution_count": 3,
   "id": "a1cba94b",
   "metadata": {},
   "outputs": [
    {
     "data": {
      "text/plain": [
       "18"
      ]
     },
     "execution_count": 3,
     "metadata": {},
     "output_type": "execute_result"
    }
   ],
   "source": [
    "#sanity check to make sure our age is above 18\n",
    "df['AGE'].min()"
   ]
  },
  {
   "cell_type": "markdown",
   "id": "d5429f95",
   "metadata": {},
   "source": [
    "## Data Cleaning"
   ]
  },
  {
   "cell_type": "markdown",
   "id": "c2480e3e",
   "metadata": {},
   "source": [
    "#### Step 1. State Extraction from FIP Numbers"
   ]
  },
  {
   "cell_type": "code",
   "execution_count": 4,
   "id": "f3d5bf66",
   "metadata": {},
   "outputs": [],
   "source": [
    "fips = {\n",
    "    1:\"Alabama\",2:\"Alaska\",4:\"Arizona\",5:\"Arkansas\",6:\"California\",8:\"Colorado\",9:\"Connecticut\"\n",
    "    ,10:\"Delaware\",11:\"District of Columbia\",12:\"Florida\",13:\"Georgia\",15:\"Hawaii\",16:\"Idaho\"\n",
    "    ,17:\"Illinois\",18:\"Indiana\",19:\"Iowa\",20:\"Kansas\",21:\"Kentucky\",22:\"Louisiana\",23:\"Maine\"\n",
    "    ,24:\"Maryland\",25:\"Massachusetts\",26:\"Michigan\",27:\"Minnesota\",28:\"Mississippi\",29:\"Missouri\"\n",
    "    ,30:\"Montana\",31:\"Nebraska\",32:\"Nevada\",33:\"New Hampshire\",34:\"New Jersey\",35:\"New Mexico\"\n",
    "    ,36:\"New York\",37:\"North Carolina\",38:\"North Dakota\",39:\"Ohio\",40:\"Oklahoma\",41:\"Oregon\"\n",
    "    ,42:\"Pennsylvania\",44:\"Rhode Island\",45:\"South Carolina\",46:\"South Dakota\",47:\"Tennessee\"\n",
    "    ,48:\"Texas\",49:\"Utah\",50:\"Vermont\",51:\"Virginia\",53:\"Washington\",54:\"West Virginia\"\n",
    "    ,55:\"Wisconsin\",56:\"Wyoming\",61:\"Maine-New Hampshire-Vermont\",62:\"Massachusetts-Rhode Island\"\n",
    "    ,63:\"Minnesota-Iowa-Missouri-Kansas-Nebraska-S.Dakota-N.Dakota\",64:\"Maryland-Delaware\"\n",
    "    ,65:\"Montana-Idaho-Wyoming\",66:\"Utah-Nevada\",67:\"Arizona-New Mexico\",68:\"Alaska-Hawaii\"\n",
    "    ,72:\"Puerto Rico\",97:\"Military/Mil. Reservation\",99:\"State not identified\"\n",
    "}"
   ]
  },
  {
   "cell_type": "code",
   "execution_count": 5,
   "id": "f6dbf990",
   "metadata": {},
   "outputs": [
    {
     "data": {
      "text/html": [
       "<div>\n",
       "<style scoped>\n",
       "    .dataframe tbody tr th:only-of-type {\n",
       "        vertical-align: middle;\n",
       "    }\n",
       "\n",
       "    .dataframe tbody tr th {\n",
       "        vertical-align: top;\n",
       "    }\n",
       "\n",
       "    .dataframe thead th {\n",
       "        text-align: right;\n",
       "    }\n",
       "</style>\n",
       "<table border=\"1\" class=\"dataframe\">\n",
       "  <thead>\n",
       "    <tr style=\"text-align: right;\">\n",
       "      <th></th>\n",
       "      <th>YEAR</th>\n",
       "      <th>MULTYEAR</th>\n",
       "      <th>SAMPLE</th>\n",
       "      <th>SERIAL</th>\n",
       "      <th>CBSERIAL</th>\n",
       "      <th>HHWT</th>\n",
       "      <th>CLUSTER</th>\n",
       "      <th>STATEFIP</th>\n",
       "      <th>STRATA</th>\n",
       "      <th>GQ</th>\n",
       "      <th>...</th>\n",
       "      <th>DEGFIELD</th>\n",
       "      <th>DEGFIELDD</th>\n",
       "      <th>DEGFIELD2</th>\n",
       "      <th>DEGFIELD2D</th>\n",
       "      <th>EMPSTAT</th>\n",
       "      <th>EMPSTATD</th>\n",
       "      <th>OCC</th>\n",
       "      <th>IND</th>\n",
       "      <th>INCWAGE</th>\n",
       "      <th>State</th>\n",
       "    </tr>\n",
       "  </thead>\n",
       "  <tbody>\n",
       "    <tr>\n",
       "      <th>0</th>\n",
       "      <td>2020</td>\n",
       "      <td>2017</td>\n",
       "      <td>202003</td>\n",
       "      <td>2817124</td>\n",
       "      <td>2017000546615</td>\n",
       "      <td>38.11</td>\n",
       "      <td>2020028171243</td>\n",
       "      <td>24</td>\n",
       "      <td>50224</td>\n",
       "      <td>1</td>\n",
       "      <td>...</td>\n",
       "      <td>29</td>\n",
       "      <td>2901</td>\n",
       "      <td>0</td>\n",
       "      <td>0</td>\n",
       "      <td>1</td>\n",
       "      <td>10</td>\n",
       "      <td>7700</td>\n",
       "      <td>670</td>\n",
       "      <td>68637</td>\n",
       "      <td>Maryland</td>\n",
       "    </tr>\n",
       "    <tr>\n",
       "      <th>1</th>\n",
       "      <td>2020</td>\n",
       "      <td>2016</td>\n",
       "      <td>202003</td>\n",
       "      <td>2020495</td>\n",
       "      <td>2016000885630</td>\n",
       "      <td>24.72</td>\n",
       "      <td>2020020204953</td>\n",
       "      <td>17</td>\n",
       "      <td>190017</td>\n",
       "      <td>1</td>\n",
       "      <td>...</td>\n",
       "      <td>61</td>\n",
       "      <td>6109</td>\n",
       "      <td>0</td>\n",
       "      <td>0</td>\n",
       "      <td>1</td>\n",
       "      <td>10</td>\n",
       "      <td>3255</td>\n",
       "      <td>7970</td>\n",
       "      <td>86293</td>\n",
       "      <td>Illinois</td>\n",
       "    </tr>\n",
       "    <tr>\n",
       "      <th>2</th>\n",
       "      <td>2020</td>\n",
       "      <td>2020</td>\n",
       "      <td>202003</td>\n",
       "      <td>3734784</td>\n",
       "      <td>2020000349780</td>\n",
       "      <td>37.08</td>\n",
       "      <td>2020037347843</td>\n",
       "      <td>32</td>\n",
       "      <td>40932</td>\n",
       "      <td>1</td>\n",
       "      <td>...</td>\n",
       "      <td>0</td>\n",
       "      <td>0</td>\n",
       "      <td>0</td>\n",
       "      <td>0</td>\n",
       "      <td>1</td>\n",
       "      <td>10</td>\n",
       "      <td>4760</td>\n",
       "      <td>5170</td>\n",
       "      <td>28000</td>\n",
       "      <td>Nevada</td>\n",
       "    </tr>\n",
       "    <tr>\n",
       "      <th>3</th>\n",
       "      <td>2020</td>\n",
       "      <td>2017</td>\n",
       "      <td>202003</td>\n",
       "      <td>1404902</td>\n",
       "      <td>2017000403159</td>\n",
       "      <td>33.99</td>\n",
       "      <td>2020014049023</td>\n",
       "      <td>12</td>\n",
       "      <td>950912</td>\n",
       "      <td>1</td>\n",
       "      <td>...</td>\n",
       "      <td>0</td>\n",
       "      <td>0</td>\n",
       "      <td>0</td>\n",
       "      <td>0</td>\n",
       "      <td>1</td>\n",
       "      <td>10</td>\n",
       "      <td>4000</td>\n",
       "      <td>8660</td>\n",
       "      <td>86588</td>\n",
       "      <td>Florida</td>\n",
       "    </tr>\n",
       "    <tr>\n",
       "      <th>4</th>\n",
       "      <td>2020</td>\n",
       "      <td>2019</td>\n",
       "      <td>202003</td>\n",
       "      <td>1646896</td>\n",
       "      <td>2019001221265</td>\n",
       "      <td>11.33</td>\n",
       "      <td>2020016468963</td>\n",
       "      <td>12</td>\n",
       "      <td>10212</td>\n",
       "      <td>1</td>\n",
       "      <td>...</td>\n",
       "      <td>36</td>\n",
       "      <td>3600</td>\n",
       "      <td>52</td>\n",
       "      <td>5200</td>\n",
       "      <td>1</td>\n",
       "      <td>10</td>\n",
       "      <td>8740</td>\n",
       "      <td>5580</td>\n",
       "      <td>19136</td>\n",
       "      <td>Florida</td>\n",
       "    </tr>\n",
       "  </tbody>\n",
       "</table>\n",
       "<p>5 rows × 32 columns</p>\n",
       "</div>"
      ],
      "text/plain": [
       "   YEAR  MULTYEAR  SAMPLE   SERIAL       CBSERIAL   HHWT        CLUSTER  \\\n",
       "0  2020      2017  202003  2817124  2017000546615  38.11  2020028171243   \n",
       "1  2020      2016  202003  2020495  2016000885630  24.72  2020020204953   \n",
       "2  2020      2020  202003  3734784  2020000349780  37.08  2020037347843   \n",
       "3  2020      2017  202003  1404902  2017000403159  33.99  2020014049023   \n",
       "4  2020      2019  202003  1646896  2019001221265  11.33  2020016468963   \n",
       "\n",
       "   STATEFIP  STRATA  GQ  ...  DEGFIELD  DEGFIELDD  DEGFIELD2  DEGFIELD2D  \\\n",
       "0        24   50224   1  ...        29       2901          0           0   \n",
       "1        17  190017   1  ...        61       6109          0           0   \n",
       "2        32   40932   1  ...         0          0          0           0   \n",
       "3        12  950912   1  ...         0          0          0           0   \n",
       "4        12   10212   1  ...        36       3600         52        5200   \n",
       "\n",
       "   EMPSTAT  EMPSTATD   OCC   IND  INCWAGE     State  \n",
       "0        1        10  7700   670    68637  Maryland  \n",
       "1        1        10  3255  7970    86293  Illinois  \n",
       "2        1        10  4760  5170    28000    Nevada  \n",
       "3        1        10  4000  8660    86588   Florida  \n",
       "4        1        10  8740  5580    19136   Florida  \n",
       "\n",
       "[5 rows x 32 columns]"
      ]
     },
     "execution_count": 5,
     "metadata": {},
     "output_type": "execute_result"
    }
   ],
   "source": [
    "#map to a new variable called \"State\"\n",
    "df['State'] = df['STATEFIP'].apply(lambda x:fips[x])\n",
    "df.head()"
   ]
  },
  {
   "cell_type": "markdown",
   "id": "ccfeb4a3",
   "metadata": {},
   "source": [
    "### Step 2. Breakdown by Race, Initial EDA "
   ]
  },
  {
   "cell_type": "code",
   "execution_count": 6,
   "id": "5abe4244",
   "metadata": {
    "scrolled": true
   },
   "outputs": [
    {
     "data": {
      "text/plain": [
       "White                               145619\n",
       "Black/African American               18391\n",
       "Other Asian or Pacific Islander       7399\n",
       "Other race, nec                       7056\n",
       "Two major races                       5609\n",
       "Chinese                               2766\n",
       "American Indian or Alaska Native      2070\n",
       "Three or more major races              547\n",
       "Japanese                               543\n",
       "Name: RACE, dtype: int64"
      ]
     },
     "execution_count": 6,
     "metadata": {},
     "output_type": "execute_result"
    }
   ],
   "source": [
    "race_map ={\n",
    "    1: \"White\"\n",
    "    ,2: \"Black/African American\"\n",
    "    ,3: \"American Indian or Alaska Native\"\n",
    "    ,4: \"Chinese\"\n",
    "    ,5: \"Japanese\"\n",
    "    ,6: \"Other Asian or Pacific Islander\"\n",
    "    ,7: \"Other race, nec\"\n",
    "    ,8: \"Two major races\"\n",
    "    ,9: \"Three or more major races\"\n",
    "}\n",
    "df['RACE'].apply(lambda x: race_map[x]).value_counts()"
   ]
  },
  {
   "cell_type": "markdown",
   "id": "a6396b5c",
   "metadata": {},
   "source": [
    "Based on the definition, however, we are primarily interested in exploring career differences between non-white/asian individuals and their counterparts based on documentation that can be accessed <a href=\"https://github.com/kayfilipp/HigherME/blob/main/README.md\">here</a>. To this end, we can re-map the race for each row to exclude indices 1, 4, and 5. We do not exclude pacific islanders as of now, but are open to doing so if requirements change."
   ]
  },
  {
   "cell_type": "code",
   "execution_count": 7,
   "id": "bd1d0e0b",
   "metadata": {},
   "outputs": [
    {
     "data": {
      "text/html": [
       "<div>\n",
       "<style scoped>\n",
       "    .dataframe tbody tr th:only-of-type {\n",
       "        vertical-align: middle;\n",
       "    }\n",
       "\n",
       "    .dataframe tbody tr th {\n",
       "        vertical-align: top;\n",
       "    }\n",
       "\n",
       "    .dataframe thead th {\n",
       "        text-align: right;\n",
       "    }\n",
       "</style>\n",
       "<table border=\"1\" class=\"dataframe\">\n",
       "  <thead>\n",
       "    <tr style=\"text-align: right;\">\n",
       "      <th></th>\n",
       "      <th>RACE</th>\n",
       "      <th>under_represented</th>\n",
       "    </tr>\n",
       "  </thead>\n",
       "  <tbody>\n",
       "    <tr>\n",
       "      <th>149103</th>\n",
       "      <td>1</td>\n",
       "      <td>0</td>\n",
       "    </tr>\n",
       "    <tr>\n",
       "      <th>28933</th>\n",
       "      <td>1</td>\n",
       "      <td>0</td>\n",
       "    </tr>\n",
       "    <tr>\n",
       "      <th>38885</th>\n",
       "      <td>1</td>\n",
       "      <td>0</td>\n",
       "    </tr>\n",
       "    <tr>\n",
       "      <th>51930</th>\n",
       "      <td>8</td>\n",
       "      <td>1</td>\n",
       "    </tr>\n",
       "    <tr>\n",
       "      <th>40307</th>\n",
       "      <td>1</td>\n",
       "      <td>0</td>\n",
       "    </tr>\n",
       "    <tr>\n",
       "      <th>37286</th>\n",
       "      <td>1</td>\n",
       "      <td>0</td>\n",
       "    </tr>\n",
       "    <tr>\n",
       "      <th>96503</th>\n",
       "      <td>1</td>\n",
       "      <td>0</td>\n",
       "    </tr>\n",
       "    <tr>\n",
       "      <th>62460</th>\n",
       "      <td>1</td>\n",
       "      <td>0</td>\n",
       "    </tr>\n",
       "    <tr>\n",
       "      <th>178691</th>\n",
       "      <td>1</td>\n",
       "      <td>0</td>\n",
       "    </tr>\n",
       "    <tr>\n",
       "      <th>132222</th>\n",
       "      <td>1</td>\n",
       "      <td>0</td>\n",
       "    </tr>\n",
       "  </tbody>\n",
       "</table>\n",
       "</div>"
      ],
      "text/plain": [
       "        RACE  under_represented\n",
       "149103     1                  0\n",
       "28933      1                  0\n",
       "38885      1                  0\n",
       "51930      8                  1\n",
       "40307      1                  0\n",
       "37286      1                  0\n",
       "96503      1                  0\n",
       "62460      1                  0\n",
       "178691     1                  0\n",
       "132222     1                  0"
      ]
     },
     "execution_count": 7,
     "metadata": {},
     "output_type": "execute_result"
    }
   ],
   "source": [
    "non_target = [1,4,5]\n",
    "def under_rep_id(race,hispan):\n",
    "    #if target is not 'Non-Hispanic'\n",
    "    if hispan != 0:\n",
    "        return 1\n",
    "    #or nonwhite/asian...\n",
    "    if race not in non_target:\n",
    "        return 1\n",
    "    return 0\n",
    "\n",
    "df['under_represented'] = df.apply(lambda x: under_rep_id(x.RACE,x.HISPAN),axis=1)\n",
    "df[['RACE','under_represented']].sample(10)"
   ]
  },
  {
   "cell_type": "code",
   "execution_count": 8,
   "id": "a1e8598c",
   "metadata": {},
   "outputs": [
    {
     "data": {
      "text/plain": [
       "<AxesSubplot:title={'center':'Under represented presence in dataset'}>"
      ]
     },
     "execution_count": 8,
     "metadata": {},
     "output_type": "execute_result"
    },
    {
     "data": {
      "image/png": "[encoded data removed]",
      "text/plain": [
       "<Figure size 432x288 with 1 Axes>"
      ]
     },
     "metadata": {
      "needs_background": "light"
     },
     "output_type": "display_data"
    }
   ],
   "source": [
    "df['under_represented'].value_counts().plot(kind='bar',title='Under represented presence in dataset')"
   ]
  },
  {
   "cell_type": "markdown",
   "id": "5f3d0660",
   "metadata": {},
   "source": [
    "#### Since we're not doing low level analysis that explores the differences between Black and Hispanic applicants, we can drop the nuance on hispanic data for now."
   ]
  },
  {
   "cell_type": "code",
   "execution_count": 9,
   "id": "ac91a044",
   "metadata": {},
   "outputs": [],
   "source": [
    "df = df.drop(['HISPAN','HISPAND'],axis=1)"
   ]
  },
  {
   "cell_type": "markdown",
   "id": "5240f998",
   "metadata": {},
   "source": [
    "### Step 3. Breakdown by Birthplace, EDA"
   ]
  },
  {
   "cell_type": "markdown",
   "id": "c94d7c81",
   "metadata": {},
   "source": [
    "#### Furthermore, we can divide the birthplace feature (BPL) into a more low-resolution field - foreign born and domestic born individuals (ie those who are born in the continental US):"
   ]
  },
  {
   "cell_type": "code",
   "execution_count": 10,
   "id": "059e584c",
   "metadata": {},
   "outputs": [
    {
     "data": {
      "text/html": [
       "<div>\n",
       "<style scoped>\n",
       "    .dataframe tbody tr th:only-of-type {\n",
       "        vertical-align: middle;\n",
       "    }\n",
       "\n",
       "    .dataframe tbody tr th {\n",
       "        vertical-align: top;\n",
       "    }\n",
       "\n",
       "    .dataframe thead th {\n",
       "        text-align: right;\n",
       "    }\n",
       "</style>\n",
       "<table border=\"1\" class=\"dataframe\">\n",
       "  <thead>\n",
       "    <tr style=\"text-align: right;\">\n",
       "      <th></th>\n",
       "      <th>BPL</th>\n",
       "      <th>domestic_born</th>\n",
       "    </tr>\n",
       "  </thead>\n",
       "  <tbody>\n",
       "    <tr>\n",
       "      <th>0</th>\n",
       "      <td>24</td>\n",
       "      <td>1</td>\n",
       "    </tr>\n",
       "    <tr>\n",
       "      <th>1</th>\n",
       "      <td>17</td>\n",
       "      <td>1</td>\n",
       "    </tr>\n",
       "    <tr>\n",
       "      <th>2</th>\n",
       "      <td>210</td>\n",
       "      <td>0</td>\n",
       "    </tr>\n",
       "    <tr>\n",
       "      <th>3</th>\n",
       "      <td>6</td>\n",
       "      <td>1</td>\n",
       "    </tr>\n",
       "    <tr>\n",
       "      <th>4</th>\n",
       "      <td>22</td>\n",
       "      <td>1</td>\n",
       "    </tr>\n",
       "  </tbody>\n",
       "</table>\n",
       "</div>"
      ],
      "text/plain": [
       "   BPL  domestic_born\n",
       "0   24              1\n",
       "1   17              1\n",
       "2  210              0\n",
       "3    6              1\n",
       "4   22              1"
      ]
     },
     "execution_count": 10,
     "metadata": {},
     "output_type": "execute_result"
    }
   ],
   "source": [
    "def is_domestic(bpl):\n",
    "    #if birthplace code is for the US...\n",
    "    if bpl < 100:\n",
    "        return 1\n",
    "    return 0\n",
    "\n",
    "df['domestic_born'] = df['BPL'].map(is_domestic)\n",
    "df[['BPL','domestic_born']].head()"
   ]
  },
  {
   "cell_type": "markdown",
   "id": "32089681",
   "metadata": {},
   "source": [
    "Putting all this together, we can conclude that individuals that are born abroad and move to the US tend to be underepresented, while, as intiuition dictates, individuals born in the US tend to not be underrepresented. "
   ]
  },
  {
   "cell_type": "code",
   "execution_count": 11,
   "id": "cd2dd092",
   "metadata": {},
   "outputs": [
    {
     "data": {
      "text/plain": [
       "<AxesSubplot:title={'center':'Distribution of Underrepresented persons by birthplace'}, xlabel='domestic_born'>"
      ]
     },
     "execution_count": 11,
     "metadata": {},
     "output_type": "execute_result"
    },
    {
     "data": {
      "image/png": "[encoded data removed]",
      "text/plain": [
       "<Figure size 432x288 with 1 Axes>"
      ]
     },
     "metadata": {
      "needs_background": "light"
     },
     "output_type": "display_data"
    }
   ],
   "source": [
    "pd.crosstab(\n",
    "    df['domestic_born'],\n",
    "    df['under_represented'],\n",
    "    normalize='index'\n",
    ").plot.bar(\n",
    "    title='Distribution of Underrepresented persons by birthplace'\n",
    ")"
   ]
  },
  {
   "cell_type": "markdown",
   "id": "8df82a62",
   "metadata": {},
   "source": [
    "### Step 4. Educational Attainment, EDA"
   ]
  },
  {
   "cell_type": "markdown",
   "id": "5865d225",
   "metadata": {},
   "source": [
    "**Context:** The ``EDUC`` field contains values from 0-11 representing levels of educational attainment in increasing order - that is, a 0 is lower than a 1, etc. The `EDUCD` field extrapolates on the low-level details in a similar fashion. Our primary motivation is to simplify these values broadly into the following categories:\n",
    "\n",
    "<ul>\n",
    "    <li>None/Below Secondary (High School)</li>\n",
    "    <li>Secondary (High School)</li>\n",
    "    <li>Associate's</li>\n",
    "    <li>Bachelor's</li>\n",
    "    <li>Master's</li>\n",
    "    <li>PhD/Other</li>\n",
    "</ul>"
   ]
  },
  {
   "cell_type": "code",
   "execution_count": 12,
   "id": "caeee999",
   "metadata": {},
   "outputs": [
    {
     "data": {
      "text/plain": [
       "array([ 0,  1,  2,  3,  4,  5,  6,  7,  8, 10, 11], dtype=int64)"
      ]
     },
     "execution_count": 12,
     "metadata": {},
     "output_type": "execute_result"
    }
   ],
   "source": [
    "df['EDUC'].sort_values().unique()"
   ]
  },
  {
   "cell_type": "code",
   "execution_count": 13,
   "id": "2a24a005",
   "metadata": {},
   "outputs": [
    {
     "data": {
      "text/plain": [
       "array([  2,  11,  12,  14,  15,  16,  17,  22,  23,  25,  26,  30,  40,\n",
       "        50,  61,  63,  64,  65,  71,  81, 101, 114, 115, 116], dtype=int64)"
      ]
     },
     "execution_count": 13,
     "metadata": {},
     "output_type": "execute_result"
    }
   ],
   "source": [
    "df['EDUCD'].sort_values().unique()"
   ]
  },
  {
   "cell_type": "code",
   "execution_count": 14,
   "id": "0f43dc3e",
   "metadata": {},
   "outputs": [
    {
     "data": {
      "text/html": [
       "<div>\n",
       "<style scoped>\n",
       "    .dataframe tbody tr th:only-of-type {\n",
       "        vertical-align: middle;\n",
       "    }\n",
       "\n",
       "    .dataframe tbody tr th {\n",
       "        vertical-align: top;\n",
       "    }\n",
       "\n",
       "    .dataframe thead th {\n",
       "        text-align: right;\n",
       "    }\n",
       "</style>\n",
       "<table border=\"1\" class=\"dataframe\">\n",
       "  <thead>\n",
       "    <tr style=\"text-align: right;\">\n",
       "      <th></th>\n",
       "      <th>EDU_verbose</th>\n",
       "      <th>EDUCD</th>\n",
       "    </tr>\n",
       "  </thead>\n",
       "  <tbody>\n",
       "    <tr>\n",
       "      <th>189995</th>\n",
       "      <td>High School</td>\n",
       "      <td>64</td>\n",
       "    </tr>\n",
       "    <tr>\n",
       "      <th>189996</th>\n",
       "      <td>Associate</td>\n",
       "      <td>81</td>\n",
       "    </tr>\n",
       "    <tr>\n",
       "      <th>189997</th>\n",
       "      <td>Master</td>\n",
       "      <td>114</td>\n",
       "    </tr>\n",
       "    <tr>\n",
       "      <th>189998</th>\n",
       "      <td>High School</td>\n",
       "      <td>63</td>\n",
       "    </tr>\n",
       "    <tr>\n",
       "      <th>189999</th>\n",
       "      <td>High School</td>\n",
       "      <td>63</td>\n",
       "    </tr>\n",
       "  </tbody>\n",
       "</table>\n",
       "</div>"
      ],
      "text/plain": [
       "        EDU_verbose  EDUCD\n",
       "189995  High School     64\n",
       "189996    Associate     81\n",
       "189997       Master    114\n",
       "189998  High School     63\n",
       "189999  High School     63"
      ]
     },
     "execution_count": 14,
     "metadata": {},
     "output_type": "execute_result"
    }
   ],
   "source": [
    "def highest_edu(educd):\n",
    "    if educd in [81,82,83]:\n",
    "        return 'Associate'\n",
    "    if educd == 101:\n",
    "        return 'Bachelor'\n",
    "    if educd in [114,115]:\n",
    "        return 'Master'\n",
    "    if educd in [116]:\n",
    "        return 'PhD'\n",
    "    if educd < 62 or educd==999:\n",
    "        return 'None/Below HS'\n",
    "    if educd < 114:\n",
    "        return 'High School'\n",
    "    \n",
    "df['EDU_verbose'] = df['EDUCD'].map(highest_edu)\n",
    "df[['EDU_verbose','EDUCD']].tail()"
   ]
  },
  {
   "cell_type": "code",
   "execution_count": 15,
   "id": "35dfd489",
   "metadata": {},
   "outputs": [
    {
     "data": {
      "text/plain": [
       "<AxesSubplot:title={'center':'Distribution of Underrepresented persons by degree attainment'}, xlabel='under_represented'>"
      ]
     },
     "execution_count": 15,
     "metadata": {},
     "output_type": "execute_result"
    },
    {
     "data": {
      "image/png": "[encoded data removed]",
      "text/plain": [
       "<Figure size 432x288 with 1 Axes>"
      ]
     },
     "metadata": {
      "needs_background": "light"
     },
     "output_type": "display_data"
    }
   ],
   "source": [
    "pd.crosstab(\n",
    "    df['under_represented'],\n",
    "    df['EDU_verbose'],\n",
    "    normalize='index'\n",
    ").plot.bar(\n",
    "    title='Distribution of Underrepresented persons by degree attainment'\n",
    ")"
   ]
  },
  {
   "cell_type": "markdown",
   "id": "eb7688e9",
   "metadata": {},
   "source": [
    "major takeaways here include the fact that under-represented persons tend to drop out of high school at a far greater rate while earning fewer high school diplomas, master's degrees, associate's degrees, and bachelor's degrees."
   ]
  },
  {
   "cell_type": "markdown",
   "id": "0f8ab404",
   "metadata": {},
   "source": [
    "### Employment, EDA"
   ]
  },
  {
   "cell_type": "markdown",
   "id": "fbf06f68",
   "metadata": {},
   "source": [
    "we first observe the difference in employment status across represented and underepresented groups and find that most of the populartion is employed in both groups, but under-represented communities tend to be more unemployed."
   ]
  },
  {
   "cell_type": "code",
   "execution_count": 16,
   "id": "b5ec2fc6",
   "metadata": {},
   "outputs": [
    {
     "data": {
      "text/plain": [
       "<matplotlib.legend.Legend at 0x2280171bd00>"
      ]
     },
     "execution_count": 16,
     "metadata": {},
     "output_type": "execute_result"
    },
    {
     "data": {
      "image/png": "[encoded data removed]",
      "text/plain": [
       "<Figure size 432x288 with 1 Axes>"
      ]
     },
     "metadata": {
      "needs_background": "light"
     },
     "output_type": "display_data"
    }
   ],
   "source": [
    "import matplotlib.pyplot as plt\n",
    "pd.crosstab(\n",
    "    df['under_represented'],\n",
    "    df['EMPSTAT'],\n",
    "    normalize='index'\n",
    ").plot.bar(\n",
    "    title='Distribution of Underrepresented persons by employment status'\n",
    ")\n",
    "plt.legend(['Employed','Unemployed','not in labor force'])"
   ]
  },
  {
   "cell_type": "markdown",
   "id": "30674e6d",
   "metadata": {},
   "source": [
    "#### Analyzing STEM Education in Particular\n",
    "In order to identify if a degree belong to a stem field, we have two tiers of analysis - one at the `DEGFIELD` level, which shows us a high-level description of the degree in question. If we do not confirm at this level that a field of study is STEM, we move into the `DEGFIELDD` field, which offers more specific information on the degree.\n",
    "\n",
    "**for this section, we have developed a separate library containing logic that separates both DEGFIELD and DEGFIELDD codes into stem designation.**"
   ]
  },
  {
   "cell_type": "code",
   "execution_count": 17,
   "id": "8d9da025",
   "metadata": {},
   "outputs": [],
   "source": [
    "import degree_codes as dc"
   ]
  },
  {
   "cell_type": "code",
   "execution_count": 19,
   "id": "b5106817",
   "metadata": {},
   "outputs": [],
   "source": [
    "df['is_STEM'] = df.apply(lambda x: dc.is_stem_degree(x.DEGFIELD,x.DEGFIELDD),axis=1)"
   ]
  },
  {
   "cell_type": "code",
   "execution_count": 20,
   "id": "c6bb6b98",
   "metadata": {},
   "outputs": [
    {
     "data": {
      "text/html": [
       "<div>\n",
       "<style scoped>\n",
       "    .dataframe tbody tr th:only-of-type {\n",
       "        vertical-align: middle;\n",
       "    }\n",
       "\n",
       "    .dataframe tbody tr th {\n",
       "        vertical-align: top;\n",
       "    }\n",
       "\n",
       "    .dataframe thead th {\n",
       "        text-align: right;\n",
       "    }\n",
       "</style>\n",
       "<table border=\"1\" class=\"dataframe\">\n",
       "  <thead>\n",
       "    <tr style=\"text-align: right;\">\n",
       "      <th></th>\n",
       "      <th>DEGFIELD</th>\n",
       "      <th>DEGFIELDD</th>\n",
       "      <th>is_STEM</th>\n",
       "    </tr>\n",
       "  </thead>\n",
       "  <tbody>\n",
       "    <tr>\n",
       "      <th>0</th>\n",
       "      <td>29</td>\n",
       "      <td>2901</td>\n",
       "      <td>0</td>\n",
       "    </tr>\n",
       "    <tr>\n",
       "      <th>1</th>\n",
       "      <td>61</td>\n",
       "      <td>6109</td>\n",
       "      <td>1</td>\n",
       "    </tr>\n",
       "    <tr>\n",
       "      <th>2</th>\n",
       "      <td>0</td>\n",
       "      <td>0</td>\n",
       "      <td>0</td>\n",
       "    </tr>\n",
       "    <tr>\n",
       "      <th>3</th>\n",
       "      <td>0</td>\n",
       "      <td>0</td>\n",
       "      <td>0</td>\n",
       "    </tr>\n",
       "    <tr>\n",
       "      <th>4</th>\n",
       "      <td>36</td>\n",
       "      <td>3600</td>\n",
       "      <td>1</td>\n",
       "    </tr>\n",
       "  </tbody>\n",
       "</table>\n",
       "</div>"
      ],
      "text/plain": [
       "   DEGFIELD  DEGFIELDD  is_STEM\n",
       "0        29       2901        0\n",
       "1        61       6109        1\n",
       "2         0          0        0\n",
       "3         0          0        0\n",
       "4        36       3600        1"
      ]
     },
     "execution_count": 20,
     "metadata": {},
     "output_type": "execute_result"
    }
   ],
   "source": [
    "df[['DEGFIELD','DEGFIELDD','is_STEM']].head()"
   ]
  },
  {
   "cell_type": "markdown",
   "id": "381a498c",
   "metadata": {},
   "source": [
    "#### STEM Degree Attainment by Target Variable\n",
    "A cursory analysis suggests that underrepresented individuals in STEM tend to have a significantly lower presence than "
   ]
  },
  {
   "cell_type": "code",
   "execution_count": 25,
   "id": "6d61870f",
   "metadata": {},
   "outputs": [
    {
     "data": {
      "text/plain": [
       "<AxesSubplot:title={'center':'Distribution of Underrepresented persons by STEM attainment'}, xlabel='is_STEM'>"
      ]
     },
     "execution_count": 25,
     "metadata": {},
     "output_type": "execute_result"
    },
    {
     "data": {
      "image/png": "[encoded data removed]",
      "text/plain": [
       "<Figure size 432x288 with 1 Axes>"
      ]
     },
     "metadata": {
      "needs_background": "light"
     },
     "output_type": "display_data"
    }
   ],
   "source": [
    "pd.crosstab(\n",
    "    df['is_STEM'],\n",
    "    df['under_represented'],\n",
    "    normalize='index'\n",
    ").plot.bar(\n",
    "    title='Distribution of Underrepresented persons by STEM attainment'\n",
    ")"
   ]
  },
  {
   "cell_type": "code",
   "execution_count": null,
   "id": "30f22e31",
   "metadata": {},
   "outputs": [],
   "source": []
  }
 ],
 "metadata": {
  "kernelspec": {
   "display_name": "Python 3 (ipykernel)",
   "language": "python",
   "name": "python3"
  },
  "language_info": {
   "codemirror_mode": {
    "name": "ipython",
    "version": 3
   },
   "file_extension": ".py",
   "mimetype": "text/x-python",
   "name": "python",
   "nbconvert_exporter": "python",
   "pygments_lexer": "ipython3",
   "version": "3.8.2"
  }
 },
 "nbformat": 4,
 "nbformat_minor": 5
}
